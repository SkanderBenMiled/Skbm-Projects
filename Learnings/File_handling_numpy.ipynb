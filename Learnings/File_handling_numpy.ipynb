{
  "cells": [
    {
      "cell_type": "markdown",
      "metadata": {
        "id": "OC_xKHLe7FNJ"
      },
      "source": [
        "---\n",
        "\n",
        "## File I/O with NumPy\n",
        "\n"
      ]
    },
    {
      "cell_type": "markdown",
      "metadata": {
        "id": "lWEaWFBa7FNJ"
      },
      "source": [
        "---\n",
        "\n",
        "### Writing a NumPy Array to a File\n",
        "\n",
        "Let's say we have an array `a` that we would like to export to a file for some reason."
      ]
    },
    {
      "cell_type": "code",
      "source": [
        "import numpy as np"
      ],
      "metadata": {
        "id": "ENYBOJANNkqc"
      },
      "execution_count": null,
      "outputs": []
    },
    {
      "cell_type": "code",
      "execution_count": null,
      "metadata": {
        "id": "HKeIADle7FNJ"
      },
      "outputs": [],
      "source": [
        "a = np.random.random((5,5))"
      ]
    },
    {
      "cell_type": "code",
      "execution_count": null,
      "metadata": {
        "id": "-yfxdsR27FNJ",
        "colab": {
          "base_uri": "https://localhost:8080/"
        },
        "outputId": "ca778b2a-c9ee-4f97-f068-d31f17633d22"
      },
      "outputs": [
        {
          "output_type": "stream",
          "name": "stdout",
          "text": [
            "[[3.22102520e-01 3.83853526e-03 2.97083536e-02 9.11864235e-01\n",
            "  9.34494371e-01]\n",
            " [3.43968157e-01 7.67771813e-01 1.43700773e-01 6.49020017e-01\n",
            "  2.77784882e-02]\n",
            " [4.74948783e-01 7.75934484e-01 3.97296565e-01 3.92097538e-01\n",
            "  8.38167344e-01]\n",
            " [6.36458399e-01 7.54254301e-04 7.99089014e-01 3.52367122e-02\n",
            "  7.20586765e-01]\n",
            " [1.98810435e-01 3.15008299e-01 2.26772390e-01 8.09334656e-01\n",
            "  9.73348553e-01]]\n"
          ]
        }
      ],
      "source": [
        "print(a)"
      ]
    },
    {
      "cell_type": "markdown",
      "metadata": {
        "id": "9Dz1H3Se7FNK"
      },
      "source": [
        "One option would be to use `np.save()` which saves the array to a binary `.npy` file."
      ]
    },
    {
      "cell_type": "code",
      "execution_count": null,
      "metadata": {
        "id": "Qpe6HzAD7FNK"
      },
      "outputs": [],
      "source": [
        "np.save('array1', a)"
      ]
    },
    {
      "cell_type": "code",
      "execution_count": null,
      "metadata": {
        "id": "Jg7hbaAt7FNL"
      },
      "outputs": [],
      "source": [
        "np.savetxt('array2.txt', a)"
      ]
    },
    {
      "cell_type": "code",
      "execution_count": null,
      "metadata": {
        "id": "StDBkDg77FNM"
      },
      "outputs": [],
      "source": [
        "np.savetxt('array3.csv', a, fmt='%.12f', delimiter=',')"
      ]
    },
    {
      "cell_type": "markdown",
      "metadata": {
        "id": "JpPJU1rA7FNM"
      },
      "source": [
        "---\n",
        "\n",
        "### Reading a NumPy Array from a File\n",
        "\n",
        "To read a binary `.npy` file into a NumPy array, we can use `np.load()`."
      ]
    },
    {
      "cell_type": "code",
      "execution_count": null,
      "metadata": {
        "id": "dnZE7DQC7FNM"
      },
      "outputs": [],
      "source": [
        "b = np.load('array1.npy')"
      ]
    },
    {
      "cell_type": "code",
      "execution_count": null,
      "metadata": {
        "id": "N2r08GBI7FNM",
        "colab": {
          "base_uri": "https://localhost:8080/"
        },
        "outputId": "213d5cfb-baff-432e-d3ac-1d4c88d88479"
      },
      "outputs": [
        {
          "output_type": "execute_result",
          "data": {
            "text/plain": [
              "array([[3.22102520e-01, 3.83853526e-03, 2.97083536e-02, 9.11864235e-01,\n",
              "        9.34494371e-01],\n",
              "       [3.43968157e-01, 7.67771813e-01, 1.43700773e-01, 6.49020017e-01,\n",
              "        2.77784882e-02],\n",
              "       [4.74948783e-01, 7.75934484e-01, 3.97296565e-01, 3.92097538e-01,\n",
              "        8.38167344e-01],\n",
              "       [6.36458399e-01, 7.54254301e-04, 7.99089014e-01, 3.52367122e-02,\n",
              "        7.20586765e-01],\n",
              "       [1.98810435e-01, 3.15008299e-01, 2.26772390e-01, 8.09334656e-01,\n",
              "        9.73348553e-01]])"
            ]
          },
          "metadata": {},
          "execution_count": 25
        }
      ],
      "source": [
        "b"
      ]
    },
    {
      "cell_type": "markdown",
      "metadata": {
        "id": "dJYFSAsX7FNN"
      },
      "source": [
        "To read data from a text file into a NumPy array, we can use either `np.loadtxt()` or `np.genfromtxt()`.\n",
        "\n",
        "- `np.loadtxt()` is an older function and provides very basic functionality\n",
        "- `np.genfromtxt()` is a newer and **faster** faster function that is more customizable and can handle missing values\n",
        "\n",
        "Hence it is recommended you use `np.genfromtxt()` as a default. When using either function, you have to specify the `delimiter` argument if using anything other than whitespace.\n",
        "\n",
        "A detailed guide on importing data with `np.genfromtxt()`: https://numpy.org/doc/stable/user/basics.io.genfromtxt.html"
      ]
    },
    {
      "cell_type": "code",
      "execution_count": null,
      "metadata": {
        "id": "s6yOT69O7FNO"
      },
      "outputs": [],
      "source": [
        "c = np.loadtxt('array2.txt')"
      ]
    },
    {
      "cell_type": "code",
      "execution_count": null,
      "metadata": {
        "id": "wcIw534G7FNO",
        "colab": {
          "base_uri": "https://localhost:8080/"
        },
        "outputId": "8092451b-3e4b-40d4-a440-2cd8fc27db11"
      },
      "outputs": [
        {
          "output_type": "execute_result",
          "data": {
            "text/plain": [
              "array([[3.22102520e-01, 3.83853526e-03, 2.97083536e-02, 9.11864235e-01,\n",
              "        9.34494371e-01],\n",
              "       [3.43968157e-01, 7.67771813e-01, 1.43700773e-01, 6.49020017e-01,\n",
              "        2.77784882e-02],\n",
              "       [4.74948783e-01, 7.75934484e-01, 3.97296565e-01, 3.92097538e-01,\n",
              "        8.38167344e-01],\n",
              "       [6.36458399e-01, 7.54254301e-04, 7.99089014e-01, 3.52367122e-02,\n",
              "        7.20586765e-01],\n",
              "       [1.98810435e-01, 3.15008299e-01, 2.26772390e-01, 8.09334656e-01,\n",
              "        9.73348553e-01]])"
            ]
          },
          "metadata": {},
          "execution_count": 27
        }
      ],
      "source": [
        "c"
      ]
    },
    {
      "cell_type": "code",
      "execution_count": null,
      "metadata": {
        "id": "i0T49Cur7FNP"
      },
      "outputs": [],
      "source": [
        "d = np.genfromtxt('array3.csv', delimiter=',')"
      ]
    },
    {
      "cell_type": "code",
      "execution_count": null,
      "metadata": {
        "id": "ADc5b5Oi7FNP",
        "colab": {
          "base_uri": "https://localhost:8080/"
        },
        "outputId": "f45ff31b-b39b-4679-de8b-966749390b5a"
      },
      "outputs": [
        {
          "output_type": "execute_result",
          "data": {
            "text/plain": [
              "array([[3.22102520e-01, 3.83853526e-03, 2.97083536e-02, 9.11864235e-01,\n",
              "        9.34494371e-01],\n",
              "       [3.43968157e-01, 7.67771813e-01, 1.43700773e-01, 6.49020017e-01,\n",
              "        2.77784882e-02],\n",
              "       [4.74948783e-01, 7.75934484e-01, 3.97296565e-01, 3.92097538e-01,\n",
              "        8.38167344e-01],\n",
              "       [6.36458399e-01, 7.54254301e-04, 7.99089014e-01, 3.52367122e-02,\n",
              "        7.20586765e-01],\n",
              "       [1.98810435e-01, 3.15008299e-01, 2.26772390e-01, 8.09334656e-01,\n",
              "        9.73348553e-01]])"
            ]
          },
          "metadata": {},
          "execution_count": 29
        }
      ],
      "source": [
        "d"
      ]
    },
    {
      "cell_type": "markdown",
      "metadata": {
        "id": "aESKxHvh7FNP"
      },
      "source": [
        "An important thing to note when saving floating-point arrays to text files is ***loss of significance***. Because we can only store a set number of significant digits in the text file, it is possible that the number of significant digits will be reduced when writing data to a file, introducing round-off errors and causing precision loss.\n",
        "\n",
        "Note that this is not the case when using the binary `.npy` format."
      ]
    },
    {
      "cell_type": "code",
      "execution_count": null,
      "metadata": {
        "id": "Bn6sGx2l7FNP",
        "colab": {
          "base_uri": "https://localhost:8080/"
        },
        "outputId": "dd83050d-e8e9-48d6-fe44-81c5d8135a3a"
      },
      "outputs": [
        {
          "output_type": "execute_result",
          "data": {
            "text/plain": [
              "array([[ True,  True,  True,  True,  True],\n",
              "       [ True,  True,  True,  True,  True],\n",
              "       [ True,  True,  True,  True,  True],\n",
              "       [ True,  True,  True,  True,  True],\n",
              "       [ True,  True,  True,  True,  True]])"
            ]
          },
          "metadata": {},
          "execution_count": 30
        }
      ],
      "source": [
        "a == b"
      ]
    },
    {
      "cell_type": "markdown",
      "metadata": {
        "id": "24ZV-o7j7FNQ"
      },
      "source": [
        "When writing to a text file using the default setting of scientific notation with 16 significant digits, precision loss does not occur under normal circumstances. However, note that this is dependent on the *datatype* of your array."
      ]
    },
    {
      "cell_type": "markdown",
      "metadata": {
        "id": "OHeHiZC17FNQ"
      },
      "source": [
        "---\n",
        "\n",
        "### Advanced: File I/O With Python\n",
        "\n",
        "But what exactly happens when we use `np.genfromtxt()` to read data from a file? We can get a high-level overview of the mechanisms that take place in the background when we try to recreate the functionality using standard Python.\n",
        "\n",
        "First, we have to open the file in order to be able to read data from it."
      ]
    },
    {
      "cell_type": "code",
      "execution_count": null,
      "metadata": {
        "id": "9zV0Zqol7FNQ"
      },
      "outputs": [],
      "source": [
        "file = open('array3.csv')"
      ]
    },
    {
      "cell_type": "markdown",
      "metadata": {
        "id": "rE46ToUS7FNR"
      },
      "source": [
        "Now we have  **file object** called `file` that gives us access to `array3.csv`. Using `.readlines()` with a file object, we can read all the lines from a file into a list."
      ]
    },
    {
      "cell_type": "code",
      "execution_count": null,
      "metadata": {
        "id": "-UUThTck7FNR"
      },
      "outputs": [],
      "source": [
        "lines = file.readlines()"
      ]
    },
    {
      "cell_type": "code",
      "source": [
        "s = 'hello'\n",
        "s[0]='m'"
      ],
      "metadata": {
        "colab": {
          "base_uri": "https://localhost:8080/",
          "height": 163
        },
        "id": "GOzFMDXtSJmw",
        "outputId": "789ecb86-2cdf-4744-9738-51b181c214ec"
      },
      "execution_count": null,
      "outputs": [
        {
          "output_type": "error",
          "ename": "TypeError",
          "evalue": "'str' object does not support item assignment",
          "traceback": [
            "\u001b[0;31m---------------------------------------------------------------------------\u001b[0m",
            "\u001b[0;31mTypeError\u001b[0m                                 Traceback (most recent call last)",
            "\u001b[0;32m<ipython-input-37-d8bca32cd173>\u001b[0m in \u001b[0;36m<cell line: 2>\u001b[0;34m()\u001b[0m\n\u001b[1;32m      1\u001b[0m \u001b[0ms\u001b[0m \u001b[0;34m=\u001b[0m \u001b[0;34m'hello'\u001b[0m\u001b[0;34m\u001b[0m\u001b[0;34m\u001b[0m\u001b[0m\n\u001b[0;32m----> 2\u001b[0;31m \u001b[0ms\u001b[0m\u001b[0;34m[\u001b[0m\u001b[0;36m0\u001b[0m\u001b[0;34m]\u001b[0m\u001b[0;34m=\u001b[0m\u001b[0;34m'm'\u001b[0m\u001b[0;34m\u001b[0m\u001b[0;34m\u001b[0m\u001b[0m\n\u001b[0m",
            "\u001b[0;31mTypeError\u001b[0m: 'str' object does not support item assignment"
          ]
        }
      ]
    },
    {
      "cell_type": "code",
      "execution_count": null,
      "metadata": {
        "id": "dUwl9cGz7FNR",
        "colab": {
          "base_uri": "https://localhost:8080/"
        },
        "outputId": "d01c8b42-a0e9-4b51-c4f9-df951e21225e"
      },
      "outputs": [
        {
          "output_type": "execute_result",
          "data": {
            "text/plain": [
              "['0.322102519573,0.003838535263,0.029708353561,0.911864235169,0.934494371035\\n',\n",
              " '0.343968156552,0.767771813325,0.143700773197,0.649020016879,0.027778488244\\n',\n",
              " '0.474948783366,0.775934484381,0.397296564911,0.392097538433,0.838167343918\\n',\n",
              " '0.636458399008,0.000754254301,0.799089014128,0.035236712233,0.720586764954\\n',\n",
              " '0.198810435127,0.315008298530,0.226772389646,0.809334656190,0.973348552803\\n']"
            ]
          },
          "metadata": {},
          "execution_count": 33
        }
      ],
      "source": [
        "lines"
      ]
    },
    {
      "cell_type": "markdown",
      "metadata": {
        "id": "FyfFPROc7FNS"
      },
      "source": [
        "Now we have a list called `lines`, where each element is a line from the file `array3.csv`. Note that some cleaning needs to be done as these lines still contain whitespace characters like newlines."
      ]
    },
    {
      "cell_type": "code",
      "source": [
        "str_test = '    test   '\n",
        "s=str_test.strip()\n",
        "s"
      ],
      "metadata": {
        "colab": {
          "base_uri": "https://localhost:8080/",
          "height": 36
        },
        "id": "Ge7qbQfJRngo",
        "outputId": "d6133ff2-8bb9-4c08-f65f-d863c52e79ed"
      },
      "execution_count": null,
      "outputs": [
        {
          "output_type": "execute_result",
          "data": {
            "text/plain": [
              "'test'"
            ],
            "application/vnd.google.colaboratory.intrinsic+json": {
              "type": "string"
            }
          },
          "metadata": {},
          "execution_count": 36
        }
      ]
    },
    {
      "cell_type": "code",
      "execution_count": null,
      "metadata": {
        "id": "3RoUn_Gu7FNS"
      },
      "outputs": [],
      "source": [
        "cleaned_lines = []\n",
        "for line in lines:\n",
        "    line = line.strip()\n",
        "    cleaned_lines.append(line)"
      ]
    },
    {
      "cell_type": "code",
      "execution_count": null,
      "metadata": {
        "id": "bie25d2u7FNS",
        "colab": {
          "base_uri": "https://localhost:8080/"
        },
        "outputId": "b3bc4cf1-d05e-44f0-add8-05a5fac51ed7"
      },
      "outputs": [
        {
          "output_type": "execute_result",
          "data": {
            "text/plain": [
              "['0.322102519573,0.003838535263,0.029708353561,0.911864235169,0.934494371035',\n",
              " '0.343968156552,0.767771813325,0.143700773197,0.649020016879,0.027778488244',\n",
              " '0.474948783366,0.775934484381,0.397296564911,0.392097538433,0.838167343918',\n",
              " '0.636458399008,0.000754254301,0.799089014128,0.035236712233,0.720586764954',\n",
              " '0.198810435127,0.315008298530,0.226772389646,0.809334656190,0.973348552803']"
            ]
          },
          "metadata": {},
          "execution_count": 35
        }
      ],
      "source": [
        "cleaned_lines"
      ]
    },
    {
      "cell_type": "markdown",
      "metadata": {
        "id": "sqZwrzMH7FNT"
      },
      "source": [
        "The next step would be to convert each line to a list by splitting the string on the separator. This will lead to a list of lists, which is already quite similar to a two-dimensional NumPy array."
      ]
    },
    {
      "cell_type": "code",
      "execution_count": null,
      "metadata": {
        "id": "5_fHN7gJ7FNT"
      },
      "outputs": [],
      "source": [
        "lists = []\n",
        "for line in cleaned_lines:\n",
        "    lst = line.split(',')\n",
        "    lists.append(lst)"
      ]
    },
    {
      "cell_type": "code",
      "execution_count": null,
      "metadata": {
        "id": "dqyZ5R5t7FNU",
        "colab": {
          "base_uri": "https://localhost:8080/"
        },
        "outputId": "2c700748-82aa-4b57-a540-7280da157bd8"
      },
      "outputs": [
        {
          "output_type": "execute_result",
          "data": {
            "text/plain": [
              "[['0.322102519573',\n",
              "  '0.003838535263',\n",
              "  '0.029708353561',\n",
              "  '0.911864235169',\n",
              "  '0.934494371035'],\n",
              " ['0.343968156552',\n",
              "  '0.767771813325',\n",
              "  '0.143700773197',\n",
              "  '0.649020016879',\n",
              "  '0.027778488244'],\n",
              " ['0.474948783366',\n",
              "  '0.775934484381',\n",
              "  '0.397296564911',\n",
              "  '0.392097538433',\n",
              "  '0.838167343918'],\n",
              " ['0.636458399008',\n",
              "  '0.000754254301',\n",
              "  '0.799089014128',\n",
              "  '0.035236712233',\n",
              "  '0.720586764954'],\n",
              " ['0.198810435127',\n",
              "  '0.315008298530',\n",
              "  '0.226772389646',\n",
              "  '0.809334656190',\n",
              "  '0.973348552803']]"
            ]
          },
          "metadata": {},
          "execution_count": 39
        }
      ],
      "source": [
        "lists"
      ]
    },
    {
      "cell_type": "markdown",
      "metadata": {
        "id": "iDPkJdIj7FNV"
      },
      "source": [
        "Note how all the elements still have the type of `str`, meaning they are text, not numbers. Luckily there is an easy fix for that."
      ]
    },
    {
      "cell_type": "code",
      "execution_count": null,
      "metadata": {
        "id": "4fI-uCUq7FNV",
        "colab": {
          "base_uri": "https://localhost:8080/"
        },
        "outputId": "bd11e812-7898-4e0b-d278-6053bf5c4f0d"
      },
      "outputs": [
        {
          "output_type": "execute_result",
          "data": {
            "text/plain": [
              "str"
            ]
          },
          "metadata": {},
          "execution_count": 40
        }
      ],
      "source": [
        "type(lists[0][0])"
      ]
    },
    {
      "cell_type": "code",
      "execution_count": null,
      "metadata": {
        "id": "pudvtUfh7FNW"
      },
      "outputs": [],
      "source": [
        "float_lists = []\n",
        "for lst in lists:\n",
        "    flst = []\n",
        "    for element in lst:\n",
        "        element = float(element)\n",
        "        flst.append(element)\n",
        "    float_lists.append(flst)"
      ]
    },
    {
      "cell_type": "code",
      "execution_count": null,
      "metadata": {
        "id": "1EWKI04J7FNW"
      },
      "outputs": [],
      "source": [
        "float_lists"
      ]
    },
    {
      "cell_type": "code",
      "execution_count": null,
      "metadata": {
        "id": "xFrJKMOU7FNX"
      },
      "outputs": [],
      "source": [
        "type(float_lists[0][0])"
      ]
    },
    {
      "cell_type": "markdown",
      "metadata": {
        "id": "Q6ufpbht7FNX"
      },
      "source": [
        "Now we can use this list of lists to create a NumPy array."
      ]
    },
    {
      "cell_type": "code",
      "execution_count": null,
      "metadata": {
        "id": "H5ctyyJD7FNY"
      },
      "outputs": [],
      "source": [
        "e = np.array(float_lists)"
      ]
    },
    {
      "cell_type": "code",
      "execution_count": null,
      "metadata": {
        "id": "uhaI_sWJ7FNY"
      },
      "outputs": [],
      "source": [
        "e"
      ]
    },
    {
      "cell_type": "markdown",
      "metadata": {
        "id": "xpi17Jkt7FNZ"
      },
      "source": [
        "We can confirm that we got the same result as we would have gotten using `np.genfromtxt()` by comparing it to the array `d` from before."
      ]
    },
    {
      "cell_type": "code",
      "execution_count": null,
      "metadata": {
        "id": "tb57t8f07FNZ"
      },
      "outputs": [],
      "source": [
        "e == d"
      ]
    },
    {
      "cell_type": "markdown",
      "metadata": {
        "id": "xgKmZ1am7FNZ"
      },
      "source": [
        "Finally we have to remember to close the file. This is very important to avoid any potential file corruption."
      ]
    },
    {
      "cell_type": "code",
      "execution_count": null,
      "metadata": {
        "id": "PiD-MpNP7FNa"
      },
      "outputs": [],
      "source": [
        "file.close()"
      ]
    },
    {
      "cell_type": "markdown",
      "metadata": {
        "id": "kS-i2ZnO7FNa"
      },
      "source": [
        "Forgetting to close the file could lead to various issues and have serious consequences. Hence, it is commonplace to use `open()` in conjunction with a `with`statement. Any code executed within the block defined by the `with` statement has access to the file and any code outside of the block does not. This reduces the potential for errors and does not require you to use manually close the connection to the file.\n",
        "\n",
        "Also note how our previous processing involved looping over basically the same list numerous times. We can simplify this a little by looping over indices instead."
      ]
    },
    {
      "cell_type": "code",
      "execution_count": null,
      "metadata": {
        "id": "MOPELrcq7FNa"
      },
      "outputs": [],
      "source": [
        "with open('array3.csv') as f:\n",
        "    lines = f.readlines()"
      ]
    },
    {
      "cell_type": "code",
      "execution_count": null,
      "metadata": {
        "id": "o9Jpj2wt7FNb"
      },
      "outputs": [],
      "source": [
        "lines"
      ]
    },
    {
      "cell_type": "code",
      "execution_count": null,
      "metadata": {
        "id": "PtgxZOho7FNb"
      },
      "outputs": [],
      "source": [
        "for i in range(len(lines)):\n",
        "    lines[i] = lines[i].strip().split(',')\n",
        "    for j in range(len(lines[i])):\n",
        "        lines[i][j] = float(lines[i][j])"
      ]
    },
    {
      "cell_type": "code",
      "execution_count": null,
      "metadata": {
        "id": "x2coclBN7FNb"
      },
      "outputs": [],
      "source": [
        "lines"
      ]
    },
    {
      "cell_type": "code",
      "execution_count": null,
      "metadata": {
        "id": "yDmzlhEZ7FNb"
      },
      "outputs": [],
      "source": [
        "arr = np.array(lines)"
      ]
    },
    {
      "cell_type": "code",
      "execution_count": null,
      "metadata": {
        "id": "Y1KSlSPn7FNc"
      },
      "outputs": [],
      "source": [
        "arr"
      ]
    },
    {
      "cell_type": "markdown",
      "metadata": {
        "id": "v87A1tgu7FNc"
      },
      "source": [
        "We can confirm that the result is indeed the same as before."
      ]
    },
    {
      "cell_type": "code",
      "execution_count": null,
      "metadata": {
        "id": "lUjCI1nS7FNc"
      },
      "outputs": [],
      "source": [
        "arr == e"
      ]
    },
    {
      "cell_type": "markdown",
      "metadata": {
        "id": "bNI2d3dr7FNc"
      },
      "source": [
        "Note that you can condense this even more by using `map()` with `lambda` and remembering that `np.array()` has a `dtype` argument."
      ]
    },
    {
      "cell_type": "code",
      "execution_count": null,
      "metadata": {
        "id": "khPmio5I7FNd"
      },
      "outputs": [],
      "source": [
        "with open('array3.csv') as f:\n",
        "    arr2 = np.array(list(map(lambda x : x.strip().split(','), f.readlines())), dtype=float)"
      ]
    },
    {
      "cell_type": "code",
      "execution_count": null,
      "metadata": {
        "id": "dpQJW_vX7FNd"
      },
      "outputs": [],
      "source": [
        "arr2"
      ]
    },
    {
      "cell_type": "code",
      "execution_count": null,
      "metadata": {
        "id": "cg6OOcHx7FNd"
      },
      "outputs": [],
      "source": [
        "arr == arr2"
      ]
    }
  ],
  "metadata": {
    "kernelspec": {
      "display_name": "Python 3 (ipykernel)",
      "language": "python",
      "name": "python3"
    },
    "language_info": {
      "codemirror_mode": {
        "name": "ipython",
        "version": 3
      },
      "file_extension": ".py",
      "mimetype": "text/x-python",
      "name": "python",
      "nbconvert_exporter": "python",
      "pygments_lexer": "ipython3",
      "version": "3.9.7"
    },
    "toc-autonumbering": false,
    "colab": {
      "provenance": []
    }
  },
  "nbformat": 4,
  "nbformat_minor": 0
}