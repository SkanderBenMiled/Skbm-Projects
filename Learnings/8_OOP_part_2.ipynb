{
  "cells": [
    {
      "cell_type": "markdown",
      "id": "bbaef30a",
      "metadata": {
        "id": "bbaef30a"
      },
      "source": [
        "# Inheritance"
      ]
    },
    {
      "cell_type": "markdown",
      "source": [
        "is the process of inheriting the properties of the base class (or parent class) into a derived class (or child class)"
      ],
      "metadata": {
        "id": "TZJggEE80Iu5"
      },
      "id": "TZJggEE80Iu5"
    },
    {
      "cell_type": "markdown",
      "source": [
        "**The main purpose of inheritance is the reusability of code because we can use the existing class to create a new class instead of creating it from scratch.**"
      ],
      "metadata": {
        "id": "q8GjLEk_0U8q"
      },
      "id": "q8GjLEk_0U8q"
    },
    {
      "cell_type": "code",
      "source": [
        "class Parent:\n",
        "    def __init__(self, a):\n",
        "        self.a = a"
      ],
      "metadata": {
        "id": "asAr9GItz5K7"
      },
      "id": "asAr9GItz5K7",
      "execution_count": 1,
      "outputs": []
    },
    {
      "cell_type": "code",
      "source": [
        "class Child(Parent):\n",
        "    def child_method(self):\n",
        "        return \"Child Method\""
      ],
      "metadata": {
        "id": "e3Dija_Oz7wy"
      },
      "id": "e3Dija_Oz7wy",
      "execution_count": 2,
      "outputs": []
    },
    {
      "cell_type": "code",
      "execution_count": 3,
      "id": "c9e33dd9",
      "metadata": {
        "id": "c9e33dd9",
        "colab": {
          "base_uri": "https://localhost:8080/"
        },
        "outputId": "e531e030-152e-4b71-dfe0-e44434abc6e9"
      },
      "outputs": [
        {
          "output_type": "stream",
          "name": "stdout",
          "text": [
            "10\n",
            "Child Method\n"
          ]
        }
      ],
      "source": [
        "obj = Child(10)\n",
        "print(obj.a)\n",
        "print(obj.child_method())"
      ]
    },
    {
      "cell_type": "code",
      "execution_count": 56,
      "id": "5244eeb1",
      "metadata": {
        "id": "5244eeb1"
      },
      "outputs": [],
      "source": [
        "# Base class (superclass)\n",
        "class Animal:\n",
        "    def __init__(self, name):\n",
        "        self.name = name\n",
        "\n",
        "    def speak(self):\n",
        "        pass\n",
        "\n",
        "# Derived class (subclass) inheriting from Animal\n",
        "class Dog(Animal):\n",
        "  # pass\n",
        "    def speak(self):\n",
        "        return \"Woof!\"\n",
        "\n",
        "\n",
        "# Creating objects of derived classes\n",
        "dog = Dog(\"Buddy\")\n"
      ]
    },
    {
      "cell_type": "code",
      "source": [
        "dog.name"
      ],
      "metadata": {
        "colab": {
          "base_uri": "https://localhost:8080/",
          "height": 36
        },
        "id": "00Wr_iYklelb",
        "outputId": "37077302-92aa-4c61-935e-c684a8caaa2c"
      },
      "id": "00Wr_iYklelb",
      "execution_count": 54,
      "outputs": [
        {
          "output_type": "execute_result",
          "data": {
            "text/plain": [
              "'Buddy'"
            ],
            "application/vnd.google.colaboratory.intrinsic+json": {
              "type": "string"
            }
          },
          "metadata": {},
          "execution_count": 54
        }
      ]
    },
    {
      "cell_type": "code",
      "source": [
        "dog.speak()"
      ],
      "metadata": {
        "id": "an_7g51dlkyC"
      },
      "id": "an_7g51dlkyC",
      "execution_count": 57,
      "outputs": []
    },
    {
      "cell_type": "code",
      "source": [
        "print(dog.name + \" says: \" + dog.speak())\n"
      ],
      "metadata": {
        "id": "Ii8uBWuOldxT"
      },
      "id": "Ii8uBWuOldxT",
      "execution_count": null,
      "outputs": []
    },
    {
      "cell_type": "code",
      "source": [
        "\n",
        "# Another derived class inheriting from Animal\n",
        "class Cat(Animal):\n",
        "    def speak(self):\n",
        "        return \"Meow!\"\n",
        "cat = Cat(\"Whiskers\")"
      ],
      "metadata": {
        "id": "kCjhjzUmkw6q"
      },
      "id": "kCjhjzUmkw6q",
      "execution_count": 58,
      "outputs": []
    },
    {
      "cell_type": "code",
      "source": [
        "# Using the inherited methods\n",
        "print(cat.name + \" says: \" + cat.speak())"
      ],
      "metadata": {
        "colab": {
          "base_uri": "https://localhost:8080/"
        },
        "id": "GkQYEcVqeL_E",
        "outputId": "87a58b9b-8f2e-4f8d-e4de-1491efd79d9a"
      },
      "id": "GkQYEcVqeL_E",
      "execution_count": 59,
      "outputs": [
        {
          "output_type": "stream",
          "name": "stdout",
          "text": [
            "Whiskers says: Meow!\n"
          ]
        }
      ]
    },
    {
      "cell_type": "markdown",
      "id": "f02481d3",
      "metadata": {
        "id": "f02481d3"
      },
      "source": [
        "# Encapsulation\n",
        "Acess Modifiers:\n",
        "- Public\n",
        "- Protected\n",
        "- Private"
      ]
    },
    {
      "cell_type": "markdown",
      "id": "acb2e316",
      "metadata": {
        "id": "acb2e316"
      },
      "source": [
        "#### Public Access Modifier\n",
        "- All data members and member functions are public by default"
      ]
    },
    {
      "cell_type": "code",
      "execution_count": 14,
      "id": "dac691bb",
      "metadata": {
        "id": "dac691bb"
      },
      "outputs": [],
      "source": [
        "class MyClass:\n",
        "\n",
        "    #constructor\n",
        "    def __init__(self,name):\n",
        "        self.name = name\n",
        "    def showName(self):\n",
        "        print(\"Name: \", self.name)"
      ]
    },
    {
      "cell_type": "code",
      "source": [
        "obj = MyClass(\"Garima\")\n",
        "obj.showName()"
      ],
      "metadata": {
        "id": "KD34C0sOMxkv",
        "colab": {
          "base_uri": "https://localhost:8080/"
        },
        "outputId": "3a589a8a-c033-4651-d664-199d7621224c"
      },
      "id": "KD34C0sOMxkv",
      "execution_count": 15,
      "outputs": [
        {
          "output_type": "stream",
          "name": "stdout",
          "text": [
            "Name:  Garima\n"
          ]
        }
      ]
    },
    {
      "cell_type": "code",
      "source": [
        "obj.name\n"
      ],
      "metadata": {
        "id": "Aw2yxqjFMyNy",
        "colab": {
          "base_uri": "https://localhost:8080/",
          "height": 36
        },
        "outputId": "b576e4f2-0f4f-49d4-c6fc-b9029b159c83"
      },
      "id": "Aw2yxqjFMyNy",
      "execution_count": 16,
      "outputs": [
        {
          "output_type": "execute_result",
          "data": {
            "text/plain": [
              "'Garima'"
            ],
            "application/vnd.google.colaboratory.intrinsic+json": {
              "type": "string"
            }
          },
          "metadata": {},
          "execution_count": 16
        }
      ]
    },
    {
      "cell_type": "code",
      "execution_count": 23,
      "metadata": {
        "id": "eo_iHpQSaL98"
      },
      "outputs": [],
      "source": [
        "#Super Class\n",
        "class Employee:\n",
        "    name = None\n",
        "    def __init__(self, name):\n",
        "        self.name = name\n",
        "\n",
        "    def displayName(self):\n",
        "        print(\"Name: \", self.name)"
      ],
      "id": "eo_iHpQSaL98"
    },
    {
      "cell_type": "code",
      "source": [
        "e1 = Employee('sarra')\n",
        "e1.name\n",
        "# e1.displayName()"
      ],
      "metadata": {
        "id": "NCKSgBk5aL99",
        "colab": {
          "base_uri": "https://localhost:8080/",
          "height": 36
        },
        "outputId": "f0e38708-de2e-4c04-c024-184784bbfd5b"
      },
      "execution_count": 18,
      "outputs": [
        {
          "output_type": "execute_result",
          "data": {
            "text/plain": [
              "'sarra'"
            ],
            "application/vnd.google.colaboratory.intrinsic+json": {
              "type": "string"
            }
          },
          "metadata": {},
          "execution_count": 18
        }
      ],
      "id": "NCKSgBk5aL99"
    },
    {
      "cell_type": "code",
      "source": [
        "# Creating derived class\n",
        "class Teacher(Employee):\n",
        "    def __init__(self, name, salary):\n",
        "        self.salary = salary\n",
        "\n",
        "    def display(self):\n",
        "        # accessing protected data members of super class\n",
        "        print(\"Name: \",self.name)\n",
        "\n",
        "        print(\"Salary: \", self.salary)\n",
        "\n",
        "emp1 = Teacher(\"Raj\", 20000)\n",
        "emp1.display()"
      ],
      "metadata": {
        "id": "IQ8wBxBUaL99",
        "colab": {
          "base_uri": "https://localhost:8080/"
        },
        "outputId": "050f5fee-e84e-4145-e83a-f2cd31b9d087"
      },
      "execution_count": 26,
      "outputs": [
        {
          "output_type": "stream",
          "name": "stdout",
          "text": [
            "Name:  None\n",
            "Salary:  20000\n"
          ]
        }
      ],
      "id": "IQ8wBxBUaL99"
    },
    {
      "cell_type": "code",
      "source": [
        "emp1.displayName() #calling protected member function"
      ],
      "metadata": {
        "colab": {
          "base_uri": "https://localhost:8080/"
        },
        "id": "wwYrdQGGgLNq",
        "outputId": "fb9bcded-6da4-4450-9e03-03de6c8f84a7"
      },
      "id": "wwYrdQGGgLNq",
      "execution_count": 25,
      "outputs": [
        {
          "output_type": "stream",
          "name": "stdout",
          "text": [
            "Name:  None\n"
          ]
        }
      ]
    },
    {
      "cell_type": "markdown",
      "id": "11384c1c",
      "metadata": {
        "id": "11384c1c"
      },
      "source": [
        "#### Protected Access Modifier\n",
        "- declared by adding a single underscore '_' before data member"
      ]
    },
    {
      "cell_type": "code",
      "execution_count": 68,
      "id": "69b3a5b4",
      "metadata": {
        "id": "69b3a5b4"
      },
      "outputs": [],
      "source": [
        "#Super Class\n",
        "class Employee:\n",
        "\n",
        "    #protected data member\n",
        "    _name = None\n",
        "\n",
        "    def __init__(self, name):\n",
        "        self._name = name\n",
        "\n",
        "    #protected member function\n",
        "    def _displayName(self):\n",
        "\n",
        "        # accessing protected data members of super class\n",
        "        print(\"Name: \", self._name)"
      ]
    },
    {
      "cell_type": "code",
      "source": [
        "e1 = Employee('sarra')\n",
        "# e1._name\n",
        "e1._displayName()"
      ],
      "metadata": {
        "id": "2gYVbjPTUk_3",
        "colab": {
          "base_uri": "https://localhost:8080/"
        },
        "outputId": "3d7d86ed-f8e1-4447-edfd-ddf0ff936132"
      },
      "id": "2gYVbjPTUk_3",
      "execution_count": 62,
      "outputs": [
        {
          "output_type": "stream",
          "name": "stdout",
          "text": [
            "Name:  sarra\n"
          ]
        }
      ]
    },
    {
      "cell_type": "code",
      "source": [
        "# Creating derived class\n",
        "class Teacher(Employee):\n",
        "    def __init__(self, name, salary):\n",
        "        Employee.__init__(self, name)\n",
        "        # self._name = name\n",
        "        self.salary = salary\n",
        "\n",
        "    def display(self):\n",
        "        # accessing protected data members of super class\n",
        "        print(\"Name: \",self._name)\n",
        "\n",
        "        print(\"Salary: \", self.salary)\n",
        "\n",
        "emp1 = Teacher(\"Raj\", 20000)\n",
        "emp1.display()\n",
        "emp1._displayName() #calling protected member function"
      ],
      "metadata": {
        "id": "bOdgTZU2T6_8",
        "colab": {
          "base_uri": "https://localhost:8080/"
        },
        "outputId": "4ef5f8b1-d321-4e0a-89e5-2d56bcfcf81f"
      },
      "id": "bOdgTZU2T6_8",
      "execution_count": 69,
      "outputs": [
        {
          "output_type": "stream",
          "name": "stdout",
          "text": [
            "Name:  Raj\n",
            "Salary:  20000\n",
            "Name:  Raj\n"
          ]
        }
      ]
    },
    {
      "cell_type": "code",
      "source": [
        "emp1._name"
      ],
      "metadata": {
        "id": "UH3yv2JkbLWr"
      },
      "id": "UH3yv2JkbLWr",
      "execution_count": 64,
      "outputs": []
    },
    {
      "cell_type": "code",
      "source": [
        "emp1._displayName()"
      ],
      "metadata": {
        "id": "pjxCdVoSbb-T"
      },
      "id": "pjxCdVoSbb-T",
      "execution_count": null,
      "outputs": []
    },
    {
      "cell_type": "markdown",
      "source": [
        "OR"
      ],
      "metadata": {
        "id": "b_dv5jBdXe-Y"
      },
      "id": "b_dv5jBdXe-Y"
    },
    {
      "cell_type": "code",
      "source": [
        "# Creating derived class\n",
        "class Teacher(Employee):\n",
        "    def __init__(self, name, salary):\n",
        "        super().__init__(name) # extract name from the superclass\n",
        "        self.salary = salary\n",
        "\n",
        "    def display(self):\n",
        "        # accessing protected data members of super class\n",
        "        print(\"Name: \",self._name)\n",
        "        print(\"Salary: \", self.salary)\n",
        "\n",
        "emp1 = Teacher(\"Raj\", 20000)\n",
        "emp1.display()\n",
        "emp1._displayName() #calling protected member function"
      ],
      "metadata": {
        "id": "eGf8A9lHXbAy",
        "colab": {
          "base_uri": "https://localhost:8080/"
        },
        "outputId": "da8c3ae6-9096-4ed9-996e-8ed4d0392d0f"
      },
      "id": "eGf8A9lHXbAy",
      "execution_count": 30,
      "outputs": [
        {
          "output_type": "stream",
          "name": "stdout",
          "text": [
            "Name:  Raj\n",
            "Salary:  20000\n",
            "Name:  Raj\n"
          ]
        }
      ]
    },
    {
      "cell_type": "markdown",
      "id": "b2d04c3a",
      "metadata": {
        "id": "b2d04c3a"
      },
      "source": [
        "#### Private Access Modifier\n",
        "- declared by adding a double underscore '__' before data member"
      ]
    },
    {
      "cell_type": "markdown",
      "source": [
        "Why Use Private Variables?\n",
        "1. Data Integrity:\n",
        "Protects the internal state of an object from being accidentally or maliciously altered.\n",
        "\n",
        "2. Controlled Access:\n",
        "Encourages the use of well-defined methods to modify or retrieve private variables, making it easier to enforce rules or add validation logic.\n",
        "\n",
        "3. Prevent Subclass Overriding:\n",
        "Name mangling prevents subclasses from accidentally overriding private variables of the parent class."
      ],
      "metadata": {
        "id": "rCR5d-_sfN81"
      },
      "id": "rCR5d-_sfN81"
    },
    {
      "cell_type": "code",
      "execution_count": 70,
      "id": "b597b8cf",
      "metadata": {
        "id": "b597b8cf",
        "colab": {
          "base_uri": "https://localhost:8080/"
        },
        "outputId": "0de00542-a2a2-40b1-8f45-65136bc977bc"
      },
      "outputs": [
        {
          "output_type": "stream",
          "name": "stdout",
          "text": [
            "Public Variable\n"
          ]
        }
      ],
      "source": [
        "class MyClass:\n",
        "    def __init__(self):\n",
        "        self.public_var = \"Public Variable\"\n",
        "        self.__private_var = \"Private Variable\"\n",
        "\n",
        "    def displaypub(self):\n",
        "        print(self.public_var)\n",
        "\n",
        "    def __displaypri(self):\n",
        "        print(self.__private_var)\n",
        "    def get_private_var(self):\n",
        "        return self.__private_var\n",
        "\n",
        "obj = MyClass()\n",
        "obj.displaypub()\n",
        "# obj.__displaypri() # This line will result in an AttributeError"
      ]
    },
    {
      "cell_type": "code",
      "source": [
        "obj.__private_var"
      ],
      "metadata": {
        "colab": {
          "base_uri": "https://localhost:8080/",
          "height": 145
        },
        "id": "O3rLHb5IoGtl",
        "outputId": "cd6445f7-8858-45cc-b73f-17a8a7cab08e"
      },
      "id": "O3rLHb5IoGtl",
      "execution_count": 72,
      "outputs": [
        {
          "output_type": "error",
          "ename": "AttributeError",
          "evalue": "'MyClass' object has no attribute '__private_var'",
          "traceback": [
            "\u001b[0;31m---------------------------------------------------------------------------\u001b[0m",
            "\u001b[0;31mAttributeError\u001b[0m                            Traceback (most recent call last)",
            "\u001b[0;32m<ipython-input-72-46aaca17faeb>\u001b[0m in \u001b[0;36m<cell line: 1>\u001b[0;34m()\u001b[0m\n\u001b[0;32m----> 1\u001b[0;31m \u001b[0mobj\u001b[0m\u001b[0;34m.\u001b[0m\u001b[0m__private_var\u001b[0m\u001b[0;34m\u001b[0m\u001b[0;34m\u001b[0m\u001b[0m\n\u001b[0m",
            "\u001b[0;31mAttributeError\u001b[0m: 'MyClass' object has no attribute '__private_var'"
          ]
        }
      ]
    },
    {
      "cell_type": "code",
      "source": [
        "obj.public_var"
      ],
      "metadata": {
        "colab": {
          "base_uri": "https://localhost:8080/",
          "height": 36
        },
        "id": "OWOa888Kn_SS",
        "outputId": "f0c82602-7f16-4b29-b203-7a1aecf0ba6c"
      },
      "id": "OWOa888Kn_SS",
      "execution_count": 71,
      "outputs": [
        {
          "output_type": "execute_result",
          "data": {
            "text/plain": [
              "'Public Variable'"
            ],
            "application/vnd.google.colaboratory.intrinsic+json": {
              "type": "string"
            }
          },
          "metadata": {},
          "execution_count": 71
        }
      ]
    },
    {
      "cell_type": "code",
      "source": [
        "obj.__displaypri()"
      ],
      "metadata": {
        "colab": {
          "base_uri": "https://localhost:8080/",
          "height": 145
        },
        "id": "0jkvx_ceiZ5x",
        "outputId": "421964b7-5160-4ce7-db3d-9b5d223cde40"
      },
      "id": "0jkvx_ceiZ5x",
      "execution_count": 73,
      "outputs": [
        {
          "output_type": "error",
          "ename": "AttributeError",
          "evalue": "'MyClass' object has no attribute '__displaypri'",
          "traceback": [
            "\u001b[0;31m---------------------------------------------------------------------------\u001b[0m",
            "\u001b[0;31mAttributeError\u001b[0m                            Traceback (most recent call last)",
            "\u001b[0;32m<ipython-input-73-62cc1a27700f>\u001b[0m in \u001b[0;36m<cell line: 1>\u001b[0;34m()\u001b[0m\n\u001b[0;32m----> 1\u001b[0;31m \u001b[0mobj\u001b[0m\u001b[0;34m.\u001b[0m\u001b[0m__displaypri\u001b[0m\u001b[0;34m(\u001b[0m\u001b[0;34m)\u001b[0m\u001b[0;34m\u001b[0m\u001b[0;34m\u001b[0m\u001b[0m\n\u001b[0m",
            "\u001b[0;31mAttributeError\u001b[0m: 'MyClass' object has no attribute '__displaypri'"
          ]
        }
      ]
    },
    {
      "cell_type": "code",
      "source": [
        "obj.get_private_var()"
      ],
      "metadata": {
        "colab": {
          "base_uri": "https://localhost:8080/",
          "height": 36
        },
        "id": "6F2KVDIPiIqL",
        "outputId": "c8682758-d778-4242-8280-f6e67f739ea3"
      },
      "id": "6F2KVDIPiIqL",
      "execution_count": 40,
      "outputs": [
        {
          "output_type": "execute_result",
          "data": {
            "text/plain": [
              "'Private Variable'"
            ],
            "application/vnd.google.colaboratory.intrinsic+json": {
              "type": "string"
            }
          },
          "metadata": {},
          "execution_count": 40
        }
      ]
    },
    {
      "cell_type": "code",
      "source": [
        "obj.public_var"
      ],
      "metadata": {
        "id": "4lsjzPeYb4O7",
        "colab": {
          "base_uri": "https://localhost:8080/",
          "height": 36
        },
        "outputId": "1f0e02d4-cc89-4903-c99f-3961df855e4e"
      },
      "id": "4lsjzPeYb4O7",
      "execution_count": 37,
      "outputs": [
        {
          "output_type": "execute_result",
          "data": {
            "text/plain": [
              "'Public Variable'"
            ],
            "application/vnd.google.colaboratory.intrinsic+json": {
              "type": "string"
            }
          },
          "metadata": {},
          "execution_count": 37
        }
      ]
    },
    {
      "cell_type": "code",
      "source": [
        "obj.__private_var"
      ],
      "metadata": {
        "id": "6lw1U5dzb0DI",
        "colab": {
          "base_uri": "https://localhost:8080/",
          "height": 145
        },
        "outputId": "0a3e5435-22c4-44b8-cf74-0d8eb7b53a40"
      },
      "id": "6lw1U5dzb0DI",
      "execution_count": 41,
      "outputs": [
        {
          "output_type": "error",
          "ename": "AttributeError",
          "evalue": "'MyClass' object has no attribute '__private_var'",
          "traceback": [
            "\u001b[0;31m---------------------------------------------------------------------------\u001b[0m",
            "\u001b[0;31mAttributeError\u001b[0m                            Traceback (most recent call last)",
            "\u001b[0;32m<ipython-input-41-46aaca17faeb>\u001b[0m in \u001b[0;36m<cell line: 1>\u001b[0;34m()\u001b[0m\n\u001b[0;32m----> 1\u001b[0;31m \u001b[0mobj\u001b[0m\u001b[0;34m.\u001b[0m\u001b[0m__private_var\u001b[0m\u001b[0;34m\u001b[0m\u001b[0;34m\u001b[0m\u001b[0m\n\u001b[0m",
            "\u001b[0;31mAttributeError\u001b[0m: 'MyClass' object has no attribute '__private_var'"
          ]
        }
      ]
    },
    {
      "cell_type": "code",
      "source": [
        "obj.__displaypri() # This line will result in an AttributeError"
      ],
      "metadata": {
        "id": "xBb6Pkurb9p0"
      },
      "id": "xBb6Pkurb9p0",
      "execution_count": null,
      "outputs": []
    },
    {
      "cell_type": "code",
      "source": [
        "class MyClass:\n",
        "    def __init__(self):\n",
        "        self.public_var = \"This is a public variable\"\n",
        "        self._protected_var = \"This is a protected variable\"\n",
        "        self.__private_var = \"This is a private variable\"\n",
        "\n",
        "    def print_variables(self):\n",
        "        print(\"Public:\", self.public_var)\n",
        "        print(\"Protected:\", self._protected_var)\n",
        "        print(\"Private:\", self.__private_var)"
      ],
      "metadata": {
        "id": "L0SOeFuWfgzL"
      },
      "id": "L0SOeFuWfgzL",
      "execution_count": 75,
      "outputs": []
    },
    {
      "cell_type": "code",
      "source": [
        "class SubClass(MyClass):\n",
        "    def access_protected(self):\n",
        "        print(\"Accessing protected from subclass:\", self._protected_var)\n",
        "\n",
        "    # Uncomment the following to see the error when trying to access private variable\n",
        "    def access_private(self):\n",
        "        print(\"Accessing private from subclass:\", self.__private_var)"
      ],
      "metadata": {
        "id": "jLpFvBc9flCL"
      },
      "id": "jLpFvBc9flCL",
      "execution_count": 76,
      "outputs": []
    },
    {
      "cell_type": "code",
      "source": [
        "obj = MyClass()"
      ],
      "metadata": {
        "id": "10k3V_-Kfref"
      },
      "id": "10k3V_-Kfref",
      "execution_count": 77,
      "outputs": []
    },
    {
      "cell_type": "code",
      "source": [
        "print(\"Accessing from the object:\")\n",
        "print(obj.public_var)  # Public variable can be accessed directly\n",
        "print(obj._protected_var)  # Protected variable can be accessed, but it's a convention not to\n",
        "print(obj.__private_var)  # Uncommenting this line will result in an AttributeError"
      ],
      "metadata": {
        "colab": {
          "base_uri": "https://localhost:8080/",
          "height": 235
        },
        "id": "egqdPW-mfvbO",
        "outputId": "a71abdac-e02c-4711-f069-ce24964edeb8"
      },
      "id": "egqdPW-mfvbO",
      "execution_count": 79,
      "outputs": [
        {
          "output_type": "stream",
          "name": "stdout",
          "text": [
            "Accessing from the object:\n",
            "This is a public variable\n",
            "This is a protected variable\n"
          ]
        },
        {
          "output_type": "error",
          "ename": "AttributeError",
          "evalue": "'MyClass' object has no attribute '__private_var'",
          "traceback": [
            "\u001b[0;31m---------------------------------------------------------------------------\u001b[0m",
            "\u001b[0;31mAttributeError\u001b[0m                            Traceback (most recent call last)",
            "\u001b[0;32m<ipython-input-79-0cec19949fd9>\u001b[0m in \u001b[0;36m<cell line: 4>\u001b[0;34m()\u001b[0m\n\u001b[1;32m      2\u001b[0m \u001b[0mprint\u001b[0m\u001b[0;34m(\u001b[0m\u001b[0mobj\u001b[0m\u001b[0;34m.\u001b[0m\u001b[0mpublic_var\u001b[0m\u001b[0;34m)\u001b[0m  \u001b[0;31m# Public variable can be accessed directly\u001b[0m\u001b[0;34m\u001b[0m\u001b[0;34m\u001b[0m\u001b[0m\n\u001b[1;32m      3\u001b[0m \u001b[0mprint\u001b[0m\u001b[0;34m(\u001b[0m\u001b[0mobj\u001b[0m\u001b[0;34m.\u001b[0m\u001b[0m_protected_var\u001b[0m\u001b[0;34m)\u001b[0m  \u001b[0;31m# Protected variable can be accessed, but it's a convention not to\u001b[0m\u001b[0;34m\u001b[0m\u001b[0;34m\u001b[0m\u001b[0m\n\u001b[0;32m----> 4\u001b[0;31m \u001b[0mprint\u001b[0m\u001b[0;34m(\u001b[0m\u001b[0mobj\u001b[0m\u001b[0;34m.\u001b[0m\u001b[0m__private_var\u001b[0m\u001b[0;34m)\u001b[0m  \u001b[0;31m# Uncommenting this line will result in an AttributeError\u001b[0m\u001b[0;34m\u001b[0m\u001b[0;34m\u001b[0m\u001b[0m\n\u001b[0m",
            "\u001b[0;31mAttributeError\u001b[0m: 'MyClass' object has no attribute '__private_var'"
          ]
        }
      ]
    },
    {
      "cell_type": "code",
      "execution_count": null,
      "id": "2f9d01f6",
      "metadata": {
        "id": "2f9d01f6",
        "outputId": "0f3505b2-fed1-4718-e67e-794d8461a98d",
        "colab": {
          "base_uri": "https://localhost:8080/"
        }
      },
      "outputs": [
        {
          "output_type": "stream",
          "name": "stdout",
          "text": [
            "\n",
            "Accessing from the method:\n",
            "Public: This is a public variable\n",
            "Protected: This is a protected variable\n",
            "Private: This is a private variable\n",
            "\n",
            "Accessing protected variable from subclass:\n",
            "Accessing protected from subclass: This is a protected variable\n"
          ]
        }
      ],
      "source": [
        "print(\"\\nAccessing from the method:\")\n",
        "obj.print_variables()\n",
        "\n",
        "print(\"\\nAccessing protected variable from subclass:\")\n",
        "sub_obj = SubClass()\n",
        "sub_obj.access_protected()\n",
        "\n",
        "# Uncomment the following lines to see the error when trying to access private variable from subclass\n",
        "# print(\"\\nAccessing private variable from subclass:\")\n",
        "# sub_obj.access_private()"
      ]
    },
    {
      "cell_type": "code",
      "execution_count": null,
      "id": "73df6000",
      "metadata": {
        "id": "73df6000"
      },
      "outputs": [],
      "source": []
    },
    {
      "cell_type": "code",
      "source": [
        "class MyClass:\n",
        "    def __init__(self):\n",
        "        self.public_var = \"This is a public variable\"\n",
        "        self._protected_var = \"This is a protected variable\"\n",
        "        self.__private_var = \"This is a private variable\"\n",
        "\n",
        "    def print_variables(self):\n",
        "        print(\"Public:\", self.public_var)\n",
        "        print(\"Protected:\", self._protected_var)\n",
        "        print(\"Private:\", self.__private_var)\n",
        "\n",
        "    # Getter for the private variable\n",
        "    def get_private_var(self):\n",
        "        return self.__private_var\n",
        "\n",
        "    # Setter for the private variable\n",
        "    def set_private_var(self, value):\n",
        "        self.__private_var = value"
      ],
      "metadata": {
        "id": "UN_6_gYFOGwK"
      },
      "id": "UN_6_gYFOGwK",
      "execution_count": null,
      "outputs": []
    },
    {
      "cell_type": "code",
      "source": [
        "# Create an instance of MyClass\n",
        "obj = MyClass()\n",
        "\n",
        "# Print initial variables\n",
        "obj.print_variables()\n",
        "\n",
        "# Access private variable using the getter\n",
        "print(\"Accessing private variable:\", obj.get_private_var())\n",
        "\n",
        "# Modify private variable using the setter\n",
        "obj.set_private_var(\"New value for private variable\")\n",
        "print(\"After modifying the private variable:\")\n",
        "\n",
        "# Print variables again\n",
        "obj.print_variables()"
      ],
      "metadata": {
        "colab": {
          "base_uri": "https://localhost:8080/"
        },
        "id": "4ruQozNMOKxz",
        "outputId": "f7c35bda-e089-4f56-e97e-483de9aa2791"
      },
      "id": "4ruQozNMOKxz",
      "execution_count": null,
      "outputs": [
        {
          "output_type": "stream",
          "name": "stdout",
          "text": [
            "Public: This is a public variable\n",
            "Protected: This is a protected variable\n",
            "Private: This is a private variable\n",
            "Accessing private variable: This is a private variable\n",
            "After modifying the private variable:\n",
            "Public: This is a public variable\n",
            "Protected: This is a protected variable\n",
            "Private: New value for private variable\n"
          ]
        }
      ]
    },
    {
      "cell_type": "markdown",
      "source": [
        "## Another example for Encapsulation\n"
      ],
      "metadata": {
        "id": "O7sVg1kftFrR"
      },
      "id": "O7sVg1kftFrR"
    },
    {
      "cell_type": "markdown",
      "metadata": {
        "id": "xwc9owMmzBRx"
      },
      "source": [
        "\n",
        "n Python, encapsulation is a method of wrapping data and functions into a single entity. For example, A class encapsulates all the data (methods and variables). Encapsulation means the internal representation of an object is generally hidden from outside of the object’s definition.\n",
        "\n",
        "\n",
        "\n",
        "Using OOP in Python, we can restrict access to methods and variables. This prevents data from direct modification which is called encapsulation. In Python, we denote private attributes using underscore as the prefix i.e single **`_`** or double **`__`**.\n",
        "\n",
        "### Need of Encapsulation\n",
        "\n",
        "Encapsulation acts as a protective layer. We can restrict access to methods and variables from outside, and It can prevent the data from being modified by accidental or unauthorized modification. Encapsulation provides security by hiding the data from the outside world.\n",
        "\n",
        "In Python, we do not have access modifiers directly, such as public, private, and protected. But we can achieve encapsulation by using single prefix underscore and double underscore to control access of variable and method within the Python program."
      ],
      "id": "xwc9owMmzBRx"
    },
    {
      "cell_type": "code",
      "execution_count": null,
      "metadata": {
        "ExecuteTime": {
          "end_time": "2021-06-19T09:00:15.687261Z",
          "start_time": "2021-06-19T09:00:15.666758Z"
        },
        "id": "i8BjyONvzBRx",
        "outputId": "8ee4f9ad-839d-46e2-ff57-5ef491e14f38"
      },
      "outputs": [
        {
          "name": "stdout",
          "output_type": "stream",
          "text": [
            "Selling Price: 900\n",
            "Selling Price: 900\n",
            "Selling Price: 1000\n"
          ]
        }
      ],
      "source": [
        "# Example 1: Data Encapsulation in Python\n",
        "\n",
        "class Computer:\n",
        "\n",
        "    def __init__(self):\n",
        "        self.__maxprice = 900\n",
        "\n",
        "    def sell(self):\n",
        "        print(\"Selling Price: {}\".format(self.__maxprice))\n",
        "\n",
        "    def setMaxPrice(self, price):\n",
        "        self.__maxprice = price\n",
        "\n",
        "c = Computer()\n",
        "c.sell()\n",
        "\n",
        "# change the price\n",
        "c.__maxprice = 1000\n",
        "c.sell()\n",
        "\n",
        "# using setter function\n",
        "c.setMaxPrice(1000)\n",
        "c.sell()"
      ],
      "id": "i8BjyONvzBRx"
    },
    {
      "cell_type": "markdown",
      "metadata": {
        "id": "9g2nYvngzBRx"
      },
      "source": [
        "**Explanation**:\n",
        "\n",
        "In the above program, we defined a **`Computer`** class.\n",
        "\n",
        "We used **`__init__()`** method to store the maximum selling price of **`Computer`**. We tried to modify the price. However, we can't change it because Python treats the **`__maxprice`** as private attributes.\n",
        "\n",
        "As shown, to change the value, we have to use a setter function i.e **`setMaxPrice()`** which takes price as a parameter."
      ],
      "id": "9g2nYvngzBRx"
    },
    {
      "cell_type": "code",
      "execution_count": null,
      "metadata": {
        "ExecuteTime": {
          "end_time": "2021-06-19T09:00:17.520737Z",
          "start_time": "2021-06-19T09:00:17.211663Z"
        },
        "scrolled": false,
        "id": "5FS89Pq6zBRy",
        "outputId": "49308602-af3b-4158-aabb-cbc1aef464b0"
      },
      "outputs": [
        {
          "ename": "AttributeError",
          "evalue": "'Employee' object has no attribute 'PrintName'",
          "output_type": "error",
          "traceback": [
            "\u001b[1;31m---------------------------------------------------------------------------\u001b[0m",
            "\u001b[1;31mAttributeError\u001b[0m                            Traceback (most recent call last)",
            "\u001b[1;32m<ipython-input-17-b977fb738e16>\u001b[0m in \u001b[0;36m<module>\u001b[1;34m\u001b[0m\n\u001b[0;32m     11\u001b[0m \u001b[1;31m# Outside class\u001b[0m\u001b[1;33m\u001b[0m\u001b[1;33m\u001b[0m\u001b[1;33m\u001b[0m\u001b[0m\n\u001b[0;32m     12\u001b[0m \u001b[0mE\u001b[0m \u001b[1;33m=\u001b[0m \u001b[0mEmployee\u001b[0m\u001b[1;33m(\u001b[0m\u001b[1;34m\"Bella\"\u001b[0m\u001b[1;33m,\u001b[0m \u001b[1;36m60000\u001b[0m\u001b[1;33m)\u001b[0m\u001b[1;33m\u001b[0m\u001b[1;33m\u001b[0m\u001b[0m\n\u001b[1;32m---> 13\u001b[1;33m \u001b[0mE\u001b[0m\u001b[1;33m.\u001b[0m\u001b[0mPrintName\u001b[0m\u001b[1;33m(\u001b[0m\u001b[1;33m)\u001b[0m\u001b[1;33m\u001b[0m\u001b[1;33m\u001b[0m\u001b[0m\n\u001b[0m\u001b[0;32m     14\u001b[0m \u001b[0mprint\u001b[0m\u001b[1;33m(\u001b[0m\u001b[0mE\u001b[0m\u001b[1;33m.\u001b[0m\u001b[0mname\u001b[0m\u001b[1;33m)\u001b[0m\u001b[1;33m\u001b[0m\u001b[1;33m\u001b[0m\u001b[0m\n\u001b[0;32m     15\u001b[0m \u001b[0mprint\u001b[0m\u001b[1;33m(\u001b[0m\u001b[0mE\u001b[0m\u001b[1;33m.\u001b[0m\u001b[0mPrintName\u001b[0m\u001b[1;33m(\u001b[0m\u001b[1;33m)\u001b[0m\u001b[1;33m)\u001b[0m\u001b[1;33m\u001b[0m\u001b[1;33m\u001b[0m\u001b[0m\n",
            "\u001b[1;31mAttributeError\u001b[0m: 'Employee' object has no attribute 'PrintName'"
          ]
        }
      ],
      "source": [
        "# Example 2: Data Encapsulation in Python\n",
        "\n",
        "class Employee:\n",
        "    def __init__(self, name, salary):\n",
        "        self.name = name\n",
        "        self.__salary = salary\n",
        "\n",
        "    def show(self):\n",
        "        print(\"Name is \", self.name, \"and salary is\", self.__salary)\n",
        "\n",
        "# Outside class\n",
        "E = Employee(\"Bella\", 60000)\n",
        "E.PrintName()\n",
        "print(E.name)\n",
        "print(E.PrintName())\n",
        "print(E.__salary)\n",
        "\n",
        "# AttributeError: 'Employee' object has no attribute '__salary'"
      ],
      "id": "5FS89Pq6zBRy"
    },
    {
      "cell_type": "markdown",
      "metadata": {
        "id": "4Vf0wY_kzBR7"
      },
      "source": [
        "**Explanation**:\n",
        "\n",
        "In the above example, we create a class called **`Employee`**. Within that class, we declare two variables **`name`** and **`__salary`**. We can observe that the name variable is accessible, but **`__salary`** is the **private variable**. We cannot access it from outside of class. If we try to access it, we will get an error."
      ],
      "id": "4Vf0wY_kzBR7"
    },
    {
      "cell_type": "markdown",
      "source": [
        "# Polymorphism\n"
      ],
      "metadata": {
        "id": "yanKK2WhslGq"
      },
      "id": "yanKK2WhslGq"
    },
    {
      "cell_type": "markdown",
      "metadata": {
        "id": "8EcZdl5KzBR7"
      },
      "source": [
        "\n",
        "Polymorphism is based on the greek words **Poly** (many) and **morphism** (forms). We will create a structure that can take or use many forms of objects.\n",
        "\n",
        "Polymorphism is an ability (in OOP) to use a common interface for multiple forms (data types).\n",
        "\n",
        "**Example 1:** The student can act as a student in college, act as a player on the ground, and as a daughter/brother in the home.\n",
        "\n",
        "**Example 2:** In the programming language, the **`+`** operator, acts as a concatenation and arithmetic addition.\n",
        "\n",
        "**Example 3:** If we need to color a shape, there are multiple shape options (rectangle, square, circle). However we could use the same method to color any shape.\n",
        "\n",
        "\n",
        "\n",
        "In Python, polymorphism allows us to define the child class methods with the same name as defined in the parent class."
      ],
      "id": "8EcZdl5KzBR7"
    },
    {
      "cell_type": "code",
      "execution_count": 80,
      "metadata": {
        "ExecuteTime": {
          "end_time": "2021-06-19T09:00:20.204307Z",
          "start_time": "2021-06-19T09:00:20.187708Z"
        },
        "id": "XuoblkzazBR8",
        "outputId": "54aaf253-bbbf-4385-f765-0334fbecb039",
        "colab": {
          "base_uri": "https://localhost:8080/"
        }
      },
      "outputs": [
        {
          "output_type": "stream",
          "name": "stdout",
          "text": [
            "Parrot can fly\n",
            "Penguin can't fly\n"
          ]
        }
      ],
      "source": [
        "# Example 1: Using Polymorphism in Python\n",
        "\n",
        "class Parrot:\n",
        "    def fly(self):\n",
        "        print(\"Parrot can fly\")\n",
        "\n",
        "    def swim(self):\n",
        "        print(\"Parrot can't swim\")\n",
        "\n",
        "class Penguin:\n",
        "    def fly(self):\n",
        "        print(\"Penguin can't fly\")\n",
        "\n",
        "    def swim(self):\n",
        "        print(\"Penguin can swim\")\n",
        "\n",
        "# common interface\n",
        "def flying_test(bird):\n",
        "    bird.fly()\n",
        "\n",
        "#instantiate objects\n",
        "blu = Parrot()\n",
        "peggy = Penguin()\n",
        "\n",
        "# passing the object\n",
        "flying_test(blu)\n",
        "flying_test(peggy)"
      ],
      "id": "XuoblkzazBR8"
    },
    {
      "cell_type": "markdown",
      "metadata": {
        "id": "oqNYSAcgzBR8"
      },
      "source": [
        "**Exaplanation**:\n",
        "\n",
        "In the above program, we defined two classes **`Parrot`** and **`Penguin`**. Each of them have a common **`fly()`** method. However, their functions are different.\n",
        "\n",
        "To use polymorphism, we created a common interface i.e **`flying_test()`** function that takes any object and calls the object's **`fly()`** method. Thus, when we passed the **`blu`** and **`peggy`** objects in the **`flying_test()`** function, it ran effectively."
      ],
      "id": "oqNYSAcgzBR8"
    },
    {
      "cell_type": "code",
      "execution_count": null,
      "metadata": {
        "ExecuteTime": {
          "end_time": "2021-06-19T09:00:21.662302Z",
          "start_time": "2021-06-19T09:00:21.639840Z"
        },
        "scrolled": true,
        "id": "n2j2mbVXzBR9",
        "outputId": "49a4cc12-b871-4b51-ff47-5a65e4d9377f"
      },
      "outputs": [
        {
          "name": "stdout",
          "output_type": "stream",
          "text": [
            "Area of circle: 254.34\n",
            "Area of Rectangle: 54\n"
          ]
        }
      ],
      "source": [
        "# Example 2: Using Polymorphism in Python\n",
        "\n",
        "class Circle:\n",
        "    pi = 3.14\n",
        "\n",
        "    def __init__(self, redius):\n",
        "        self.radius = redius\n",
        "\n",
        "    def calculate_area(self):\n",
        "        print(\"Area of circle:\", self.pi * self.radius * self.radius)\n",
        "\n",
        "class Rectangle:\n",
        "    def __init__(self, length, width):\n",
        "        self.length = length\n",
        "        self.width = width\n",
        "\n",
        "    def calculate_area(self):\n",
        "        print(\"Area of Rectangle:\", self.length * self.width)\n",
        "\n",
        "cir = Circle(9)\n",
        "rect = Rectangle(9, 6)\n",
        "cir.calculate_area()   # Output Area of circle: 254.34\n",
        "\n",
        "rect.calculate_area()  # Output Area od Rectangle: 54"
      ],
      "id": "n2j2mbVXzBR9"
    },
    {
      "cell_type": "markdown",
      "metadata": {
        "id": "3z4JyO30zBR9"
      },
      "source": [
        "**Exaplanation**:\n",
        "\n",
        "In the above example, we created two classes called **`Circle`** and **`Rectangle`**. In both classes, we created the same method with the name **`calculate_area`**. This method acts differently in both classes. In the case of the **`Circle`** class, it calculates the area of the circle, whereas, in the case of a **`Rectangle`** class, it calculates the area of a rectangle."
      ],
      "id": "3z4JyO30zBR9"
    },
    {
      "cell_type": "markdown",
      "metadata": {
        "id": "8lo67b_VzBR9"
      },
      "source": [
        "## Key Points to Remember:\n",
        "* Object-Oriented Programming makes the program easy to understand as well as efficient.\n",
        "* Since the class is sharable, the code can be reused.\n",
        "* Polymorphism allows the same interface for different objects, so programmers can write efficient code."
      ],
      "id": "8lo67b_VzBR9"
    },
    {
      "cell_type": "markdown",
      "source": [
        "# Problems"
      ],
      "metadata": {
        "id": "AFmuvIypPChs"
      },
      "id": "AFmuvIypPChs"
    },
    {
      "cell_type": "markdown",
      "source": [
        "Exercise :\n",
        "You are tasked with designing a Library Management System using Object-Oriented Programming principles to manage books, library members, and the borrowing/returning of books. Begin by creating a Book class with attributes such as title and author (strings), a unique isbn (string), and an is_available attribute (boolean, defaulting to True). Include methods such as a constructor to initialize these attributes, a get_details() method to return the book details, and getter and setter methods for is_available.\n",
        "\n",
        "Next, create a LibraryMember class to represent library users, with attributes like member_id (unique integer), name (string), and borrowed_books (a list of Book objects). This class should include a constructor to initialize these attributes, a borrow_book(book) method to add a book to the borrowed_books list if it's available, and a return_book(book) method to remove a book from the list and mark it as available.\n",
        "\n",
        "For Part 2, introduce inheritance by creating two subclasses: Student and Professor, inheriting from LibraryMember. Each subclass should have additional attributes: grade (string) for students and department (string) for professors. Override the borrow_book method to enforce borrowing limits: students can borrow a maximum of 2 books, while professors can borrow up to 5 books.\n",
        "\n",
        "In Part 3, demonstrate polymorphism by implementing a print_details() method in each of the LibraryMember, Student, and Professor classes to display their details in distinct formats.\n",
        "\n",
        "Finally, test your classes by writing a program that creates a variety of books, students, and professors. Simulate borrowing and returning books and use the print_details() methods to display information about the members and the books."
      ],
      "metadata": {
        "id": "G-hYbzoiPHEu"
      },
      "id": "G-hYbzoiPHEu"
    },
    {
      "cell_type": "code",
      "source": [],
      "metadata": {
        "id": "pxsLn9luR2o_"
      },
      "id": "pxsLn9luR2o_",
      "execution_count": null,
      "outputs": []
    },
    {
      "cell_type": "markdown",
      "source": [
        "![image.png](data:image/png;base64,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)"
      ],
      "metadata": {
        "id": "gzT32b2x7Bp3"
      },
      "id": "gzT32b2x7Bp3"
    },
    {
      "cell_type": "code",
      "source": [],
      "metadata": {
        "id": "yr7U_d77R46T"
      },
      "id": "yr7U_d77R46T",
      "execution_count": null,
      "outputs": []
    }
  ],
  "metadata": {
    "kernelspec": {
      "display_name": "Python 3 (ipykernel)",
      "language": "python",
      "name": "python3"
    },
    "language_info": {
      "codemirror_mode": {
        "name": "ipython",
        "version": 3
      },
      "file_extension": ".py",
      "mimetype": "text/x-python",
      "name": "python",
      "nbconvert_exporter": "python",
      "pygments_lexer": "ipython3",
      "version": "3.10.9"
    },
    "colab": {
      "provenance": [],
      "collapsed_sections": [
        "bbaef30a",
        "f02481d3",
        "O7sVg1kftFrR",
        "yanKK2WhslGq",
        "AFmuvIypPChs"
      ]
    }
  },
  "nbformat": 4,
  "nbformat_minor": 5
}