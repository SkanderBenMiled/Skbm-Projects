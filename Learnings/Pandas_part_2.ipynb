{
  "cells": [
    {
      "cell_type": "markdown",
      "id": "c6038cd0",
      "metadata": {
        "id": "c6038cd0"
      },
      "source": [
        "# Data exploration / Data Cleaning in Pandas"
      ]
    },
    {
      "cell_type": "code",
      "execution_count": null,
      "id": "9d8c99e2",
      "metadata": {
        "id": "9d8c99e2"
      },
      "outputs": [],
      "source": [
        "import pandas as pd"
      ]
    },
    {
      "cell_type": "code",
      "execution_count": null,
      "id": "1996c91f",
      "metadata": {
        "id": "1996c91f"
      },
      "outputs": [],
      "source": [
        "df = pd.read_excel(\"/content/Customer Call List.xlsx\")\n",
        "df"
      ]
    },
    {
      "cell_type": "code",
      "source": [
        "df.isnull().sum()"
      ],
      "metadata": {
        "id": "a8TwENCqjiJV"
      },
      "id": "a8TwENCqjiJV",
      "execution_count": null,
      "outputs": []
    },
    {
      "cell_type": "code",
      "source": [
        "df.isnull().sum().sum()"
      ],
      "metadata": {
        "id": "2quyUmEDj1NJ"
      },
      "id": "2quyUmEDj1NJ",
      "execution_count": null,
      "outputs": []
    },
    {
      "cell_type": "code",
      "source": [
        "df # 1020"
      ],
      "metadata": {
        "id": "T8lFKPvxkAG0"
      },
      "id": "T8lFKPvxkAG0",
      "execution_count": null,
      "outputs": []
    },
    {
      "cell_type": "code",
      "execution_count": null,
      "id": "8624a784",
      "metadata": {
        "id": "8624a784"
      },
      "outputs": [],
      "source": [
        "df = df.drop_duplicates()\n",
        "df"
      ]
    },
    {
      "cell_type": "code",
      "execution_count": null,
      "id": "66259ab9",
      "metadata": {
        "id": "66259ab9"
      },
      "outputs": [],
      "source": [
        "df = df.drop(columns = \"Not_Useful_Column\")\n",
        "df"
      ]
    },
    {
      "cell_type": "code",
      "source": [
        "df.head()"
      ],
      "metadata": {
        "id": "5R4Y8sJlkacl"
      },
      "id": "5R4Y8sJlkacl",
      "execution_count": null,
      "outputs": []
    },
    {
      "cell_type": "code",
      "source": [
        "df = df.drop(columns=['Address', 'Do_Not_Contact'])"
      ],
      "metadata": {
        "id": "6-KNz9RXkZLC"
      },
      "id": "6-KNz9RXkZLC",
      "execution_count": null,
      "outputs": []
    },
    {
      "cell_type": "code",
      "source": [
        "df"
      ],
      "metadata": {
        "id": "UlaLDilVkj_M"
      },
      "id": "UlaLDilVkj_M",
      "execution_count": null,
      "outputs": []
    },
    {
      "cell_type": "code",
      "source": [
        "df = pd.read_excel(\"/content/Customer Call List.xlsx\")"
      ],
      "metadata": {
        "id": "8OpxsV__sOin"
      },
      "id": "8OpxsV__sOin",
      "execution_count": null,
      "outputs": []
    },
    {
      "cell_type": "code",
      "source": [
        "df.head(2)"
      ],
      "metadata": {
        "id": "6JjxF_rFsRQP"
      },
      "id": "6JjxF_rFsRQP",
      "execution_count": null,
      "outputs": []
    },
    {
      "cell_type": "code",
      "source": [
        "df"
      ],
      "metadata": {
        "id": "wJP3O4iKstj3"
      },
      "id": "wJP3O4iKstj3",
      "execution_count": null,
      "outputs": []
    },
    {
      "cell_type": "code",
      "execution_count": null,
      "id": "8c55b8ab",
      "metadata": {
        "id": "8c55b8ab"
      },
      "outputs": [],
      "source": [
        "df[\"Do_Not_Contact\"] = df[\"Do_Not_Contact\"].replace('Yes','Y')\n",
        "\n",
        "df[\"Do_Not_Contact\"] = df[\"Do_Not_Contact\"].replace('No','N')\n",
        "df"
      ]
    },
    {
      "cell_type": "code",
      "execution_count": null,
      "id": "c9cdb66a",
      "metadata": {
        "id": "c9cdb66a"
      },
      "outputs": [],
      "source": [
        "df[[\"Street_Address\", \"State\", \"Zip_Code\"]] = df[\"Address\"].str.split(',', n=2, expand=True)\n",
        "# n=2 limits the split to 3 parts\n",
        "# expand=True ensures the result is split into separate columns.\n",
        "df"
      ]
    },
    {
      "cell_type": "code",
      "source": [
        "df.isnull().sum()"
      ],
      "metadata": {
        "id": "c1IY5Lc_t3ln"
      },
      "execution_count": null,
      "outputs": [],
      "id": "c1IY5Lc_t3ln"
    },
    {
      "cell_type": "code",
      "source": [
        "df.isnull().sum().sum()"
      ],
      "metadata": {
        "id": "OrBhidrUt3lo"
      },
      "execution_count": null,
      "outputs": [],
      "id": "OrBhidrUt3lo"
    },
    {
      "cell_type": "code",
      "execution_count": null,
      "id": "5f1f693c",
      "metadata": {
        "id": "5f1f693c"
      },
      "outputs": [],
      "source": [
        "df=df.fillna('')\n",
        "df.head()"
      ]
    },
    {
      "cell_type": "code",
      "source": [
        "df['Do_Not_Contact']=df['Do_Not_Contact'].fillna('N')\n",
        "df.head()"
      ],
      "metadata": {
        "id": "JUE-m3Oev1FS"
      },
      "id": "JUE-m3Oev1FS",
      "execution_count": null,
      "outputs": []
    },
    {
      "cell_type": "code",
      "source": [
        "df = pd.read_excel(\"/content/Customer Call List.xlsx\")"
      ],
      "metadata": {
        "id": "sHNmf-MwuyxU"
      },
      "id": "sHNmf-MwuyxU",
      "execution_count": null,
      "outputs": []
    },
    {
      "cell_type": "code",
      "source": [
        "df[\"CustomerID\"].mean()"
      ],
      "metadata": {
        "id": "ICTNDAfsvnZ_"
      },
      "id": "ICTNDAfsvnZ_",
      "execution_count": null,
      "outputs": []
    },
    {
      "cell_type": "code",
      "source": [
        "df[\"CustomerID\"].std()"
      ],
      "metadata": {
        "id": "co_O-x0xvrEq"
      },
      "id": "co_O-x0xvrEq",
      "execution_count": null,
      "outputs": []
    },
    {
      "cell_type": "code",
      "source": [
        "df[\"Do_Not_Contact\"].mode()"
      ],
      "metadata": {
        "id": "gMWEN-HfvKRf"
      },
      "id": "gMWEN-HfvKRf",
      "execution_count": null,
      "outputs": []
    },
    {
      "cell_type": "code",
      "source": [
        "df[\"Do_Not_Contact\"] = df[\"Do_Not_Contact\"].fillna(df[\"Do_Not_Contact\"].mode())"
      ],
      "metadata": {
        "id": "0qYAe5SWuqyo"
      },
      "id": "0qYAe5SWuqyo",
      "execution_count": null,
      "outputs": []
    },
    {
      "cell_type": "code",
      "source": [
        "df = df.replace('NaN','')"
      ],
      "metadata": {
        "id": "1gUA3khbt-Tk"
      },
      "id": "1gUA3khbt-Tk",
      "execution_count": null,
      "outputs": []
    },
    {
      "cell_type": "code",
      "source": [
        "df"
      ],
      "metadata": {
        "id": "Jm1c0mzcwdSj"
      },
      "id": "Jm1c0mzcwdSj",
      "execution_count": null,
      "outputs": []
    },
    {
      "cell_type": "code",
      "source": [
        "df.index"
      ],
      "metadata": {
        "id": "xy3fnI6wwpnK"
      },
      "id": "xy3fnI6wwpnK",
      "execution_count": null,
      "outputs": []
    },
    {
      "cell_type": "code",
      "source": [
        "df.columns"
      ],
      "metadata": {
        "id": "4kzq92kfxMEo"
      },
      "id": "4kzq92kfxMEo",
      "execution_count": null,
      "outputs": []
    },
    {
      "cell_type": "code",
      "source": [
        "df.columns = df.columns.str.strip()\n"
      ],
      "metadata": {
        "id": "vW2Uo_KqxcWp"
      },
      "id": "vW2Uo_KqxcWp",
      "execution_count": null,
      "outputs": []
    },
    {
      "cell_type": "code",
      "source": [
        "df.loc[1, 'Do_Not_Contact']"
      ],
      "metadata": {
        "id": "_dl6VqptwtkL"
      },
      "id": "_dl6VqptwtkL",
      "execution_count": null,
      "outputs": []
    },
    {
      "cell_type": "code",
      "source": [
        "df.loc['Do_Not_Contact'] # you need first to indicate the rows !!"
      ],
      "metadata": {
        "id": "DzBDteswx1B9"
      },
      "id": "DzBDteswx1B9",
      "execution_count": null,
      "outputs": []
    },
    {
      "cell_type": "code",
      "source": [
        "df.loc[['Paying Customer','Do_Not_Contact']] # you need first to indicate the rows !!"
      ],
      "metadata": {
        "id": "JW661vyCwyOV"
      },
      "id": "JW661vyCwyOV",
      "execution_count": null,
      "outputs": []
    },
    {
      "cell_type": "code",
      "source": [
        "df.loc[0:2]"
      ],
      "metadata": {
        "id": "r_9Q9EZPx4Di"
      },
      "id": "r_9Q9EZPx4Di",
      "execution_count": null,
      "outputs": []
    },
    {
      "cell_type": "code",
      "source": [
        "df.loc[0:2,['CustomerID','First_Name']]"
      ],
      "metadata": {
        "id": "aH2pIsZHyAOU"
      },
      "id": "aH2pIsZHyAOU",
      "execution_count": null,
      "outputs": []
    },
    {
      "cell_type": "code",
      "source": [
        "df.drop(0, inplace=True)"
      ],
      "metadata": {
        "id": "ODZe6WdHyNEG"
      },
      "id": "ODZe6WdHyNEG",
      "execution_count": null,
      "outputs": []
    },
    {
      "cell_type": "code",
      "source": [
        "df.head()"
      ],
      "metadata": {
        "id": "x-5QgeN4yPKM"
      },
      "id": "x-5QgeN4yPKM",
      "execution_count": null,
      "outputs": []
    },
    {
      "cell_type": "markdown",
      "source": [
        "to drop a column"
      ],
      "metadata": {
        "id": "N3TIWnGDynsI"
      },
      "id": "N3TIWnGDynsI"
    },
    {
      "cell_type": "code",
      "source": [
        "df = df.drop(\"Last_Name\", axis=1)"
      ],
      "metadata": {
        "id": "dmFkj37IyfNf"
      },
      "id": "dmFkj37IyfNf",
      "execution_count": null,
      "outputs": []
    },
    {
      "cell_type": "code",
      "source": [
        "df.drop(\"Phone_Number\", axis=1, inplace=True)"
      ],
      "metadata": {
        "id": "8R_U37n_yjqr"
      },
      "id": "8R_U37n_yjqr",
      "execution_count": null,
      "outputs": []
    },
    {
      "cell_type": "code",
      "source": [
        "df.head()"
      ],
      "metadata": {
        "id": "UiJynD5KzLKg"
      },
      "id": "UiJynD5KzLKg",
      "execution_count": null,
      "outputs": []
    },
    {
      "cell_type": "markdown",
      "source": [
        "to drop a row"
      ],
      "metadata": {
        "id": "pjAoFKr8yqjm"
      },
      "id": "pjAoFKr8yqjm"
    },
    {
      "cell_type": "code",
      "source": [
        "# df = df.drop(index)\n",
        "df = df.drop(3)"
      ],
      "metadata": {
        "id": "8SeshRl6ym3U"
      },
      "id": "8SeshRl6ym3U",
      "execution_count": null,
      "outputs": []
    },
    {
      "cell_type": "code",
      "source": [
        "df.drop(4, inplace=True)"
      ],
      "metadata": {
        "id": "KK6nQkXAy1FI"
      },
      "id": "KK6nQkXAy1FI",
      "execution_count": null,
      "outputs": []
    },
    {
      "cell_type": "code",
      "source": [
        "df.head()"
      ],
      "metadata": {
        "id": "kqAKkYDlzRN0"
      },
      "id": "kqAKkYDlzRN0",
      "execution_count": null,
      "outputs": []
    },
    {
      "cell_type": "code",
      "execution_count": null,
      "id": "2785de92",
      "metadata": {
        "id": "2785de92"
      },
      "outputs": [],
      "source": [
        "for x in df.index:\n",
        "    if df.loc[x, \"Do_Not_Contact\"] == 'Y':\n",
        "        df.drop(x, inplace=True)\n",
        "\n",
        "df"
      ]
    },
    {
      "cell_type": "code",
      "execution_count": null,
      "id": "e6abe261",
      "metadata": {
        "id": "e6abe261"
      },
      "outputs": [],
      "source": [
        "for x in df.index:\n",
        "    if df.loc[x, \"Do_Not_Contact\"] == '':\n",
        "        df.drop(x, inplace=True)\n",
        "\n",
        "df\n",
        "\n",
        "#Another way to drop null values\n",
        "#df = df.dropna(subset=\"Phone_Number\"), inplace=True)"
      ]
    },
    {
      "cell_type": "code",
      "execution_count": null,
      "id": "552ef68e",
      "metadata": {
        "id": "552ef68e"
      },
      "outputs": [],
      "source": [
        "df = df.reset_index(drop=True)\n",
        "df"
      ]
    },
    {
      "cell_type": "code",
      "execution_count": null,
      "metadata": {
        "id": "4fdb05c6"
      },
      "outputs": [],
      "source": [
        "df = pd.read_csv(\"/content/world_population.csv\")\n",
        "df"
      ],
      "id": "4fdb05c6"
    },
    {
      "cell_type": "code",
      "execution_count": null,
      "metadata": {
        "id": "10f4ccde"
      },
      "outputs": [],
      "source": [
        "df.sort_values(by=\"World Population Percentage\", ascending=False).head(10)"
      ],
      "id": "10f4ccde"
    },
    {
      "cell_type": "code",
      "execution_count": null,
      "metadata": {
        "id": "553ca41c"
      },
      "outputs": [],
      "source": [
        "df.columns"
      ],
      "id": "553ca41c"
    },
    {
      "cell_type": "code",
      "execution_count": null,
      "metadata": {
        "id": "938d691b"
      },
      "outputs": [],
      "source": [
        "df2 = df.transpose()\n",
        "df2"
      ],
      "id": "938d691b"
    },
    {
      "cell_type": "code",
      "source": [
        "df.select_dtypes(include='float')"
      ],
      "metadata": {
        "id": "MRdzadoR1-aw"
      },
      "id": "MRdzadoR1-aw",
      "execution_count": null,
      "outputs": []
    },
    {
      "cell_type": "code",
      "source": [
        "df.select_dtypes(include=['object'])"
      ],
      "metadata": {
        "id": "22DVfRqf1Xd7"
      },
      "id": "22DVfRqf1Xd7",
      "execution_count": null,
      "outputs": []
    },
    {
      "cell_type": "code",
      "source": [],
      "metadata": {
        "id": "IR3MnuwJ1pbl"
      },
      "id": "IR3MnuwJ1pbl",
      "execution_count": null,
      "outputs": []
    }
  ],
  "metadata": {
    "kernelspec": {
      "display_name": "Python 3 (ipykernel)",
      "language": "python",
      "name": "python3"
    },
    "language_info": {
      "codemirror_mode": {
        "name": "ipython",
        "version": 3
      },
      "file_extension": ".py",
      "mimetype": "text/x-python",
      "name": "python",
      "nbconvert_exporter": "python",
      "pygments_lexer": "ipython3",
      "version": "3.9.12"
    },
    "colab": {
      "provenance": []
    }
  },
  "nbformat": 4,
  "nbformat_minor": 5
}