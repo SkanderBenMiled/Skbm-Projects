{
  "cells": [
    {
      "cell_type": "code",
      "source": [
        "import tensorflow as tf\n",
        "import pandas as pd\n",
        "import numpy as np\n",
        "import matplotlib.pyplot as plt\n",
        "import seaborn as sns"
      ],
      "metadata": {
        "id": "V-CHwUuWzqtw"
      },
      "execution_count": 1,
      "outputs": []
    },
    {
      "cell_type": "code",
      "source": [
        "print(tf.__version__)"
      ],
      "metadata": {
        "colab": {
          "base_uri": "https://localhost:8080/"
        },
        "id": "E9jHGXqfz14v",
        "outputId": "f593b591-e52a-46c9-845e-2456eb10cf39"
      },
      "execution_count": 3,
      "outputs": [
        {
          "output_type": "stream",
          "name": "stdout",
          "text": [
            "2.17.1\n"
          ]
        }
      ]
    },
    {
      "cell_type": "markdown",
      "metadata": {
        "id": "rFBPububl-46"
      },
      "source": [
        "### Comments\n"
      ]
    },
    {
      "cell_type": "markdown",
      "source": [
        "Comments in Python\n",
        "\n",
        "Comments are very important while writing a program. They describe what is going on inside a program, so that a person looking at the source code does not have a hard time figuring it out.\n",
        "You might forget the key details of the program you just wrote in a month's time. So taking the time to explain these concepts in the form of comments is always fruitful.\n",
        "In Python, we use the hash (#) symbol to start writing a comment."
      ],
      "metadata": {
        "id": "zekrFy-v6qrb"
      }
    },
    {
      "cell_type": "code",
      "execution_count": 4,
      "metadata": {
        "ExecuteTime": {
          "end_time": "2020-01-29T00:17:02.050038Z",
          "start_time": "2020-01-29T00:17:02.045474Z"
        },
        "id": "kQxZMjbel-47"
      },
      "outputs": [],
      "source": [
        "# this is a comment\n",
        "# the program will ignore comments\n",
        "# they are for developer use"
      ]
    },
    {
      "cell_type": "code",
      "source": [
        "\"\"\" this is a comment\n",
        "the program will ignore comments\n",
        "they are for developer use \"\"\""
      ],
      "metadata": {
        "id": "8oO8HWDtdjgy",
        "colab": {
          "base_uri": "https://localhost:8080/",
          "height": 36
        },
        "outputId": "d84167bd-7f12-4386-d042-7effe78f719d"
      },
      "execution_count": 5,
      "outputs": [
        {
          "output_type": "execute_result",
          "data": {
            "text/plain": [
              "' this is a comment\\nthe program will ignore comments\\nthey are for developer use '"
            ],
            "application/vnd.google.colaboratory.intrinsic+json": {
              "type": "string"
            }
          },
          "metadata": {},
          "execution_count": 5
        }
      ]
    },
    {
      "cell_type": "code",
      "source": [
        "#This is a comment\n",
        "print (\"this is not a comment\")\n",
        "print (\"Welcome to Python world\") #this is also a comment but after a statement."
      ],
      "metadata": {
        "id": "W1BvcCsY0nkX"
      },
      "execution_count": null,
      "outputs": []
    },
    {
      "cell_type": "markdown",
      "source": [
        "Comments are for programmers to better understand a program. Python Interpreter ignores comments.\n"
      ],
      "metadata": {
        "id": "Srjx9mId0vBo"
      }
    },
    {
      "cell_type": "markdown",
      "metadata": {
        "id": "Fll_uob3HnZn"
      },
      "source": [
        "## Python variables"
      ]
    },
    {
      "cell_type": "markdown",
      "metadata": {
        "id": "EoPQSvKLHnZo"
      },
      "source": [
        "A variable is a reserved memory area (memory address) to store value. For example, we want to store an employee’s salary. In such a case, we can create a variable and store salary using it. Using that variable name, you can read or modify the salary amount.\n",
        "\n",
        "In other words, a variable is a value that varies according to the condition or input pass to the program. Everything in Python is treated as an object so every variable is nothing but an object in Python.\n",
        "\n",
        "A variable can be either **mutable** or **immutable**. If the variable’s value can change, the object is called mutable, while if the value cannot change, the object is called immutable."
      ]
    },
    {
      "cell_type": "markdown",
      "metadata": {
        "id": "yYRVUkmbHnZo"
      },
      "source": [
        "## Creating a variable"
      ]
    },
    {
      "cell_type": "markdown",
      "metadata": {
        "id": "0cYUWqr-HnZo"
      },
      "source": [
        "Python programming language is **dynamically typed**, so there is **no need to declare a variable** before using it or declare the data type of variable like in other programming languages. The declaration happens automatically when we assign a value to the variable."
      ]
    },
    {
      "cell_type": "markdown",
      "metadata": {
        "id": "My2WeoNKHnZo"
      },
      "source": [
        "##### Creating a variable and assigning a value\n",
        "\n"
      ]
    },
    {
      "cell_type": "markdown",
      "metadata": {
        "id": "8hoe_T7kHnZp"
      },
      "source": [
        "We can assign a value to the variable at that time variable is created. We can use the assignment operator = to assign a value to a variable.\n",
        "\n",
        "The operand, which is on the left side of the assignment operator, is a variable name. And the operand, which is the right side of the assignment operator, is the variable’s value.\n",
        "\n",
        "variable_name = variable_value"
      ]
    },
    {
      "cell_type": "code",
      "source": [
        "name = \"Deepali\"  # string assignment (déclaration + définition du type de la variable + affectation de la variable)"
      ],
      "metadata": {
        "id": "oNl9GhyEdOZK"
      },
      "execution_count": null,
      "outputs": []
    },
    {
      "cell_type": "code",
      "source": [
        "name"
      ],
      "metadata": {
        "id": "fPpoBXuQdVPy"
      },
      "execution_count": null,
      "outputs": []
    },
    {
      "cell_type": "code",
      "source": [
        "age = 25  # integer assignment"
      ],
      "metadata": {
        "id": "K5_reLYFdQHY"
      },
      "execution_count": null,
      "outputs": []
    },
    {
      "cell_type": "code",
      "source": [
        "age"
      ],
      "metadata": {
        "id": "NODwLs3pdW1-"
      },
      "execution_count": null,
      "outputs": []
    },
    {
      "cell_type": "code",
      "source": [
        "salary = 25800.60  # float assignment"
      ],
      "metadata": {
        "id": "-Q_evFR3dSCy"
      },
      "execution_count": null,
      "outputs": []
    },
    {
      "cell_type": "code",
      "source": [
        "salary"
      ],
      "metadata": {
        "id": "afqce6EGdX2H"
      },
      "execution_count": null,
      "outputs": []
    },
    {
      "cell_type": "code",
      "execution_count": null,
      "metadata": {
        "id": "6AZfUBgcHnZp"
      },
      "outputs": [],
      "source": [
        "print(name)  # Deepali\n",
        "print(age)  # 25\n",
        "print(salary)  # 25800.6"
      ]
    },
    {
      "cell_type": "markdown",
      "metadata": {
        "id": "lEVIkxElHnZq"
      },
      "source": [
        "In the above example, “Deepali”, 25, 25800.60 are values that are assigned to name, age, and salary respectively."
      ]
    },
    {
      "cell_type": "markdown",
      "metadata": {
        "id": "LSWQW4g_HnZq"
      },
      "source": [
        "## Changing the value of a variable"
      ]
    },
    {
      "cell_type": "markdown",
      "metadata": {
        "id": "tZumDN57HnZq"
      },
      "source": [
        "Many programming languages are statically typed languages where the variable is initially declared with a specific type, and during its lifetime, it must always have that type.\n",
        "\n",
        "But in Python, variables are dynamically typed and not subject to the data type restriction. A variable may be assigned to a value of one type, and then later, we can also re-assigned a value of a different type."
      ]
    },
    {
      "cell_type": "code",
      "source": [
        "var = 10\n",
        "print(var)  # 10\n",
        "# print its type\n",
        "print(type(var))  # <class 'int'>\n",
        "\n",
        "# assign different integer value to var\n",
        "var = 55\n",
        "print(var)  # 55"
      ],
      "metadata": {
        "id": "ZUmmK9r3djQ6"
      },
      "execution_count": null,
      "outputs": []
    },
    {
      "cell_type": "code",
      "execution_count": null,
      "metadata": {
        "id": "Q_MYWu5-HnZq"
      },
      "outputs": [],
      "source": [
        "# change var to string\n",
        "var = \"Now I'm a string\"\n",
        "print(var)  # Now I'm a string\n",
        "# print its type\n",
        "print(type(var))  # <class 'str'>\n",
        "\n",
        "# change var to float\n",
        "var = 35.69\n",
        "print(var)  # 35.69\n",
        "# print its type\n",
        "print(type(var))  # <class 'float'>"
      ]
    },
    {
      "cell_type": "markdown",
      "metadata": {
        "id": "ixy2ICvpHnZq"
      },
      "source": [
        "## Create Number, String, List variables"
      ]
    },
    {
      "cell_type": "markdown",
      "metadata": {
        "id": "AaE184siHnZq"
      },
      "source": [
        "We can create different types of variables as per our requirements."
      ]
    },
    {
      "cell_type": "markdown",
      "metadata": {
        "id": "7_gaDkxeHnZq"
      },
      "source": [
        "### Number"
      ]
    },
    {
      "cell_type": "markdown",
      "metadata": {
        "id": "iyRv-HNKHnZr"
      },
      "source": [
        "A number is a data type to store numeric values. The object for the number will be created when we assign a value to the variable. In Python3, we can use the following three data types to store numeric values.\n",
        "\n",
        "1. Int\n",
        "2. float\n",
        "3. complex"
      ]
    },
    {
      "cell_type": "markdown",
      "metadata": {
        "id": "e8l96zR9HnZr"
      },
      "source": [
        "### Integer variable"
      ]
    },
    {
      "cell_type": "markdown",
      "metadata": {
        "id": "Kt_aYb8tHnZr"
      },
      "source": [
        "The int is a data type that returns integer type values (signed integers); they are also called ints or integers. The integer value can be positive or negative without a decimal point."
      ]
    },
    {
      "cell_type": "code",
      "execution_count": null,
      "metadata": {
        "id": "wkQUDtL3HnZr"
      },
      "outputs": [],
      "source": [
        "# create integer variable\n",
        "age = 24\n",
        "print(age)  # 24\n",
        "print(type(age))  # <class 'int'>"
      ]
    },
    {
      "cell_type": "markdown",
      "metadata": {
        "id": "RtdvGDpeHnZr"
      },
      "source": [
        "Note: We used the built-in Python method type() to check the variable type."
      ]
    },
    {
      "cell_type": "markdown",
      "metadata": {
        "id": "b8AajgaYHnZr"
      },
      "source": [
        "### Float variable"
      ]
    },
    {
      "cell_type": "markdown",
      "metadata": {
        "id": "64i8zPU-HnZr"
      },
      "source": [
        "Floats are the values with the decimal point dividing the integer and the fractional parts of the number.  Use float data type to store decimal values."
      ]
    },
    {
      "cell_type": "code",
      "execution_count": null,
      "metadata": {
        "id": "Erk1FcCyHnZr"
      },
      "outputs": [],
      "source": [
        "# create float variable\n",
        "salary = 10800.55\n",
        "print(salary)  # 10800.55\n",
        "print(type(salary))  # <class 'float'>"
      ]
    },
    {
      "cell_type": "markdown",
      "metadata": {
        "id": "UJPYSFoVHnZr"
      },
      "source": [
        "\n",
        "In the above example, the variable salary assigned to value 10800.55, which is a float value."
      ]
    },
    {
      "cell_type": "markdown",
      "metadata": {
        "id": "q3-qnZO6HnZs"
      },
      "source": [
        "### Complex type"
      ]
    },
    {
      "cell_type": "markdown",
      "metadata": {
        "id": "1fwyUsUhHnZs"
      },
      "source": [
        "The complex is the numbers that come with the real and imaginary part. A complex number is in the form of a+bj, where a and b contain integers or floating-point values."
      ]
    },
    {
      "cell_type": "code",
      "execution_count": null,
      "metadata": {
        "id": "avVnnzBMHnZs"
      },
      "outputs": [],
      "source": [
        "a = 9 + 5j\n",
        "print(a)  # (9+5j)\n",
        "print(type(a))  # <class 'complex'>"
      ]
    },
    {
      "cell_type": "markdown",
      "metadata": {
        "id": "O83-VoXBHnZs"
      },
      "source": [
        "### String variable"
      ]
    },
    {
      "cell_type": "markdown",
      "metadata": {
        "id": "-gu07Z0JHnZs"
      },
      "source": [
        "In Python, a string is a set of characters represented in quotation marks. Python allows us to define a string in either pair of single or double quotation marks. For example, to store a person’s name we can use a string type."
      ]
    },
    {
      "cell_type": "markdown",
      "metadata": {
        "id": "dpEoqa04HnZs"
      },
      "source": [
        "To retrieve a piece of string from a given string, we can use to slice operator [] or [:]. Slicing provides us the subset of a string with an index starting from index 0 to index end-1.\n",
        "\n",
        "To concatenate the string, we can use the addition(+) operator."
      ]
    },
    {
      "cell_type": "code",
      "source": [
        "# create a variable of type string\n",
        "str = 'DataScience'\n",
        "# prints complete string\n",
        "print(str)  # Data Science"
      ],
      "metadata": {
        "id": "_42Yxvred2l8"
      },
      "execution_count": null,
      "outputs": []
    },
    {
      "cell_type": "code",
      "source": [
        "# prints first character of the string\n",
        "print(str[0])  # D"
      ],
      "metadata": {
        "id": "0Gwo3WJKejn-"
      },
      "execution_count": null,
      "outputs": []
    },
    {
      "cell_type": "code",
      "source": [
        "# prints characters starting from 2nd to 5th\n",
        "print(str[2:5])  # taS"
      ],
      "metadata": {
        "id": "zjvhd0cbemn5"
      },
      "execution_count": null,
      "outputs": []
    },
    {
      "cell_type": "code",
      "source": [
        "# length of string\n",
        "print(len(str))  # 12"
      ],
      "metadata": {
        "id": "49wJ9jBrepf-"
      },
      "execution_count": null,
      "outputs": []
    },
    {
      "cell_type": "code",
      "execution_count": null,
      "metadata": {
        "id": "nTU7XeHhHnZs"
      },
      "outputs": [],
      "source": [
        "# concatenate string\n",
        "print(str + \"TEST\")  # Data ScienceTEST"
      ]
    },
    {
      "cell_type": "markdown",
      "metadata": {
        "id": "UPbiSALxHnZs"
      },
      "source": [
        "## Print"
      ]
    },
    {
      "cell_type": "code",
      "execution_count": null,
      "metadata": {
        "id": "Xe2L1JknHnZy"
      },
      "outputs": [],
      "source": [
        "print(\"hi    how      are     you\")"
      ]
    },
    {
      "cell_type": "code",
      "execution_count": null,
      "metadata": {
        "id": "3LX1ilDLHnZy"
      },
      "outputs": [],
      "source": [
        "print(\"Hi\" + \"Hello\")"
      ]
    },
    {
      "cell_type": "code",
      "execution_count": null,
      "metadata": {
        "id": "A0IV11T6HnZy"
      },
      "outputs": [],
      "source": [
        "print(\"Hi\"+ \" \"+ \"Hello\")"
      ]
    },
    {
      "cell_type": "code",
      "execution_count": null,
      "metadata": {
        "id": "AeLChSTNHnZy"
      },
      "outputs": [],
      "source": [
        "print(\"Hyderabad\" * 3)  # its prints string multiple times"
      ]
    },
    {
      "cell_type": "code",
      "execution_count": null,
      "metadata": {
        "id": "3pamGXcbHnZz"
      },
      "outputs": [],
      "source": [
        "print(\"I multipy\", 2 * 3 , \"Is the result\") # print multiply with  numbers"
      ]
    },
    {
      "cell_type": "code",
      "source": [
        "name = 'ons'\n",
        "print(f\"Hello, {name} !\") # try without f : he will not consider what in the inside of the {}"
      ],
      "metadata": {
        "id": "NKdE10pkbXgv"
      },
      "execution_count": null,
      "outputs": []
    },
    {
      "cell_type": "markdown",
      "metadata": {
        "id": "fdTLv031HnZz"
      },
      "source": [
        "#### multi lines strings"
      ]
    },
    {
      "cell_type": "code",
      "execution_count": null,
      "metadata": {
        "id": "zoU92AiLHnZz"
      },
      "outputs": [],
      "source": [
        "print('''To get the list of all keywords of Python programmatically, you can use kwlist of keyword library.\n",
        "Following is the quick code snippet to get the list of all keywords.\n",
        "kwlist returns sequence containing all the keywords defined for the interpreter.''')"
      ]
    },
    {
      "cell_type": "markdown",
      "metadata": {
        "id": "WOSHdU55HnZz"
      },
      "source": [
        "### print with space , \\n , \\t"
      ]
    },
    {
      "cell_type": "code",
      "execution_count": null,
      "metadata": {
        "id": "40XbbBjXHnZz"
      },
      "outputs": [],
      "source": [
        "print(\" Hi How are you?\")"
      ]
    },
    {
      "cell_type": "code",
      "execution_count": null,
      "metadata": {
        "id": "3fw59IaYHnZ0"
      },
      "outputs": [],
      "source": [
        "print( \" hi \\nHow are you\")"
      ]
    },
    {
      "cell_type": "code",
      "execution_count": null,
      "metadata": {
        "id": "ASTajqT7HnZ0"
      },
      "outputs": [],
      "source": [
        "print(\"hi\\thiiiiiiiiiii\")"
      ]
    },
    {
      "cell_type": "code",
      "execution_count": null,
      "metadata": {
        "id": "ru62RkdlHnZ0"
      },
      "outputs": [],
      "source": [
        "print('I don't know')"
      ]
    },
    {
      "cell_type": "code",
      "execution_count": null,
      "metadata": {
        "id": "iKjVTNRNHnZ0"
      },
      "outputs": [],
      "source": [
        "print('I don\\'t know')"
      ]
    },
    {
      "cell_type": "code",
      "execution_count": null,
      "metadata": {
        "id": "us4qvDg9HnZ0"
      },
      "outputs": [],
      "source": [
        "print(\"\\\"Hi\\\", He Said\")"
      ]
    },
    {
      "cell_type": "code",
      "execution_count": null,
      "metadata": {
        "id": "V0cEgOYdHnZ0"
      },
      "outputs": [],
      "source": [
        "pi = 3.141592653"
      ]
    },
    {
      "cell_type": "code",
      "execution_count": null,
      "metadata": {
        "id": "CnOdjmVsHnZ1"
      },
      "outputs": [],
      "source": [
        "print(\"I am pi %d\"%(pi)) # %d is place holder for Integer\n",
        "# or\n",
        "print(\"I am pi\",(int(pi)))\n"
      ]
    },
    {
      "cell_type": "code",
      "execution_count": null,
      "metadata": {
        "id": "UaQ8bzqkHnZ1"
      },
      "outputs": [],
      "source": [
        "print(\"I am pi %f\"%(pi)) # %f is place holder for Integers"
      ]
    },
    {
      "cell_type": "code",
      "execution_count": null,
      "metadata": {
        "id": "cVZSuCB1HnZ1"
      },
      "outputs": [],
      "source": [
        "print(\"I am pi %.3f\"%(pi)) # %f is place holder for Integers"
      ]
    },
    {
      "cell_type": "code",
      "execution_count": null,
      "metadata": {
        "id": "LY4bUsoYHnZ1"
      },
      "outputs": [],
      "source": [
        "x = 25\n",
        "y = 2\n",
        "tempScale = 'Celsius'"
      ]
    },
    {
      "cell_type": "code",
      "execution_count": null,
      "metadata": {
        "id": "DMmQ-nvqHnZ1"
      },
      "outputs": [],
      "source": [
        "print(\"The temperature is %.2f %s\"%(x/y, tempScale))"
      ]
    },
    {
      "cell_type": "code",
      "execution_count": null,
      "metadata": {
        "id": "XEqmXd8KHnZ1"
      },
      "outputs": [],
      "source": [
        "a = 5\n",
        "b = 6\n",
        "print(\"I am FIVE {}, I am SIX {}\".format(a,b))"
      ]
    },
    {
      "cell_type": "code",
      "execution_count": null,
      "metadata": {
        "id": "bbQzLkRxHnZ1"
      },
      "outputs": [],
      "source": [
        "print(\"I am pi {}\".format(pi))\n",
        "# or\n",
        "print(f\"I am pi {pi}\")\n",
        "# or\n",
        "print(\"I am pi\",pi)"
      ]
    },
    {
      "cell_type": "code",
      "execution_count": null,
      "metadata": {
        "id": "iXlZUgdLHnZ2"
      },
      "outputs": [],
      "source": [
        "print(\"I am pi {:.3f}\".format(pi))"
      ]
    },
    {
      "cell_type": "markdown",
      "source": [
        "## input()\n",
        "The input() function in Python is used to get input from the user. It allows the user to enter data via the keyboard during the program's execution. By default, input() returns the data as a string."
      ],
      "metadata": {
        "id": "OFo8ZlIha5qy"
      }
    },
    {
      "cell_type": "code",
      "source": [
        "# String input\n",
        "name = input(\"Enter your name: \")\n",
        "print(f\"Hello, {name}!\")"
      ],
      "metadata": {
        "id": "4fzm1bEubLgE"
      },
      "execution_count": null,
      "outputs": []
    },
    {
      "cell_type": "code",
      "source": [
        "# Integer input\n",
        "age = int(input(\"Enter your age: \"))\n",
        "print(f\"You are {age} years old.\")"
      ],
      "metadata": {
        "id": "prPyv9HAbNKH"
      },
      "execution_count": null,
      "outputs": []
    },
    {
      "cell_type": "code",
      "source": [
        "# Float input\n",
        "height = float(input(\"Enter your height in meters: \"))\n",
        "print(f\"Your height is {height} meters.\")"
      ],
      "metadata": {
        "id": "eRZkXXXLbO2L"
      },
      "execution_count": null,
      "outputs": []
    },
    {
      "cell_type": "code",
      "source": [
        "# Boolean input\n",
        "is_student = input(\"Are you a student? (yes/no): \").lower() == \"yes\"\n",
        "print(f\"Student status: {is_student}\")"
      ],
      "metadata": {
        "id": "1EMAsbsLa4uv"
      },
      "execution_count": null,
      "outputs": []
    },
    {
      "cell_type": "markdown",
      "metadata": {
        "id": "dKdgig5yHnZ2"
      },
      "source": [
        "### Variable’s case-sensitive"
      ]
    },
    {
      "cell_type": "markdown",
      "metadata": {
        "id": "qQ8N1RWKHnZ2"
      },
      "source": [
        "Python is a case-sensitive language. If we define a variable with names a = 100 and A =200 then, Python differentiates between a and A. These variables are treated as two different variables (or objects)."
      ]
    },
    {
      "cell_type": "code",
      "execution_count": null,
      "metadata": {
        "id": "tNN59-RmHnZ2"
      },
      "outputs": [],
      "source": [
        "a = 100\n",
        "A = 200\n",
        "\n",
        "# value of a\n",
        "print(a)  # 100\n",
        "# Value of A\n",
        "print(A)  # 200\n",
        "\n",
        "a = a + A\n",
        "print(a)  # 300"
      ]
    },
    {
      "cell_type": "markdown",
      "metadata": {
        "id": "dMy5rs-6HnZ2"
      },
      "source": [
        "### Constant"
      ]
    },
    {
      "cell_type": "markdown",
      "metadata": {
        "id": "jw0aWFq2HnZ2"
      },
      "source": [
        "Constant is a variable or value that does not change, which means it remains the same and cannot be modified. But in the case of Python, **the constant concept is not applicable**. By convention, we can use only uppercase characters to define the constant variable if we don’t want to change it."
      ]
    },
    {
      "cell_type": "code",
      "execution_count": null,
      "metadata": {
        "id": "uVttoFMwHnZ2"
      },
      "outputs": [],
      "source": [
        "MIN_VALUE = 500\n",
        "# It is just convention, but we can change the value of MAX_VALUE variable."
      ]
    },
    {
      "cell_type": "markdown",
      "metadata": {
        "id": "QATkOvQTHnZ3"
      },
      "source": [
        "### Rules and naming convention for variables and constants"
      ]
    },
    {
      "cell_type": "markdown",
      "metadata": {
        "id": "x1wuk79qHnZ3"
      },
      "source": [
        " A name in a Python program is called an identifier. An identifier can be a variable name, class name, function name, and module name.\n",
        "\n",
        "There are some rules to define variables in Python.\n",
        "\n",
        "In Python, there are some conventions and rules to define variables and constants that should follow.\n",
        "\n",
        "* Rule 1: The name of the variable and constant should have a combination of letters, digits, and underscore symbols.\n",
        "\n",
        "Alphabet/letters i.e., lowercase (a to z) or uppercase (A to Z)\n",
        "Digits(0 to 9)\n",
        "Underscore symbol (_)\n"
      ]
    },
    {
      "cell_type": "code",
      "source": [
        "total_addition_1 = 1\n",
        "TOTAL_ADDITION_2 = 2\n",
        "totalAddition_3 = 3\n",
        "Totaladdition_4 = 4\n",
        "print(total_addition_1)\n",
        "print(TOTAL_ADDITION_2)\n",
        "print(totalAddition_3)\n",
        "print(Totaladdition_4)"
      ],
      "metadata": {
        "id": "R-dEOAA0dbkU"
      },
      "execution_count": null,
      "outputs": []
    },
    {
      "cell_type": "markdown",
      "metadata": {
        "id": "ehsvThaGHnZ3"
      },
      "source": [
        " * Rule 2: The variable name and constant name should make sense.\n",
        "\n",
        "Note: we should always create a meaningful variable name so it will be easy to understand. That is, it should be meaningful.\n",
        "\n",
        "\n"
      ]
    },
    {
      "cell_type": "code",
      "source": [
        "x = \"Deepali\"\n",
        "student_name = \"Deepali\"\n",
        "# It above example variable x does not make more sense, but student_name is a meaningful variable."
      ],
      "metadata": {
        "id": "5BdNF6BGdTZa"
      },
      "execution_count": null,
      "outputs": []
    },
    {
      "cell_type": "markdown",
      "metadata": {
        "id": "066L9ZQyHnZ3"
      },
      "source": [
        "* Rule 3: Don’t’ use special symbols in a variable name\n",
        "\n",
        "For declaring variable and constant, we cannot use special symbols like $, #, @, %, !~, etc. If we try to declare names with a special symbol, Python generates an error\n"
      ]
    },
    {
      "cell_type": "code",
      "source": [
        "f!% = 2"
      ],
      "metadata": {
        "id": "WKJ_SteKdIaW"
      },
      "execution_count": null,
      "outputs": []
    },
    {
      "cell_type": "code",
      "source": [
        "var-iable = 1 # because it is similar to the operator -"
      ],
      "metadata": {
        "id": "0BL5Yc37dp8q"
      },
      "execution_count": null,
      "outputs": []
    },
    {
      "cell_type": "code",
      "source": [
        "ca$h = 1000"
      ],
      "metadata": {
        "id": "eDaqtc7ddFn6"
      },
      "execution_count": null,
      "outputs": []
    },
    {
      "cell_type": "markdown",
      "metadata": {
        "id": "11Tnu9yHHnZ3"
      },
      "source": [
        "* Rule 4:  Variable and constant should not start with digit letters.\n",
        "\n",
        "You will receive an error if you start a variable name with a digit. Let’s verify this using a simple example.\n"
      ]
    },
    {
      "cell_type": "code",
      "source": [
        "1studnet = \"Deepali\"\n",
        "print(1studnet)\n",
        "#  Here Python will generate a syntax error at 1studnet. instead of this, you can declare a variable like studnet_1 = \"Deepali\""
      ],
      "metadata": {
        "id": "5RbO4mPFd8EW"
      },
      "execution_count": null,
      "outputs": []
    },
    {
      "cell_type": "markdown",
      "metadata": {
        "id": "PdOnEk1JHnZ3"
      },
      "source": [
        "* Rule 5: Identifiers are case sensitive.\n",
        "\n"
      ]
    },
    {
      "cell_type": "code",
      "execution_count": null,
      "metadata": {
        "id": "nhOGSWKAHnZ3"
      },
      "outputs": [],
      "source": [
        "total = 120\n",
        "Total = 130\n",
        "TOTAL = 150\n",
        "print(total)\n",
        "print(Total)\n",
        "print(TOTAL)"
      ]
    },
    {
      "cell_type": "markdown",
      "metadata": {
        "id": "ZN7yKsuzHnZ4"
      },
      "source": [
        "Here, Python makes a difference between these variables that is uppercase and lowercase, so that it will create three different variables total, Total, TOTAL."
      ]
    },
    {
      "cell_type": "markdown",
      "metadata": {
        "id": "vkWTIbq8HnZ4"
      },
      "source": [
        "* Rule 6: To declare constant should use capital letters.\n",
        "\n"
      ]
    },
    {
      "cell_type": "code",
      "execution_count": null,
      "metadata": {
        "id": "dnY97cn4HnZ4"
      },
      "outputs": [],
      "source": [
        "MIN_VALUE = 100 # par convertion\n",
        "MAX_VALUE = 1000"
      ]
    },
    {
      "cell_type": "markdown",
      "metadata": {
        "id": "7kHQOC0dHnZ4"
      },
      "source": [
        " Use an underscore symbol for separating the words in a variable name\n",
        "\n",
        "If we want to declare variable and constant names having two words, use an underscore symbol for separating the words."
      ]
    },
    {
      "cell_type": "code",
      "execution_count": null,
      "metadata": {
        "id": "5o7MZYYqHnZ4"
      },
      "outputs": [],
      "source": [
        "current_temperature = 24"
      ]
    },
    {
      "cell_type": "markdown",
      "metadata": {
        "id": "r1mBuaKMHnZ5"
      },
      "source": [
        "### Assigning multiple values to multiple variables\n"
      ]
    },
    {
      "cell_type": "code",
      "execution_count": null,
      "metadata": {
        "id": "7oWRskyuHnZ5"
      },
      "outputs": [],
      "source": [
        "roll_no, marks, name = 10, 70, \"Deepali\"\n",
        "print(roll_no, marks, name) # 10 20 Deepali"
      ]
    },
    {
      "cell_type": "markdown",
      "metadata": {
        "id": "cVfjTwtfHnZ5"
      },
      "source": [
        "In the above example, two integer values 10 and 70 are assigned to variables roll_no and marks, respectively, and string literal, “Deepali,” is assigned to the variable name."
      ]
    },
    {
      "cell_type": "markdown",
      "metadata": {
        "id": "wMYJPHDkHnZ5"
      },
      "source": [
        "### Quick Summary to keep in mind:"
      ]
    },
    {
      "cell_type": "markdown",
      "metadata": {
        "id": "0ZLMVHaPHnZ5"
      },
      "source": [
        "Checklist while giving variable names\n",
        " - Allowed values -> alphabets, numbers and underscore (_).\n",
        " - A variable name should start with alphabet or underscore. It can not start with a number.\n",
        " - Variable names are case-sensitive."
      ]
    },
    {
      "cell_type": "markdown",
      "source": [
        "# Exercises"
      ],
      "metadata": {
        "id": "vaWtOX1bYrOM"
      }
    },
    {
      "cell_type": "markdown",
      "source": [
        "\n",
        "Ex 1 :\n",
        "Look at the code in the code editor on the left. There are errors in all of the lines of code. Fix the code so that it runs without errors.\n",
        "\n"
      ],
      "metadata": {
        "id": "EKMm0GDUT57y"
      }
    },
    {
      "cell_type": "code",
      "source": [
        "print(Day 1 - String Manipulation\")\n",
        "\n",
        "print(\"String Concatenation is done with the \"+\" sign.\")\n",
        "\n",
        "  print('e.g. print(\"Hello \" + \"world\")')\n",
        "\n",
        "print((\"New lines can be created with a backslash and n.\")"
      ],
      "metadata": {
        "id": "DRIqUefBT7io"
      },
      "execution_count": null,
      "outputs": []
    },
    {
      "cell_type": "code",
      "source": [],
      "metadata": {
        "id": "23xDevp6V8YN"
      },
      "execution_count": null,
      "outputs": []
    },
    {
      "cell_type": "markdown",
      "source": [
        "Ex 2 : you will be building a program that generates a band name based on the city you grew up in and the name of your pet.\n",
        "To complete the project, you will need to use skills such as printing inputs, variables, new lines, string manipulation, and debugging.\n",
        "Example Output:\n",
        "\n",
        "\n",
        "\n",
        "Create a greeting for your program.\n",
        "\n",
        "Ask the user for the city that they grew up in.\n",
        "\n",
        "Ask the user for the name of a pet.\n",
        "\n",
        "Combine the name of their city and pet and show them their band name.\n",
        "\n",
        "Make sure the input cursor shows on a new line:"
      ],
      "metadata": {
        "id": "Ij0sGdRdUYk2"
      }
    },
    {
      "cell_type": "code",
      "source": [],
      "metadata": {
        "id": "ORK9oypGUYJm"
      },
      "execution_count": null,
      "outputs": []
    },
    {
      "cell_type": "markdown",
      "source": [
        "Ex 3 : Create a program using maths and f-Strings that tells us how many days, weeks, months we have left if we live until 90 years old.\n",
        "It will take your current age as the input and output a message with our time left in this format:\n",
        "\n",
        "\n",
        "\n",
        "You have x days, y weeks, and z months left.\n",
        "\n",
        "Where x, y and z are replaced with the actual calculated numbers.\n",
        "\n",
        "\n",
        "Example Input :\n",
        "56\n",
        "Example Output:\n",
        "You have 12410 days, 1768 weeks, and 408 months left."
      ],
      "metadata": {
        "id": "HnhVywKZUH8b"
      }
    },
    {
      "cell_type": "code",
      "source": [],
      "metadata": {
        "id": "E98jRx43UbZl"
      },
      "execution_count": null,
      "outputs": []
    },
    {
      "cell_type": "markdown",
      "source": [
        "Ex 4 : Write a Python program that takes two numbers as input from the user and prints their sum, difference, product, and quotient."
      ],
      "metadata": {
        "id": "HxUlmGgjYEmk"
      }
    },
    {
      "cell_type": "code",
      "source": [],
      "metadata": {
        "id": "mwLdm4vjYo7W"
      },
      "execution_count": null,
      "outputs": []
    },
    {
      "cell_type": "markdown",
      "source": [
        "Ex 5\n",
        "Write a Python program that takes two variables a and b, swaps their values, and prints the values before and after the swap."
      ],
      "metadata": {
        "id": "013TkeysYlNQ"
      }
    },
    {
      "cell_type": "code",
      "source": [],
      "metadata": {
        "id": "l76dmdI4Ydg2"
      },
      "execution_count": null,
      "outputs": []
    },
    {
      "cell_type": "markdown",
      "source": [
        "Ex 6 : Write a Python program that calculates the area of a rectangle. The user should provide the length and width as inputs, and the program should print the area.\n",
        "\n"
      ],
      "metadata": {
        "id": "7kano95zZBP7"
      }
    },
    {
      "cell_type": "code",
      "source": [],
      "metadata": {
        "id": "5VKb3jTHZAvp"
      },
      "execution_count": null,
      "outputs": []
    }
  ],
  "metadata": {
    "kernelspec": {
      "display_name": "Python 3",
      "language": "python",
      "name": "python3"
    },
    "language_info": {
      "codemirror_mode": {
        "name": "ipython",
        "version": 3
      },
      "file_extension": ".py",
      "mimetype": "text/x-python",
      "name": "python",
      "nbconvert_exporter": "python",
      "pygments_lexer": "ipython3",
      "version": "3.8.3"
    },
    "colab": {
      "provenance": []
    }
  },
  "nbformat": 4,
  "nbformat_minor": 0
}