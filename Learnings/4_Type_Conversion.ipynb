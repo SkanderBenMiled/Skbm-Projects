{
  "cells": [
    {
      "cell_type": "markdown",
      "metadata": {
        "id": "T5r5UOqDgxpO"
      },
      "source": [
        "# Type Conversion"
      ]
    },
    {
      "cell_type": "markdown",
      "source": [
        "| **From / To** | **`int`**                     | **`float`**                   | **`str`**                  | **`list`**                       | **`tuple`**                      | **`set`**                        | **`dict`**                         |\n",
        "|---------------|-------------------------------|------------------------------|---------------------------|----------------------------------|----------------------------------|----------------------------------|------------------------------------|\n",
        "| **`int`**    | `int(x)`                      | `float(x)`                   | `str(x)`                  | `list(str(x))`                   | `tuple(str(x))`                  | `set(str(x))`                    | ❌ Cannot convert directly         |\n",
        "| **`float`**  | `int(x) (truncates decimal)`  | `float(x)`                   | `str(x)`                  | `list(str(x))`                   | `tuple(str(x))`                  | `set(str(x))`                    | ❌ Cannot convert directly         |\n",
        "| **`str`**    | `int(x) (if numeric)`         | `float(x) (if numeric)`      | `str(x)`                  | `list(x)`                        | `tuple(x)`                       | `set(x)`                         | ❌ Cannot convert directly         |\n",
        "| **`list`**   | ❌ Cannot convert directly     | ❌ Cannot convert directly    | `str(x)`                  | `list(x)`                        | `tuple(x)`                       | `set(x)`                         | ❌ Cannot convert directly         |\n",
        "| **`tuple`**  | ❌ Cannot convert directly     | ❌ Cannot convert directly    | `str(x)`                  | `list(x)`                        | `tuple(x)`                       | `set(x)`                         | ❌ Cannot convert directly         |\n",
        "| **`set`**    | ❌ Cannot convert directly     | ❌ Cannot convert directly    | `str(x)`                  | `list(x)`                        | `tuple(x)`                       | `set(x)`                         | ❌ Cannot convert directly         |\n",
        "| **`dict`**   | ❌ Cannot convert directly     | ❌ Cannot convert directly    | `str(x)`                  | `list(x.keys())`                 | `tuple(x.keys())`                | `set(x.keys())`                  | `dict(x)`                         |\n"
      ],
      "metadata": {
        "id": "NbivjBkHs1ug"
      }
    },
    {
      "cell_type": "code",
      "source": [
        "int(5.2)"
      ],
      "metadata": {
        "id": "cug-FWfFjAfS"
      },
      "execution_count": null,
      "outputs": []
    },
    {
      "cell_type": "code",
      "source": [
        "int(5.9)"
      ],
      "metadata": {
        "id": "XiLdiDXsi31z"
      },
      "execution_count": null,
      "outputs": []
    },
    {
      "cell_type": "code",
      "source": [
        "x={'a':1,'b':2}\n",
        "print(list(x.values()))\n",
        "print(list(x.keys()))"
      ],
      "metadata": {
        "id": "YflCdzCakz9x"
      },
      "execution_count": null,
      "outputs": []
    },
    {
      "cell_type": "code",
      "source": [
        "list(str(1))"
      ],
      "metadata": {
        "id": "iXDDQtGTkLz5"
      },
      "execution_count": null,
      "outputs": []
    },
    {
      "cell_type": "markdown",
      "source": [
        " 1. Convert int to Other Types\n"
      ],
      "metadata": {
        "id": "GNJu0esAu8Dh"
      }
    },
    {
      "cell_type": "code",
      "source": [
        "num = 42\n",
        "\n",
        "print(float(num))      # 42.0\n",
        "print(str(num))        # '42'\n",
        "print(list(str(num)))  # ['4', '2']\n",
        "print(tuple(str(num))) # ('4', '2')\n",
        "print(set(str(num)))   # {'4', '2'}"
      ],
      "metadata": {
        "id": "wzGuOwcku3I1"
      },
      "execution_count": null,
      "outputs": []
    },
    {
      "cell_type": "markdown",
      "source": [
        "2. Convert float to Other Types"
      ],
      "metadata": {
        "id": "7K18rFMpvGr5"
      }
    },
    {
      "cell_type": "code",
      "source": [
        "num = 3.14\n",
        "\n",
        "print(int(num))        # 3\n",
        "print(str(num))        # '3.14'\n",
        "print(list(str(num)))  # ['3', '.', '1', '4']\n",
        "print(tuple(str(num))) # ('3', '.', '1', '4')\n",
        "print(set(str(num)))   # {'3', '.', '1', '4'}\n"
      ],
      "metadata": {
        "id": "3qfNXLcsvDoY"
      },
      "execution_count": null,
      "outputs": []
    },
    {
      "cell_type": "markdown",
      "source": [
        "3. Convert str to Other Types"
      ],
      "metadata": {
        "id": "MBiWZNGTvPHA"
      }
    },
    {
      "cell_type": "code",
      "source": [
        "text = \"123\"\n",
        "\n",
        "print(int(text))         # 123\n",
        "print(float(text))       # 123.0\n",
        "print(list(text))        # ['1', '2', '3']\n",
        "print(tuple(text))       # ('1', '2', '3')\n",
        "print(set(text))         # {'1', '2', '3'}\n"
      ],
      "metadata": {
        "id": "eIq8M4BOvDdY"
      },
      "execution_count": null,
      "outputs": []
    },
    {
      "cell_type": "markdown",
      "source": [
        "4. Convert list to Other Types"
      ],
      "metadata": {
        "id": "Kejm4sYvvTOs"
      }
    },
    {
      "cell_type": "code",
      "source": [
        "lst = [1, 2, 3]\n",
        "\n",
        "print(str(lst))          # '[1, 2, 3]'\n",
        "print(tuple(lst))        # (1, 2, 3)\n",
        "print(set(lst))          # {1, 2, 3}"
      ],
      "metadata": {
        "id": "ZeA247OtvDPo"
      },
      "execution_count": null,
      "outputs": []
    },
    {
      "cell_type": "markdown",
      "source": [
        "5. Convert tuple to Other Types\n"
      ],
      "metadata": {
        "id": "E6dgxBa2vZpY"
      }
    },
    {
      "cell_type": "code",
      "source": [
        "tpl = (1, 2, 3)\n",
        "\n",
        "print(str(tpl))          # '(1, 2, 3)'\n",
        "print(list(tpl))         # [1, 2, 3]\n",
        "print(set(tpl))          # {1, 2, 3}\n"
      ],
      "metadata": {
        "id": "az8TysDcvcQm"
      },
      "execution_count": null,
      "outputs": []
    },
    {
      "cell_type": "markdown",
      "source": [
        "6. Convert set to Other Types"
      ],
      "metadata": {
        "id": "GWZXjVxMvfrp"
      }
    },
    {
      "cell_type": "code",
      "source": [
        "s = {1, 2, 3}\n",
        "\n",
        "print(str(s))            # '{1, 2, 3}'\n",
        "print(list(s))           # [1, 2, 3]\n",
        "print(tuple(s))          # (1, 2, 3)\n"
      ],
      "metadata": {
        "id": "i6hRmmZSvhFe"
      },
      "execution_count": null,
      "outputs": []
    },
    {
      "cell_type": "markdown",
      "source": [
        "7. Convert dict to Other Types"
      ],
      "metadata": {
        "id": "VCC-wBEwvpMP"
      }
    },
    {
      "cell_type": "code",
      "source": [
        "d = {\"a\": 1, \"b\": 2}\n",
        "\n",
        "print(str(d))            # \"{'a': 1, 'b': 2}\"\n",
        "print(list(d.keys()))    # ['a', 'b']\n",
        "print(tuple(d.keys()))   # ('a', 'b')\n",
        "print(set(d.keys()))     # {'a', 'b'}"
      ],
      "metadata": {
        "id": "_htaupJVvhuJ"
      },
      "execution_count": null,
      "outputs": []
    }
  ],
  "metadata": {
    "kernelspec": {
      "display_name": "Python 3",
      "language": "python",
      "name": "python3"
    },
    "language_info": {
      "codemirror_mode": {
        "name": "ipython",
        "version": 3
      },
      "file_extension": ".py",
      "mimetype": "text/x-python",
      "name": "python",
      "nbconvert_exporter": "python",
      "pygments_lexer": "ipython3",
      "version": "3.8.3"
    },
    "colab": {
      "provenance": []
    }
  },
  "nbformat": 4,
  "nbformat_minor": 0
}