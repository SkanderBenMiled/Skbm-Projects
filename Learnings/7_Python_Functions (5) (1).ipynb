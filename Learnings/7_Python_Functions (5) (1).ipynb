{
  "cells": [
    {
      "cell_type": "markdown",
      "metadata": {
        "id": "XxmItSw6c8Vv"
      },
      "source": [
        "#  What is Function ?"
      ]
    },
    {
      "cell_type": "markdown",
      "metadata": {
        "id": "dmHEmj2vc8Vw"
      },
      "source": [
        "A function is a block of code that only runs when it is called. Python functions return a value using a return statement, if one is specified. A function can be called anywhere after the function has been declared.\n",
        "\n",
        "By itself, a function does nothing. But, when you need to use a function, you can call it, and the code within the function will be executed.\n",
        "\n",
        "As our program grows larger and larger, functions make it more organized and manageable.Furthermore, it avoids repetition and makes the code reusable.\n",
        "\n",
        "**So**,\n",
        "Python function is a sequence of statements that execute in a certain order, we associate a name with it. This lets us reuse code.\n",
        "\n",
        "We define a function using the ‘def’ keyword."
      ]
    },
    {
      "cell_type": "markdown",
      "metadata": {
        "id": "5XlLRMDEc8Vx"
      },
      "source": [
        "## How to Define a Python Function?"
      ]
    },
    {
      "cell_type": "markdown",
      "metadata": {
        "id": "yjBtk5sec8Vy"
      },
      "source": [
        "**Syntax of Function**"
      ]
    },
    {
      "cell_type": "code",
      "source": [
        "int=3"
      ],
      "metadata": {
        "id": "4W3ZqWLcA_Uo"
      },
      "execution_count": null,
      "outputs": []
    },
    {
      "cell_type": "code",
      "source": [
        "print(int)"
      ],
      "metadata": {
        "id": "tVKoeIgHBBjd"
      },
      "execution_count": null,
      "outputs": []
    },
    {
      "cell_type": "code",
      "execution_count": null,
      "metadata": {
        "id": "Tgv8sXA-c8Vy"
      },
      "outputs": [],
      "source": [
        "def function_name(parameters):\n",
        "    \"\"\"docstring\"\"\"\n",
        "    # statement(s)"
      ]
    },
    {
      "cell_type": "code",
      "source": [
        "# You can't assign data to python keywords !!\n",
        "\n",
        "True = 1"
      ],
      "metadata": {
        "id": "R6OaFFPJOeic"
      },
      "execution_count": null,
      "outputs": []
    },
    {
      "cell_type": "markdown",
      "metadata": {
        "id": "7oeBYW4rc8Vz"
      },
      "source": [
        "Above shown is a function definition that consists of the following components.\n",
        "\n",
        "1. Keyword `def` that marks the start of the function header.\n",
        "2. A function name to uniquely identify the function. Function naming follows the same rules of writing identifiers in Python.\n",
        "3. Parameters (arguments) through which we pass values to a function. They are optional.\n",
        "4. A colon `(:)` to mark the end of the function header.\n",
        "5. Optional documentation string (docstring) to describe what the function does.\n",
        "6. One or more valid python statements that make up the function body. Statements must have the same indentation level (usually 4 spaces).\n",
        "7. An optional `return` statement to return a value from the function."
      ]
    },
    {
      "cell_type": "code",
      "execution_count": null,
      "metadata": {
        "id": "_lSgiK86c8V0"
      },
      "outputs": [],
      "source": [
        "def print_monday():\n",
        "    print(\"It's Monday!\")  # nothing printed !!! why ??"
      ]
    },
    {
      "cell_type": "code",
      "execution_count": null,
      "metadata": {
        "id": "2ht-MVYFc8V1"
      },
      "outputs": [],
      "source": [
        "def print_monday():\n",
        "    print(\"It's Monday!\")\n",
        "\n",
        "print_monday() # we have to call the function by it's names and ()"
      ]
    },
    {
      "cell_type": "markdown",
      "metadata": {
        "id": "Har1uJ5Pc8V3"
      },
      "source": [
        "## Docstrings\n",
        "\n",
        "The first string after the function header is called the docstring and is short for documentation string. It is briefly used to explain what a function does.\n",
        "\n",
        "Although optional, documentation is a good programming practice. Unless you can remember what you had for dinner last week, always document your code.\n",
        "\n",
        "In the above image, we have a docstring immediately below the function header. We generally use triple quotes so that docstring can extend up to multiple lines. This string is available to us as the __doc__ attribute of the function."
      ]
    },
    {
      "cell_type": "code",
      "execution_count": null,
      "metadata": {
        "id": "hxx1fW9ec8V3"
      },
      "outputs": [],
      "source": [
        "def greet(name):\n",
        "    \"\"\"\n",
        "    This function greets to\n",
        "    the person passed in as\n",
        "    a parameter\n",
        "    \"\"\"\n",
        "    print(\"Hello, \" + name + \". Good morning!\")"
      ]
    },
    {
      "cell_type": "code",
      "source": [
        "print(greet('hanen'))"
      ],
      "metadata": {
        "id": "MehxiY0RDVk7"
      },
      "execution_count": null,
      "outputs": []
    },
    {
      "cell_type": "code",
      "execution_count": null,
      "metadata": {
        "id": "LPTouLPFc8V3"
      },
      "outputs": [],
      "source": [
        "print(greet.__doc__)"
      ]
    },
    {
      "cell_type": "code",
      "source": [
        "greet('Paul')"
      ],
      "metadata": {
        "id": "8J-8iX1jfZH4"
      },
      "execution_count": null,
      "outputs": []
    },
    {
      "cell_type": "code",
      "source": [
        "name = 'Ali'\n",
        "greet(name)"
      ],
      "metadata": {
        "id": "cb_SZbVDQHv_"
      },
      "execution_count": null,
      "outputs": []
    },
    {
      "cell_type": "code",
      "source": [
        "n = 'John'\n",
        "greet(n)"
      ],
      "metadata": {
        "id": "ZtP-VR0KfbKD"
      },
      "execution_count": null,
      "outputs": []
    },
    {
      "cell_type": "markdown",
      "metadata": {
        "id": "2ZCdzGsVc8V4"
      },
      "source": [
        "## The return statement\n",
        "In a function, we use the return statement at the end of the function and it helps us to return the result of the function. This statement terminates the function execution and transfers the result where the function is called.\n",
        "\n",
        "Note that we cannot use the return statement outside of the function."
      ]
    },
    {
      "cell_type": "markdown",
      "metadata": {
        "id": "_3Fz_R2Sc8V4"
      },
      "source": [
        "It can contain the expression which gets evaluated and the value is returned to the caller function. If the return statement has no expression or does not exist itself in the function then it returns the **None** object.\n",
        "\n",
        "Consider the following example:\n",
        "\n",
        "Example 1: Creating Function with Return Statement"
      ]
    },
    {
      "cell_type": "code",
      "execution_count": null,
      "metadata": {
        "id": "yljQcMOfc8V4"
      },
      "outputs": [],
      "source": [
        "# defining Function\n",
        "\n",
        "def sum():\n",
        "    a = 20\n",
        "    b = 40\n",
        "    c = a+b\n",
        "    # print(a)\n",
        "    return c\n",
        "    print(b)\n",
        "      # the function return int, you can store it into a variable or print it !"
      ]
    },
    {
      "cell_type": "code",
      "source": [
        "sum()"
      ],
      "metadata": {
        "id": "pPsIRGN8f8sh"
      },
      "execution_count": null,
      "outputs": []
    },
    {
      "cell_type": "code",
      "source": [
        "s=sum()\n",
        "print(s)"
      ],
      "metadata": {
        "id": "VuKC0VUEf0qC"
      },
      "execution_count": null,
      "outputs": []
    },
    {
      "cell_type": "code",
      "source": [
        "# calling sum() function in print statement\n",
        "print(\"The sum is given by:\",sum())"
      ],
      "metadata": {
        "id": "t5XJv8YLYuEi"
      },
      "execution_count": null,
      "outputs": []
    },
    {
      "cell_type": "markdown",
      "metadata": {
        "id": "1-EZ6Y29c8V5"
      },
      "source": [
        "In the above code, we have defined the function named sum, and it has a statement c = a+b, which computes the given values, and the result is returned by the return statement to the caller function."
      ]
    },
    {
      "cell_type": "markdown",
      "metadata": {
        "id": "5au2EvmZc8V5"
      },
      "source": [
        "Example 2: Creating function without return statement"
      ]
    },
    {
      "cell_type": "code",
      "execution_count": null,
      "metadata": {
        "id": "VdcrwTLpc8V5"
      },
      "outputs": [],
      "source": [
        "def sum():\n",
        "    a = 20\n",
        "    b = 40\n",
        "    c = a+b\n",
        "    print(a,b,c)"
      ]
    },
    {
      "cell_type": "code",
      "source": [
        "sum()"
      ],
      "metadata": {
        "id": "CmYigX06ZQQ_"
      },
      "execution_count": null,
      "outputs": []
    },
    {
      "cell_type": "code",
      "source": [
        "s=sum()"
      ],
      "metadata": {
        "id": "m3o0MbobRWyT"
      },
      "execution_count": null,
      "outputs": []
    },
    {
      "cell_type": "code",
      "source": [
        "print(s)"
      ],
      "metadata": {
        "id": "1TlywKciRbwy"
      },
      "execution_count": null,
      "outputs": []
    },
    {
      "cell_type": "code",
      "source": [
        "# calling sum() function in print statment\n",
        "print(sum())"
      ],
      "metadata": {
        "id": "rc0A6JYPZLeV"
      },
      "execution_count": null,
      "outputs": []
    },
    {
      "cell_type": "markdown",
      "metadata": {
        "id": "TJ87YigYc8V5"
      },
      "source": [
        "In the above code, we have defined the same function but this time we use it without the return statement and we have observed that the sum() function returned the None object to the caller function."
      ]
    },
    {
      "cell_type": "markdown",
      "metadata": {
        "id": "1Qk_L8G0c8V5"
      },
      "source": [
        "Example 3:"
      ]
    },
    {
      "cell_type": "code",
      "execution_count": null,
      "metadata": {
        "id": "M7hD26lsc8V5"
      },
      "outputs": [],
      "source": [
        "def absolute_value(num = 1):\n",
        "    \"\"\"This function returns the absolute\n",
        "    value of the entered number\"\"\"\n",
        "    if num >= 0:\n",
        "        return num\n",
        "    else:\n",
        "        return -num\n",
        "\n",
        "\n",
        "print(absolute_value(2))\n",
        "print(absolute_value(-4))"
      ]
    },
    {
      "cell_type": "code",
      "source": [
        "# var = 3\n",
        "absolute_value()"
      ],
      "metadata": {
        "id": "XS6TdmARKZzi"
      },
      "execution_count": null,
      "outputs": []
    },
    {
      "cell_type": "markdown",
      "source": [
        "### We all know the **len** pre-built function !!"
      ],
      "metadata": {
        "id": "F4QQcGzecn6a"
      }
    },
    {
      "cell_type": "code",
      "source": [
        "a = [1,2,3,4]\n",
        "len(a)"
      ],
      "metadata": {
        "id": "A3wOvuOAgcAa"
      },
      "execution_count": null,
      "outputs": []
    },
    {
      "cell_type": "code",
      "source": [
        "l=[]\n",
        "len(l)"
      ],
      "metadata": {
        "id": "H4hTJWhcLdtw"
      },
      "execution_count": null,
      "outputs": []
    },
    {
      "cell_type": "code",
      "source": [
        "def length(liste):\n",
        "    s = 0\n",
        "    for i in liste:\n",
        "        s+=1 # s= s+1\n",
        "    return(s)\n",
        "##################\n"
      ],
      "metadata": {
        "id": "PTokm-LMgTME"
      },
      "execution_count": null,
      "outputs": []
    },
    {
      "cell_type": "code",
      "source": [
        "length(a)"
      ],
      "metadata": {
        "id": "xchgkmXLGHm9"
      },
      "execution_count": null,
      "outputs": []
    },
    {
      "cell_type": "code",
      "source": [
        "print(length(a))"
      ],
      "metadata": {
        "id": "2QebqxxsGEk8"
      },
      "execution_count": null,
      "outputs": []
    },
    {
      "cell_type": "markdown",
      "metadata": {
        "id": "UZhY9w_qc8V6"
      },
      "source": [
        "## Types of Functions\n",
        "Basically, we can divide functions into the following two types:\n",
        "\n",
        "1. Built-in functions - Functions that are built into Python.\n",
        "2. User-defined functions - Functions defined by the users themselves."
      ]
    },
    {
      "cell_type": "markdown",
      "metadata": {
        "id": "-6qUNqxxc8V6"
      },
      "source": [
        "### 1. Built-in functions"
      ]
    },
    {
      "cell_type": "markdown",
      "metadata": {
        "id": "nDzq--Pvc8V6"
      },
      "source": [
        "Python has several functions that are readily available for use. These functions are called built-in functions."
      ]
    },
    {
      "cell_type": "code",
      "source": [
        "print(\"hello,\",1)"
      ],
      "metadata": {
        "id": "SMD1KsbkHBLs"
      },
      "execution_count": null,
      "outputs": []
    },
    {
      "cell_type": "code",
      "source": [
        "# help(int)"
      ],
      "metadata": {
        "id": "i62S23OyHTdR"
      },
      "execution_count": null,
      "outputs": []
    },
    {
      "cell_type": "code",
      "source": [
        "bool(None)"
      ],
      "metadata": {
        "id": "LwSlqSfwGRV8"
      },
      "execution_count": null,
      "outputs": []
    },
    {
      "cell_type": "markdown",
      "metadata": {
        "id": "dnuOV8mGc8V6"
      },
      "source": [
        "|Function | Description|\n",
        "|:---------|:----------|\n",
        "|abs()\t|Returns the absolute value of a number\n",
        "bool()\t|Returns the boolean value of the specified object\n",
        "complex()\t|Returns a complex number\n",
        "dict()\t|Returns a dictionary (Array)\n",
        "divmod()\t|Returns the quotient and the remainder when argument1 is divided by argument2\n",
        "enumerate()|\tTakes a collection (e.g. a tuple) and returns it as an enumerate object\n",
        "filter()|\tUse a filter function to exclude items in an iterable object\n",
        "float()\t|Returns a floating point number\n",
        "format()|\tFormats a specified value\n",
        "help()\t|Executes the built-in help system\n",
        "input()\t|Allowing user input\n",
        "int()\t|Returns an integer number\n",
        "len()\t|Returns the length of an object\n",
        "list()\t|Returns a list\n",
        "map()\t|Returns the specified iterator with the specified function applied to each item\n",
        "max()\t|Returns the largest item in an iterable\n",
        "min()\t|Returns the smallest item in an iterable\n",
        "open()\t|Opens a file and returns a file object\n",
        "pow()\t|Returns the value of x to the power of y\n",
        "print()\t|Prints to the standard output device\n",
        "range()\t|Returns a sequence of numbers, starting from 0 and increments by 1 (by default)\n",
        "repr()\t|Returns a readable version of an object\n",
        "reversed()|\tReturns a reversed iterator\n",
        "round()\t|Rounds a numbers\n",
        "set()\t|Returns a new set object\n",
        "slice()\t|Returns a slice object\n",
        "sorted()\t|Returns a sorted list\n",
        "str()\t|Returns a string object\n",
        "sum()\t|Sums the items of an iterator\n",
        "super()\t|Returns an object that represents the parent class\n",
        "tuple()\t|Returns a tuple\n",
        "type()|\tReturns the type of an object\n",
        "zip()\t|Returns an iterator, from two or more iterators"
      ]
    },
    {
      "cell_type": "markdown",
      "metadata": {
        "id": "qT4-OPALc8V7"
      },
      "source": [
        "### 2. User defined Functions"
      ]
    },
    {
      "cell_type": "markdown",
      "metadata": {
        "id": "uKCxhDFJc8V8"
      },
      "source": [
        "#### Example of a user-defined function\n"
      ]
    },
    {
      "cell_type": "code",
      "execution_count": null,
      "metadata": {
        "id": "P8K8a4Hjc8V8"
      },
      "outputs": [],
      "source": [
        "# Program to demonstrate the\n",
        "# use of user defined functions\n",
        "\n",
        "def sum(a,b):\n",
        "    total = a + b\n",
        "    return total\n",
        "\n",
        "x = 10\n",
        "y = 20\n",
        "\n",
        "print(\"The sum of\",x,\"and\",y,\"is:\",sum(x, y))"
      ]
    },
    {
      "cell_type": "code",
      "source": [
        "sum()"
      ],
      "metadata": {
        "id": "bUhNWqfLSRJk"
      },
      "execution_count": null,
      "outputs": []
    },
    {
      "cell_type": "code",
      "source": [
        "sum(1)"
      ],
      "metadata": {
        "id": "CSBTnY8_SWHT"
      },
      "execution_count": null,
      "outputs": []
    },
    {
      "cell_type": "markdown",
      "metadata": {
        "id": "pfLd-iF_c8WC"
      },
      "source": [
        "## Python Function Arguments\n"
      ]
    },
    {
      "cell_type": "markdown",
      "metadata": {
        "id": "fBa2fTeMc8WD"
      },
      "source": [
        "#### Types of Python Function Arguments"
      ]
    },
    {
      "cell_type": "markdown",
      "metadata": {
        "id": "_MCct7thc8WD"
      },
      "source": [
        "### 1. Default Argument in Python\n",
        "Python Program arguments can have default values. We assign a default value to an argument using the assignment operator in python(=).\n",
        "\n",
        "When we call a function without a value for an argument, its default value (as mentioned) is used."
      ]
    },
    {
      "cell_type": "code",
      "execution_count": null,
      "metadata": {
        "id": "uxO0gLTRc8WD"
      },
      "outputs": [],
      "source": [
        "def greeting(name='User'):\n",
        "    print(f\"Hello, {name}\")"
      ]
    },
    {
      "cell_type": "code",
      "source": [
        "greeting('John')"
      ],
      "metadata": {
        "id": "vLH4A3rkdqLk"
      },
      "execution_count": null,
      "outputs": []
    },
    {
      "cell_type": "code",
      "execution_count": null,
      "metadata": {
        "id": "h03p5LJhc8WD"
      },
      "outputs": [],
      "source": [
        "greeting()"
      ]
    },
    {
      "cell_type": "markdown",
      "metadata": {
        "id": "4xSr8gTQc8WD"
      },
      "source": [
        "Here, when we call greeting() without an argument, the name takes on its default value- ‘User’."
      ]
    },
    {
      "cell_type": "code",
      "execution_count": null,
      "metadata": {
        "id": "aUS7n5LYc8WD"
      },
      "outputs": [],
      "source": [
        "def sum(a=1,b):\n",
        "    return a+b"
      ]
    },
    {
      "cell_type": "code",
      "source": [
        "def sum(b,a=1):\n",
        "    return a+b"
      ],
      "metadata": {
        "id": "mXc4y0WOdyur"
      },
      "execution_count": null,
      "outputs": []
    },
    {
      "cell_type": "code",
      "source": [
        "sum(2,3)"
      ],
      "metadata": {
        "id": "OSRFBAYxd2-N"
      },
      "execution_count": null,
      "outputs": []
    },
    {
      "cell_type": "code",
      "source": [
        "sum(1)"
      ],
      "metadata": {
        "id": "_zBdhAQid5g8"
      },
      "execution_count": null,
      "outputs": []
    },
    {
      "cell_type": "markdown",
      "metadata": {
        "id": "509-V7syc8WE"
      },
      "source": [
        "### 2. Python Keyword Arguments\n",
        "With keyword arguments in python, we can change the order of passing the arguments without any consequences."
      ]
    },
    {
      "cell_type": "code",
      "execution_count": null,
      "metadata": {
        "id": "rzL4ZSjGc8WE"
      },
      "outputs": [],
      "source": [
        "def divide(a,b):\n",
        "    print(a)\n",
        "    print(b)\n",
        "    return a/b"
      ]
    },
    {
      "cell_type": "code",
      "source": [
        "divide(7,2)"
      ],
      "metadata": {
        "id": "e_ecIfZ_eXhq"
      },
      "execution_count": null,
      "outputs": []
    },
    {
      "cell_type": "markdown",
      "metadata": {
        "id": "srUR8pKRc8WE"
      },
      "source": [
        "We can call this function with arguments in any order, as long as we specify which value goes into what."
      ]
    },
    {
      "cell_type": "code",
      "execution_count": null,
      "metadata": {
        "id": "BucOiPPPc8WE"
      },
      "outputs": [],
      "source": [
        "divide(a=1,b=2)"
      ]
    },
    {
      "cell_type": "code",
      "execution_count": null,
      "metadata": {
        "id": "1m9VqxJoc8WE"
      },
      "outputs": [],
      "source": [
        "divide(b=2,a=1)"
      ]
    },
    {
      "cell_type": "markdown",
      "metadata": {
        "id": "h9NWa-ryc8WE"
      },
      "source": [
        "As you can see, both give us the same thing. These are keyword python function arguments.\n",
        "\n",
        "But if you try to put a positional argument after a keyword argument, it will throw Python exception of SyntaxError."
      ]
    },
    {
      "cell_type": "code",
      "source": [
        "divide(1,b=2)"
      ],
      "metadata": {
        "id": "xs_WA6eBezeK"
      },
      "execution_count": null,
      "outputs": []
    },
    {
      "cell_type": "code",
      "execution_count": null,
      "metadata": {
        "id": "1SgwRWzDc8WF"
      },
      "outputs": [],
      "source": [
        "divide(a=2,1)"
      ]
    },
    {
      "cell_type": "markdown",
      "metadata": {
        "id": "BvAXSNejc8WF"
      },
      "source": [
        "### 3. Python Arbitrary Arguments\n",
        "You may not always know how many arguments you’ll get. In that case, you use an asterisk(*) before an argument name."
      ]
    },
    {
      "cell_type": "code",
      "execution_count": null,
      "metadata": {
        "id": "5U4X3i5oc8WF"
      },
      "outputs": [],
      "source": [
        "def sayhello(*names):\n",
        "    # names=list(names)\n",
        "    # print(names)\n",
        "    # print(names)\n",
        "    for name in list(names):\n",
        "        print(f\"Hello, {name}\")"
      ]
    },
    {
      "cell_type": "markdown",
      "metadata": {
        "id": "fK8HEN-oc8WF"
      },
      "source": [
        "And then when you call the function with a number of arguments, they get wrapped into a Python tuple.\n",
        "\n",
        "We iterate over them using the for loop in python."
      ]
    },
    {
      "cell_type": "code",
      "execution_count": null,
      "metadata": {
        "id": "1rl1BgFXc8WF"
      },
      "outputs": [],
      "source": [
        "sayhello('Deepali','Neelam','Harsh')"
      ]
    },
    {
      "cell_type": "markdown",
      "metadata": {
        "id": "KZ3gNp19c8WG"
      },
      "source": [
        "#### A Note: Parameters vs. Arguments\n",
        "The terms parameter and argument refer to the same thing: passing information to a function. But, there is a subtle difference between the two.\n",
        "\n",
        "A parameter is the variable inside the parenthesis in a function. An argument is the value that is passed to a function when it is called. So, in our last example, “a” and “b” are parameters, and 7 and 2 are arguments."
      ]
    },
    {
      "cell_type": "markdown",
      "metadata": {
        "id": "Q7t0VbL-c8WG"
      },
      "source": [
        "##### Python Function to find the sum of two variables:\n",
        "\n"
      ]
    },
    {
      "cell_type": "code",
      "source": [
        "num1 = float(input(\"Enter value of num1 : \"))\n"
      ],
      "metadata": {
        "id": "E7TeBV_pP8dZ"
      },
      "execution_count": null,
      "outputs": []
    },
    {
      "cell_type": "code",
      "source": [
        "del int"
      ],
      "metadata": {
        "id": "7heBOIlzQLhH"
      },
      "execution_count": null,
      "outputs": []
    },
    {
      "cell_type": "code",
      "execution_count": null,
      "metadata": {
        "id": "coDxNi76c8WG"
      },
      "outputs": [],
      "source": [
        "# defining a function with sum of two variables\n",
        "\n",
        "def sum(num1,num2):\n",
        "    return num1 + num2\n",
        "\n",
        "# taking value from a user as an input\n",
        "\n",
        "num1 = int(input(\"Enter value of num1 : \"))\n",
        "num2 = int(input(\"Enter value of num2 : \"))\n",
        "\n",
        "# calculating and printing sum of num1 and num2\n",
        "\n",
        "print(\"Sum = \",sum(num1,num2))"
      ]
    },
    {
      "cell_type": "markdown",
      "source": [
        "2### Pass"
      ],
      "metadata": {
        "id": "QmrajTHm51G9"
      }
    },
    {
      "cell_type": "markdown",
      "source": [
        "The `pass` statement in Python is a placeholder that does nothing. It's used when you need to define a function, class, or block of code that you intend to implement later but don't want to leave it empty (which would cause a syntax error).\n"
      ],
      "metadata": {
        "id": "qKvkrSeE55GP"
      }
    },
    {
      "cell_type": "code",
      "source": [
        "def my_function():\n",
        "    pass  # Placeholder, does nothing"
      ],
      "metadata": {
        "id": "Xt4r4HT06BDV"
      },
      "execution_count": null,
      "outputs": []
    },
    {
      "cell_type": "code",
      "source": [
        "def my_function():\n",
        "\n",
        "x= 1"
      ],
      "metadata": {
        "id": "gnmmamFl6FxF"
      },
      "execution_count": null,
      "outputs": []
    },
    {
      "cell_type": "code",
      "source": [
        "def my_function():\n",
        "    pass  # Placeholder, does nothing"
      ],
      "metadata": {
        "id": "MKTnCKW66C0o"
      },
      "execution_count": null,
      "outputs": []
    },
    {
      "cell_type": "code",
      "source": [
        "# To create an empty class, loop, or conditional statement.\n",
        "if True:\n",
        "    pass  # Do nothing"
      ],
      "metadata": {
        "id": "EJioXmTZ50nw"
      },
      "execution_count": null,
      "outputs": []
    },
    {
      "cell_type": "code",
      "source": [
        "if True:\n"
      ],
      "metadata": {
        "id": "lgr0OZx46uob"
      },
      "execution_count": null,
      "outputs": []
    },
    {
      "cell_type": "markdown",
      "source": [
        "When Python encounters `pass`, it simply skips it and moves on to the next statement. It doesn’t produce any output or perform any operation."
      ],
      "metadata": {
        "id": "peVLXWEL6aP4"
      }
    },
    {
      "cell_type": "markdown",
      "metadata": {
        "id": "eWiibIJcc8WP"
      },
      "source": [
        "#  Global , Local variables"
      ]
    },
    {
      "cell_type": "markdown",
      "metadata": {
        "id": "Cn7yg-lqc8WP"
      },
      "source": [
        "In Python, a variable declared outside of the function or in global scope is known as a global variable. This means that a global variable can be accessed inside or outside of the function.\n",
        "\n",
        "Let's see an example of how a global variable is created in Python.\n",
        "\n",
        "### Example 1: Create a Global Variable\n"
      ]
    },
    {
      "cell_type": "code",
      "source": [
        "x = \"global\"\n",
        "for i in range(3):\n",
        "      x = \"oumaima\"\n",
        "      print(\"x inside:\", x)"
      ],
      "metadata": {
        "id": "mzRPFDsFOE71"
      },
      "execution_count": null,
      "outputs": []
    },
    {
      "cell_type": "code",
      "execution_count": null,
      "metadata": {
        "id": "gV7I_bobc8WP"
      },
      "outputs": [],
      "source": [
        "x = \"global\"\n",
        "\n",
        "def foo():\n",
        "    print(\"x inside:\", x)\n",
        "\n",
        "\n",
        "\n",
        "foo()\n",
        "# print(\"x outside:\", x)"
      ]
    },
    {
      "cell_type": "markdown",
      "metadata": {
        "id": "_MF30wJpc8WP"
      },
      "source": [
        "In the above code, we created x as a global variable and defined a foo() to print the global variable x. Finally, we call the foo() which will print the value of x.\n",
        "\n",
        "What if you want to change the value of x inside a function?"
      ]
    },
    {
      "cell_type": "code",
      "execution_count": null,
      "metadata": {
        "id": "e5Xh7Stnc8WP"
      },
      "outputs": [],
      "source": [
        "x = \"serine\"\n",
        "\n",
        "def foo():\n",
        "    x = x * 2\n",
        "    print(x)\n",
        "\n",
        "foo()"
      ]
    },
    {
      "cell_type": "code",
      "source": [
        "del y"
      ],
      "metadata": {
        "id": "AUzx28wERV7n"
      },
      "execution_count": null,
      "outputs": []
    },
    {
      "cell_type": "code",
      "source": [
        "x = \"global\"\n",
        "\n",
        "def foo():\n",
        "    y=x\n",
        "    y = y * 2\n",
        "    print(y)\n",
        "    print(x)\n",
        "\n",
        "foo()\n",
        "print(x)\n",
        "# print(y)"
      ],
      "metadata": {
        "id": "n2bZZ4gJjwyE"
      },
      "execution_count": null,
      "outputs": []
    },
    {
      "cell_type": "code",
      "source": [
        "x = \"serine\"\n",
        "\n",
        "def foo():\n",
        "    global x\n",
        "    x = x * 2\n",
        "    print(x)\n",
        "\n",
        "foo()\n",
        "print(x)"
      ],
      "metadata": {
        "id": "z7M-1hoGV3RQ"
      },
      "execution_count": null,
      "outputs": []
    },
    {
      "cell_type": "markdown",
      "metadata": {
        "id": "3fwxv9rqc8WQ"
      },
      "source": [
        "The output shows an error because Python treats x as a local variable and x is also not defined inside foo().\n",
        "\n",
        "To make this work, we use the global keyword"
      ]
    },
    {
      "cell_type": "markdown",
      "metadata": {
        "id": "J1ILQ-2Tc8WQ"
      },
      "source": [
        "### What is the global keyword\n",
        "In Python, global keyword allows you to modify the variable outside of the current scope. It is used to create a global variable and make changes to the variable in a local context.\n",
        "\n",
        "**Rules of global Keyword**<br>\n",
        "The basic rules for global keyword in Python are:\n",
        "\n",
        "1. When we create a variable inside a function, it is local by default.\n",
        "2. When we define a variable outside of a function, it is `global` by default. You don't have to use `global keyword`.\n",
        "3. We use `global keyword` to read and write a `global variable` inside a function.\n",
        "4. Use of `global keyword` outside a function has no effect.\n",
        "\n",
        "#### Use of global Keyword"
      ]
    },
    {
      "cell_type": "markdown",
      "metadata": {
        "id": "-sl2hDCkc8WQ"
      },
      "source": [
        "##### Example 1: Accessing global Variable From Inside a Function\n"
      ]
    },
    {
      "cell_type": "code",
      "execution_count": null,
      "metadata": {
        "id": "n863qSi6c8WQ"
      },
      "outputs": [],
      "source": [
        "a = 1 # global variable\n",
        "\n",
        "def add():\n",
        "    print(a)\n",
        "\n",
        "add()"
      ]
    },
    {
      "cell_type": "markdown",
      "metadata": {
        "id": "ibewuBfPc8WQ"
      },
      "source": [
        "However, we may have some scenarios where we need to modify the global variable from inside a function.\n",
        "\n"
      ]
    },
    {
      "cell_type": "markdown",
      "metadata": {
        "id": "yxjqtI8Lc8WR"
      },
      "source": [
        "##### Example 2: Modifying Global Variable From Inside the Function\n"
      ]
    },
    {
      "cell_type": "code",
      "execution_count": null,
      "metadata": {
        "id": "_toZMFnWc8WR"
      },
      "outputs": [],
      "source": [
        "a = 1\n",
        "\n",
        "def add():\n",
        "    global a\n",
        "    a = a+2 # increment a by 2\n",
        "    print(a)\n",
        "\n",
        "add()"
      ]
    },
    {
      "cell_type": "markdown",
      "metadata": {
        "id": "Y0XuUyXhc8WR"
      },
      "source": [
        "This is because we can only access the global variable but cannot modify it from inside the function.\n",
        "\n",
        "The solution for this is to use the global keyword.\n",
        "\n",
        "##### Example 3: Changing Global Variable From Inside a Function using global\n"
      ]
    },
    {
      "cell_type": "code",
      "execution_count": null,
      "metadata": {
        "id": "dZvuEXmcc8WR"
      },
      "outputs": [],
      "source": [
        "c = 0 # global variable\n",
        "\n",
        "def add():\n",
        "    global c\n",
        "    c = c + 2 # increment by 2\n",
        "    print(\"Inside add():\", c)\n",
        "\n",
        "add()\n",
        "print(\"In main:\", c)"
      ]
    },
    {
      "cell_type": "markdown",
      "metadata": {
        "id": "tZP4zs_Uc8WR"
      },
      "source": [
        "In the above program, we define c as a global keyword inside the add() function.\n",
        "\n",
        "Then, we increment the variable c by 1, i.e c = c + 2. After that, we call the add() function. Finally, we print the global variable c.\n",
        "\n",
        "As we can see, change also occurred on the global variable outside the function, c = 2."
      ]
    },
    {
      "cell_type": "markdown",
      "metadata": {
        "id": "15d_8Capc8WS"
      },
      "source": [
        "###  Local Variables"
      ]
    },
    {
      "cell_type": "markdown",
      "metadata": {
        "id": "GnFY8Kjhc8WS"
      },
      "source": [
        "A variable declared inside the function's body or in the local scope is known as a local variable.\n",
        "\n",
        "Example : Accessing local variable outside the scope"
      ]
    },
    {
      "cell_type": "code",
      "source": [
        "del s"
      ],
      "metadata": {
        "id": "9pa9EgAzlGnG"
      },
      "execution_count": null,
      "outputs": []
    },
    {
      "cell_type": "code",
      "execution_count": null,
      "metadata": {
        "id": "oITKJodtc8WS"
      },
      "outputs": [],
      "source": [
        "def foo():\n",
        "    # global s\n",
        "    s = \"Local\"\n",
        "foo()\n",
        "print(s) # s is a local variable, so you can't access it"
      ]
    },
    {
      "cell_type": "markdown",
      "metadata": {
        "id": "KW_57wGJc8WS"
      },
      "source": [
        "The output shows an error because we are trying to access a local variable y in a global scope whereas the local variable only works inside foo() or local scope.\n",
        "\n"
      ]
    },
    {
      "cell_type": "markdown",
      "metadata": {
        "id": "7BpltJpxc8WT"
      },
      "source": [
        "##### Example : Create a Local Variable\n",
        "Normally, we declare a variable inside the function to create a local variable.\n",
        "\n"
      ]
    },
    {
      "cell_type": "code",
      "execution_count": null,
      "metadata": {
        "id": "MC-k7B0mc8WT"
      },
      "outputs": [],
      "source": [
        "def foo():\n",
        "    s = \"Local\"\n",
        "    print(s)\n",
        "foo()\n",
        "print(s)"
      ]
    },
    {
      "cell_type": "code",
      "source": [
        "def factorial(n):\n",
        "    if n == 0:\n",
        "        return 1\n",
        "    else:\n",
        "        return n * factorial(n-1)"
      ],
      "metadata": {
        "id": "eW_4Z4xsSXZc"
      },
      "execution_count": null,
      "outputs": []
    },
    {
      "cell_type": "markdown",
      "source": [
        "# Function Practice Exercises (Part 1)"
      ],
      "metadata": {
        "id": "SYsWgWvh6kOt"
      }
    },
    {
      "cell_type": "markdown",
      "metadata": {
        "id": "gGQH8lME6kOu"
      },
      "source": [
        "Ex 1 : Write a Python program to find the maximum from the given three numbers.\n",
        "\n"
      ]
    },
    {
      "cell_type": "code",
      "source": [],
      "metadata": {
        "id": "iy329YZe6yAN"
      },
      "execution_count": null,
      "outputs": []
    },
    {
      "cell_type": "markdown",
      "metadata": {
        "id": "bnVdWUcb6kOw"
      },
      "source": [
        "Ex 2 : Write a Python program to calculate the multiplication of all the numbers present in a list."
      ]
    },
    {
      "cell_type": "code",
      "source": [],
      "metadata": {
        "id": "ONjWC6yL683c"
      },
      "execution_count": null,
      "outputs": []
    },
    {
      "cell_type": "markdown",
      "metadata": {
        "id": "TWObRKg76kOx"
      },
      "source": [
        "Ex 3 : Write a Python program that takes a string as an input and calculates the number of upper case and lower case letters present in the string.\n",
        "\n"
      ]
    },
    {
      "cell_type": "code",
      "source": [],
      "metadata": {
        "id": "q-7ZueBJ7Cjr"
      },
      "execution_count": null,
      "outputs": []
    },
    {
      "cell_type": "markdown",
      "metadata": {
        "id": "XP6F_Djy4_YM"
      },
      "source": [
        "# Function Practice Exercises (Part 2)\n",
        "\n",
        "Problems are arranged in increasing difficulty:\n",
        "* Warmup - these can be solved using basic comparisons and methods\n",
        "* Level 1 - these may involve if/then conditional statements and simple methods\n",
        "* Level 2 - these may require iterating over sequences, usually with some kind of loop\n",
        "* Challenging - these will take some creativity to solve"
      ]
    },
    {
      "cell_type": "markdown",
      "metadata": {
        "id": "DOsRMG9x4_YM"
      },
      "source": [
        "## WARMUP SECTION:"
      ]
    },
    {
      "cell_type": "markdown",
      "metadata": {
        "id": "d9UQ-nBM4_YN"
      },
      "source": [
        "#### LESSER OF TWO EVENS: Write a function that returns the lesser of two given numbers *if* both numbers are even, but returns the greater if one or both numbers are odd\n",
        "    lesser_of_two_evens(2,4) --> 2\n",
        "    lesser_of_two_evens(2,5) --> 5"
      ]
    },
    {
      "cell_type": "code",
      "execution_count": null,
      "metadata": {
        "collapsed": true,
        "id": "75NnoT3t4_YN"
      },
      "outputs": [],
      "source": [
        "def lesser_of_two_evens(a,b):\n",
        "    pass"
      ]
    },
    {
      "cell_type": "code",
      "execution_count": null,
      "metadata": {
        "collapsed": true,
        "id": "beObPxcb4_YO"
      },
      "outputs": [],
      "source": [
        "# Check\n",
        "lesser_of_two_evens(2,4)"
      ]
    },
    {
      "cell_type": "code",
      "execution_count": null,
      "metadata": {
        "collapsed": true,
        "id": "RAgUOYrN4_YO"
      },
      "outputs": [],
      "source": [
        "# Check\n",
        "lesser_of_two_evens(2,5)"
      ]
    },
    {
      "cell_type": "markdown",
      "metadata": {
        "id": "lFS3D2gc4_YP"
      },
      "source": [
        "#### ANIMAL CRACKERS: Write a function takes a two-word string and returns True if both words begin with same letter\n",
        "    animal_crackers('Levelheaded Llama') --> True\n",
        "    animal_crackers('Crazy Kangaroo') --> False"
      ]
    },
    {
      "cell_type": "code",
      "execution_count": null,
      "metadata": {
        "collapsed": true,
        "id": "tz0wLWTr4_YP"
      },
      "outputs": [],
      "source": [
        "def animal_crackers(text):\n",
        "    pass"
      ]
    },
    {
      "cell_type": "code",
      "execution_count": null,
      "metadata": {
        "collapsed": true,
        "id": "RXODin_o4_YP"
      },
      "outputs": [],
      "source": [
        "# Check\n",
        "animal_crackers('Levelheaded Llama')"
      ]
    },
    {
      "cell_type": "code",
      "execution_count": null,
      "metadata": {
        "collapsed": true,
        "id": "6sEUbAza4_YQ"
      },
      "outputs": [],
      "source": [
        "# Check\n",
        "animal_crackers('Crazy Kangaroo')"
      ]
    },
    {
      "cell_type": "markdown",
      "metadata": {
        "id": "WDlEow184_YQ"
      },
      "source": [
        "#### MAKES TWENTY: Given two integers, return True if the sum of the integers is 20 *or* if one of the integers is 20. If not, return False\n",
        "\n",
        "    makes_twenty(20,10) --> True\n",
        "    makes_twenty(12,8) --> True\n",
        "    makes_twenty(2,3) --> False"
      ]
    },
    {
      "cell_type": "code",
      "execution_count": null,
      "metadata": {
        "collapsed": true,
        "id": "rOSPiYr-4_YQ"
      },
      "outputs": [],
      "source": [
        "def makes_twenty(n1,n2):\n",
        "    pass"
      ]
    },
    {
      "cell_type": "code",
      "execution_count": null,
      "metadata": {
        "collapsed": true,
        "id": "p-pg23sC4_YQ"
      },
      "outputs": [],
      "source": [
        "# Check\n",
        "makes_twenty(20,10)"
      ]
    },
    {
      "cell_type": "code",
      "execution_count": null,
      "metadata": {
        "collapsed": true,
        "id": "yvBd9AZn4_YQ"
      },
      "outputs": [],
      "source": [
        "# Check\n",
        "makes_twenty(2,3)"
      ]
    },
    {
      "cell_type": "markdown",
      "metadata": {
        "id": "QuL8udmA4_YR"
      },
      "source": [
        "## LEVEL 1 PROBLEMS"
      ]
    },
    {
      "cell_type": "markdown",
      "metadata": {
        "id": "GJ2DAsmx4_YR"
      },
      "source": [
        "#### OLD MACDONALD: Write a function that capitalizes the first and fourth letters of a name\n",
        "     \n",
        "    old_macdonald('macdonald') --> MacDonald\n",
        "    \n",
        "Note: `'macdonald'.capitalize()` returns `'Macdonald'`"
      ]
    },
    {
      "cell_type": "code",
      "execution_count": null,
      "metadata": {
        "collapsed": true,
        "id": "8xzVLLBi4_YR"
      },
      "outputs": [],
      "source": [
        "def old_macdonald(name):\n",
        "    pass"
      ]
    },
    {
      "cell_type": "code",
      "execution_count": null,
      "metadata": {
        "collapsed": true,
        "id": "Hc7txEy64_YR"
      },
      "outputs": [],
      "source": [
        "# Check\n",
        "old_macdonald('macdonald')"
      ]
    },
    {
      "cell_type": "markdown",
      "metadata": {
        "id": "rDUpJhnJ4_YR"
      },
      "source": [
        "#### MASTER YODA: Given a sentence, return a sentence with the words reversed\n",
        "\n",
        "    master_yoda('I am home') --> 'home am I'\n",
        "    master_yoda('We are ready') --> 'ready are We'\n",
        "    \n",
        "Note: The .join() method may be useful here. The .join() method allows you to join together strings in a list with some connector string. For example, some uses of the .join() method:\n",
        "\n",
        "    >>> \"--\".join(['a','b','c'])\n",
        "    >>> 'a--b--c'\n",
        "\n",
        "This means if you had a list of words you wanted to turn back into a sentence, you could just join them with a single space string:\n",
        "\n",
        "    >>> \" \".join(['Hello','world'])\n",
        "    >>> \"Hello world\""
      ]
    },
    {
      "cell_type": "code",
      "execution_count": null,
      "metadata": {
        "collapsed": true,
        "id": "NonQgDIv4_YR"
      },
      "outputs": [],
      "source": [
        "def master_yoda(text):\n",
        "    pass"
      ]
    },
    {
      "cell_type": "code",
      "execution_count": null,
      "metadata": {
        "collapsed": true,
        "id": "jml2r1mU4_YS"
      },
      "outputs": [],
      "source": [
        "# Check\n",
        "master_yoda('I am home')"
      ]
    },
    {
      "cell_type": "code",
      "execution_count": null,
      "metadata": {
        "collapsed": true,
        "id": "LIwHIO7N4_YS"
      },
      "outputs": [],
      "source": [
        "# Check\n",
        "master_yoda('We are ready')"
      ]
    },
    {
      "cell_type": "markdown",
      "metadata": {
        "id": "ZdPC4zae4_YS"
      },
      "source": [
        "#### ALMOST THERE: Given an integer n, return True if n is within 10 of either 100 or 200\n",
        "\n",
        "    almost_there(90) --> True\n",
        "    almost_there(104) --> True\n",
        "    almost_there(150) --> False\n",
        "    almost_there(209) --> True\n",
        "    \n",
        "NOTE: `abs(num)` returns the absolute value of a number"
      ]
    },
    {
      "cell_type": "code",
      "execution_count": null,
      "metadata": {
        "collapsed": true,
        "id": "Gy0YvGGP4_YS"
      },
      "outputs": [],
      "source": [
        "def almost_there(n):\n",
        "    pass"
      ]
    },
    {
      "cell_type": "code",
      "execution_count": null,
      "metadata": {
        "collapsed": true,
        "id": "9EgZlRdo4_YS"
      },
      "outputs": [],
      "source": [
        "# Check\n",
        "almost_there(104)"
      ]
    },
    {
      "cell_type": "code",
      "execution_count": null,
      "metadata": {
        "collapsed": true,
        "id": "FQKdTpqL4_YS"
      },
      "outputs": [],
      "source": [
        "# Check\n",
        "almost_there(150)"
      ]
    },
    {
      "cell_type": "code",
      "execution_count": null,
      "metadata": {
        "collapsed": true,
        "id": "0zUpHURn4_YS"
      },
      "outputs": [],
      "source": [
        "# Check\n",
        "almost_there(209)"
      ]
    },
    {
      "cell_type": "markdown",
      "metadata": {
        "id": "Nglc6C5U4_YS"
      },
      "source": [
        "## LEVEL 2 PROBLEMS"
      ]
    },
    {
      "cell_type": "markdown",
      "metadata": {
        "id": "20cSxMf64_YS"
      },
      "source": [
        "#### FIND 33:\n",
        "\n",
        "Given a list of ints, return True if the array contains a 3 next to a 3 somewhere.\n",
        "\n",
        "    has_33([1, 3, 3]) → True\n",
        "    has_33([1, 3, 1, 3]) → False\n",
        "    has_33([3, 1, 3]) → False"
      ]
    },
    {
      "cell_type": "code",
      "execution_count": null,
      "metadata": {
        "collapsed": true,
        "id": "rtAgAcul4_YT"
      },
      "outputs": [],
      "source": [
        "def has_33(nums):\n",
        "    pass"
      ]
    },
    {
      "cell_type": "code",
      "execution_count": null,
      "metadata": {
        "collapsed": true,
        "id": "zEmeH9My4_YT"
      },
      "outputs": [],
      "source": [
        "# Check\n",
        "has_33([1, 3, 3])"
      ]
    },
    {
      "cell_type": "code",
      "execution_count": null,
      "metadata": {
        "collapsed": true,
        "id": "cigKj8mf4_YT"
      },
      "outputs": [],
      "source": [
        "# Check\n",
        "has_33([1, 3, 1, 3])"
      ]
    },
    {
      "cell_type": "code",
      "execution_count": null,
      "metadata": {
        "collapsed": true,
        "id": "w75cwRhH4_YT"
      },
      "outputs": [],
      "source": [
        "# Check\n",
        "has_33([3, 1, 3])"
      ]
    },
    {
      "cell_type": "markdown",
      "metadata": {
        "id": "0AmJB-WQ4_YT"
      },
      "source": [
        "#### PAPER DOLL: Given a string, return a string where for every character in the original there are three characters\n",
        "    paper_doll('Hello') --> 'HHHeeellllllooo'\n",
        "    paper_doll('Mississippi') --> 'MMMiiissssssiiippppppiii'"
      ]
    },
    {
      "cell_type": "code",
      "execution_count": null,
      "metadata": {
        "collapsed": true,
        "id": "CyhvV3kj4_YT"
      },
      "outputs": [],
      "source": [
        "def paper_doll(text):\n",
        "    pass"
      ]
    },
    {
      "cell_type": "code",
      "execution_count": null,
      "metadata": {
        "collapsed": true,
        "id": "wDagE4mR4_YT"
      },
      "outputs": [],
      "source": [
        "# Check\n",
        "paper_doll('Hello')"
      ]
    },
    {
      "cell_type": "code",
      "execution_count": null,
      "metadata": {
        "collapsed": true,
        "id": "MsVBD5Tv4_YT"
      },
      "outputs": [],
      "source": [
        "# Check\n",
        "paper_doll('Mississippi')"
      ]
    },
    {
      "cell_type": "markdown",
      "metadata": {
        "id": "Dxk0PpXP4_YU"
      },
      "source": [
        "#### BLACKJACK: Given three integers between 1 and 11, if their sum is less than or equal to 21, return their sum. If their sum exceeds 21 *and* there's an eleven, reduce the total sum by 10. Finally, if the sum (even after adjustment) exceeds 21, return 'BUST'\n",
        "    blackjack(5,6,7) --> 18\n",
        "    blackjack(9,9,9) --> 'BUST'\n",
        "    blackjack(9,9,11) --> 19"
      ]
    },
    {
      "cell_type": "code",
      "execution_count": null,
      "metadata": {
        "collapsed": true,
        "id": "fazfY0gs4_YY"
      },
      "outputs": [],
      "source": [
        "def blackjack(a,b,c):\n",
        "    pass"
      ]
    },
    {
      "cell_type": "code",
      "execution_count": null,
      "metadata": {
        "collapsed": true,
        "id": "GPnptLND4_YY"
      },
      "outputs": [],
      "source": [
        "# Check\n",
        "blackjack(5,6,7)"
      ]
    },
    {
      "cell_type": "code",
      "execution_count": null,
      "metadata": {
        "collapsed": true,
        "id": "ZACWnyX24_YY"
      },
      "outputs": [],
      "source": [
        "# Check\n",
        "blackjack(9,9,9)"
      ]
    },
    {
      "cell_type": "code",
      "execution_count": null,
      "metadata": {
        "collapsed": true,
        "id": "ybNXF0ZA4_YY"
      },
      "outputs": [],
      "source": [
        "# Check\n",
        "blackjack(9,9,11)"
      ]
    },
    {
      "cell_type": "markdown",
      "metadata": {
        "id": "5FYiMFhT4_YY"
      },
      "source": [
        "#### SUMMER OF '69: Return the sum of the numbers in the array, except ignore sections of numbers starting with a 6 and extending to the next 9 (every 6 will be followed by at least one 9). Return 0 for no numbers.\n",
        "\n",
        "    summer_69([1, 3, 5]) --> 9\n",
        "    summer_69([4, 5, 6, 7, 8, 9]) --> 9\n",
        "    summer_69([2, 1, 6, 9, 11]) --> 14"
      ]
    },
    {
      "cell_type": "code",
      "execution_count": null,
      "metadata": {
        "collapsed": true,
        "id": "6Xp7VW-P4_YY"
      },
      "outputs": [],
      "source": [
        "def summer_69(arr):\n",
        "    pass"
      ]
    },
    {
      "cell_type": "code",
      "execution_count": null,
      "metadata": {
        "collapsed": true,
        "id": "p3ggPt6k4_YY"
      },
      "outputs": [],
      "source": [
        "# Check\n",
        "summer_69([1, 3, 5])"
      ]
    },
    {
      "cell_type": "code",
      "execution_count": null,
      "metadata": {
        "collapsed": true,
        "id": "NS38vsaF4_YZ"
      },
      "outputs": [],
      "source": [
        "# Check\n",
        "summer_69([4, 5, 6, 7, 8, 9])"
      ]
    },
    {
      "cell_type": "code",
      "execution_count": null,
      "metadata": {
        "collapsed": true,
        "id": "4LEw__wX4_YZ"
      },
      "outputs": [],
      "source": [
        "# Check\n",
        "summer_69([2, 1, 6, 9, 11])"
      ]
    },
    {
      "cell_type": "markdown",
      "metadata": {
        "id": "_Imxny8X4_YZ"
      },
      "source": [
        "## CHALLENGING PROBLEMS"
      ]
    },
    {
      "cell_type": "markdown",
      "metadata": {
        "id": "cOmeAuFf4_YZ"
      },
      "source": [
        "#### SPY GAME: Write a function that takes in a list of integers and returns True if it contains 007 in order\n",
        "\n",
        "     spy_game([1,2,4,0,0,7,5]) --> True\n",
        "     spy_game([1,0,2,4,0,5,7]) --> True\n",
        "     spy_game([1,7,2,0,4,5,0]) --> False\n"
      ]
    },
    {
      "cell_type": "code",
      "execution_count": null,
      "metadata": {
        "collapsed": true,
        "id": "d-E96cKR4_YZ"
      },
      "outputs": [],
      "source": [
        "def spy_game(nums):\n",
        "    pass"
      ]
    },
    {
      "cell_type": "code",
      "execution_count": null,
      "metadata": {
        "collapsed": true,
        "id": "IauuW3iW4_YZ"
      },
      "outputs": [],
      "source": [
        "# Check\n",
        "spy_game([1,2,4,0,0,7,5])"
      ]
    },
    {
      "cell_type": "code",
      "execution_count": null,
      "metadata": {
        "collapsed": true,
        "id": "KB0SKQMI4_YZ"
      },
      "outputs": [],
      "source": [
        "# Check\n",
        "spy_game([1,0,2,4,0,5,7])"
      ]
    },
    {
      "cell_type": "code",
      "execution_count": null,
      "metadata": {
        "collapsed": true,
        "id": "-jTf5jMj4_Ya"
      },
      "outputs": [],
      "source": [
        "# Check\n",
        "spy_game([1,7,2,0,4,5,0])"
      ]
    },
    {
      "cell_type": "markdown",
      "metadata": {
        "id": "R_ljaN_Z4_Ya"
      },
      "source": [
        "#### COUNT PRIMES: Write a function that returns the *number* of prime numbers that exist up to and including a given number\n",
        "    count_primes(100) --> 25\n",
        "\n",
        "By convention, 0 and 1 are not prime."
      ]
    },
    {
      "cell_type": "code",
      "execution_count": null,
      "metadata": {
        "collapsed": true,
        "id": "Sm2K9_Q94_Ya"
      },
      "outputs": [],
      "source": [
        "def count_primes(num):\n",
        "    pass\n"
      ]
    },
    {
      "cell_type": "code",
      "execution_count": null,
      "metadata": {
        "collapsed": true,
        "id": "ElwkDk1d4_Yb"
      },
      "outputs": [],
      "source": [
        "# Check\n",
        "count_primes(100)"
      ]
    },
    {
      "cell_type": "markdown",
      "metadata": {
        "id": "ucWN37_f4_Yb"
      },
      "source": [
        "### Just for fun:\n",
        "#### PRINT BIG: Write a function that takes in a single letter, and returns a 5x5 representation of that letter\n",
        "    print_big('a')\n",
        "    \n",
        "    out:   *  \n",
        "          * *\n",
        "         *****\n",
        "         *   *\n",
        "         *   *\n",
        "HINT: Consider making a dictionary of possible patterns, and mapping the alphabet to specific 5-line combinations of patterns. <br>For purposes of this exercise, it's ok if your dictionary stops at \"E\"."
      ]
    },
    {
      "cell_type": "code",
      "execution_count": null,
      "metadata": {
        "collapsed": true,
        "id": "jZMZIrCp4_Yb"
      },
      "outputs": [],
      "source": [
        "def print_big(letter):\n",
        "    pass"
      ]
    },
    {
      "cell_type": "code",
      "execution_count": null,
      "metadata": {
        "collapsed": true,
        "id": "NOnN__eB4_Yb"
      },
      "outputs": [],
      "source": [
        "print_big('a')"
      ]
    },
    {
      "cell_type": "markdown",
      "metadata": {
        "id": "FLQM52kC4_Yb"
      },
      "source": [
        "## Great Job!"
      ]
    },
    {
      "cell_type": "markdown",
      "metadata": {
        "id": "oSUty9ls70LZ"
      },
      "source": [
        "# Lambda Expressions, Map, and Filter\n",
        "\n",
        "Now its time to quickly learn about two built in functions, filter and map. Once we learn about how these operate, we can learn about the lambda expression, which will come in handy when you begin to develop your skills further!"
      ]
    },
    {
      "cell_type": "markdown",
      "metadata": {
        "id": "RhSwUFPX70Lc"
      },
      "source": [
        "## map function\n",
        "\n",
        "The **map** function allows you to \"map\" a function to an iterable object. That is to say you can quickly call the same function to every item in an iterable, such as a list. For example:"
      ]
    },
    {
      "cell_type": "code",
      "execution_count": null,
      "metadata": {
        "collapsed": true,
        "id": "9EDbmcAG70Le"
      },
      "outputs": [],
      "source": [
        "def square(num):\n",
        "    return num**2"
      ]
    },
    {
      "cell_type": "code",
      "source": [
        "num = \"youssef\"\n",
        "square(num)"
      ],
      "metadata": {
        "id": "G4SQs8CkQghv"
      },
      "execution_count": null,
      "outputs": []
    },
    {
      "cell_type": "code",
      "source": [
        "square(2)"
      ],
      "metadata": {
        "colab": {
          "base_uri": "https://localhost:8080/"
        },
        "id": "bRVPQ0kOQn16",
        "outputId": "0d5a1bcd-9b8f-4259-93be-b64ec38670e1"
      },
      "execution_count": 94,
      "outputs": [
        {
          "output_type": "execute_result",
          "data": {
            "text/plain": [
              "4"
            ]
          },
          "metadata": {},
          "execution_count": 94
        }
      ]
    },
    {
      "cell_type": "code",
      "execution_count": 95,
      "metadata": {
        "collapsed": true,
        "id": "clAbWXKY70Li"
      },
      "outputs": [],
      "source": [
        "my_nums = [1,2,3,4,5]"
      ]
    },
    {
      "cell_type": "code",
      "source": [
        "square(my_nums)"
      ],
      "metadata": {
        "colab": {
          "base_uri": "https://localhost:8080/",
          "height": 215
        },
        "id": "m8bDaDn1QsK3",
        "outputId": "2d000578-ab5d-4f30-e5c9-7cda25ac7d1b"
      },
      "execution_count": 96,
      "outputs": [
        {
          "output_type": "error",
          "ename": "TypeError",
          "evalue": "unsupported operand type(s) for ** or pow(): 'list' and 'int'",
          "traceback": [
            "\u001b[0;31m---------------------------------------------------------------------------\u001b[0m",
            "\u001b[0;31mTypeError\u001b[0m                                 Traceback (most recent call last)",
            "\u001b[0;32m<ipython-input-96-8746b0ba40fe>\u001b[0m in \u001b[0;36m<cell line: 1>\u001b[0;34m()\u001b[0m\n\u001b[0;32m----> 1\u001b[0;31m \u001b[0msquare\u001b[0m\u001b[0;34m(\u001b[0m\u001b[0mmy_nums\u001b[0m\u001b[0;34m)\u001b[0m\u001b[0;34m\u001b[0m\u001b[0;34m\u001b[0m\u001b[0m\n\u001b[0m",
            "\u001b[0;32m<ipython-input-92-a5c22640d10e>\u001b[0m in \u001b[0;36msquare\u001b[0;34m(num)\u001b[0m\n\u001b[1;32m      1\u001b[0m \u001b[0;32mdef\u001b[0m \u001b[0msquare\u001b[0m\u001b[0;34m(\u001b[0m\u001b[0mnum\u001b[0m\u001b[0;34m)\u001b[0m\u001b[0;34m:\u001b[0m\u001b[0;34m\u001b[0m\u001b[0;34m\u001b[0m\u001b[0m\n\u001b[0;32m----> 2\u001b[0;31m     \u001b[0;32mreturn\u001b[0m \u001b[0mnum\u001b[0m\u001b[0;34m**\u001b[0m\u001b[0;36m2\u001b[0m\u001b[0;34m\u001b[0m\u001b[0;34m\u001b[0m\u001b[0m\n\u001b[0m",
            "\u001b[0;31mTypeError\u001b[0m: unsupported operand type(s) for ** or pow(): 'list' and 'int'"
          ]
        }
      ]
    },
    {
      "cell_type": "code",
      "source": [
        "for i in range(len(my_nums)):\n",
        "    my_nums[i] = square(my_nums[i])"
      ],
      "metadata": {
        "id": "-RlvN27E4O6n"
      },
      "execution_count": 97,
      "outputs": []
    },
    {
      "cell_type": "code",
      "source": [
        "my_nums"
      ],
      "metadata": {
        "id": "1gJRd4h14rw2",
        "colab": {
          "base_uri": "https://localhost:8080/"
        },
        "outputId": "c9276a6c-455e-43a6-d5ab-f667d9a86de0"
      },
      "execution_count": 98,
      "outputs": [
        {
          "output_type": "execute_result",
          "data": {
            "text/plain": [
              "[1, 4, 9, 16, 25]"
            ]
          },
          "metadata": {},
          "execution_count": 98
        }
      ]
    },
    {
      "cell_type": "markdown",
      "source": [
        "OR"
      ],
      "metadata": {
        "id": "fxLQJwqo4X7n"
      }
    },
    {
      "cell_type": "code",
      "source": [
        "my_nums = [1,2,3,4,5]\n",
        "my_nums2 = [1,24,5]"
      ],
      "metadata": {
        "id": "8Yy3vjrORTqq"
      },
      "execution_count": 99,
      "outputs": []
    },
    {
      "cell_type": "code",
      "execution_count": 100,
      "metadata": {
        "id": "KceroPoD70Lj",
        "colab": {
          "base_uri": "https://localhost:8080/"
        },
        "outputId": "ed52b5eb-567a-4b86-e543-006a8f9326a5"
      },
      "outputs": [
        {
          "output_type": "execute_result",
          "data": {
            "text/plain": [
              "<map at 0x78f3591c9ff0>"
            ]
          },
          "metadata": {},
          "execution_count": 100
        }
      ],
      "source": [
        "map(square,my_nums,my_nums2) # take 2 param : function, iterable : list"
      ]
    },
    {
      "cell_type": "code",
      "execution_count": 102,
      "metadata": {
        "id": "P4uGUfpV70Ln",
        "colab": {
          "base_uri": "https://localhost:8080/"
        },
        "outputId": "069f38cb-5b9c-4223-be84-d2eaf172350e"
      },
      "outputs": [
        {
          "output_type": "execute_result",
          "data": {
            "text/plain": [
              "[1, 4, 9, 16, 25]"
            ]
          },
          "metadata": {},
          "execution_count": 102
        }
      ],
      "source": [
        "# To get the results, cast to a list\n",
        "list(map(square,my_nums))"
      ]
    },
    {
      "cell_type": "markdown",
      "metadata": {
        "id": "YPTsGFoW70Lp"
      },
      "source": [
        "The functions can also be more complex"
      ]
    },
    {
      "cell_type": "code",
      "execution_count": 103,
      "metadata": {
        "collapsed": true,
        "id": "6engQbI670Lr"
      },
      "outputs": [],
      "source": [
        "def splicer(mystring):\n",
        "    if len(mystring) % 2 == 0:\n",
        "        return 'even'\n",
        "    else:\n",
        "        return mystring[0]"
      ]
    },
    {
      "cell_type": "code",
      "execution_count": 104,
      "metadata": {
        "collapsed": true,
        "id": "AwibMPye70Lt"
      },
      "outputs": [],
      "source": [
        "mynames = ['John','Cindy','Sarah','Kelly','Mike']"
      ]
    },
    {
      "cell_type": "code",
      "execution_count": 105,
      "metadata": {
        "id": "GNLs-WJi70Lu",
        "colab": {
          "base_uri": "https://localhost:8080/"
        },
        "outputId": "5490c0b6-1f09-41f4-dd2f-e80a8b41cb7c"
      },
      "outputs": [
        {
          "output_type": "execute_result",
          "data": {
            "text/plain": [
              "['even', 'C', 'S', 'K', 'even']"
            ]
          },
          "metadata": {},
          "execution_count": 105
        }
      ],
      "source": [
        "list(map(splicer,mynames))"
      ]
    },
    {
      "cell_type": "markdown",
      "metadata": {
        "id": "7HiEyK8270Lv"
      },
      "source": [
        "## filter function\n",
        "\n",
        "The filter function returns an iterator yielding those items of iterable for which function(item)\n",
        "is true. Meaning you need to filter by a function that returns either True or False. Then passing that into filter (along with your iterable) and you will get back only the results that would return True when passed to the function."
      ]
    },
    {
      "cell_type": "code",
      "source": [
        "num = 1\n",
        "num % 2 == 1"
      ],
      "metadata": {
        "colab": {
          "base_uri": "https://localhost:8080/"
        },
        "id": "aTY2DQlCTWUv",
        "outputId": "042a9a79-a5f4-4c76-fe34-0de31b0da4c1"
      },
      "execution_count": 107,
      "outputs": [
        {
          "output_type": "execute_result",
          "data": {
            "text/plain": [
              "True"
            ]
          },
          "metadata": {},
          "execution_count": 107
        }
      ]
    },
    {
      "cell_type": "code",
      "execution_count": 119,
      "metadata": {
        "collapsed": true,
        "id": "9Yq7HSb470Lw"
      },
      "outputs": [],
      "source": [
        "def check_even(num):\n",
        "    return num % 2 == 1"
      ]
    },
    {
      "cell_type": "code",
      "source": [
        "check_even(3)"
      ],
      "metadata": {
        "colab": {
          "base_uri": "https://localhost:8080/"
        },
        "id": "j5Uw4m1LS_ex",
        "outputId": "bdc7f5b2-b369-48b1-b825-4641c5f07f78"
      },
      "execution_count": 121,
      "outputs": [
        {
          "output_type": "execute_result",
          "data": {
            "text/plain": [
              "True"
            ]
          },
          "metadata": {},
          "execution_count": 121
        }
      ]
    },
    {
      "cell_type": "code",
      "source": [
        "check_even(nums) # what's the result ??"
      ],
      "metadata": {
        "id": "htFp2Mby5BKT",
        "colab": {
          "base_uri": "https://localhost:8080/",
          "height": 215
        },
        "outputId": "736fe9e5-5aec-4ac9-dea4-8e62e948545e"
      },
      "execution_count": 111,
      "outputs": [
        {
          "output_type": "error",
          "ename": "TypeError",
          "evalue": "unsupported operand type(s) for %: 'list' and 'int'",
          "traceback": [
            "\u001b[0;31m---------------------------------------------------------------------------\u001b[0m",
            "\u001b[0;31mTypeError\u001b[0m                                 Traceback (most recent call last)",
            "\u001b[0;32m<ipython-input-111-e8d95a0580e7>\u001b[0m in \u001b[0;36m<cell line: 1>\u001b[0;34m()\u001b[0m\n\u001b[0;32m----> 1\u001b[0;31m \u001b[0mcheck_even\u001b[0m\u001b[0;34m(\u001b[0m\u001b[0mnums\u001b[0m\u001b[0;34m)\u001b[0m \u001b[0;31m# what's the result ??\u001b[0m\u001b[0;34m\u001b[0m\u001b[0;34m\u001b[0m\u001b[0m\n\u001b[0m",
            "\u001b[0;32m<ipython-input-108-aab28f795f6e>\u001b[0m in \u001b[0;36mcheck_even\u001b[0;34m(num)\u001b[0m\n\u001b[1;32m      1\u001b[0m \u001b[0;32mdef\u001b[0m \u001b[0mcheck_even\u001b[0m\u001b[0;34m(\u001b[0m\u001b[0mnum\u001b[0m\u001b[0;34m)\u001b[0m\u001b[0;34m:\u001b[0m\u001b[0;34m\u001b[0m\u001b[0;34m\u001b[0m\u001b[0m\n\u001b[0;32m----> 2\u001b[0;31m     \u001b[0;32mreturn\u001b[0m \u001b[0mnum\u001b[0m \u001b[0;34m%\u001b[0m \u001b[0;36m2\u001b[0m \u001b[0;34m==\u001b[0m \u001b[0;36m1\u001b[0m\u001b[0;34m\u001b[0m\u001b[0;34m\u001b[0m\u001b[0m\n\u001b[0m",
            "\u001b[0;31mTypeError\u001b[0m: unsupported operand type(s) for %: 'list' and 'int'"
          ]
        }
      ]
    },
    {
      "cell_type": "code",
      "source": [
        "for i in range(len(nums)):\n",
        "    nums[i] = check_even(nums[i])\n",
        "print(nums)"
      ],
      "metadata": {
        "id": "CwyTzyf-6H1t",
        "colab": {
          "base_uri": "https://localhost:8080/"
        },
        "outputId": "913bd1bb-0f2d-426d-a08d-d8d0f0d75779"
      },
      "execution_count": 112,
      "outputs": [
        {
          "output_type": "stream",
          "name": "stdout",
          "text": [
            "[False, True, False, True, False, True, False, True, False, True, False]\n"
          ]
        }
      ]
    },
    {
      "cell_type": "markdown",
      "source": [
        "But I want to filter numbers !!!"
      ],
      "metadata": {
        "id": "1JFw8NCj6Q2X"
      }
    },
    {
      "cell_type": "code",
      "source": [
        "filtered_nums = []\n",
        "for num in nums:\n",
        "    if check_even(num):\n",
        "        filtered_nums.append(num)\n",
        "\n",
        "print(filtered_nums)"
      ],
      "metadata": {
        "id": "Th28z4RS5ptC",
        "colab": {
          "base_uri": "https://localhost:8080/"
        },
        "outputId": "5a8c7b61-c95e-41aa-812a-a49b9d2de508"
      },
      "execution_count": 115,
      "outputs": [
        {
          "output_type": "stream",
          "name": "stdout",
          "text": [
            "[1, 3, 5, 7, 9]\n"
          ]
        }
      ]
    },
    {
      "cell_type": "code",
      "execution_count": 117,
      "metadata": {
        "collapsed": true,
        "id": "CTuc1zby70Lx"
      },
      "outputs": [],
      "source": [
        "nums = [0,1,2,3,4,5,6,7,8,9,10]"
      ]
    },
    {
      "cell_type": "markdown",
      "source": [
        "OR"
      ],
      "metadata": {
        "id": "doRUfpqP55fH"
      }
    },
    {
      "cell_type": "code",
      "source": [
        "check_even(nums)"
      ],
      "metadata": {
        "id": "kv2LUBD2UprL"
      },
      "execution_count": null,
      "outputs": []
    },
    {
      "cell_type": "code",
      "execution_count": 118,
      "metadata": {
        "id": "pZzm5goK70Lz",
        "colab": {
          "base_uri": "https://localhost:8080/"
        },
        "outputId": "3d4635a6-7d7a-4f15-c168-19188fc2a1d1"
      },
      "outputs": [
        {
          "output_type": "execute_result",
          "data": {
            "text/plain": [
              "[1, 3, 5, 7, 9]"
            ]
          },
          "metadata": {},
          "execution_count": 118
        }
      ],
      "source": [
        "list(filter(check_even,nums))"
      ]
    },
    {
      "cell_type": "code",
      "execution_count": null,
      "metadata": {
        "id": "X7xyu8J170Ly"
      },
      "outputs": [],
      "source": [
        "filter(check_even,nums)"
      ]
    },
    {
      "cell_type": "markdown",
      "source": [
        "## Lambda Expressions"
      ],
      "metadata": {
        "id": "IBDUMPKyNizp"
      }
    },
    {
      "cell_type": "markdown",
      "metadata": {
        "collapsed": true,
        "id": "mBCXjgSc70Lz"
      },
      "source": [
        "\n",
        "\n",
        "One of Pythons most useful (and for beginners, confusing) tools is the lambda expression. lambda expressions allow us to create \"anonymous\" functions. This basically means we can quickly make ad-hoc functions without needing to properly define a function using def.\n",
        "\n",
        "Function objects returned by running lambda expressions work exactly the same as those created and assigned by defs. There is key difference that makes lambda useful in specialized roles:\n",
        "\n",
        "**lambda's body is a single expression, not a block of statements.**\n",
        "\n",
        "* The lambda's body is similar to what we would put in a def body's return statement. We simply type the result as an expression instead of explicitly returning it. Because it is limited to an expression, a lambda is less general that a def. We can only squeeze design, to limit program nesting. lambda is designed for coding simple functions, and def handles the larger tasks."
      ]
    },
    {
      "cell_type": "markdown",
      "metadata": {
        "id": "E4CngRrnHo9J"
      },
      "source": [
        "In Python, an anonymous function is a function that is defined without a name.\n",
        "\n",
        "While normal functions are defined using the def keyword in Python, anonymous functions are defined using the lambda keyword.\n",
        "\n",
        "Hence, anonymous functions are also called lambda functions."
      ]
    },
    {
      "cell_type": "markdown",
      "metadata": {
        "id": "9BITr79d70L4"
      },
      "source": [
        "Lets slowly break down a lambda expression by deconstructing a function:"
      ]
    },
    {
      "cell_type": "code",
      "execution_count": null,
      "metadata": {
        "collapsed": true,
        "id": "Bt0R232d70L5"
      },
      "outputs": [],
      "source": [
        "def square(num):\n",
        "    result = num**2\n",
        "    return result"
      ]
    },
    {
      "cell_type": "code",
      "execution_count": null,
      "metadata": {
        "id": "Uc9QWk6w70L5"
      },
      "outputs": [],
      "source": [
        "square(2)"
      ]
    },
    {
      "cell_type": "markdown",
      "metadata": {
        "id": "Sd0ik2j470L6"
      },
      "source": [
        "We could simplify it:"
      ]
    },
    {
      "cell_type": "code",
      "execution_count": null,
      "metadata": {
        "collapsed": true,
        "id": "Uj8wH-Po70L6"
      },
      "outputs": [],
      "source": [
        "def square(num):\n",
        "    return num**2"
      ]
    },
    {
      "cell_type": "code",
      "execution_count": null,
      "metadata": {
        "id": "OFtWl3S670L7"
      },
      "outputs": [],
      "source": [
        "square(2)"
      ]
    },
    {
      "cell_type": "markdown",
      "metadata": {
        "id": "ZdJ7o32i70L7"
      },
      "source": [
        "We could actually even write this all on one line."
      ]
    },
    {
      "cell_type": "code",
      "execution_count": null,
      "metadata": {
        "collapsed": true,
        "id": "FRyIX1hq70L8"
      },
      "outputs": [],
      "source": [
        "def square(num): return num**2"
      ]
    },
    {
      "cell_type": "code",
      "execution_count": null,
      "metadata": {
        "id": "YrgnOASR70L8"
      },
      "outputs": [],
      "source": [
        "square(2)"
      ]
    },
    {
      "cell_type": "markdown",
      "source": [
        "Note !"
      ],
      "metadata": {
        "id": "13Y_75WW7IvQ"
      }
    },
    {
      "cell_type": "code",
      "source": [
        "i = 1\n",
        "if i == 1 : print(i)"
      ],
      "metadata": {
        "id": "osO1uVjc6uNW"
      },
      "execution_count": null,
      "outputs": []
    },
    {
      "cell_type": "code",
      "source": [
        "i = 1\n",
        "if i == 1 : print(i)\n",
        "else : print(i+1)"
      ],
      "metadata": {
        "id": "b-iROTOf61an"
      },
      "execution_count": null,
      "outputs": []
    },
    {
      "cell_type": "code",
      "source": [
        "i = 2\n",
        "if i == 1 : print(i)\n",
        "print(i+1)"
      ],
      "metadata": {
        "id": "xi_L9MNL65b2",
        "colab": {
          "base_uri": "https://localhost:8080/"
        },
        "outputId": "67d8aa31-6a12-4812-88a4-e6576b47e129"
      },
      "execution_count": 122,
      "outputs": [
        {
          "output_type": "stream",
          "name": "stdout",
          "text": [
            "3\n"
          ]
        }
      ]
    },
    {
      "cell_type": "code",
      "source": [
        "i = 2\n",
        "if i == 1 : print(i)\n",
        "  print(i+1)"
      ],
      "metadata": {
        "id": "_gE2Yk5x7Boj"
      },
      "execution_count": null,
      "outputs": []
    },
    {
      "cell_type": "code",
      "source": [
        "for i in range(10): print(i)"
      ],
      "metadata": {
        "id": "mmPpXCWs6yRh"
      },
      "execution_count": null,
      "outputs": []
    },
    {
      "cell_type": "code",
      "source": [
        "def square(num): return num**2"
      ],
      "metadata": {
        "id": "q45iaz8W7W1n"
      },
      "execution_count": null,
      "outputs": []
    },
    {
      "cell_type": "markdown",
      "metadata": {
        "id": "cMtbxnl070L8"
      },
      "source": [
        "This is the form a function that a lambda expression intends to replicate. A lambda expression can then be written as:"
      ]
    },
    {
      "cell_type": "code",
      "execution_count": 123,
      "metadata": {
        "id": "3eGOH2Zv70L9",
        "colab": {
          "base_uri": "https://localhost:8080/"
        },
        "outputId": "be1764a6-a46d-424d-d11f-692a54193bfd"
      },
      "outputs": [
        {
          "output_type": "execute_result",
          "data": {
            "text/plain": [
              "<function __main__.<lambda>(num)>"
            ]
          },
          "metadata": {},
          "execution_count": 123
        }
      ],
      "source": [
        "lambda num: num ** 2"
      ]
    },
    {
      "cell_type": "code",
      "execution_count": 132,
      "metadata": {
        "collapsed": true,
        "id": "Br10f1A370L9"
      },
      "outputs": [],
      "source": [
        "# You wouldn't usually assign a name to a lambda expression, this is just for demonstration!\n",
        "square = lambda num: num **2"
      ]
    },
    {
      "cell_type": "code",
      "execution_count": 133,
      "metadata": {
        "id": "wZ9_ghQm70L-",
        "colab": {
          "base_uri": "https://localhost:8080/"
        },
        "outputId": "d5b4ac3f-5c73-45ca-fb7b-f0cd70d6938d"
      },
      "outputs": [
        {
          "output_type": "execute_result",
          "data": {
            "text/plain": [
              "4"
            ]
          },
          "metadata": {},
          "execution_count": 133
        }
      ],
      "source": [
        "square(2)"
      ]
    },
    {
      "cell_type": "markdown",
      "metadata": {
        "id": "TTBfQWkk70L-"
      },
      "source": [
        "So why would use this? Many function calls need a function passed in, such as map and filter. Often you only need to use the function you are passing in once, so instead of formally defining it, you just use the lambda expression. Let's repeat some of the examples from above with a lambda expression"
      ]
    },
    {
      "cell_type": "code",
      "execution_count": 126,
      "metadata": {
        "id": "0vcCNAdq70L_",
        "colab": {
          "base_uri": "https://localhost:8080/"
        },
        "outputId": "6081de2e-346f-44b2-ab60-882818d79562"
      },
      "outputs": [
        {
          "output_type": "execute_result",
          "data": {
            "text/plain": [
              "[1, 4, 9, 16, 25]"
            ]
          },
          "metadata": {},
          "execution_count": 126
        }
      ],
      "source": [
        "list(map(lambda num: num ** 2, my_nums))"
      ]
    },
    {
      "cell_type": "code",
      "execution_count": 127,
      "metadata": {
        "id": "r7RIa4qT70L_",
        "colab": {
          "base_uri": "https://localhost:8080/"
        },
        "outputId": "bfa0f78c-3189-4c92-af49-3b6f05539ad7"
      },
      "outputs": [
        {
          "output_type": "execute_result",
          "data": {
            "text/plain": [
              "[0, 2, 4, 6, 8, 10]"
            ]
          },
          "metadata": {},
          "execution_count": 127
        }
      ],
      "source": [
        "list(filter(lambda n: n % 2 == 0,nums))"
      ]
    },
    {
      "cell_type": "markdown",
      "metadata": {
        "id": "_OrxkGjM70MA"
      },
      "source": [
        "Here are a few more examples, keep in mind the more comples a function is, the harder it is to translate into a lambda expression, meaning sometimes its just easier (and often the only way) to create the def keyword function."
      ]
    },
    {
      "cell_type": "markdown",
      "metadata": {
        "id": "i8NyOKfM70MB"
      },
      "source": [
        "**Lambda expression for grabbing the first character of a string:**"
      ]
    },
    {
      "cell_type": "code",
      "execution_count": 128,
      "metadata": {
        "id": "0oeUusHQ70MC",
        "colab": {
          "base_uri": "https://localhost:8080/"
        },
        "outputId": "2fa5603d-e5b5-4473-ad25-6959b7610221"
      },
      "outputs": [
        {
          "output_type": "execute_result",
          "data": {
            "text/plain": [
              "<function __main__.<lambda>(s)>"
            ]
          },
          "metadata": {},
          "execution_count": 128
        }
      ],
      "source": [
        "lambda s: s[0]"
      ]
    },
    {
      "cell_type": "code",
      "source": [
        "s=\"hello\"\n",
        "take_first_letter = lambda s: s[0]\n",
        "take_first_letter(s)"
      ],
      "metadata": {
        "id": "0P1C1Fwx7yhA",
        "colab": {
          "base_uri": "https://localhost:8080/",
          "height": 35
        },
        "outputId": "2a7c219a-3df6-4450-97b8-0ff4d7900d72"
      },
      "execution_count": 134,
      "outputs": [
        {
          "output_type": "execute_result",
          "data": {
            "text/plain": [
              "'h'"
            ],
            "application/vnd.google.colaboratory.intrinsic+json": {
              "type": "string"
            }
          },
          "metadata": {},
          "execution_count": 134
        }
      ]
    },
    {
      "cell_type": "markdown",
      "metadata": {
        "id": "vqaBI7Hf70MC"
      },
      "source": [
        "**Lambda expression for reversing a string:**"
      ]
    },
    {
      "cell_type": "code",
      "execution_count": 130,
      "metadata": {
        "id": "trB9przB70MC",
        "colab": {
          "base_uri": "https://localhost:8080/",
          "height": 35
        },
        "outputId": "00fd24a1-4f71-4909-cb8c-cca404fbb3b9"
      },
      "outputs": [
        {
          "output_type": "execute_result",
          "data": {
            "text/plain": [
              "'olleh'"
            ],
            "application/vnd.google.colaboratory.intrinsic+json": {
              "type": "string"
            }
          },
          "metadata": {},
          "execution_count": 130
        }
      ],
      "source": [
        "rev=lambda s: s[::-1]\n",
        "rev(s)"
      ]
    },
    {
      "cell_type": "markdown",
      "metadata": {
        "id": "5Qu-2g9170ME"
      },
      "source": [
        "You can even pass in multiple arguments into a lambda expression. Again, keep in mind that not every function can be translated into a lambda expression."
      ]
    },
    {
      "cell_type": "code",
      "source": [
        "add = lambda x,y : x + y\n",
        "x = 1\n",
        "y = 2\n",
        "add(x,y)"
      ],
      "metadata": {
        "id": "_PCJk1bZ8OPB",
        "colab": {
          "base_uri": "https://localhost:8080/"
        },
        "outputId": "5f4c449c-5f3f-4987-9ac3-d04b04b9de16"
      },
      "execution_count": 131,
      "outputs": [
        {
          "output_type": "execute_result",
          "data": {
            "text/plain": [
              "3"
            ]
          },
          "metadata": {},
          "execution_count": 131
        }
      ]
    },
    {
      "cell_type": "markdown",
      "metadata": {
        "id": "fVHRlYluc8WM"
      },
      "source": [
        "### Example of Lambda Function in python\n",
        "Here is an example of lambda function that doubles the input value.\n",
        "\n"
      ]
    },
    {
      "cell_type": "code",
      "execution_count": null,
      "metadata": {
        "id": "MZfX2NEqc8WN"
      },
      "outputs": [],
      "source": [
        "# program to show use of lambda function\n",
        "\n",
        "double = lambda x:x * 2\n",
        "print(double((5)))"
      ]
    },
    {
      "cell_type": "code",
      "source": [
        "del double"
      ],
      "metadata": {
        "id": "GPANNPAza-ql"
      },
      "execution_count": null,
      "outputs": []
    },
    {
      "cell_type": "code",
      "source": [
        "double(10)"
      ],
      "metadata": {
        "id": "kIX2O5lpauPB"
      },
      "execution_count": null,
      "outputs": []
    },
    {
      "cell_type": "code",
      "source": [
        "type(double)"
      ],
      "metadata": {
        "id": "iHJWkQP8a1Kq"
      },
      "execution_count": null,
      "outputs": []
    },
    {
      "cell_type": "markdown",
      "metadata": {
        "id": "rFaUCNOec8WN"
      },
      "source": [
        "In the above program, `lambda x: x * 2` is the lambda function. Here `x` is the argument and `x * 2` is the expression that gets evaluated and returned.\n",
        "\n",
        "This function has no name. It returns a function object which is assigned to the identifier double. We can now call it as a normal function. The statement"
      ]
    },
    {
      "cell_type": "code",
      "execution_count": null,
      "metadata": {
        "id": "fOlL40-Qc8WN"
      },
      "outputs": [],
      "source": [
        "double = lambda x: x * 2\n"
      ]
    },
    {
      "cell_type": "markdown",
      "metadata": {
        "id": "CbwMIj6Pc8WO"
      },
      "source": [
        "is nearly the same as:\n",
        "\n"
      ]
    },
    {
      "cell_type": "code",
      "source": [
        "del double"
      ],
      "metadata": {
        "id": "wGy3DFEXzCsL"
      },
      "execution_count": null,
      "outputs": []
    },
    {
      "cell_type": "code",
      "execution_count": null,
      "metadata": {
        "id": "AVkj7Zijc8WO"
      },
      "outputs": [],
      "source": [
        "def double(x):\n",
        "    return x*2"
      ]
    },
    {
      "cell_type": "markdown",
      "metadata": {
        "id": "wMSlhsrTc8WO"
      },
      "source": [
        "\n",
        "#### Map with lambda"
      ]
    },
    {
      "cell_type": "markdown",
      "metadata": {
        "id": "Z9EU1c5Bc8WO"
      },
      "source": [
        "The `map()` function in Python takes in a function and a list.\n",
        "\n",
        "The function is called with all the items in the list and a new list is returned which contains items returned by that function for each item.\n",
        "\n",
        "Here is an example use of map() function to double all the items in a list."
      ]
    },
    {
      "cell_type": "code",
      "execution_count": null,
      "metadata": {
        "id": "6puUXZXuc8WO"
      },
      "outputs": [],
      "source": [
        "# Program to double each item in a list using map()\n",
        "\n",
        "my_list = [1, 5, 4, 6, 8, 11, 3, 12]\n",
        "\n",
        "new_list = list(map(lambda x: x * 2 , my_list)) # map() function takes in a function and a list\n",
        "\n",
        "print(new_list)"
      ]
    },
    {
      "cell_type": "markdown",
      "source": [
        "OR"
      ],
      "metadata": {
        "id": "P6Hi2-ZYb6XV"
      }
    },
    {
      "cell_type": "code",
      "source": [
        "# Program to double each item in a list using map()\n",
        "\n",
        "my_list = [1, 5, 4, 6, 8, 11, 3, 12]\n",
        "\n",
        "def double(x):\n",
        "    return x*2\n",
        "\n",
        "new_list = list(map(double, my_list)) # double(x) doesn't work here !! => because it will return a variable\n",
        "\n",
        "print(new_list)"
      ],
      "metadata": {
        "id": "_7iyWFswzUiB"
      },
      "execution_count": null,
      "outputs": []
    },
    {
      "cell_type": "markdown",
      "source": [
        "OR"
      ],
      "metadata": {
        "id": "RdMdL49L0fmL"
      }
    },
    {
      "cell_type": "code",
      "source": [
        "def double(x):\n",
        "    return x*2\n",
        "for i in range(len(my_list)):\n",
        "    my_list[i] = double(my_list[i])"
      ],
      "metadata": {
        "id": "swaLC1uobiPG"
      },
      "execution_count": null,
      "outputs": []
    },
    {
      "cell_type": "code",
      "source": [
        "my_list"
      ],
      "metadata": {
        "id": "PIWeHX8lb0J6"
      },
      "execution_count": null,
      "outputs": []
    },
    {
      "cell_type": "markdown",
      "metadata": {
        "id": "QBWOBK_nc8WP"
      },
      "source": [
        "#### Filter with lambda"
      ]
    },
    {
      "cell_type": "markdown",
      "metadata": {
        "id": "nW5uRP-Ac8WP"
      },
      "source": [
        "The `filter()` function in Python takes in a function and a list as arguments.\n",
        "\n",
        "The function is called with all the items in the list and a new list is returned which contains items for which the function evaluates to True.\n",
        "\n",
        "Here is an example use of filter() function to filter out only even numbers from a list."
      ]
    },
    {
      "cell_type": "code",
      "execution_count": null,
      "metadata": {
        "id": "be-5hzYHc8WP"
      },
      "outputs": [],
      "source": [
        "# Program to filter out only the even items from a list\n",
        "my_list = [1, 5, 4, 6, 8, 11, 3, 12]\n",
        "\n",
        "new_list = list(filter(lambda x: (x%2 == 0) , my_list)) # try to change filter with map\n",
        "# filter() function takes in (in the parameters) : a function and a list as arguments.\n",
        "\n",
        "print(new_list)"
      ]
    },
    {
      "cell_type": "markdown",
      "source": [
        "is nearly the same as:"
      ],
      "metadata": {
        "id": "qzHxDtXWjhC2"
      }
    },
    {
      "cell_type": "code",
      "source": [
        "my_list = [1, 5, 4, 6, 8, 11, 3, 12]\n",
        "filtered_list = [1, 5, 4, 6, 8, 11, 3, 12]  # filtered_list is a copy of my_list\n",
        "def even(x):\n",
        "    return x % 2 == 0\n",
        "\n",
        "# Iterate over a copy of the list to avoid modifying it during iteration\n",
        "for element in my_list[:]:  # [:] creates a shallow copy for iteration\n",
        "    if not even(element):\n",
        "        filtered_list.remove(element)  # remove by value instead of index\n",
        "\n",
        "print(filtered_list)"
      ],
      "metadata": {
        "id": "U8q-JCp_dBd_"
      },
      "execution_count": null,
      "outputs": []
    }
  ],
  "metadata": {
    "kernelspec": {
      "display_name": "Python 3",
      "language": "python",
      "name": "python3"
    },
    "language_info": {
      "codemirror_mode": {
        "name": "ipython",
        "version": 3
      },
      "file_extension": ".py",
      "mimetype": "text/x-python",
      "name": "python",
      "nbconvert_exporter": "python",
      "pygments_lexer": "ipython3",
      "version": "3.8.3"
    },
    "colab": {
      "provenance": [],
      "collapsed_sections": [
        "XxmItSw6c8Vv",
        "SYsWgWvh6kOt",
        "ErsxJe-Oi3yo",
        "F2e2yNLtc8WH",
        "Ekf_fGOrc8WI",
        "6rqaPNEhc8WJ",
        "VZf_wRZdc8WJ",
        "XP6F_Djy4_YM",
        "Lkrp1qgj7yMX",
        "oSUty9ls70LZ",
        "7HiEyK8270Lv",
        "IBDUMPKyNizp",
        "mBCXjgSc70Lz",
        "wMSlhsrTc8WO",
        "QBWOBK_nc8WP",
        "eWiibIJcc8WP"
      ]
    }
  },
  "nbformat": 4,
  "nbformat_minor": 0
}