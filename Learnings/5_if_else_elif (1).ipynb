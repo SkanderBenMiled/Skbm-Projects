{
  "cells": [
    {
      "cell_type": "markdown",
      "metadata": {
        "id": "rKiXkWeEwPrC"
      },
      "source": [
        "### Conditional statements\n",
        "In Python, condition statements act depending on whether a given condition is true or false. You can execute different blocks of codes depending on the outcome of a condition. Condition statements always evaluate to either True or False.\n",
        "\n",
        "There are three types of conditional statements.\n",
        "\n",
        "1. if statement\n",
        "2. if-else\n",
        "3. if-elif-else\n",
        "4. nested if-else"
      ]
    },
    {
      "cell_type": "markdown",
      "metadata": {
        "id": "zJohaGaVwPrE"
      },
      "source": [
        "## If statement in Python\n"
      ]
    },
    {
      "cell_type": "markdown",
      "metadata": {
        "id": "QSviRJPEwPrE"
      },
      "source": [
        "In control statements, The if statement is the simplest form. It takes a condition and evaluates to either True or False.\n",
        "\n",
        "If the condition is True, then the True block of code will be executed, and if the condition is False, then the block of code is skipped, and The controller moves to the next line\n",
        "\n",
        "Syntax of the if statement:"
      ]
    },
    {
      "cell_type": "code",
      "source": [
        "# if condition:\n",
        "#      statement 1\n",
        "#      statement 2\n",
        "#      statement n"
      ],
      "metadata": {
        "id": "_ABBbIsS_6Zd"
      },
      "execution_count": null,
      "outputs": []
    },
    {
      "cell_type": "markdown",
      "metadata": {
        "id": "6PG2Ze84wPrF"
      },
      "source": [
        "we will calculate the square of a number if it greater than 5\n",
        "\n"
      ]
    },
    {
      "cell_type": "code",
      "execution_count": null,
      "metadata": {
        "id": "mmsisrSdwPrG"
      },
      "outputs": [],
      "source": [
        "# Example :\n",
        "number = 6\n",
        "if number > 7: # change to 7\n",
        "    print(number * number) # Calculate square\n",
        "print('Next lines of code')"
      ]
    },
    {
      "cell_type": "code",
      "execution_count": null,
      "metadata": {
        "id": "nAzF06IqwPrH"
      },
      "outputs": [],
      "source": [
        "# Example :\n",
        "\n",
        "# If the number is positive, we print an appropriate message\n",
        "\n",
        "num = 3\n",
        "if num > 0:\n",
        "    print(num, \"is a positive number.\")\n",
        "print(\"This is always printed.\")\n",
        "\n",
        "num = -1\n",
        "if num > 0:\n",
        "    print(num, \"is a positive number.\")\n",
        "print(\"This is also always printed.\")"
      ]
    },
    {
      "cell_type": "markdown",
      "metadata": {
        "id": "dVdY3ImVwPrH"
      },
      "source": [
        "In the above example, the expression price < 100 evaluates to True, so it will execute the block. The if block starts from the new line after : and all the statements under the if condition starts with an increased indentation, either space or tab. Above, the if block contains only one statement. The following example has multiple statements in the if condition."
      ]
    },
    {
      "cell_type": "code",
      "execution_count": null,
      "metadata": {
        "id": "EnbQzK7xwPrI"
      },
      "outputs": [],
      "source": [
        "# Example : multiple statments in if block\n",
        "\n",
        "price = 50\n",
        "quantity = 5\n",
        "if price*quantity < 600:\n",
        "    print(\"price * quantity is less than 600\")\n",
        "    print(\"price\", price)\n",
        "    print(\"quantity\",quantity)"
      ]
    },
    {
      "cell_type": "markdown",
      "metadata": {
        "id": "s2Aq8bj4wPrI"
      },
      "source": [
        "Above, the if condition contains multiple statements with the same indentation. If all the statements are not in the same indentation, either space or a tab then it will raise an IdentationError."
      ]
    },
    {
      "cell_type": "code",
      "execution_count": null,
      "metadata": {
        "id": "2DQzKFZNwPrI"
      },
      "outputs": [],
      "source": [
        "# Example: Invalid Indentation in the Block\n",
        "price = 50\n",
        "quantity = 5\n",
        "if price*quantity < 600:\n",
        "    print(\"price * quantity is less than 600\")\n",
        "    print(\"price\", price)\n",
        "    print(\"quantity\",quantity)"
      ]
    },
    {
      "cell_type": "markdown",
      "metadata": {
        "id": "hXLAaB04wPrI"
      },
      "source": [
        "Note : The statements with the same indentation level as if condition will not consider in the if block. They will consider out of the if condition."
      ]
    },
    {
      "cell_type": "code",
      "execution_count": null,
      "metadata": {
        "id": "KKzA6boAwPrI"
      },
      "outputs": [],
      "source": [
        "# Example: Out of Block Statements\n",
        "price = 50\n",
        "quantity = 5\n",
        "if price*quantity < 100:\n",
        "    print(\"price * quantity is less than 600\")\n",
        "    print(\"price\", price)\n",
        "    print(\"quantity\",quantity)\n",
        "print(\"last line\")"
      ]
    },
    {
      "cell_type": "markdown",
      "metadata": {
        "id": "jPIlj1YdwPrI"
      },
      "source": [
        "#### The following example demonstrates multiple if conditions.\n",
        "\n"
      ]
    },
    {
      "cell_type": "code",
      "execution_count": null,
      "metadata": {
        "id": "k9dkiCDMwPrI"
      },
      "outputs": [],
      "source": [
        "price = 100\n",
        "if price > 100:\n",
        "    print(\"price is greater than 100\")\n",
        "if price ==100:\n",
        "    print(\"price is 100\")\n",
        "if price < 100:\n",
        "    print(\"price is less than 100\")"
      ]
    },
    {
      "cell_type": "markdown",
      "metadata": {
        "id": "_pPehhe7wPrJ"
      },
      "source": [
        "##### Note : Notice that each if block contains a statement in a different indentation, and that's valid because they are different from each other.\n",
        "\n"
      ]
    },
    {
      "cell_type": "markdown",
      "metadata": {
        "id": "4_9Tr4sSwPrJ"
      },
      "source": [
        "## If – else statement\n"
      ]
    },
    {
      "cell_type": "markdown",
      "metadata": {
        "id": "WKHryq2SwPrJ"
      },
      "source": [
        "The if-else statement checks the condition and executes the ‘if’ block of code when the condition is True, and if the condition is False, it will execute the else block of code.\n",
        "\n"
      ]
    },
    {
      "cell_type": "code",
      "execution_count": null,
      "metadata": {
        "id": "ZhF8LeO1wPrJ"
      },
      "outputs": [],
      "source": [
        " # Take values of length and breadth of a rectangle from user and check if it is square or not.\n",
        "print (\"Enter length\")\n",
        "length = input()\n",
        "print (\"Enter breadth\")\n",
        "breadth = input()\n",
        "if length == breadth:\n",
        "    print (\"Yes, it is square\")\n",
        "else:\n",
        "    print (\"No, it is only Rectangle\")"
      ]
    },
    {
      "cell_type": "markdown",
      "metadata": {
        "id": "ZVXoIUORwPrK"
      },
      "source": [
        "### Chain multiple if statement in Python\n",
        "In Python, the if-elif-else condition statement has an elif keyword used to chain multiple conditions one after another. The if-elif-else is useful when you need to check multiple conditions.\n",
        "\n",
        "With the help of if-elif-else we can make a tricky decision. The elif statement checks multiple conditions one by one and if the condition fulfills, then executes that code.\n",
        "\n",
        "Syntax of the if-elif-else statement:"
      ]
    },
    {
      "cell_type": "code",
      "source": [
        "# if condition1:\n",
        "#     statment1\n",
        "# elif condition2:\n",
        "#     statment2\n",
        "# elif condition3:\n",
        "#     statment3\n",
        "#     ....\n",
        "# else:\n",
        "#     statment\n"
      ],
      "metadata": {
        "id": "qZ3CRrbb-n-5"
      },
      "execution_count": null,
      "outputs": []
    },
    {
      "cell_type": "code",
      "execution_count": null,
      "metadata": {
        "id": "BUPQdtIswPrK"
      },
      "outputs": [],
      "source": [
        "# Take two int values from user and print greatest among them.\n",
        "\n",
        "print(\"Enter first number\")\n",
        "first = input()\n",
        "print(\" Enter second number\")\n",
        "second = input()\n",
        "\n",
        "if first > second:\n",
        "    print(\"Greater is \", first)\n",
        "elif second > first :\n",
        "    print(\"Greater is \", second)\n",
        "else:\n",
        "    print(\"Both are equal\")"
      ]
    },
    {
      "cell_type": "markdown",
      "metadata": {
        "id": "gLX387MrwPrL"
      },
      "source": [
        "Example  A school has following rules for grading system:\n",
        "* a. Below 25 - F\n",
        "* b. 25 to 45 - E\n",
        "* c. 45 to 50 - D\n",
        "* d. 50 to 60 - C\n",
        "* e. 60 to 80 - B\n",
        "* f. Above 80 - A\n",
        "* Ask user to enter marks and print the corresponding grade."
      ]
    },
    {
      "cell_type": "code",
      "execution_count": null,
      "metadata": {
        "id": "s6nmVuMLwPrL"
      },
      "outputs": [],
      "source": [
        "print(\" Enter marks\")\n",
        "\n",
        "marks = int(input())\n",
        "if marks < 25:\n",
        "    print (\"F\")\n",
        "elif marks >= 25 and marks < 45:\n",
        "    print (\"E\")\n",
        "elif marks >= 50 and marks < 60:\n",
        "    print (\"D\")\n",
        "elif marks >= 60 and marks < 80:\n",
        "    print (\"B\")\n",
        "else:\n",
        "    print(\"A\")"
      ]
    },
    {
      "cell_type": "markdown",
      "metadata": {
        "id": "0_FtzOEjwPrP"
      },
      "source": [
        "### Nested if-else statement\n",
        "In Python, Nested-if-else statement is an if statement inside another if-else statement. It is allowed in Python to put any number of if statements in another if statement.\n",
        "\n",
        "Indentation is the only way to differentiate the level of nesting. The nested-if else is useful when we want to make a series of decisions.\n",
        "\n",
        "Syntax of the nested-if-else:"
      ]
    },
    {
      "cell_type": "code",
      "source": [
        "# if (condition1):\n",
        "#    # Executes when condition1 is true\n",
        "#    if (condition2):\n",
        "#       # Executes when condition2 is true\n",
        "#    # if Block is end here\n",
        "# # if Block is end here"
      ],
      "metadata": {
        "id": "wyreHWNfsOjj"
      },
      "execution_count": null,
      "outputs": []
    },
    {
      "cell_type": "code",
      "execution_count": null,
      "metadata": {
        "id": "J1MUWwGfwPrQ"
      },
      "outputs": [],
      "source": [
        "# example 1\n",
        "x = 31\n",
        "if x < 40 :\n",
        "    print(\"under 40\")\n",
        "    if x>20: # if imbriqué\n",
        "        print(\"above 20\")\n",
        "    else:\n",
        "        print(\"not above 20\")"
      ]
    },
    {
      "cell_type": "code",
      "source": [
        "# example 1\n",
        "x = 31\n",
        "if x < 40 :\n",
        "    print(\"under 40\")\n",
        "    if x>20: # if imbriqué\n",
        "        print(\"above 20\")\n",
        "    else:\n",
        "        print(\"not above 20\")"
      ],
      "metadata": {
        "id": "liquTbgoKUL_"
      },
      "execution_count": null,
      "outputs": []
    },
    {
      "cell_type": "code",
      "execution_count": null,
      "metadata": {
        "id": "EBk1lX75wPrQ"
      },
      "outputs": [],
      "source": [
        "i = 13\n",
        "\n",
        "if (i == 13):\n",
        "    #  First if statement\n",
        "    if (i < 15):\n",
        "        print (\"i is smaller than 15\")\n",
        "\n",
        "    # Nested - if statement\n",
        "    # Will only be executed if statement above is true\n",
        "    if (i < 12):\n",
        "        print (\"i is smaller than 12 too\")\n",
        "    else:\n",
        "        print (\"i is greater than 12 and smaller than 15\")"
      ]
    },
    {
      "cell_type": "code",
      "source": [
        "# help(list)"
      ],
      "metadata": {
        "id": "CjV3gsmEIwcd"
      },
      "execution_count": null,
      "outputs": []
    },
    {
      "cell_type": "markdown",
      "source": [
        "# Exercices :"
      ],
      "metadata": {
        "id": "qZC890tEBV7j"
      }
    },
    {
      "cell_type": "markdown",
      "source": [
        "Ex 1 :\n",
        "\n",
        "\n",
        "\n",
        "Create a variable called \"number\" and assign any integer value to it.\n",
        "\n",
        "Use an if-else statement to check if the number is even or odd. You can use the modulo operator (%), which returns the remainder of a division operation, to check if the number is divisible by 2. If the remainder is 0, the number is even, otherwise it is odd.\n",
        "\n",
        "You can also use logical operator \"and\" to check if the number is divisible by 2 and greater than 10.\n",
        "\n",
        "You can use logical operator \"or\" to check if the number is either divisible by 2 or greater than 10.\n"
      ],
      "metadata": {
        "id": "1UIt4lk4BrG1"
      }
    },
    {
      "cell_type": "code",
      "source": [
        "# Create a variable called \"number\" and assign any integer value to it\n",
        "number = 15\n",
        "\n",
        "# Check if the number is even or odd using modulo (%)\n",
        "if number % 2 == 0:\n",
        "    print(f\"{number} is even.\")\n",
        "else:\n",
        "    print(f\"{number} is odd.\")\n",
        "\n",
        "# Check if the number is divisible by 2 and greater than 10 using \"and\"\n",
        "if number % 2 == 0 and number > 10:\n",
        "    print(f\"{number} is divisible by 2 and greater than 10.\")\n",
        "\n",
        "# Check if the number is divisible by 2 or greater than 10 using \"or\"\n",
        "if number % 2 == 0 or number > 10:\n",
        "    print(f\"{number} is either divisible by 2 or greater than 10.\")\n"
      ],
      "metadata": {
        "id": "07Xs1b9BBr_D",
        "colab": {
          "base_uri": "https://localhost:8080/"
        },
        "outputId": "1d7f447e-d189-49fc-f674-030177e95b1f"
      },
      "execution_count": 1,
      "outputs": [
        {
          "output_type": "stream",
          "name": "stdout",
          "text": [
            "15 is odd.\n",
            "15 is either divisible by 2 or greater than 10.\n"
          ]
        }
      ]
    },
    {
      "cell_type": "markdown",
      "source": [
        "Ex 2\n",
        "\n",
        "Objective: Create a program that takes an employee's performance score and prints out their rating. The rating criteria are as follows:\n",
        "\n",
        "Score >= 90: Outstanding\n",
        "\n",
        "80 <= Score < 90: Exceeds Expectations\n",
        "\n",
        "70 <= Score < 80: Meets Expectations\n",
        "\n",
        "60 <= Score < 70: Needs Improvement\n",
        "\n",
        "Score < 60: Unsatisfactory"
      ],
      "metadata": {
        "id": "k6UbHzoTDWZZ"
      }
    },
    {
      "cell_type": "code",
      "source": [
        "# Get the employee's performance score\n",
        "score = float(input(\"Enter the employee's performance score: \"))\n",
        "\n",
        "# Determine the performance rating\n",
        "if score >= 90:\n",
        "    print(\"Rating: Outstanding\")\n",
        "elif 80 <= score < 90:\n",
        "    print(\"Rating: Exceeds Expectations\")\n",
        "elif 70 <= score < 80:\n",
        "    print(\"Rating: Meets Expectations\")\n",
        "elif 60 <= score < 70:\n",
        "    print(\"Rating: Needs Improvement\")\n",
        "else:\n",
        "    print(\"Rating: Unsatisfactory\")"
      ],
      "metadata": {
        "id": "oLtL5H2rDYgx",
        "colab": {
          "base_uri": "https://localhost:8080/"
        },
        "outputId": "089e1472-53f7-4711-c3b1-a77145975bff"
      },
      "execution_count": 2,
      "outputs": [
        {
          "output_type": "stream",
          "name": "stdout",
          "text": [
            "Enter the employee's performance score: 40\n",
            "Rating: Unsatisfactory\n"
          ]
        }
      ]
    },
    {
      "cell_type": "markdown",
      "source": [
        "Ex 3\n",
        "\n",
        "Objective: Create a program that checks whether a given key exists in student_scores dictionary. If the key exists, print its value; if it doesn’t, add a new key-value pair to the dictionary.\n",
        "\n",
        "student_scores = {\n",
        "    \"Alice\": 85,\n",
        "    \"Bob\": 90,\n",
        "    \"Charlie\": 78\n",
        "}\n"
      ],
      "metadata": {
        "id": "4GpuoiQUDySl"
      }
    },
    {
      "cell_type": "code",
      "source": [
        "student_scores = {\n",
        "    \"Alice\": 85,\n",
        "    \"Bob\": 90,\n",
        "    \"Charlie\": 78\n",
        "}\n",
        "student_scores['Alice']"
      ],
      "metadata": {
        "colab": {
          "base_uri": "https://localhost:8080/"
        },
        "id": "gAJ-Aj-GaReW",
        "outputId": "d0c85032-43ae-4478-8ae4-81e678f8c117"
      },
      "execution_count": 3,
      "outputs": [
        {
          "output_type": "execute_result",
          "data": {
            "text/plain": [
              "85"
            ]
          },
          "metadata": {},
          "execution_count": 3
        }
      ]
    },
    {
      "cell_type": "code",
      "source": [
        "student_scores = {\n",
        "    \"Alice\": 85,\n",
        "    \"Bob\": 90,\n",
        "    \"Charlie\": 78\n",
        "}\n",
        "\n",
        "# Ask for a student name\n",
        "student_name = input(\"Enter the student's name: \")\n",
        "\n",
        "# Check if the student exists in the dictionary\n",
        "if student_name in student_scores: # boolean result here !\n",
        "    print(f\"{student_name}'s score is: {student_scores[student_name]}\")\n",
        "else:\n",
        "    # If the student doesn't exist, add a new score\n",
        "    score = int(input(f\"Enter {student_name}'s score: \"))\n",
        "    student_scores[student_name] = score\n",
        "    print(f\"{student_name} has been added with a score of {score}.\")\n"
      ],
      "metadata": {
        "id": "6gUG8uigD0yS",
        "colab": {
          "base_uri": "https://localhost:8080/"
        },
        "outputId": "7b2c49a2-12f1-4306-e1e4-e29c257ae5fa"
      },
      "execution_count": 5,
      "outputs": [
        {
          "output_type": "stream",
          "name": "stdout",
          "text": [
            "Enter the student's name: Hanen\n",
            "Enter Hanen's score: 100\n",
            "Hanen has been added with a score of 100.\n"
          ]
        }
      ]
    },
    {
      "cell_type": "markdown",
      "source": [
        "Ex 4\n",
        "\n",
        "Create a program that:\n",
        "\n",
        "1. Sorts the list numbers = [5,9,3,4,7,0,20,15,27]\n",
        "2. Asks if the user wants to search for a number in the list.\n",
        "3. If the number is found, print \"Number found\", otherwise, print \"Number not found\"."
      ],
      "metadata": {
        "id": "s03JqGjWEaSf"
      }
    },
    {
      "cell_type": "code",
      "source": [
        "# Ask for a list of numbers\n",
        "numbers = [5,9,3,4,7,0,20,15,27]\n",
        "\n",
        "# Sort the numbers in ascending order\n",
        "numbers.sort()\n",
        "print(\"Sorted list:\", numbers)\n",
        "\n",
        "# Ask for a number to search for\n",
        "search_number = int(input(\"Enter a number to search for: \"))\n",
        "\n",
        "# Check if the number is in the list\n",
        "if search_number in numbers:\n",
        "    print(\"Number found.\")\n",
        "else:\n",
        "    print(\"Number not found.\")\n"
      ],
      "metadata": {
        "id": "lZX140LOEi2g",
        "colab": {
          "base_uri": "https://localhost:8080/"
        },
        "outputId": "e25a0ddd-b334-4638-9b91-c5d4764e05fa"
      },
      "execution_count": 7,
      "outputs": [
        {
          "output_type": "stream",
          "name": "stdout",
          "text": [
            "Sorted list: [0, 3, 4, 5, 7, 9, 15, 20, 27]\n",
            "Enter a number to search for: 2\n",
            "Number not found.\n"
          ]
        }
      ]
    },
    {
      "cell_type": "raw",
      "metadata": {
        "id": "SnrGcHTQwPrL"
      },
      "source": [
        "Ex 5:\n",
        "\n",
        "A student will not be allowed to sit in exam if his/her attendence is less than 75%.\n",
        "Take following input from user\n",
        "Number of classes held\n",
        "Number of classes attended.\n",
        "And print\n",
        "percentage of class attended\n",
        "Is student is allowed to sit in exam or not."
      ]
    },
    {
      "cell_type": "code",
      "execution_count": 8,
      "metadata": {
        "id": "-9tLmNDBwPrP",
        "colab": {
          "base_uri": "https://localhost:8080/"
        },
        "outputId": "96358d61-d852-4af6-c0aa-cb32546e1b34"
      },
      "outputs": [
        {
          "output_type": "stream",
          "name": "stdout",
          "text": [
            "Enter No. of class held\n",
            "10\n",
            "Enter No. of class attended\n",
            "7\n",
            " Attendence is 70.0\n",
            "Sorry!,Not allowed to sit in exam\n"
          ]
        }
      ],
      "source": [
        "print(\"Enter No. of class held\")\n",
        "class_held = int(input())\n",
        "print(\"Enter No. of class attended\")\n",
        "class_attended = int(input())\n",
        "atten = (class_attended/float(class_held))*100\n",
        "print(\" Attendence is\",atten)\n",
        "\n",
        "if atten >= 75:\n",
        "    print(\"u are allowed to sit in exam\")\n",
        "else:\n",
        "    print(\"Sorry!,Not allowed to sit in exam\")"
      ]
    },
    {
      "cell_type": "markdown",
      "source": [
        "Python Syntax Checkpoint :\n",
        "\n",
        "Objective\n",
        "Congratulations, you've got a job at Python Pizza. Your first job is to build an automatic pizza order program. Based on a user's order, work out their final bill.\n",
        "\n",
        " ``` Small Pizza: $15 ```\n",
        "\n",
        "``` Medium Pizza: $20 ```\n",
        "\n",
        "``` Large Pizza: $25 ```\n",
        "\n",
        "If they want to add pepperoni :\n",
        "\n",
        "``` Pepperoni for Small Pizza: +$2 ```\n",
        "\n",
        "``` Pepperoni for Medium or Large Pizza: +$3 ```\n",
        "\n",
        "If they want cheese :\n",
        "\n",
        " ``` Extra cheese for any size pizza: + $1 ```\n",
        "\n",
        "\n",
        "Instructions\n",
        "Open a new file in your Python development environment or IDE.\n",
        "Begin by typing the line 'Welcome to Python Pizza Deliveries' which will display a welcome message when the code is run.\n",
        "Add a line that prompts the user for the size of the pizza they want using the input() function and stores the user's input in a variable named 'size'.\n",
        "Add a line that prompts the user if they want pepperoni on their pizza using the input() function and stores the user's input in a variable named 'add_pepperoni'.\n",
        "Add a line that prompts the user if they want extra cheese on their pizza using the input() function and stores the user's input in a variable named 'extra_cheese'.\n",
        "Check your code for any syntax errors or mistakes.\n",
        "Run the code and test it by providing inputs for size, pepperoni, and extra cheese.\n",
        "Example Input\n",
        "\n",
        "size = \"L\"\n",
        "\n",
        "add_pepperoni = \"Y\"\n",
        "\n",
        "extra_cheese = \"N\"\n",
        "\n",
        "Example Output\n",
        "\n",
        "Your final bill is: $28.\n",
        "\n",
        "When you hit **run**, this is what should happen"
      ],
      "metadata": {
        "id": "GBfQkAUxBINa"
      }
    },
    {
      "cell_type": "code",
      "source": [],
      "metadata": {
        "id": "5z_2s005BU8v"
      },
      "execution_count": null,
      "outputs": []
    }
  ],
  "metadata": {
    "kernelspec": {
      "display_name": "Python 3",
      "language": "python",
      "name": "python3"
    },
    "language_info": {
      "codemirror_mode": {
        "name": "ipython",
        "version": 3
      },
      "file_extension": ".py",
      "mimetype": "text/x-python",
      "name": "python",
      "nbconvert_exporter": "python",
      "pygments_lexer": "ipython3",
      "version": "3.8.3"
    },
    "colab": {
      "provenance": []
    }
  },
  "nbformat": 4,
  "nbformat_minor": 0
}