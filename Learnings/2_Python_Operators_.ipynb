{
  "cells": [
    {
      "cell_type": "markdown",
      "metadata": {
        "id": "EhYBppL_JyNm"
      },
      "source": [
        "Operators are special symbols that perform specific operations on one or more operands (values) and then return a result. For example, you can calculate the sum of two numbers using an addition (+) operator."
      ]
    },
    {
      "cell_type": "markdown",
      "metadata": {
        "id": "h6xyu4sYJyNo"
      },
      "source": [
        "Python has seven types of operators that we can use to perform different operation and produce a result.\n",
        " 1. Arithmetic operator\n",
        " 2. Relational operators\n",
        " 3. Assignment operators\n",
        " 4. Logical operators\n",
        " 5. Membership operators\n",
        " 6. Identity operators\n",
        " 7. Bitwise operators"
      ]
    },
    {
      "cell_type": "markdown",
      "metadata": {
        "id": "pf7ofGKwJyNo"
      },
      "source": [
        "## 1. Arithmetic operator"
      ]
    },
    {
      "cell_type": "markdown",
      "metadata": {
        "id": "aYcdWqttJyNp"
      },
      "source": [
        "Arithmetic operators are the most commonly used. The Python programming language provides arithmetic operators that perform addition, subtraction, multiplication, and division. It works the same as basic mathematics.\n",
        "\n",
        "There are seven arithmetic operators we can use to perform different mathematical operations, such as:"
      ]
    },
    {
      "cell_type": "markdown",
      "metadata": {
        "id": "fotaJikFJyNp"
      },
      "source": [
        "1. (+)(Addition)\n",
        "2. (-)(Subtraction)\n",
        "3. (*) (Multiplication)\n",
        "4. (/) (Division)\n",
        "5. (//) Floor division)\n",
        "6. (℅) (Modulus)\n",
        "7. (**) (Exponentiation)"
      ]
    },
    {
      "cell_type": "markdown",
      "metadata": {
        "id": "VkC20St1JyNp"
      },
      "source": [
        "| Operator|Meaning|Example |\n",
        "|:- |----|------|\n",
        "| +\t| Add |  two operands or unary plus\t| x + y+ 2 |\n",
        "| -\t|Subtract right operand from the left or unary minus | x - y- 2|\n",
        "| *\t|Multiply two operands| x * y |\n",
        "| /\t|Divide left operand by the right one (always results into float)| x / y |\n",
        "| %\t|Modulus - remainder of the division of left operand by the right| x % y (remainder of x/y) |\n",
        "| //|Floor division - division that results into whole number adjusted to the left in the number line|x // y|\n",
        "|**\t|Exponent - left operand raised to the power of right|x**y (x to the power y)|"
      ]
    },
    {
      "cell_type": "markdown",
      "metadata": {
        "id": "hI6S5gnqJyNq"
      },
      "source": [
        "Now, let’s see how to use each arithmetic operator in our program with the help of examples."
      ]
    },
    {
      "cell_type": "markdown",
      "metadata": {
        "id": "A2RzDbaTJyNq"
      },
      "source": [
        "##### Addition operator +"
      ]
    },
    {
      "cell_type": "markdown",
      "metadata": {
        "id": "bPS6Vc0FJyNq"
      },
      "source": [
        "It adds two or more operands and gives their sum as a result. It works the same as a unary plus. In simple terms,  It performs the addition of two or more than two values and gives their sum as a result.\n",
        "\n",
        "Example"
      ]
    },
    {
      "cell_type": "code",
      "execution_count": null,
      "metadata": {
        "id": "1hQNbP92JyNr"
      },
      "outputs": [],
      "source": [
        "x = 10\n",
        "y = 20\n",
        "print(x + y)"
      ]
    },
    {
      "cell_type": "markdown",
      "metadata": {
        "id": "-uzpzYaAJyNs"
      },
      "source": [
        "Also, we can use the addition operator with strings, and it will become string concatenation."
      ]
    },
    {
      "cell_type": "code",
      "execution_count": null,
      "metadata": {
        "id": "0HPVQfcdJyNs"
      },
      "outputs": [],
      "source": [
        "name = \"Deepali\"\n",
        "surname = \" Shinde \"\n",
        "print(name + surname)"
      ]
    },
    {
      "cell_type": "code",
      "execution_count": null,
      "metadata": {
        "id": "FlNduuPRJyNs"
      },
      "outputs": [],
      "source": [
        "#OR\n",
        "name = \"Kelly\"\n",
        "surname = \"Ault\"\n",
        "print(surname + \" \" + name)"
      ]
    },
    {
      "cell_type": "markdown",
      "metadata": {
        "id": "J1Mxrgk4JyNs"
      },
      "source": [
        "##### Subtraction -"
      ]
    },
    {
      "cell_type": "markdown",
      "metadata": {
        "id": "iJEzxSBpJyNt"
      },
      "source": [
        "Use to subtracts the second value from the first value and gives the difference between them. It works the same as a unary minus. The subtraction operator is denoted by - symbol."
      ]
    },
    {
      "cell_type": "code",
      "execution_count": null,
      "metadata": {
        "id": "IiGCnukAJyNt"
      },
      "outputs": [],
      "source": [
        "x = 50\n",
        "y = 20\n",
        "print(x - y)\n",
        "print(y - x)"
      ]
    },
    {
      "cell_type": "markdown",
      "metadata": {
        "id": "1LX84gTvJyNt"
      },
      "source": [
        "##### Multiplication *"
      ]
    },
    {
      "cell_type": "markdown",
      "metadata": {
        "id": "FPDyYJN2JyNt"
      },
      "source": [
        "Multiply two operands. In simple terms, it is used to multiplies two or more values and gives their product as a result. The multiplication operator is denoted by a * symbol."
      ]
    },
    {
      "cell_type": "code",
      "execution_count": null,
      "metadata": {
        "id": "1Mtx41aTJyNt"
      },
      "outputs": [],
      "source": [
        "a = 8\n",
        "b = 3\n",
        "c = 2\n",
        "print( a*b)\n",
        "print(a*b*c)"
      ]
    },
    {
      "cell_type": "markdown",
      "metadata": {
        "id": "nuPonzG8JyNu"
      },
      "source": [
        "You can also use the multiplication operator with string. When used with string, it works as a repetition."
      ]
    },
    {
      "cell_type": "code",
      "execution_count": null,
      "metadata": {
        "id": "0pNnsz9qJyNu"
      },
      "outputs": [],
      "source": [
        "name = \"Deepali\"\n",
        "print(name * 3)"
      ]
    },
    {
      "cell_type": "markdown",
      "metadata": {
        "id": "o1khV-vzJyNu"
      },
      "source": [
        "##### Division /"
      ]
    },
    {
      "cell_type": "markdown",
      "metadata": {
        "id": "JGdmkxxWJyNu"
      },
      "source": [
        "Divide the left operand (dividend) by the right one (divisor) and provide the result (quotient ) in a float value. The division operator is denoted by a / symbol.\n",
        "\n",
        "Note:\n",
        "\n",
        "The division operator performs floating-point arithmetic. Hence it always returns a float value.\n",
        "Don’t divide any number by zero. You will get a Zero Division Error: Division by zero"
      ]
    },
    {
      "cell_type": "code",
      "execution_count": null,
      "metadata": {
        "id": "lqrRo52jJyNu"
      },
      "outputs": [],
      "source": [
        "x = 2\n",
        "y = 4\n",
        "z = 7\n",
        "\n",
        "print(x/y)\n",
        "a=x/y\n",
        "print(a/z)\n",
        "print(x/y/z)\n",
        "print((x/y)*z)"
      ]
    },
    {
      "cell_type": "markdown",
      "metadata": {
        "id": "pcBsMZ2CJyNv"
      },
      "source": [
        "##### 5. Floor division //"
      ]
    },
    {
      "cell_type": "markdown",
      "metadata": {
        "id": "uX8JQRSJJyNv"
      },
      "source": [
        "Floor division returns the **quotient** (the result of division) in which the digits after the decimal point are removed. In simple terms, It is used to divide one value by a second value and gives a quotient as a round figure value to the next smallest whole value.\n",
        "\n",
        "It works the same as a division operator, except it returns a possible integer. The // symbol denotes a floor division operator.\n",
        "\n",
        "Note:\n",
        "\n",
        "Floor division can perform both floating-point and integer arithmetic.\n",
        "If both operands are int type, then the result types. If at least one operand type, then the result is a float type.\n"
      ]
    },
    {
      "cell_type": "code",
      "execution_count": null,
      "metadata": {
        "id": "GmmMpa4gJyNv"
      },
      "outputs": [],
      "source": [
        "a = 3\n",
        "b = 5\n",
        "c = 2.2\n",
        "\n",
        "# Normal Division\n",
        "print(b/a)\n",
        "\n",
        "# floor division to get result as integer\n",
        "print(b//a)\n",
        "\n",
        "# normal division\n",
        "print(b/c)\n",
        "\n",
        "# floor division.\n",
        "# Result as float because one argument is float\n",
        "print(b//c)\n",
        "\n"
      ]
    },
    {
      "cell_type": "markdown",
      "metadata": {
        "id": "rdnvHja6JyNv"
      },
      "source": [
        "##### 6. Modulus ℅"
      ]
    },
    {
      "cell_type": "markdown",
      "metadata": {
        "id": "keOnxAyTJyNv"
      },
      "source": [
        "The **remainder of the division** of left operand by the right. The modulus operator is denoted by a % symbol. In simple terms, the Modulus operator divides one value by a second and gives the remainder as a result."
      ]
    },
    {
      "cell_type": "code",
      "execution_count": null,
      "metadata": {
        "id": "C3HM2ztkJyNv"
      },
      "outputs": [],
      "source": [
        "a = 12\n",
        "b = 5\n",
        "print(a%b)"
      ]
    },
    {
      "cell_type": "markdown",
      "metadata": {
        "id": "7k7NrtWxJyNw"
      },
      "source": [
        "##### 7. Exponent **"
      ]
    },
    {
      "cell_type": "markdown",
      "metadata": {
        "id": "M4odNN2NJyNw"
      },
      "source": [
        "Using exponent operator left operand raised to the power of right. The exponentiation operator is denoted by a double asterisk ** symbol. You can use it as a shortcut to calculate the exponential value.\n",
        "\n",
        "For example, 2**3 Here 2 is multiplied by itself 3 times, i.e., 2 * 2 * 2. Here the 2 is the base, and 3 is an exponent."
      ]
    },
    {
      "cell_type": "code",
      "execution_count": null,
      "metadata": {
        "id": "sNGzQRuyJyNw"
      },
      "outputs": [],
      "source": [
        "number = 2\n",
        "print(number**4)"
      ]
    },
    {
      "cell_type": "markdown",
      "metadata": {
        "id": "8AV0yWPPJyNw"
      },
      "source": [
        "## 2. Relational (comparison) operators"
      ]
    },
    {
      "cell_type": "markdown",
      "metadata": {
        "id": "_IXML8wYJyNw"
      },
      "source": [
        "Relational operators are also called comparison operators. It performs a comparison between two values. It returns a boolean  True or False depending upon the result of the comparison.\n",
        "\n",
        "Python has the following six relational operators.\n",
        "\n"
      ]
    },
    {
      "cell_type": "markdown",
      "metadata": {
        "id": "Ef0SIuMrJyNx"
      },
      "source": [
        "|Operator | Description | Example\n",
        "|:- |:-|:-|\n",
        "|1. == | Checks both left and right operands are same | 10 == 10 it will return true.10 == 7 it will return false |\n",
        "|2. != | Checks both left and right operands are not same. | 10 != 20 it will return true.10 != 10 it will return false.|\n",
        "|3.  <  | Checks whether the left operand is smaller than the right operand. | 5 < 10 it will return true.10 < 10 it will |return false.|\n",
        "|4.  <= | Checks whether the left operand is smaller than or equal to the right operand.| 10 <= 10 it will return true 20 <= 10 it will return false.|\n",
        "|5.  > | Checks whether the left operand is greater than the right operand.| 50 > 10 it will return true5 > 10 it will return false.|\n",
        "|6.  >= | Checks whether the left operand is greater than or equal to the right operand.|10 >= 10 it will return true 5 >= 10 it will return false.|"
      ]
    },
    {
      "cell_type": "markdown",
      "metadata": {
        "id": "XpEqeghNJyNx"
      },
      "source": [
        "## Observations"
      ]
    },
    {
      "cell_type": "markdown",
      "metadata": {
        "id": "FBdZYccoJyNx"
      },
      "source": [
        "You can compare more than two values also. Assume variable x holds 10, variable y holds 5, and variable z holds 2.\n",
        "\n",
        "So print(x > y > z) will return True because x is greater than y, and y is greater than z, so it makes x is greater than z."
      ]
    },
    {
      "cell_type": "code",
      "source": [
        "a = 12\n",
        "b = 4\n",
        "c = 2\n",
        "\n",
        "# > Greater than\n",
        "print(a > b)  # True\n",
        "print(a > b > c)  # True"
      ],
      "metadata": {
        "id": "tVfW0zHxPp6k"
      },
      "execution_count": null,
      "outputs": []
    },
    {
      "cell_type": "code",
      "execution_count": null,
      "metadata": {
        "id": "_Wzlh01oJyN3"
      },
      "outputs": [],
      "source": [
        "\n",
        "\n",
        "# < Less than\n",
        "print(a < b)  # False\n",
        "print(b < a)  # True\n",
        "\n",
        "# Equal to\n",
        "print(a == b)  # False\n",
        "print(a == 12)  # True\n",
        "\n",
        "# != Not Equal to\n",
        "print(a != b)  # True\n",
        "print(12 != a)  # False\n",
        "\n",
        "# >= Greater than equal to\n",
        "print(a >= b)  # True\n",
        "print(12 >= a)  # True\n",
        "\n",
        "# <= Less than equal to\n",
        "print(a <= b)  # False\n",
        "print(12 <= a)  # True"
      ]
    },
    {
      "cell_type": "markdown",
      "metadata": {
        "id": "gZfr8v3-JyN3"
      },
      "source": [
        "## 3. Assignment operators"
      ]
    },
    {
      "cell_type": "markdown",
      "metadata": {
        "id": "NCWvF4crJyN3"
      },
      "source": [
        "In Python, Assignment operators are used to assigning value to the variable. Assign operator is denoted by = symbol.\n"
      ]
    },
    {
      "cell_type": "markdown",
      "metadata": {
        "id": "2Mk7Rdz2JyN4"
      },
      "source": [
        "|Operator|Description|Example\n",
        "|:- |:- |:-\n",
        "|= | Assigns values from right side operands to left side operand|c = a + b assigns value of a + b into c\n",
        "|+= Add AND|It adds right operand to the left operand and assign the result to left operand|c += a is equivalent to c = c + a\n",
        "|-= Subtract AND | It subtracts right operand from the left operand and assign the result to left operand|c -= a is equivalent to c = c - a\n",
        "|*= Multiply AND|It multiplies right operand with the left operand and assign the result to left operand|c *= a is equivalent to c = c * a\n",
        " /= Divide AND|It divides left operand with the right operand and assign the result to left operand|c /= a is equivalent to c = c / a\n",
        "%= Modulus ANd |It takes modulus using two operands and assign the result to left operand|c %= a is equivalent to c = c % a\n",
        "**= Exponent AND|Performs exponential (power) calculation on operators and assign value to the left operand|c **= a is equivalent to c = c ** a\n",
        "//= Floor Division|It performs floor division on operators and assign value to the left operand|c //= a is equivalent to c = c // a"
      ]
    },
    {
      "cell_type": "code",
      "source": [
        "a = 4\n",
        "b = 2\n",
        "\n",
        "a += b # a = a + b"
      ],
      "metadata": {
        "id": "X2ytn7W5QI1t"
      },
      "execution_count": null,
      "outputs": []
    },
    {
      "cell_type": "code",
      "source": [
        "c +=b"
      ],
      "metadata": {
        "id": "DHb_NPW2QY89"
      },
      "execution_count": null,
      "outputs": []
    },
    {
      "cell_type": "code",
      "source": [
        "b"
      ],
      "metadata": {
        "id": "3oNYOZN7Qgf9"
      },
      "execution_count": null,
      "outputs": []
    },
    {
      "cell_type": "code",
      "source": [
        "f += b"
      ],
      "metadata": {
        "id": "siKtJx2FQdp7"
      },
      "execution_count": null,
      "outputs": []
    },
    {
      "cell_type": "code",
      "source": [
        "print(a)"
      ],
      "metadata": {
        "id": "8WRh_MXGQJ_t"
      },
      "execution_count": null,
      "outputs": []
    },
    {
      "cell_type": "code",
      "source": [
        "a = 4\n",
        "a -= 2 # a = a-2\n",
        "print(a)  # 2"
      ],
      "metadata": {
        "id": "88UKcttOQ3X3"
      },
      "execution_count": null,
      "outputs": []
    },
    {
      "cell_type": "code",
      "execution_count": null,
      "metadata": {
        "id": "c4FGwyZ5JyN4"
      },
      "outputs": [],
      "source": [
        "\n",
        "print(a)  # 6\n",
        "\n",
        "\n",
        "\n",
        "a = 4\n",
        "a *= 2\n",
        "print(a)  # 8\n",
        "\n",
        "a = 4\n",
        "a /= 2\n",
        "print(a)  # 2.0\n",
        "\n",
        "a = 4\n",
        "a **= 2\n",
        "print(a)  # 16\n",
        "\n",
        "a = 5\n",
        "a %= 2\n",
        "print(a)  # 1\n",
        "\n",
        "a = 4\n",
        "a //= 2\n",
        "print(a)  # 2"
      ]
    },
    {
      "cell_type": "markdown",
      "metadata": {
        "id": "tXPa85U4JyN4"
      },
      "source": [
        "## 4. Logical operators"
      ]
    },
    {
      "cell_type": "markdown",
      "metadata": {
        "id": "8NQOKBXoJyN4"
      },
      "source": [
        "Logical operators are useful when checking a condition is true or not. Python has three logical operators. All logical operator returns a boolean value True or False depending on the condition in which it is used."
      ]
    },
    {
      "cell_type": "markdown",
      "metadata": {
        "id": "doW5WfHGJyN4"
      },
      "source": [
        "| Operator | Description | Example\n",
        "|:- | --------- | ----------- |\n",
        "|and Logical AND |\tIf both the operands are true then condition becomes true. | (a and b) is true.\n",
        "|or Logical OR\t| If any of the two operands are non-zero then condition becomes true.|\t(a or b) is true.\n",
        "|not Logical NOT|\tUsed to reverse the logical state of its operand.|\tNot(a and b) is false."
      ]
    },
    {
      "cell_type": "markdown",
      "metadata": {
        "id": "HY_D_lGoJyN5"
      },
      "source": [
        "##### and (Logical and)\n",
        "The logical and operator returns True if both expressions are True. Otherwise, it will return. False."
      ]
    },
    {
      "cell_type": "code",
      "execution_count": null,
      "metadata": {
        "id": "jLu1MI27JyN5"
      },
      "outputs": [],
      "source": [
        "print(True and False)  # False\n",
        "# both are True\n",
        "print(True and True)  # True\n",
        "print(False and False)  # False\n",
        "print(False and True)  # false"
      ]
    },
    {
      "cell_type": "code",
      "source": [
        "# actual use in code\n",
        "a = 2\n",
        "b = 4\n",
        "\n",
        "# Logical and\n",
        "if a < 0 and b > 0:\n",
        "    # both conditions are true\n",
        "    print(a * b)\n",
        "else:\n",
        "    print(\"Do nothing\")"
      ],
      "metadata": {
        "id": "HhjToKfqgjLz"
      },
      "execution_count": null,
      "outputs": []
    },
    {
      "cell_type": "markdown",
      "metadata": {
        "id": "kOcfC_VoJyN5"
      },
      "source": [
        "in the case of arithmetic values, Logical and always returns the second value; as a result, see the following example."
      ]
    },
    {
      "cell_type": "code",
      "execution_count": null,
      "metadata": {
        "id": "sXDl-zn6JyN5"
      },
      "outputs": [],
      "source": [
        "print(10 and 20) # 20\n",
        "print(10 and 5)  # 5\n",
        "print(b and a) # 300"
      ]
    },
    {
      "cell_type": "markdown",
      "metadata": {
        "id": "-8qus4FyJyN5"
      },
      "source": [
        "##### or (Logical or)\n",
        "The logical or the operator returns a boolean  True if one expression is true, and it returns False if both values are false."
      ]
    },
    {
      "cell_type": "code",
      "execution_count": null,
      "metadata": {
        "id": "OvKjs9ZKJyN6"
      },
      "outputs": [],
      "source": [
        "print(True or False)  # True\n",
        "print(True or True)  # True\n",
        "print(False or False)  # false\n",
        "print(False or True)  # True"
      ]
    },
    {
      "cell_type": "code",
      "source": [
        "# actual use in code\n",
        "x = 2\n",
        "y = 4\n",
        "\n",
        "# Logical and\n",
        "if x > 0 or y < 0:\n",
        "    # at least one expression is true so conditions is true\n",
        "    print(x + y)  # 6\n",
        "else:\n",
        "    print(\"Do nothing\")"
      ],
      "metadata": {
        "id": "W7SXhtb5gcnC"
      },
      "execution_count": null,
      "outputs": []
    },
    {
      "cell_type": "markdown",
      "metadata": {
        "id": "IU7fpmVrJyN6"
      },
      "source": [
        "In the case of arithmetic values, Logical or it always returns the first value; as a result, see the following code."
      ]
    },
    {
      "cell_type": "code",
      "execution_count": null,
      "metadata": {
        "id": "PWfa2PsVJyN6"
      },
      "outputs": [],
      "source": [
        "print(10 or 20) # 10\n",
        "print(10 or 5) # 10\n",
        "print(100 or 300) # 100"
      ]
    },
    {
      "cell_type": "markdown",
      "metadata": {
        "id": "bZCZTTnoJyN6"
      },
      "source": [
        "##### not (Logical not)\n",
        "The logical not operator returns boolean True if the expression is false."
      ]
    },
    {
      "cell_type": "code",
      "execution_count": null,
      "metadata": {
        "id": "zlzeZ8E-JyN6"
      },
      "outputs": [],
      "source": [
        "print(not False)  # True return complements result\n",
        "print(not True)  # True return complements result"
      ]
    },
    {
      "cell_type": "code",
      "source": [
        "# actual use in code\n",
        "a = True\n",
        "\n",
        "# Logical not\n",
        "if not a:\n",
        "    # a is True so expression is False\n",
        "    print(a)\n",
        "else:\n",
        "    print(\"Do nothing\")"
      ],
      "metadata": {
        "id": "ZbUMH1v8hLir"
      },
      "execution_count": null,
      "outputs": []
    },
    {
      "cell_type": "markdown",
      "metadata": {
        "id": "XFWvVMa4JyN7"
      },
      "source": [
        "In the case of arithmetic values, Logical not always return False for nonzero value.\n",
        "\n"
      ]
    },
    {
      "cell_type": "code",
      "source": [
        "print(not 0)  # True. zero value\n",
        "print(False == 0)  # True. zero value"
      ],
      "metadata": {
        "id": "RjsOzfVxTCPY"
      },
      "execution_count": null,
      "outputs": []
    },
    {
      "cell_type": "code",
      "execution_count": null,
      "metadata": {
        "id": "b9rBsPacJyN7"
      },
      "outputs": [],
      "source": [
        "print(not 10) # False. Non-zero value\n",
        "print(not 1)  # false. Non-zero value\n",
        "print(not 5)  # False. Non-zero value\n"
      ]
    },
    {
      "cell_type": "markdown",
      "metadata": {
        "id": "cS0kyLdJJyN7"
      },
      "source": [
        "## 5. Membership operators"
      ]
    },
    {
      "cell_type": "markdown",
      "metadata": {
        "id": "DY3obV7EJyN7"
      },
      "source": [
        "Python’s membership operators are used to check for membership of objects in sequence, such as string, list, tuple. It checks whether the given value or variable is present in a given sequence. If present, it will return True else False.\n",
        "\n",
        "In Python, there are two membership operator in and not in"
      ]
    },
    {
      "cell_type": "markdown",
      "metadata": {
        "id": "UN6peHtZJyN8"
      },
      "source": [
        "##### In operator\n",
        "It returns a result as True if it finds a given object in the sequence. Otherwise, it returns False.\n",
        "\n",
        "Let’s check if the number 15 present in a given list using the in operator."
      ]
    },
    {
      "cell_type": "code",
      "execution_count": 2,
      "metadata": {
        "id": "vO87IAD_JyN8",
        "colab": {
          "base_uri": "https://localhost:8080/"
        },
        "outputId": "6398526f-095b-4cf2-8516-943690e916e9"
      },
      "outputs": [
        {
          "output_type": "stream",
          "name": "stdout",
          "text": [
            "number is not present\n"
          ]
        }
      ],
      "source": [
        "my_list = [11, 15, 21, 29, 50, 70] # [] => liste !!\n",
        "num = 1\n",
        "if num in my_list:\n",
        "    print(\"number is present\")\n",
        "else:\n",
        "    print(\"number is not present\")"
      ]
    },
    {
      "cell_type": "markdown",
      "metadata": {
        "id": "KOxQdCyZJyN8"
      },
      "source": [
        "##### Not in operator\n",
        "It returns True if the object is not present in a given sequence. Otherwise, it returns False"
      ]
    },
    {
      "cell_type": "code",
      "execution_count": 4,
      "metadata": {
        "id": "8-SL4-UtJyN8",
        "colab": {
          "base_uri": "https://localhost:8080/"
        },
        "outputId": "dc707f9a-6c9d-44cf-befb-2efcb36b5aa9"
      },
      "outputs": [
        {
          "output_type": "stream",
          "name": "stdout",
          "text": [
            "number is present\n"
          ]
        }
      ],
      "source": [
        "my_list = [11, 15, 21, 29, 50, 70]\n",
        "number = 11\n",
        "if number not in my_list:\n",
        "    print(\"number is not present\")\n",
        "else:\n",
        "    print(\"number is present\")"
      ]
    },
    {
      "cell_type": "markdown",
      "metadata": {
        "id": "vnbiNAuTJyN9"
      },
      "source": [
        "## 7. Bitwise Operators"
      ]
    },
    {
      "cell_type": "markdown",
      "metadata": {
        "id": "rk59DnQxJyN9"
      },
      "source": [
        "In Python, bitwise operators are used to performing bitwise operations on integers. To perform bitwise, we first need to convert integer value to binary (0 and 1) value.\n",
        "\n",
        "The bitwise operator operates on values bit by bit, so it’s called bitwise. It always returns the result in decimal format. Python has 6 bitwise operators listed below.\n",
        "\n",
        "* [&] Bitwise and\n",
        "* [|] Bitwise or\n",
        "* [^] Bitwise xor"
      ]
    },
    {
      "cell_type": "markdown",
      "metadata": {
        "id": "DI04WDaGJyN-"
      },
      "source": [
        "It performs logical AND operation on the integer value after converting an integer to a binary value and gives the result as a decimal value. It returns True only if both operands are True. Otherwise, it returns False."
      ]
    },
    {
      "cell_type": "code",
      "execution_count": 5,
      "metadata": {
        "id": "kOtBBzmFJyN-",
        "colab": {
          "base_uri": "https://localhost:8080/"
        },
        "outputId": "ec432e80-c21e-4248-db87-022fd1c1d3b0"
      },
      "outputs": [
        {
          "output_type": "stream",
          "name": "stdout",
          "text": [
            "4\n",
            "5\n",
            "4\n"
          ]
        }
      ],
      "source": [
        "a = 7 # => 0111\n",
        "b = 4 # => 0100\n",
        "c = 5 # => 0101\n",
        "print(a & b)\n",
        "print(a & c)\n",
        "print(b & c)"
      ]
    },
    {
      "cell_type": "markdown",
      "metadata": {
        "id": "L_3aeC7tJyN-"
      },
      "source": [
        "Here, every integer value is converted into a binary value. For example, a =7, its binary value is 0111, and b=4, its binary value is 0100. Next we performed logical AND, and got 0100 as a result, similarly for a and c, b and c\n",
        "\n",
        "Following diagram shows AND operator evaluation.\n",
        "\n"
      ]
    },
    {
      "cell_type": "markdown",
      "metadata": {
        "id": "_uAx-5xWJyN-"
      },
      "source": [
        "##### Bitwise or |\n",
        "It performs logical OR operation on the integer value after converting integer value to binary value and gives the result a decimal value. It returns False only if both operands are True. Otherwise, it returns True."
      ]
    },
    {
      "cell_type": "code",
      "execution_count": 8,
      "metadata": {
        "id": "2dpVxxoAJyN-",
        "colab": {
          "base_uri": "https://localhost:8080/"
        },
        "outputId": "c3743c51-06bb-4785-be15-ab84fae2961d"
      },
      "outputs": [
        {
          "output_type": "stream",
          "name": "stdout",
          "text": [
            "7\n",
            "7\n",
            "5\n"
          ]
        }
      ],
      "source": [
        "a = 7 # => 0111\n",
        "b = 4 # => 0100\n",
        "c = 5 # => 0101\n",
        "print(a | b)\n",
        "print(a | c)\n",
        "print(b | c)"
      ]
    },
    {
      "cell_type": "markdown",
      "metadata": {
        "id": "FTZFu4U8JyN-"
      },
      "source": [
        "Here, every integer value is converted into binary. For example, a =7 its binary value is 0111, and b=4, its binary value is 0100, after logical OR, we got 0111 as a result. Similarly for a and c, b and c."
      ]
    },
    {
      "cell_type": "markdown",
      "metadata": {
        "id": "m7S1Rd7cJyN-"
      },
      "source": [
        "##### Bitwise xor ^\n",
        "It performs Logical XOR ^ operation on the binary value of a integer and gives the result as a decimal value."
      ]
    },
    {
      "cell_type": "code",
      "execution_count": null,
      "metadata": {
        "id": "MgTV_XZJJyN_"
      },
      "outputs": [],
      "source": [
        "a = 7 # => 0111\n",
        "b = 4 # => 0100\n",
        "c = 5 # => 0101\n",
        "print(a ^ b)\n",
        "print(b ^ c)"
      ]
    },
    {
      "cell_type": "markdown",
      "metadata": {
        "id": "hErBABCwJyN_"
      },
      "source": [
        "Here, again every integer value is converted into binary. For example, a =7 its binary value is 0111 and b=4, and its binary value is 0100, after logical XOR we got 0011 as a result. Similarly for a and c, b and c."
      ]
    },
    {
      "cell_type": "markdown",
      "metadata": {
        "id": "64b_s_BaJyOA"
      },
      "source": [
        "#### Python Operators Precedence"
      ]
    },
    {
      "cell_type": "markdown",
      "metadata": {
        "id": "pCh_gGccJyOA"
      },
      "source": [
        "In Python, operator precedence and associativity play an essential role in solving the expression. An expression is the combination of variables and operators that evaluate based on operator precedence.\n",
        "\n",
        "We must know what the precedence (priority) of that operator is and how they will evaluate down to a single value. Operator precedence is used in an expression to determine which operation to perform first."
      ]
    },
    {
      "cell_type": "code",
      "execution_count": 6,
      "metadata": {
        "id": "QKCXFGCiJyOA",
        "colab": {
          "base_uri": "https://localhost:8080/"
        },
        "outputId": "7c328ac5-64c3-4c9e-bd1c-0bf22a69754f"
      },
      "outputs": [
        {
          "output_type": "stream",
          "name": "stdout",
          "text": [
            "42\n"
          ]
        }
      ],
      "source": [
        "print((18-3) * 2+(10+2))"
      ]
    },
    {
      "cell_type": "markdown",
      "metadata": {
        "id": "GZr6FlwJJyOA"
      },
      "source": [
        "In the above example. 1st precedence goes to a parenthesis(), then for plus and minus operators. The expression will be executed as."
      ]
    },
    {
      "cell_type": "code",
      "execution_count": 7,
      "metadata": {
        "id": "cfbhneRPJyOA",
        "colab": {
          "base_uri": "https://localhost:8080/"
        },
        "outputId": "ecdc307d-3430-46df-d8ac-befdf122186a"
      },
      "outputs": [
        {
          "output_type": "stream",
          "name": "stdout",
          "text": [
            "42\n",
            "42\n",
            "42\n"
          ]
        }
      ],
      "source": [
        "print((18 - 3) * 2 +(10+2))\n",
        "print(15 * 2 + 12)\n",
        "print(30 + 12)"
      ]
    },
    {
      "cell_type": "markdown",
      "metadata": {
        "id": "NVjGGTQ2JyOB"
      },
      "source": [
        "The following tables shows operator precedence highest to lowest."
      ]
    },
    {
      "cell_type": "markdown",
      "metadata": {
        "id": "dWz4NichJyOB"
      },
      "source": [
        "|Operators|Meaning\n",
        "|:- |:- |\n",
        "() |\tParentheses\n",
        "**\t|Exponent\n",
        "*, /, //, % | Multiplication, Division, Floor division, Modulus\n",
        "+, -\t| Addition, Subtraction\n",
        "&\t| Bitwise AND\n",
        "^\t| Bitwise XOR\n",
        "$|$  | Bitwise OR|\n",
        "==, !=, >, >=, <, <= | Comparisons, Identity, Membership operators\n",
        "not\t| Logical NOT\n",
        "and|\tLogical AND\n",
        "or\t|Logical OR"
      ]
    },
    {
      "cell_type": "markdown",
      "source": [
        "# Python Import\n",
        "When our program grows bigger, it is a good idea to break it into different modules.\n",
        "\n",
        "Definitions inside a module can be imported to another module or the interactive interpreter in Python. We use the import keyword to do this.\n",
        "For example, we can import the math module by typing the following line:\n"
      ],
      "metadata": {
        "id": "o-0iEoHm1bzF"
      }
    },
    {
      "cell_type": "code",
      "source": [
        "# We can use the module in the following ways:\n",
        "import math\n",
        "print(math.pi)"
      ],
      "metadata": {
        "id": "2-onRwJI1coo",
        "colab": {
          "base_uri": "https://localhost:8080/"
        },
        "outputId": "1a93a03d-46d4-40c5-adb8-edfafc4ab6aa"
      },
      "execution_count": 9,
      "outputs": [
        {
          "output_type": "stream",
          "name": "stdout",
          "text": [
            "3.141592653589793\n"
          ]
        }
      ]
    },
    {
      "cell_type": "markdown",
      "source": [
        "Now all the definitions inside math module are available in our scope. We can also import some specific attributes and functions only, using the from keyword. For example:\n"
      ],
      "metadata": {
        "id": "PMJsLa2QR3yl"
      }
    },
    {
      "cell_type": "code",
      "source": [
        "# Import attributes from modules\n",
        "from math import pi\n",
        "pi      # it returns 3.141592653589793"
      ],
      "metadata": {
        "id": "K46aKgR_1zTv",
        "colab": {
          "base_uri": "https://localhost:8080/"
        },
        "outputId": "298aad4f-e4d5-4840-8f0b-e45853859922"
      },
      "execution_count": 10,
      "outputs": [
        {
          "output_type": "execute_result",
          "data": {
            "text/plain": [
              "3.141592653589793"
            ]
          },
          "metadata": {},
          "execution_count": 10
        }
      ]
    },
    {
      "cell_type": "code",
      "source": [
        "import math as m\n",
        "m.pi"
      ],
      "metadata": {
        "colab": {
          "base_uri": "https://localhost:8080/"
        },
        "id": "NjbyWogzEp1n",
        "outputId": "60ac7466-d922-4a2e-d2ac-6c464107eaaf"
      },
      "execution_count": 13,
      "outputs": [
        {
          "output_type": "execute_result",
          "data": {
            "text/plain": [
              "3.141592653589793"
            ]
          },
          "metadata": {},
          "execution_count": 13
        }
      ]
    },
    {
      "cell_type": "code",
      "source": [
        "# no need to import math library for each cell !\n",
        "x = 9\n",
        "y = 2\n",
        "print(f\"{x} raised to the power {y}: {math.pow(x, y)}\")\n",
        "print(f\"Square root of {x}: {math.sqrt(x)}\")"
      ],
      "metadata": {
        "id": "XoiJvq4CSWZv",
        "colab": {
          "base_uri": "https://localhost:8080/"
        },
        "outputId": "c3225f94-8a79-40e9-8fec-fc34256c3225"
      },
      "execution_count": 11,
      "outputs": [
        {
          "output_type": "stream",
          "name": "stdout",
          "text": [
            "9 raised to the power 2: 81.0\n",
            "Square root of 9: 3.0\n"
          ]
        }
      ]
    },
    {
      "cell_type": "code",
      "source": [
        "angle_rad = math.pi / 2  # 90 degrees in radians\n",
        "print(f\"sin(90°): {math.sin(angle_rad)}\")\n",
        "print(f\"cos(90°): {math.cos(angle_rad)}\")\n",
        "print(f\"tan(90°): {math.tan(angle_rad)}\")"
      ],
      "metadata": {
        "id": "AFvVK4lCSjBN",
        "colab": {
          "base_uri": "https://localhost:8080/"
        },
        "outputId": "87a57aa2-e2a1-4098-f000-406484b8a210"
      },
      "execution_count": 12,
      "outputs": [
        {
          "output_type": "stream",
          "name": "stdout",
          "text": [
            "sin(90°): 1.0\n",
            "cos(90°): 6.123233995736766e-17\n",
            "tan(90°): 1.633123935319537e+16\n"
          ]
        }
      ]
    },
    {
      "cell_type": "markdown",
      "source": [
        " Ex 1. **Arithmetic and Comparison Operators**\n",
        "\n",
        "**Exercise:**  \n",
        "Write a Python program that takes two numbers from the user and performs the following operations:  \n",
        "1. Calculate and print their **sum**, **difference**, **product**, and **quotient**.  \n",
        "2. Compare the two numbers and print whether the first number is greater than, less than, or equal to the second number."
      ],
      "metadata": {
        "id": "Oh87sf_7VAnm"
      }
    },
    {
      "cell_type": "code",
      "source": [],
      "metadata": {
        "id": "Q1oCw7HhVRJ7"
      },
      "execution_count": null,
      "outputs": []
    },
    {
      "cell_type": "markdown",
      "source": [
        "Ex 2. **Logical Operators**\n",
        "\n",
        "Given three boolean variables:  \n",
        "```python\n",
        "a = True  \n",
        "b = False  \n",
        "c = True  \n",
        "```\n",
        "Write expressions to evaluate the following conditions and print the results:  \n",
        "1. `(a AND b) OR c`  \n",
        "2. `NOT (a OR b)`  \n",
        "3. `a AND (NOT b) AND c`"
      ],
      "metadata": {
        "id": "f-LqVs_QVHRI"
      }
    },
    {
      "cell_type": "code",
      "source": [],
      "metadata": {
        "id": "9h16JMRvZIXR"
      },
      "execution_count": null,
      "outputs": []
    },
    {
      "cell_type": "markdown",
      "source": [
        "Ex 3:\n",
        "Write a program that asks the user for two numbers:\n",
        "\n",
        "The first number will be the base.\n",
        "The second number will be the exponent.\n",
        "Calculate and display the result of the base raised to the power of the exponent. Also, calculate and display the remainder when the base is divided by the exponent."
      ],
      "metadata": {
        "id": "nyw6YjfGjY9b"
      }
    },
    {
      "cell_type": "code",
      "source": [],
      "metadata": {
        "id": "U-jguwbhVOPL"
      },
      "execution_count": null,
      "outputs": []
    },
    {
      "cell_type": "markdown",
      "source": [
        "Ex 4 :\n",
        "Write a Python program that takes two numbers as input and calculates:\n",
        "\n",
        "The result of dividing the first number by the second number (regular division).\n",
        "The result of integer division (floor division).\n",
        "Display both results."
      ],
      "metadata": {
        "id": "JBhFSb8Ijl77"
      }
    },
    {
      "cell_type": "code",
      "source": [],
      "metadata": {
        "id": "CBF38r8ujlCo"
      },
      "execution_count": null,
      "outputs": []
    },
    {
      "cell_type": "markdown",
      "source": [
        "Ex 5 : Write a Python program that takes an integer as input and checks if the number is even or odd. Display an appropriate message."
      ],
      "metadata": {
        "id": "RzfVnbdmjzfL"
      }
    },
    {
      "cell_type": "code",
      "source": [],
      "metadata": {
        "id": "msySqHfWVO8B"
      },
      "execution_count": null,
      "outputs": []
    }
  ],
  "metadata": {
    "kernelspec": {
      "display_name": "Python 3",
      "language": "python",
      "name": "python3"
    },
    "language_info": {
      "codemirror_mode": {
        "name": "ipython",
        "version": 3
      },
      "file_extension": ".py",
      "mimetype": "text/x-python",
      "name": "python",
      "nbconvert_exporter": "python",
      "pygments_lexer": "ipython3",
      "version": "3.8.3"
    },
    "colab": {
      "provenance": []
    }
  },
  "nbformat": 4,
  "nbformat_minor": 0
}