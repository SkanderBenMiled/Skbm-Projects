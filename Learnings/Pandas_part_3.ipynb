{
  "cells": [
    {
      "cell_type": "markdown",
      "metadata": {
        "id": "daf68d23"
      },
      "source": [
        "# EDA in Pandas"
      ],
      "id": "daf68d23"
    },
    {
      "cell_type": "code",
      "execution_count": null,
      "metadata": {
        "id": "14511774"
      },
      "outputs": [],
      "source": [
        "import pandas as pd"
      ],
      "id": "14511774"
    },
    {
      "cell_type": "code",
      "source": [
        "data = pd.read_csv(\"/content/world_population.csv\")"
      ],
      "metadata": {
        "id": "k1Wb6weByLP_"
      },
      "id": "k1Wb6weByLP_",
      "execution_count": null,
      "outputs": []
    },
    {
      "cell_type": "code",
      "source": [
        "data.head(3)"
      ],
      "metadata": {
        "id": "ppSDcNrUyXy4"
      },
      "id": "ppSDcNrUyXy4",
      "execution_count": null,
      "outputs": []
    },
    {
      "cell_type": "code",
      "source": [
        "data.info()"
      ],
      "metadata": {
        "id": "IDDV62oZyjH5"
      },
      "id": "IDDV62oZyjH5",
      "execution_count": null,
      "outputs": []
    },
    {
      "cell_type": "code",
      "source": [
        "# Formatting column datatype\n",
        "data['Rank'] = data['Rank'].astype(str)"
      ],
      "metadata": {
        "id": "Onyg2aqqxJjq"
      },
      "id": "Onyg2aqqxJjq",
      "execution_count": null,
      "outputs": []
    },
    {
      "cell_type": "code",
      "source": [
        "data.info()"
      ],
      "metadata": {
        "id": "u0nVRsjTyeoe"
      },
      "id": "u0nVRsjTyeoe",
      "execution_count": null,
      "outputs": []
    },
    {
      "cell_type": "code",
      "source": [
        "# Applying function to a column\n",
        "data['Country'] = data['Country'].apply(lambda x: x.upper())"
      ],
      "metadata": {
        "id": "FcTzDdfIxGzw"
      },
      "id": "FcTzDdfIxGzw",
      "execution_count": null,
      "outputs": []
    },
    {
      "cell_type": "code",
      "source": [
        "data.head(3)"
      ],
      "metadata": {
        "id": "YatP6K2gyv3G"
      },
      "id": "YatP6K2gyv3G",
      "execution_count": null,
      "outputs": []
    },
    {
      "cell_type": "code",
      "source": [
        "# Saving the cleaned data\n",
        "data.to_csv(\"cleaned_data.csv\", index=False)"
      ],
      "metadata": {
        "id": "oDPT0GIKxD6E"
      },
      "id": "oDPT0GIKxD6E",
      "execution_count": null,
      "outputs": []
    },
    {
      "cell_type": "code",
      "source": [
        "df = pd.read_csv('/content/cleaned_data.csv', sep=',', header=0, index_col=0, skiprows=5, na_values='N/A')\n",
        "# header=0: Specifies the row with index 0 to use as the column headers.\n",
        "# index_col=0: Specifies the column to use as the row index 0\n",
        "# skiprows=5: Skips the first N rows of the file when reading.\n",
        "# na_values='N/A': Specifies additional values in the file that should be interpreted as NaN (missing values).\n",
        "# if you do this na_values='No' => No will be considered as NaN"
      ],
      "metadata": {
        "id": "Yz9gKbl0zI2Z"
      },
      "id": "Yz9gKbl0zI2Z",
      "execution_count": null,
      "outputs": []
    },
    {
      "cell_type": "code",
      "source": [
        "df = pd.read_csv(\"/content/world_population.csv\")"
      ],
      "metadata": {
        "id": "iExn3xBS1bqA"
      },
      "id": "iExn3xBS1bqA",
      "execution_count": null,
      "outputs": []
    },
    {
      "cell_type": "code",
      "execution_count": null,
      "metadata": {
        "id": "10f4ccde"
      },
      "outputs": [],
      "source": [
        "df.sort_values(by=\"World Population Percentage\", ascending=False).head(10)"
      ],
      "id": "10f4ccde"
    },
    {
      "cell_type": "code",
      "source": [
        "df.head()"
      ],
      "metadata": {
        "id": "wINUmIjZ5TfE"
      },
      "id": "wINUmIjZ5TfE",
      "execution_count": null,
      "outputs": []
    },
    {
      "cell_type": "code",
      "execution_count": null,
      "metadata": {
        "id": "4dbbe83b"
      },
      "outputs": [],
      "source": [
        "df[df['Continent'].str.contains('Oceania')]"
      ],
      "id": "4dbbe83b"
    },
    {
      "cell_type": "code",
      "execution_count": null,
      "metadata": {
        "id": "553ca41c"
      },
      "outputs": [],
      "source": [
        "df.columns"
      ],
      "id": "553ca41c"
    },
    {
      "cell_type": "code",
      "execution_count": null,
      "metadata": {
        "id": "938d691b"
      },
      "outputs": [],
      "source": [
        "df3 = df2.transpose()\n",
        "df3"
      ],
      "id": "938d691b"
    },
    {
      "cell_type": "markdown",
      "metadata": {
        "id": "91c051e0"
      },
      "source": [
        "# Filtering and Ordering"
      ],
      "id": "91c051e0"
    },
    {
      "cell_type": "code",
      "execution_count": null,
      "metadata": {
        "id": "de2373e4"
      },
      "outputs": [],
      "source": [
        "df = pd.read_csv(\"/content/world_population.csv\")"
      ],
      "id": "de2373e4"
    },
    {
      "cell_type": "code",
      "execution_count": null,
      "metadata": {
        "id": "9836835c"
      },
      "outputs": [],
      "source": [
        "df"
      ],
      "id": "9836835c"
    },
    {
      "cell_type": "code",
      "execution_count": null,
      "metadata": {
        "id": "a682c611"
      },
      "outputs": [],
      "source": [
        "df[df['Rank'] <= 10]"
      ],
      "id": "a682c611"
    },
    {
      "cell_type": "code",
      "source": [
        "specific_countries = ['Bangladesh','Brazil']\n",
        "df['Country'].isin(specific_countries)"
      ],
      "metadata": {
        "id": "FLSXZDFb_2I7"
      },
      "id": "FLSXZDFb_2I7",
      "execution_count": null,
      "outputs": []
    },
    {
      "cell_type": "code",
      "execution_count": null,
      "metadata": {
        "id": "5f07c66f"
      },
      "outputs": [],
      "source": [
        "specific_countries = ['Bangladesh','Brazil']\n",
        "\n",
        "df[df['Country'].isin(specific_countries)]"
      ],
      "id": "5f07c66f"
    },
    {
      "cell_type": "code",
      "execution_count": null,
      "metadata": {
        "id": "933e3586"
      },
      "outputs": [],
      "source": [
        "df[df['Country'].str.contains('United')]"
      ],
      "id": "933e3586"
    },
    {
      "cell_type": "code",
      "execution_count": null,
      "metadata": {
        "id": "712bce86"
      },
      "outputs": [],
      "source": [
        "df2 = df.set_index('Country')\n",
        "df2"
      ],
      "id": "712bce86"
    },
    {
      "cell_type": "code",
      "execution_count": null,
      "metadata": {
        "id": "1aea0764"
      },
      "outputs": [],
      "source": [
        "df2.filter(items = ['Continent','CCA3'], axis = 1)"
      ],
      "id": "1aea0764"
    },
    {
      "cell_type": "code",
      "execution_count": null,
      "metadata": {
        "id": "e6794afe"
      },
      "outputs": [],
      "source": [
        "df2.filter(items = ['Zimbabwe'], axis = 0)"
      ],
      "id": "e6794afe"
    },
    {
      "cell_type": "code",
      "execution_count": null,
      "metadata": {
        "id": "199903cd"
      },
      "outputs": [],
      "source": [
        "df2.filter(like = 'United', axis = 0)"
      ],
      "id": "199903cd"
    },
    {
      "cell_type": "code",
      "source": [
        "df2"
      ],
      "metadata": {
        "id": "Bdcy5RE6AWeO"
      },
      "id": "Bdcy5RE6AWeO",
      "execution_count": null,
      "outputs": []
    },
    {
      "cell_type": "code",
      "execution_count": null,
      "metadata": {
        "id": "0dbac97b"
      },
      "outputs": [],
      "source": [
        "df2.loc['United States']"
      ],
      "id": "0dbac97b"
    },
    {
      "cell_type": "code",
      "execution_count": null,
      "metadata": {
        "id": "00934259"
      },
      "outputs": [],
      "source": [
        "df2.iloc[3]"
      ],
      "id": "00934259"
    },
    {
      "cell_type": "code",
      "execution_count": null,
      "metadata": {
        "id": "dac380bf"
      },
      "outputs": [],
      "source": [
        "df[df['Rank'] < 10].sort_values(by=['Continent','Country'],ascending=[False,True])"
      ],
      "id": "dac380bf"
    },
    {
      "cell_type": "markdown",
      "metadata": {
        "id": "c19b6e3d"
      },
      "source": [
        "# Group by and Aggregating"
      ],
      "id": "c19b6e3d"
    },
    {
      "cell_type": "code",
      "execution_count": null,
      "metadata": {
        "id": "eaf94df6"
      },
      "outputs": [],
      "source": [
        "df = pd.read_csv(\"/content/Flavors.csv\")\n",
        "df"
      ],
      "id": "eaf94df6"
    },
    {
      "cell_type": "code",
      "execution_count": null,
      "metadata": {
        "id": "d14b94dc"
      },
      "outputs": [],
      "source": [
        "df.groupby('Base Flavor').count()"
      ],
      "id": "d14b94dc"
    },
    {
      "cell_type": "code",
      "execution_count": null,
      "metadata": {
        "id": "617910b4"
      },
      "outputs": [],
      "source": [
        "df.groupby('Base Flavor').sum()"
      ],
      "id": "617910b4"
    },
    {
      "cell_type": "code",
      "source": [
        "df.drop(columns=['Flavor','Liked']).groupby('Base Flavor').mean()"
      ],
      "metadata": {
        "id": "VMoSUdg_CyS6"
      },
      "id": "VMoSUdg_CyS6",
      "execution_count": null,
      "outputs": []
    },
    {
      "cell_type": "code",
      "source": [
        "df.groupby('Base Flavor').mean()"
      ],
      "metadata": {
        "id": "OW6r4yXODD-t"
      },
      "id": "OW6r4yXODD-t",
      "execution_count": null,
      "outputs": []
    },
    {
      "cell_type": "code",
      "source": [
        "df.head()"
      ],
      "metadata": {
        "id": "exfEHm1YDLp_"
      },
      "id": "exfEHm1YDLp_",
      "execution_count": null,
      "outputs": []
    },
    {
      "cell_type": "code",
      "execution_count": null,
      "metadata": {
        "id": "d9d0f3ec"
      },
      "outputs": [],
      "source": [
        "df.groupby('Base Flavor').agg({'Flavor Rating': ['mean','max','count','sum'], 'Texture Rating':['mean','max','count','sum'] })"
      ],
      "id": "d9d0f3ec"
    },
    {
      "cell_type": "code",
      "execution_count": null,
      "metadata": {
        "id": "a36c7fb9"
      },
      "outputs": [],
      "source": [
        "df.groupby(['Base Flavor','Liked']).agg({'Flavor Rating': ['mean','max','count','sum'] })"
      ],
      "id": "a36c7fb9"
    },
    {
      "cell_type": "code",
      "source": [
        "df.groupby(['Base Flavor','Liked']).agg({'Flavor Rating': ['mean','max','count','sum'] , 'Texture Rating':['mean','max','count','sum']})"
      ],
      "metadata": {
        "id": "hAc1IKwtDnID"
      },
      "id": "hAc1IKwtDnID",
      "execution_count": null,
      "outputs": []
    },
    {
      "cell_type": "code",
      "execution_count": null,
      "metadata": {
        "id": "e8e3ef5d"
      },
      "outputs": [],
      "source": [
        "df.groupby('Base Flavor').describe()"
      ],
      "id": "e8e3ef5d"
    },
    {
      "cell_type": "markdown",
      "metadata": {
        "id": "2b20c344"
      },
      "source": [
        "# Merge, Join, and Concatenate"
      ],
      "id": "2b20c344"
    },
    {
      "cell_type": "code",
      "execution_count": null,
      "metadata": {
        "id": "0b08cb55"
      },
      "outputs": [],
      "source": [
        "df1 = pd.read_csv(\"/content/LOTR.csv\")\n",
        "df1"
      ],
      "id": "0b08cb55"
    },
    {
      "cell_type": "code",
      "execution_count": null,
      "metadata": {
        "id": "7b84eeef"
      },
      "outputs": [],
      "source": [
        "df2 = pd.read_csv(\"/content/LOTR 2.csv\")\n",
        "df2"
      ],
      "id": "7b84eeef"
    },
    {
      "cell_type": "code",
      "source": [
        "print(df1)\n",
        "print(df2)"
      ],
      "metadata": {
        "id": "HuGOVDFvEh4n"
      },
      "id": "HuGOVDFvEh4n",
      "execution_count": null,
      "outputs": []
    },
    {
      "cell_type": "code",
      "execution_count": null,
      "metadata": {
        "id": "de666ace"
      },
      "outputs": [],
      "source": [
        "df1.merge(df2, how = 'inner', on = ['FellowshipID', 'FirstName'])"
      ],
      "id": "de666ace"
    },
    {
      "cell_type": "code",
      "execution_count": null,
      "metadata": {
        "id": "9e2dace6"
      },
      "outputs": [],
      "source": [
        "df1.merge(df2, how = 'outer')"
      ],
      "id": "9e2dace6"
    },
    {
      "cell_type": "code",
      "execution_count": null,
      "metadata": {
        "id": "f48ceaa9"
      },
      "outputs": [],
      "source": [
        "df1.merge(df2, how = 'left')"
      ],
      "id": "f48ceaa9"
    },
    {
      "cell_type": "code",
      "execution_count": null,
      "metadata": {
        "id": "10671135"
      },
      "outputs": [],
      "source": [
        "df1.merge(df2, how = 'right')"
      ],
      "id": "10671135"
    },
    {
      "cell_type": "code",
      "source": [
        "print(df1)\n",
        "print(df2)"
      ],
      "metadata": {
        "id": "ka5sTcRpEyM3"
      },
      "id": "ka5sTcRpEyM3",
      "execution_count": null,
      "outputs": []
    },
    {
      "cell_type": "code",
      "execution_count": null,
      "metadata": {
        "id": "fd9f1467"
      },
      "outputs": [],
      "source": [
        "df1.merge(df2, how = 'cross')"
      ],
      "id": "fd9f1467"
    },
    {
      "cell_type": "code",
      "source": [
        "print(df1)\n",
        "print(df2)"
      ],
      "metadata": {
        "id": "3YXXsoL2HBji"
      },
      "id": "3YXXsoL2HBji",
      "execution_count": null,
      "outputs": []
    },
    {
      "cell_type": "code",
      "source": [
        "df1.join(df2,  lsuffix = '_Left',rsuffix = '_Right')"
      ],
      "metadata": {
        "id": "_ByQEXcjG9tl"
      },
      "id": "_ByQEXcjG9tl",
      "execution_count": null,
      "outputs": []
    },
    {
      "cell_type": "code",
      "source": [
        "df1.join(df2,  lsuffix = '_Left',rsuffix = '_Right', how = 'outer')"
      ],
      "metadata": {
        "id": "77y1c9xNFGUU"
      },
      "id": "77y1c9xNFGUU",
      "execution_count": null,
      "outputs": []
    },
    {
      "cell_type": "code",
      "source": [
        "print(df1)\n",
        "print(df2)"
      ],
      "metadata": {
        "id": "Jl3CW4bgFMgT"
      },
      "id": "Jl3CW4bgFMgT",
      "execution_count": null,
      "outputs": []
    },
    {
      "cell_type": "code",
      "execution_count": null,
      "metadata": {
        "id": "079d4901"
      },
      "outputs": [],
      "source": [
        "pd.concat([df1,df2], join = 'outer', axis = 1)"
      ],
      "id": "079d4901"
    },
    {
      "cell_type": "code",
      "source": [
        "data = {\n",
        "    'Salesperson': ['Alice', 'Bob', 'Alice'],\n",
        "    'Product': ['Phone', 'Laptop', 'Tablet'],\n",
        "    'Month': ['January', 'January', 'February'],\n",
        "    'Sales': [10, 15, 12]\n",
        "}\n",
        "df = pd.DataFrame(data)"
      ],
      "metadata": {
        "id": "K0vEX63fJvR6"
      },
      "id": "K0vEX63fJvR6",
      "execution_count": null,
      "outputs": []
    },
    {
      "cell_type": "code",
      "source": [
        "# Pivot the data: Salesperson as rows, Product as columns, and Sales as values\n",
        "pivot_df = df.pivot(index='Salesperson', columns='Product', values='Sales')"
      ],
      "metadata": {
        "id": "lGslTGDOJr1N"
      },
      "id": "lGslTGDOJr1N",
      "execution_count": null,
      "outputs": []
    },
    {
      "cell_type": "code",
      "source": [
        "pivot_df"
      ],
      "metadata": {
        "id": "h4s--tnxJznh"
      },
      "id": "h4s--tnxJznh",
      "execution_count": null,
      "outputs": []
    },
    {
      "cell_type": "markdown",
      "source": [
        "# Ex"
      ],
      "metadata": {
        "id": "1n6x5EUwIPjv"
      },
      "id": "1n6x5EUwIPjv"
    },
    {
      "cell_type": "markdown",
      "source": [
        "Load the dataset \"data\" into a Pandas DataFrame.\n",
        "\n",
        "Check for any missing data in the dataset.\n",
        "\n",
        "Fill the missing age values with the mean age.\n",
        "\n",
        "Drop rows where any data is missing."
      ],
      "metadata": {
        "id": "fqRitpo1IVmn"
      },
      "id": "fqRitpo1IVmn"
    },
    {
      "cell_type": "code",
      "source": [
        "data = {\n",
        "    'Name': ['John', 'Alice', 'Bob', 'Eve', 'Charlie'],\n",
        "    'Age': [28, None, 25, 30, 40],\n",
        "    'Salary': [50000, 70000, None, 60000, 75000],\n",
        "    'Department': ['Engineering', 'HR', 'Engineering', 'HR', 'Engineering']\n",
        "}"
      ],
      "metadata": {
        "id": "Uj4QBVxjIqvS"
      },
      "id": "Uj4QBVxjIqvS",
      "execution_count": null,
      "outputs": []
    },
    {
      "cell_type": "code",
      "source": [],
      "metadata": {
        "id": "Mr58qAcSIQ_2"
      },
      "id": "Mr58qAcSIQ_2",
      "execution_count": null,
      "outputs": []
    },
    {
      "cell_type": "markdown",
      "source": [
        "Load the dataset \"data\" into a Pandas DataFrame.\n",
        "\n",
        "Calculate the total quantity sold for each category.\n",
        "\n",
        "Find the average price of products in the \"Clothing\" category.\n",
        "\n",
        "Sort the dataset by price in descending order."
      ],
      "metadata": {
        "id": "y4B7sp99IeqY"
      },
      "id": "y4B7sp99IeqY"
    },
    {
      "cell_type": "code",
      "source": [
        "data = {\n",
        "    'Product': ['Laptop', 'Phone', 'Shirt', 'Pants'],\n",
        "    'Category': ['Electronics', 'Electronics', 'Clothing', 'Clothing'],\n",
        "    'Price': [1000, 600, 40, 60],\n",
        "    'Quantity': [10, 20, 50, 30]\n",
        "}"
      ],
      "metadata": {
        "id": "0CXR2fshI3Nb"
      },
      "id": "0CXR2fshI3Nb",
      "execution_count": null,
      "outputs": []
    },
    {
      "cell_type": "code",
      "source": [],
      "metadata": {
        "id": "-BDZpGA6Ig0b"
      },
      "id": "-BDZpGA6Ig0b",
      "execution_count": null,
      "outputs": []
    },
    {
      "cell_type": "markdown",
      "source": [
        "Load the dataset \"data\" into a Pandas DataFrame.\n",
        "\n",
        "Pivot the table so that each student is a row and subjects are columns.\n",
        "\n",
        "Find the highest score in each subject.\n",
        "\n",
        "\n",
        "Calculate the overall average score for each student."
      ],
      "metadata": {
        "id": "lE7SN1ZUIl9f"
      },
      "id": "lE7SN1ZUIl9f"
    },
    {
      "cell_type": "code",
      "source": [
        "data_dict = {\n",
        "    'Student': ['Alice', 'Bob', 'Charlie', 'Alice', 'Bob', 'Charlie'],\n",
        "    'Subject': ['Math', 'Math', 'Math', 'Science', 'Science', 'Science'],\n",
        "    'Score': [90, 80, 85, 92, 88, 87]\n",
        "}"
      ],
      "metadata": {
        "id": "pHLaB155JB10"
      },
      "id": "pHLaB155JB10",
      "execution_count": null,
      "outputs": []
    },
    {
      "cell_type": "code",
      "source": [],
      "metadata": {
        "id": "v8ys1_IfImuK"
      },
      "id": "v8ys1_IfImuK",
      "execution_count": null,
      "outputs": []
    }
  ],
  "metadata": {
    "kernelspec": {
      "display_name": "Python 3 (ipykernel)",
      "language": "python",
      "name": "python3"
    },
    "language_info": {
      "codemirror_mode": {
        "name": "ipython",
        "version": 3
      },
      "file_extension": ".py",
      "mimetype": "text/x-python",
      "name": "python",
      "nbconvert_exporter": "python",
      "pygments_lexer": "ipython3",
      "version": "3.9.12"
    },
    "colab": {
      "provenance": []
    }
  },
  "nbformat": 4,
  "nbformat_minor": 5
}