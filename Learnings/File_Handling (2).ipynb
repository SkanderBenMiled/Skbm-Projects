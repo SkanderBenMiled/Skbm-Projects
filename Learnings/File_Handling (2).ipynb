{
  "cells": [
    {
      "cell_type": "markdown",
      "metadata": {
        "id": "GXbHpVAzPUsO"
      },
      "source": [
        "# Exception Handling\n"
      ],
      "id": "GXbHpVAzPUsO"
    },
    {
      "cell_type": "markdown",
      "source": [
        "* Errors/Exceptions are bound to occur in any programming language\n",
        "* Whenever Error/Exception happens the program will abruptly terminate\n",
        "* We need to handle the Exceptions\n",
        "* In python we use **try**,**except**,**finally** blocks to handle the exception\n",
        "\n"
      ],
      "metadata": {
        "id": "2zdniiUKPihY"
      },
      "id": "2zdniiUKPihY"
    },
    {
      "cell_type": "markdown",
      "source": [
        "## In python there are two types of errors\n",
        "1) Syntax errors / parsing errors\n",
        "\n",
        "2) Exceptions"
      ],
      "metadata": {
        "id": "fcRUcD2CPkq3"
      },
      "id": "fcRUcD2CPkq3"
    },
    {
      "cell_type": "markdown",
      "metadata": {
        "id": "4YjsttEsPUsP"
      },
      "source": [
        "### Syntax Errors:\n",
        "* As the name suggest, these error occurs when there is error in syntax\n",
        "* cannot be handled"
      ],
      "id": "4YjsttEsPUsP"
    },
    {
      "cell_type": "markdown",
      "metadata": {
        "id": "m3G2HFQSPUsQ"
      },
      "source": [
        "### Ex 1)"
      ],
      "id": "m3G2HFQSPUsQ"
    },
    {
      "cell_type": "code",
      "execution_count": 1,
      "metadata": {
        "scrolled": true,
        "id": "yZE7O3LUPUsR",
        "colab": {
          "base_uri": "https://localhost:8080/",
          "height": 109
        },
        "outputId": "2e19e4d6-4a87-4049-f785-1f4024698d11"
      },
      "outputs": [
        {
          "output_type": "error",
          "ename": "SyntaxError",
          "evalue": "expected ':' (<ipython-input-1-af5a0dab7d96>, line 1)",
          "traceback": [
            "\u001b[0;36m  File \u001b[0;32m\"<ipython-input-1-af5a0dab7d96>\"\u001b[0;36m, line \u001b[0;32m1\u001b[0m\n\u001b[0;31m    if(4>2)\u001b[0m\n\u001b[0m           ^\u001b[0m\n\u001b[0;31mSyntaxError\u001b[0m\u001b[0;31m:\u001b[0m expected ':'\n"
          ]
        }
      ],
      "source": [
        "if(4>2)\n",
        "    print('A')"
      ],
      "id": "yZE7O3LUPUsR"
    },
    {
      "cell_type": "code",
      "execution_count": 5,
      "metadata": {
        "id": "0y9rDE9xPUsS",
        "colab": {
          "base_uri": "https://localhost:8080/"
        },
        "outputId": "9556c88c-9bb2-4c2a-fdec-c1a8176ae43a"
      },
      "outputs": [
        {
          "output_type": "stream",
          "name": "stdout",
          "text": [
            "A\n"
          ]
        }
      ],
      "source": [
        "# Cannot be handled using try except\n",
        "try:\n",
        "    if(4>2):\n",
        "        print('A')\n",
        "except:\n",
        "    print(\"Exception\")"
      ],
      "id": "0y9rDE9xPUsS"
    },
    {
      "cell_type": "markdown",
      "metadata": {
        "id": "u_LCWdczPUsS"
      },
      "source": [
        "### Ex2)"
      ],
      "id": "u_LCWdczPUsS"
    },
    {
      "cell_type": "code",
      "execution_count": null,
      "metadata": {
        "id": "V8UkWGk4PUsS"
      },
      "outputs": [],
      "source": [
        "print(\"a\")\n",
        "    print(\"b\")"
      ],
      "id": "V8UkWGk4PUsS"
    },
    {
      "cell_type": "markdown",
      "metadata": {
        "id": "K5UevClvPUsT"
      },
      "source": [
        "### Exceptions\n",
        "* any error other than sytax errors are called as exception\n",
        "* Exceptions can be handled"
      ],
      "id": "K5UevClvPUsT"
    },
    {
      "cell_type": "markdown",
      "metadata": {
        "id": "dSF5Cr8GPUsT"
      },
      "source": [
        "### Ex1)"
      ],
      "id": "dSF5Cr8GPUsT"
    },
    {
      "cell_type": "code",
      "execution_count": null,
      "metadata": {
        "id": "Ey-4omzaPUsU"
      },
      "outputs": [],
      "source": [
        "print(\"hello world\")\n",
        "print(name)\n",
        "print('Welcome to exception handling')\n",
        "print('Thank you')"
      ],
      "id": "Ey-4omzaPUsU"
    },
    {
      "cell_type": "markdown",
      "metadata": {
        "id": "QhqkYLgQPUsU"
      },
      "source": [
        "## try:\n",
        "* **try** block will check if there are any exceptions in our code.\n",
        "* If there are exception, then it will pass the control to **except** block\n",
        "* If there is no exception then it will not do anything\n",
        "\n",
        "## except:\n",
        "* **except** block will handle the exception.\n",
        "* It prevents the abrupt termination of the program"
      ],
      "id": "QhqkYLgQPUsU"
    },
    {
      "cell_type": "code",
      "execution_count": null,
      "metadata": {
        "id": "ewPxrsT_PUsU"
      },
      "outputs": [],
      "source": [
        "\"\"\"\n",
        "syntax ---->\n",
        "\n",
        "try:\n",
        "    statement1\n",
        "    statement2\n",
        "    .......\n",
        "except:\n",
        "    statement1\n",
        "    statement2\n",
        "    .......\n",
        "\"\"\""
      ],
      "id": "ewPxrsT_PUsU"
    },
    {
      "cell_type": "code",
      "source": [
        "print(name)"
      ],
      "metadata": {
        "colab": {
          "base_uri": "https://localhost:8080/",
          "height": 145
        },
        "id": "3MvynjWkADJx",
        "outputId": "a56c3cd7-4ea1-4f91-f023-a182dc61734a"
      },
      "id": "3MvynjWkADJx",
      "execution_count": 8,
      "outputs": [
        {
          "output_type": "error",
          "ename": "NameError",
          "evalue": "name 'name' is not defined",
          "traceback": [
            "\u001b[0;31m---------------------------------------------------------------------------\u001b[0m",
            "\u001b[0;31mNameError\u001b[0m                                 Traceback (most recent call last)",
            "\u001b[0;32m<ipython-input-8-9ba126b17b03>\u001b[0m in \u001b[0;36m<cell line: 1>\u001b[0;34m()\u001b[0m\n\u001b[0;32m----> 1\u001b[0;31m \u001b[0mprint\u001b[0m\u001b[0;34m(\u001b[0m\u001b[0mname\u001b[0m\u001b[0;34m)\u001b[0m\u001b[0;34m\u001b[0m\u001b[0;34m\u001b[0m\u001b[0m\n\u001b[0m",
            "\u001b[0;31mNameError\u001b[0m: name 'name' is not defined"
          ]
        }
      ]
    },
    {
      "cell_type": "code",
      "execution_count": 11,
      "metadata": {
        "id": "1QMIVpW4PUsV",
        "colab": {
          "base_uri": "https://localhost:8080/"
        },
        "outputId": "79947b5a-e3d2-4b83-9681-cebb9e310691"
      },
      "outputs": [
        {
          "output_type": "stream",
          "name": "stdout",
          "text": [
            "he\n",
            "Welcome to exception handling\n",
            "Thank you\n"
          ]
        }
      ],
      "source": [
        "name ='he'\n",
        "try:\n",
        "    print(name)\n",
        "except:\n",
        "    print(\"Name variable is not defined\")\n",
        "\n",
        "print('Welcome to exception handling')\n",
        "print('Thank you')"
      ],
      "id": "1QMIVpW4PUsV"
    },
    {
      "cell_type": "markdown",
      "metadata": {
        "id": "JPUwQt18PUsV"
      },
      "source": [
        "### Ex2)"
      ],
      "id": "JPUwQt18PUsV"
    },
    {
      "cell_type": "code",
      "execution_count": 12,
      "metadata": {
        "id": "iXqN-RmZPUsV"
      },
      "outputs": [],
      "source": [
        "#list\n",
        "list1 = [1,2,3,4,5]"
      ],
      "id": "iXqN-RmZPUsV"
    },
    {
      "cell_type": "code",
      "execution_count": 13,
      "metadata": {
        "id": "Om0WoAaYPUsV",
        "colab": {
          "base_uri": "https://localhost:8080/",
          "height": 199
        },
        "outputId": "8b733a82-48b8-44e1-dd1f-7ffcade3120b"
      },
      "outputs": [
        {
          "output_type": "error",
          "ename": "IndexError",
          "evalue": "list index out of range",
          "traceback": [
            "\u001b[0;31m---------------------------------------------------------------------------\u001b[0m",
            "\u001b[0;31mIndexError\u001b[0m                                Traceback (most recent call last)",
            "\u001b[0;32m<ipython-input-13-00b23366ffd5>\u001b[0m in \u001b[0;36m<cell line: 3>\u001b[0;34m()\u001b[0m\n\u001b[1;32m      1\u001b[0m \u001b[0;31m#without try except\u001b[0m\u001b[0;34m\u001b[0m\u001b[0;34m\u001b[0m\u001b[0m\n\u001b[1;32m      2\u001b[0m \u001b[0mindex\u001b[0m \u001b[0;34m=\u001b[0m \u001b[0;36m6\u001b[0m\u001b[0;34m\u001b[0m\u001b[0;34m\u001b[0m\u001b[0m\n\u001b[0;32m----> 3\u001b[0;31m \u001b[0melem\u001b[0m \u001b[0;34m=\u001b[0m \u001b[0mlist1\u001b[0m\u001b[0;34m[\u001b[0m\u001b[0mindex\u001b[0m\u001b[0;34m]\u001b[0m\u001b[0;34m\u001b[0m\u001b[0;34m\u001b[0m\u001b[0m\n\u001b[0m\u001b[1;32m      4\u001b[0m \u001b[0mprint\u001b[0m\u001b[0;34m(\u001b[0m\u001b[0;34m'element = '\u001b[0m\u001b[0;34m,\u001b[0m\u001b[0melem\u001b[0m\u001b[0;34m)\u001b[0m\u001b[0;34m\u001b[0m\u001b[0;34m\u001b[0m\u001b[0m\n",
            "\u001b[0;31mIndexError\u001b[0m: list index out of range"
          ]
        }
      ],
      "source": [
        "#without try except\n",
        "index = 6\n",
        "elem = list1[index]\n",
        "print('element = ',elem)"
      ],
      "id": "Om0WoAaYPUsV"
    },
    {
      "cell_type": "code",
      "execution_count": 14,
      "metadata": {
        "id": "RNlhAWdIPUsV",
        "colab": {
          "base_uri": "https://localhost:8080/"
        },
        "outputId": "966764fc-9d5a-4419-c31c-a03da8b3e491"
      },
      "outputs": [
        {
          "output_type": "stream",
          "name": "stdout",
          "text": [
            "Invalid index\n"
          ]
        }
      ],
      "source": [
        "#with try except\n",
        "try:\n",
        "    index = 6\n",
        "    elem = list1[index]\n",
        "    print('element = ',elem)\n",
        "except:\n",
        "    print('Invalid index')"
      ],
      "id": "RNlhAWdIPUsV"
    },
    {
      "cell_type": "markdown",
      "metadata": {
        "id": "I2m_8fO-PUsW"
      },
      "source": [
        "## finally:\n",
        "* No matter if the exception occurs or not this block will compulsorily get executed"
      ],
      "id": "I2m_8fO-PUsW"
    },
    {
      "cell_type": "code",
      "execution_count": null,
      "metadata": {
        "id": "PxcwZmpiPUsW"
      },
      "outputs": [],
      "source": [
        "\"\"\"\n",
        "syntax ---->\n",
        "\n",
        "try:\n",
        "    statement1\n",
        "    statement2\n",
        "    .......\n",
        "except:\n",
        "    statement1\n",
        "    statement2\n",
        "    .......\n",
        "finally:\n",
        "    statement1\n",
        "    statement2\n",
        "    .......\n",
        "\"\"\""
      ],
      "id": "PxcwZmpiPUsW"
    },
    {
      "cell_type": "markdown",
      "metadata": {
        "id": "W9aUH7vAPUsW"
      },
      "source": [
        "### Ex3)"
      ],
      "id": "W9aUH7vAPUsW"
    },
    {
      "cell_type": "code",
      "execution_count": 16,
      "metadata": {
        "id": "WEMVC7QsPUsW",
        "colab": {
          "base_uri": "https://localhost:8080/"
        },
        "outputId": "71307d71-21df-4a11-8a7f-a20b91a9af2d"
      },
      "outputs": [
        {
          "output_type": "stream",
          "name": "stdout",
          "text": [
            "element =  2\n",
            "End of program\n"
          ]
        }
      ],
      "source": [
        "try:\n",
        "    index = 1\n",
        "    elem = list1[index]\n",
        "    print('element = ',elem)\n",
        "except:\n",
        "    print('Invalid index')\n",
        "finally:\n",
        "    print(\"End of program\")\n"
      ],
      "id": "WEMVC7QsPUsW"
    },
    {
      "cell_type": "markdown",
      "metadata": {
        "id": "7GBCBaO3PUsW"
      },
      "source": [
        "## else:\n",
        "* You can also use else block along with try except\n",
        "* else block will get execute only if there is no exception\n",
        "* it should be placed after the except block and before the finally block"
      ],
      "id": "7GBCBaO3PUsW"
    },
    {
      "cell_type": "code",
      "execution_count": null,
      "metadata": {
        "id": "7Fb-cou4PUsX"
      },
      "outputs": [],
      "source": [
        "\"\"\"\n",
        "syntax ---->\n",
        "\n",
        "try:\n",
        "    statement1\n",
        "    statement2\n",
        "    .......\n",
        "except:\n",
        "    statement1\n",
        "    statement2\n",
        "    .......\n",
        "else:\n",
        "    statement1\n",
        "    statement2\n",
        "    .......\n",
        "finally:\n",
        "    statement1\n",
        "    statement2\n",
        "    .......\n",
        "\"\"\""
      ],
      "id": "7Fb-cou4PUsX"
    },
    {
      "cell_type": "markdown",
      "metadata": {
        "id": "DzyPQQJIPUsX"
      },
      "source": [
        "### Ex4)"
      ],
      "id": "DzyPQQJIPUsX"
    },
    {
      "cell_type": "code",
      "execution_count": null,
      "metadata": {
        "id": "HwUPXpJXPUsX",
        "outputId": "0fcc0589-e83c-4d67-ef6c-2bfbaadb1ffd",
        "colab": {
          "base_uri": "https://localhost:8080/"
        }
      },
      "outputs": [
        {
          "output_type": "stream",
          "name": "stdout",
          "text": [
            "Invalid index\n",
            "End of program\n"
          ]
        }
      ],
      "source": [
        "try:\n",
        "    index = 6\n",
        "    elem = list1[index]\n",
        "    print('element = ',elem)\n",
        "except:\n",
        "    print('Invalid index')\n",
        "else:\n",
        "    print('No exception')\n",
        "# finally:\n",
        "print(\"End of program\")\n"
      ],
      "id": "HwUPXpJXPUsX"
    },
    {
      "cell_type": "markdown",
      "metadata": {
        "id": "-RS8DmGtPUsX"
      },
      "source": [
        "## Excepting multiple errors"
      ],
      "id": "-RS8DmGtPUsX"
    },
    {
      "cell_type": "markdown",
      "metadata": {
        "id": "7Zoli5yrPUsX"
      },
      "source": [
        "### Ex 5.1 : Dividing two numbers without try except blocks"
      ],
      "id": "7Zoli5yrPUsX"
    },
    {
      "cell_type": "code",
      "execution_count": 17,
      "metadata": {
        "scrolled": true,
        "id": "IzaYHwc0PUsX",
        "colab": {
          "base_uri": "https://localhost:8080/",
          "height": 289
        },
        "outputId": "ccb52b1b-d87b-4bea-ff4c-2c3170422d23"
      },
      "outputs": [
        {
          "output_type": "stream",
          "name": "stdout",
          "text": [
            "start of the program\n",
            "Enter the numerator : 1\n",
            "Enter the denominator : 0\n",
            "Numerator = 1 , Denominator = 0\n"
          ]
        },
        {
          "output_type": "error",
          "ename": "ZeroDivisionError",
          "evalue": "division by zero",
          "traceback": [
            "\u001b[0;31m---------------------------------------------------------------------------\u001b[0m",
            "\u001b[0;31mZeroDivisionError\u001b[0m                         Traceback (most recent call last)",
            "\u001b[0;32m<ipython-input-17-8c5a2eeaafcf>\u001b[0m in \u001b[0;36m<cell line: 8>\u001b[0;34m()\u001b[0m\n\u001b[1;32m      6\u001b[0m \u001b[0mprint\u001b[0m\u001b[0;34m(\u001b[0m\u001b[0;34m'Numerator = {} , Denominator = {}'\u001b[0m\u001b[0;34m.\u001b[0m\u001b[0mformat\u001b[0m\u001b[0;34m(\u001b[0m\u001b[0mnum1\u001b[0m\u001b[0;34m,\u001b[0m\u001b[0mnum2\u001b[0m\u001b[0;34m)\u001b[0m\u001b[0;34m)\u001b[0m\u001b[0;34m\u001b[0m\u001b[0;34m\u001b[0m\u001b[0m\n\u001b[1;32m      7\u001b[0m \u001b[0;34m\u001b[0m\u001b[0m\n\u001b[0;32m----> 8\u001b[0;31m \u001b[0mresult\u001b[0m \u001b[0;34m=\u001b[0m \u001b[0mnum1\u001b[0m\u001b[0;34m/\u001b[0m\u001b[0mnum2\u001b[0m\u001b[0;34m\u001b[0m\u001b[0;34m\u001b[0m\u001b[0m\n\u001b[0m\u001b[1;32m      9\u001b[0m \u001b[0;34m\u001b[0m\u001b[0m\n\u001b[1;32m     10\u001b[0m \u001b[0mprint\u001b[0m\u001b[0;34m(\u001b[0m\u001b[0;34m\"result = \"\u001b[0m\u001b[0;34m,\u001b[0m\u001b[0mresult\u001b[0m\u001b[0;34m)\u001b[0m\u001b[0;34m\u001b[0m\u001b[0;34m\u001b[0m\u001b[0m\n",
            "\u001b[0;31mZeroDivisionError\u001b[0m: division by zero"
          ]
        }
      ],
      "source": [
        "print(\"start of the program\")\n",
        "\n",
        "num1 = int(input(\"Enter the numerator : \"))\n",
        "num2 = int(input(\"Enter the denominator : \"))\n",
        "\n",
        "print('Numerator = {} , Denominator = {}'.format(num1,num2))\n",
        "\n",
        "result = num1/num2\n",
        "\n",
        "print(\"result = \",result)\n",
        "print(\"End of program\")"
      ],
      "id": "IzaYHwc0PUsX"
    },
    {
      "cell_type": "code",
      "execution_count": null,
      "metadata": {
        "id": "SCzarak9PUsX"
      },
      "outputs": [],
      "source": [],
      "id": "SCzarak9PUsX"
    },
    {
      "cell_type": "markdown",
      "metadata": {
        "id": "UPUjTQxGPUsX"
      },
      "source": [
        "### Ex 5.2 : Dividing two numbers with only one except block"
      ],
      "id": "UPUjTQxGPUsX"
    },
    {
      "cell_type": "code",
      "execution_count": 18,
      "metadata": {
        "id": "R1V5KEhAPUsX",
        "colab": {
          "base_uri": "https://localhost:8080/"
        },
        "outputId": "f4e88c23-9a3c-4362-8725-b0ca76a32698"
      },
      "outputs": [
        {
          "output_type": "stream",
          "name": "stdout",
          "text": [
            "start of the program\n",
            "Enter the numerator : 1\n",
            "Enter the denominator : 0\n",
            "Numerator = 1 , Denominator = 0\n",
            "Something went wrong\n",
            "End of program\n"
          ]
        }
      ],
      "source": [
        "print(\"start of the program\")\n",
        "\n",
        "try:\n",
        "    num1 = int(input(\"Enter the numerator : \"))\n",
        "    num2 = int(input(\"Enter the denominator : \"))\n",
        "\n",
        "    print('Numerator = {} , Denominator = {}'.format(num1,num2))\n",
        "\n",
        "    result = num1/num2\n",
        "    print(\"result = \",result)\n",
        "except:\n",
        "    print(\"Something went wrong\")\n",
        "finally:\n",
        "    print(\"End of program\")\n"
      ],
      "id": "R1V5KEhAPUsX"
    },
    {
      "cell_type": "code",
      "execution_count": null,
      "metadata": {
        "id": "_i3Goma_PUsY"
      },
      "outputs": [],
      "source": [],
      "id": "_i3Goma_PUsY"
    },
    {
      "cell_type": "markdown",
      "metadata": {
        "id": "J3Ur7Fn8PUsY"
      },
      "source": [
        "### Ex 5.3 : Dividing two numbers with multiple except blocks"
      ],
      "id": "J3Ur7Fn8PUsY"
    },
    {
      "cell_type": "code",
      "execution_count": null,
      "metadata": {
        "id": "nY_6dEBFPUsY"
      },
      "outputs": [],
      "source": [
        "\"\"\"\n",
        "syntax for excepting multiple exceptions\n",
        "\n",
        "try:\n",
        "    statement1\n",
        "    .......\n",
        "except Exception1:\n",
        "    statement1\n",
        "    .......\n",
        "except Exception2:\n",
        "    statement1\n",
        "    .......\n",
        "except:\n",
        "    statement1\n",
        "    .......\n",
        "\n",
        "\"\"\""
      ],
      "id": "nY_6dEBFPUsY"
    },
    {
      "cell_type": "code",
      "execution_count": null,
      "metadata": {
        "id": "qKSxOnB1PUsY",
        "colab": {
          "base_uri": "https://localhost:8080/"
        },
        "outputId": "50614005-2952-4f37-bd03-994214a031ea"
      },
      "outputs": [
        {
          "output_type": "stream",
          "name": "stdout",
          "text": [
            "start of the program\n",
            "Enter the numerator : kply\n",
            "Please enter the numbers only\n",
            "End of program\n"
          ]
        }
      ],
      "source": [
        "print(\"start of the program\")\n",
        "\n",
        "try:\n",
        "    num1 = int(input(\"Enter the numerator : \"))\n",
        "    num2 = int(input(\"Enter the denominator : \"))\n",
        "\n",
        "    print('Numerator = {} , Denominator = {}'.format(num1,num2))\n",
        "\n",
        "    result = num1/num2\n",
        "    print(\"result = \",result)\n",
        "\n",
        "except ZeroDivisionError:\n",
        "    print(\"Enter a non-zero denominator\")\n",
        "\n",
        "except ValueError:\n",
        "    print(\"Please enter the numbers only\")\n",
        "\n",
        "except:\n",
        "    print(\"Something went wrong\")\n",
        "\n",
        "finally:\n",
        "    print(\"End of program\")\n"
      ],
      "id": "qKSxOnB1PUsY"
    },
    {
      "cell_type": "code",
      "execution_count": null,
      "metadata": {
        "id": "LDtmBHOQPUsY"
      },
      "outputs": [],
      "source": [],
      "id": "LDtmBHOQPUsY"
    },
    {
      "cell_type": "markdown",
      "source": [
        "# Files Handling\n"
      ],
      "metadata": {
        "id": "Tz-2JNIMR2vx"
      },
      "id": "Tz-2JNIMR2vx"
    },
    {
      "cell_type": "markdown",
      "id": "bb365a44",
      "metadata": {
        "id": "bb365a44"
      },
      "source": [
        "### Opening and Closing Files"
      ]
    },
    {
      "cell_type": "markdown",
      "source": [
        "dataset link : https://drive.google.com/file/d/1sf2kwzYajS0yosfJ3uQR1jIJxhGmHfQX/view"
      ],
      "metadata": {
        "id": "rGEE9nzWzDF3"
      },
      "id": "rGEE9nzWzDF3"
    },
    {
      "cell_type": "markdown",
      "source": [
        "- The file is opened for reading.\n",
        "- The content of the file is treated as a string (str).\n",
        "- If the file does not exist, a FileNotFoundError will be raised."
      ],
      "metadata": {
        "id": "0yf6WgjiDGez"
      },
      "id": "0yf6WgjiDGez"
    },
    {
      "cell_type": "markdown",
      "source": [
        "file_object = open(file_name, mode)\n"
      ],
      "metadata": {
        "id": "AkV2S91qEcH9"
      },
      "id": "AkV2S91qEcH9"
    },
    {
      "cell_type": "markdown",
      "source": [
        "r': Read mode (default)\n",
        "\n",
        "'w': Write mode\n",
        "\n",
        "'a': Append mode\n",
        "\n",
        "'x': Create mode"
      ],
      "metadata": {
        "id": "MLk1MbKvEirY"
      },
      "id": "MLk1MbKvEirY"
    },
    {
      "cell_type": "code",
      "execution_count": null,
      "id": "65ddf95e",
      "metadata": {
        "id": "65ddf95e"
      },
      "outputs": [],
      "source": [
        "file = open('file1.txt')\n",
        "print(file.read())"
      ]
    },
    {
      "cell_type": "code",
      "execution_count": null,
      "id": "7c632622",
      "metadata": {
        "id": "7c632622"
      },
      "outputs": [],
      "source": [
        "file.close()\n",
        "print(file.read())  # Already closed, so error occurred"
      ]
    },
    {
      "cell_type": "markdown",
      "id": "76ecdb99",
      "metadata": {
        "id": "76ecdb99"
      },
      "source": [
        "### Read mode"
      ]
    },
    {
      "cell_type": "code",
      "execution_count": null,
      "id": "9fa4e852",
      "metadata": {
        "id": "9fa4e852"
      },
      "outputs": [],
      "source": [
        "# Opening a file in read mode\n",
        "file_path = \"file1.txt\"\n",
        "\n",
        "# Using the open() function to open the file\n",
        "try:\n",
        "    file = open(file_path, 'r')  # 'r' for read mode\n",
        "\n",
        "    # File operations can be performed here\n",
        "\n",
        "    content = file.read()\n",
        "    print(content)\n",
        "finally:\n",
        "    file.close()"
      ]
    },
    {
      "cell_type": "markdown",
      "id": "8daede23",
      "metadata": {
        "id": "8daede23"
      },
      "source": [
        "### Write Mode"
      ]
    },
    {
      "cell_type": "markdown",
      "source": [
        "'w' mode in Python erases the file's content and then writes to it.\n",
        "\n"
      ],
      "metadata": {
        "id": "TVHTvfTIIlqB"
      },
      "id": "TVHTvfTIIlqB"
    },
    {
      "cell_type": "code",
      "execution_count": null,
      "id": "426d17ad",
      "metadata": {
        "id": "426d17ad"
      },
      "outputs": [],
      "source": [
        "#'w' mode to write into the file\n",
        "file_path = \"file1.txt\"\n",
        "\n",
        "\n",
        "try:\n",
        "    file = open(file_path, 'w')  # 'w' for write mode\n",
        "    content = \"This is some content that will be written to the file1.\"\n",
        "    file.write(content)  # Writing the content to the file\n",
        "finally:\n",
        "    file.close()"
      ]
    },
    {
      "cell_type": "code",
      "execution_count": null,
      "id": "22cb073b",
      "metadata": {
        "id": "22cb073b"
      },
      "outputs": [],
      "source": [
        "file = open('file1.txt')\n",
        "print(file.read())"
      ]
    },
    {
      "cell_type": "markdown",
      "id": "90cd001b",
      "metadata": {
        "id": "90cd001b"
      },
      "source": [
        "### Append mode:\n",
        "- Append mode, adding data to the end of the file if it exists."
      ]
    },
    {
      "cell_type": "code",
      "execution_count": null,
      "id": "0985a801",
      "metadata": {
        "id": "0985a801"
      },
      "outputs": [],
      "source": [
        "file_path = \"file1.txt\"\n",
        "\n",
        "try:\n",
        "    file = open(file_path, 'a')\n",
        "    content = \"\\n THis text will be appended to the file\"\n",
        "    file.write(content)\n",
        "finally:\n",
        "    file.close()"
      ]
    },
    {
      "cell_type": "code",
      "execution_count": null,
      "id": "42cfa2ed",
      "metadata": {
        "id": "42cfa2ed"
      },
      "outputs": [],
      "source": [
        "file = open('file1.txt')\n",
        "print(file.read())"
      ]
    },
    {
      "cell_type": "markdown",
      "id": "0660b4d2",
      "metadata": {
        "id": "0660b4d2"
      },
      "source": [
        "### Exclusive mode\n",
        "- creating a new file if it does not exist"
      ]
    },
    {
      "cell_type": "code",
      "execution_count": null,
      "id": "d610158e",
      "metadata": {
        "id": "d610158e"
      },
      "outputs": [],
      "source": [
        "file_path = \"new_file.txt\"\n",
        "\n",
        "try:\n",
        "    file = open(file_path, 'x')\n",
        "    content = \"New file created using 'x' mode\"\n",
        "    file.write(content)\n",
        "finally:\n",
        "    file.close()"
      ]
    },
    {
      "cell_type": "markdown",
      "id": "93dc36e7",
      "metadata": {
        "id": "93dc36e7"
      },
      "source": [
        "### 't' mode"
      ]
    },
    {
      "cell_type": "markdown",
      "source": [
        "The 't' mode in Python stands for text mode, and it is used to indicate that a file is being opened as a text file."
      ],
      "metadata": {
        "id": "iXekudtgJGbo"
      },
      "id": "iXekudtgJGbo"
    },
    {
      "cell_type": "markdown",
      "source": [
        "The with open() command opens the file in read mode ('r') and text mode ('t').\n",
        "\n",
        "Text mode ('t') means the file's content is treated as text (not binary)."
      ],
      "metadata": {
        "id": "aQMeF1T0MzKw"
      },
      "id": "aQMeF1T0MzKw"
    },
    {
      "cell_type": "code",
      "execution_count": null,
      "id": "5c5bc6f6",
      "metadata": {
        "id": "5c5bc6f6"
      },
      "outputs": [],
      "source": [
        "text_file_path = \"new_file.txt\"\n",
        "# The with statement automatically closes the file after reading it, so you don’t have to do it yourself.\n",
        "with open(text_file_path, 'rt') as text_file:\n",
        "    content = text_file.read()\n",
        "    print(content)"
      ]
    },
    {
      "cell_type": "markdown",
      "id": "041e98d9",
      "metadata": {
        "id": "041e98d9"
      },
      "source": [
        "### Reading from Files:\n",
        "- read(): Reads the entire content of the file.\n",
        "- readline(): Reads a single line from the file.\n",
        "- readlines(): Reads all lines into a list."
      ]
    },
    {
      "cell_type": "code",
      "execution_count": null,
      "id": "d2a06522",
      "metadata": {
        "id": "d2a06522"
      },
      "outputs": [],
      "source": [
        "file_read = open(\"file1.txt\")\n",
        "content = file_read.readline()\n",
        "print(content)"
      ]
    },
    {
      "cell_type": "code",
      "execution_count": null,
      "id": "26f69b34",
      "metadata": {
        "id": "26f69b34"
      },
      "outputs": [],
      "source": [
        "file_read = open(\"file1.txt\")\n",
        "content = file_read.readlines()\n",
        "print(content)"
      ]
    },
    {
      "cell_type": "markdown",
      "id": "5512c480",
      "metadata": {
        "id": "5512c480"
      },
      "source": [
        "### Writing to files\n",
        "- write(): Writes a string to the file.\n",
        "- writelines(): Writes a list of strings to the file."
      ]
    },
    {
      "cell_type": "code",
      "execution_count": null,
      "id": "ad4b5cd2",
      "metadata": {
        "id": "ad4b5cd2"
      },
      "outputs": [],
      "source": [
        "file_path = \"file1.txt\"\n",
        "\n",
        "content = \"Line 1\\nLine 2\\nLine 3\"\n",
        "\n",
        "# Writing content using write() method\n",
        "with open(file_path, 'w') as file:\n",
        "    file.write(content)"
      ]
    },
    {
      "cell_type": "code",
      "execution_count": null,
      "id": "a184fe18",
      "metadata": {
        "id": "a184fe18"
      },
      "outputs": [],
      "source": [
        "file = open('file1.txt','r')\n",
        "print(file.read())"
      ]
    },
    {
      "cell_type": "code",
      "execution_count": null,
      "id": "72eca709",
      "metadata": {
        "id": "72eca709"
      },
      "outputs": [],
      "source": [
        "file_path = \"file1.txt\"\n",
        "\n",
        "lines = [\"Line 1\\n\", \"Line 2\\n\", \"Line 3\\n\"]\n",
        "\n",
        "# Writing content using write() method\n",
        "with open(file_path, 'w') as file:\n",
        "    file.writelines(lines)"
      ]
    },
    {
      "cell_type": "code",
      "execution_count": null,
      "id": "cfc91727",
      "metadata": {
        "id": "cfc91727"
      },
      "outputs": [],
      "source": [
        "file = open('file1.txt','r')\n",
        "print(file.read())"
      ]
    },
    {
      "cell_type": "code",
      "source": [],
      "metadata": {
        "id": "0Swe7dNBrQfg"
      },
      "id": "0Swe7dNBrQfg",
      "execution_count": null,
      "outputs": []
    },
    {
      "cell_type": "markdown",
      "source": [
        "![image.png](data:image/png;base64,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)"
      ],
      "metadata": {
        "id": "ZtZDlouIrQ8Q"
      },
      "id": "ZtZDlouIrQ8Q"
    },
    {
      "cell_type": "code",
      "execution_count": null,
      "id": "c545b17c",
      "metadata": {
        "id": "c545b17c"
      },
      "outputs": [],
      "source": []
    }
  ],
  "metadata": {
    "kernelspec": {
      "display_name": "Python 3 (ipykernel)",
      "language": "python",
      "name": "python3"
    },
    "language_info": {
      "codemirror_mode": {
        "name": "ipython",
        "version": 3
      },
      "file_extension": ".py",
      "mimetype": "text/x-python",
      "name": "python",
      "nbconvert_exporter": "python",
      "pygments_lexer": "ipython3",
      "version": "3.10.9"
    },
    "colab": {
      "provenance": []
    }
  },
  "nbformat": 4,
  "nbformat_minor": 5
}