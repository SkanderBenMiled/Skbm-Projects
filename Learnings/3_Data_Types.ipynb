{
  "cells": [
    {
      "cell_type": "markdown",
      "metadata": {
        "id": "1FhY1tWqkO6k"
      },
      "source": [
        "## Python Data Types"
      ]
    },
    {
      "cell_type": "markdown",
      "metadata": {
        "id": "PYJ1X8e0kO6v"
      },
      "source": [
        "Data types specify the different sizes and values that can be stored in the variable. For example, Python stores numbers, strings, and a list of values using different data types.\n",
        "\n",
        "Python is a dynamically typed language; therefore, we do not need to specify the variable’s type while declaring it. Whatever value we assign to the variable based on that data type will be automatically assigned. For example, name = 'Jessa' here Python will store the name variable as a str data type.\n",
        "\n",
        "No matter what value is stored in a variable (object), a variable can be any type like int, float, str, list, set, tuple, dict, bool, etc.\n",
        "\n",
        "* Numeric: int, float, and complex\n",
        "* Sequence: String, list, and tuple\n",
        "* Set\n",
        "* Dictionary (dict)\n"
      ]
    },
    {
      "cell_type": "markdown",
      "metadata": {
        "id": "XAqFFlePkO62"
      },
      "source": [
        "To check the data type of variable use the built-in function type()  and isinstance().\n",
        "\n",
        "* The type() function returns the data type of the variable\n",
        "* The isinstance() function checks whether an object belongs to a particular class."
      ]
    },
    {
      "cell_type": "markdown",
      "metadata": {
        "id": "hSxFkDM0kO63"
      },
      "source": [
        "### Str data type\n"
      ]
    },
    {
      "cell_type": "markdown",
      "metadata": {
        "id": "qa-7cFHJkO64"
      },
      "source": [
        "In Python, A string is a sequence of characters enclosed within a single quote or double quote. These characters could be anything like letters, numbers, or special symbols enclosed within double quotation marks. For example, \"Deepali\" is a string.\n",
        "\n",
        "The string type in Python is represented using a str class.\n",
        "\n",
        "To work with text or character data in Python, we use Strings. Once a string is created, we can do many operations on it, such as searching inside it, creating a substring from it, and splitting it.\n",
        "\n"
      ]
    },
    {
      "cell_type": "code",
      "source": [
        "raw = r'this\\t\\n and that'\n",
        "print (raw)"
      ],
      "metadata": {
        "id": "uN_dJJ5-aWmz"
      },
      "execution_count": null,
      "outputs": []
    },
    {
      "cell_type": "code",
      "source": [
        "raw = 'this\\t is \\n and that is'\n",
        "print (raw)"
      ],
      "metadata": {
        "id": "ANxviV0faWjU"
      },
      "execution_count": null,
      "outputs": []
    },
    {
      "cell_type": "code",
      "source": [
        "double = \"It was the best of times.It was the worst of times.\"\n",
        "print (double)"
      ],
      "metadata": {
        "id": "XCAG_2KSaqxk"
      },
      "execution_count": null,
      "outputs": []
    },
    {
      "cell_type": "code",
      "source": [
        "double = \"It was the best of times.\"\n",
        "\"It was the worst of times.\"\n",
        "print (double)"
      ],
      "metadata": {
        "id": "_QCQZXasa0M2"
      },
      "execution_count": null,
      "outputs": []
    },
    {
      "cell_type": "code",
      "source": [
        "multi = '''It was the best of times.\n",
        " It was the worst of times.'''\n",
        "print (multi)"
      ],
      "metadata": {
        "id": "Hp-6cyY2a-6c"
      },
      "execution_count": null,
      "outputs": []
    },
    {
      "cell_type": "markdown",
      "metadata": {
        "id": "RNEJpmIAkO7A"
      },
      "source": [
        "#### String Methods\n",
        "Here are some of the most common string methods. A method is like a function, but it runs \"on\" an object. If the variable s is a string, then the code s.lower() runs the lower() method on that string object and returns the result (this idea of a method running on an object is one of the basic ideas that make up Object Oriented Programming, OOP). Here are some of the most common string methods:\n"
      ]
    },
    {
      "cell_type": "code",
      "source": [
        "# Sample string\n",
        "s = \"  Hello, World!  \"\n",
        "\n",
        "# 1. s.lower() and s.upper()\n",
        "print(\"Lowercase:\", s.lower())  # Converts the string to lowercase\n",
        "print(\"Uppercase:\", s.upper())  # Converts the string to uppercase"
      ],
      "metadata": {
        "id": "YRp5jJ2tbn2i"
      },
      "execution_count": null,
      "outputs": []
    },
    {
      "cell_type": "code",
      "source": [
        "# 2. s.strip()\n",
        "print(\"Stripped:\", s.strip())  # Removes whitespace from the start and end"
      ],
      "metadata": {
        "id": "NqXLnbdybqML"
      },
      "execution_count": null,
      "outputs": []
    },
    {
      "cell_type": "code",
      "source": [
        "print('hello','hi')"
      ],
      "metadata": {
        "id": "3Bkt1nXjZubF"
      },
      "execution_count": null,
      "outputs": []
    },
    {
      "cell_type": "code",
      "source": [
        "# 3. s.isalpha(), s.isdigit(), and s.isspace()\n",
        "print(\"Is 'Hello' alphabetic?\", \"Hello\".isalpha())  # True, all characters are letters\n",
        "print(\"Is '12345' numeric?\", \"12345\".isdigit())     # True, all characters are digits\n",
        "print(\"Is '   ' whitespace?\", \"   \".isspace())      # True, all characters are whitespace"
      ],
      "metadata": {
        "id": "ThOUmC9Obs5L"
      },
      "execution_count": null,
      "outputs": []
    },
    {
      "cell_type": "code",
      "source": [
        "s"
      ],
      "metadata": {
        "id": "nSpaLEWSaNLt"
      },
      "execution_count": null,
      "outputs": []
    },
    {
      "cell_type": "code",
      "source": [
        "s.startswith(\"  Hello\")"
      ],
      "metadata": {
        "id": "M6FmhJYUaLwZ"
      },
      "execution_count": null,
      "outputs": []
    },
    {
      "cell_type": "code",
      "source": [
        "s.endswith(\"World!  \")"
      ],
      "metadata": {
        "id": "BXHagcOdaaDw"
      },
      "execution_count": null,
      "outputs": []
    },
    {
      "cell_type": "code",
      "source": [
        "# 4. s.startswith() and s.endswith()\n",
        "print(s)\n",
        "print(\"Starts with '  Hello'?\", s.startswith(\"  Hello\"))  # True\n",
        "print(\"Ends with 'World!  '?\", s.endswith(\"World!  \"))    # True"
      ],
      "metadata": {
        "id": "7lgwi9wwbumz"
      },
      "execution_count": null,
      "outputs": []
    },
    {
      "cell_type": "code",
      "source": [
        "s.find(\"World\")"
      ],
      "metadata": {
        "id": "J5lpm6EzajPy"
      },
      "execution_count": null,
      "outputs": []
    },
    {
      "cell_type": "code",
      "source": [
        "# 5. s.find()\n",
        "print(s)\n",
        "print(\"Index of 'World':\", s.find(\"World\"))  # Returns 9 (first occurrence)"
      ],
      "metadata": {
        "id": "tbffjg9PbwwO"
      },
      "execution_count": null,
      "outputs": []
    },
    {
      "cell_type": "markdown",
      "source": [
        "next time :"
      ],
      "metadata": {
        "id": "5FAn1ngZbDjd"
      }
    },
    {
      "cell_type": "code",
      "source": [
        "# 6. s.replace()\n",
        "print(s)\n",
        "print(\"Replace 'World' with 'Python':\", s.replace(\"World\", \"Python\"))  # Replaces 'World' with 'Python'"
      ],
      "metadata": {
        "id": "2-fEdnADbyio"
      },
      "execution_count": null,
      "outputs": []
    },
    {
      "cell_type": "code",
      "source": [
        "# 7. s.split()\n",
        "csv_string = \"aaa,bbb,ccc\"\n",
        "print(\"Split by comma:\", csv_string.split(\",\"))  # ['aaa', 'bbb', 'ccc']"
      ],
      "metadata": {
        "id": "pxkDFi49b0qT"
      },
      "execution_count": null,
      "outputs": []
    },
    {
      "cell_type": "code",
      "source": [
        "# Special case: split by whitespace\n",
        "print(s)\n",
        "print(\"Split by whitespace:\", s.split())  # ['Hello,', 'World!']"
      ],
      "metadata": {
        "id": "VutG6d4Fb46u"
      },
      "execution_count": null,
      "outputs": []
    },
    {
      "cell_type": "code",
      "source": [
        "# 8. s.join()\n",
        "words = [\"Python\", \"is\", \"fun\"]\n",
        "print(\"Join with '---':\", \"---\".join(words))  # 'Python---is---fun'\n",
        "print(\"Join with ' ':\", \" \".join(words))  # 'Python---is---fun'"
      ],
      "metadata": {
        "id": "H7eb3vJYbiiF"
      },
      "execution_count": null,
      "outputs": []
    },
    {
      "cell_type": "markdown",
      "metadata": {
        "id": "YiKsqX6akO7B"
      },
      "source": [
        "#### String Slices"
      ]
    },
    {
      "cell_type": "markdown",
      "metadata": {
        "id": "R1Aw1ojpkO7D"
      },
      "source": [
        "The \"slice\" syntax is a handy way to refer to sub-parts of sequences -- typically strings and lists. The slice s[start:end] is the elements beginning at start and extending up to but not including end. Suppose we have s = \"Hello\"\n",
        "\n"
      ]
    },
    {
      "cell_type": "code",
      "source": [
        "s='Hello'\n",
        "s[1:4]"
      ],
      "metadata": {
        "id": "F4S9z1PSdAvN"
      },
      "execution_count": null,
      "outputs": []
    },
    {
      "cell_type": "code",
      "source": [
        "s[1:]"
      ],
      "metadata": {
        "id": "0_l27-01dFlp"
      },
      "execution_count": null,
      "outputs": []
    },
    {
      "cell_type": "code",
      "source": [
        "s[:]"
      ],
      "metadata": {
        "id": "f0o4hNfBdH2p"
      },
      "execution_count": null,
      "outputs": []
    },
    {
      "cell_type": "code",
      "source": [
        "s[1:100]"
      ],
      "metadata": {
        "id": "SCVbilYldOxk"
      },
      "execution_count": null,
      "outputs": []
    },
    {
      "cell_type": "code",
      "source": [
        "s[-1]"
      ],
      "metadata": {
        "id": "9-Q6wq9PdQvM"
      },
      "execution_count": null,
      "outputs": []
    },
    {
      "cell_type": "code",
      "source": [
        "s[-4]"
      ],
      "metadata": {
        "id": "OViRwbbjdR74"
      },
      "execution_count": null,
      "outputs": []
    },
    {
      "cell_type": "code",
      "source": [
        "s[:-3]"
      ],
      "metadata": {
        "id": "HGbgUZ9KdTbZ"
      },
      "execution_count": null,
      "outputs": []
    },
    {
      "cell_type": "code",
      "source": [
        "s[-3:]"
      ],
      "metadata": {
        "id": "BADZ_bPbdVom"
      },
      "execution_count": null,
      "outputs": []
    },
    {
      "cell_type": "code",
      "source": [
        "s= \"hello dear students\"\n",
        "#   0123456789\n",
        "print(len(s))"
      ],
      "metadata": {
        "id": "ljK0NsF5YCCo"
      },
      "execution_count": null,
      "outputs": []
    },
    {
      "cell_type": "code",
      "source": [
        "result = s[1:11:1] # pas\n",
        "print(result)"
      ],
      "metadata": {
        "id": "QVV1wgpTYPFk"
      },
      "execution_count": null,
      "outputs": []
    },
    {
      "cell_type": "code",
      "source": [
        "result = s[1:11:2]\n",
        "print(result)"
      ],
      "metadata": {
        "id": "_0X_Ud_sZvhr"
      },
      "execution_count": null,
      "outputs": []
    },
    {
      "cell_type": "code",
      "source": [
        "result = s[11:0:-1]\n",
        "print(result)"
      ],
      "metadata": {
        "id": "gKA92JTBZG_G"
      },
      "execution_count": null,
      "outputs": []
    },
    {
      "cell_type": "code",
      "source": [
        "result = s[11:0:-2]\n",
        "print(result)"
      ],
      "metadata": {
        "id": "RVCLW5ThZ1RS"
      },
      "execution_count": null,
      "outputs": []
    },
    {
      "cell_type": "code",
      "source": [
        "s[::] # par défaut il prend début, fin de la chaine, pas =1"
      ],
      "metadata": {
        "id": "YdW39_TJZ4m3"
      },
      "execution_count": null,
      "outputs": []
    },
    {
      "cell_type": "code",
      "source": [
        "# reverse\n",
        "s = \"apple\"\n",
        "result = s[::-1]\n",
        "print(result)"
      ],
      "metadata": {
        "id": "tC2dFe0gXun6"
      },
      "execution_count": null,
      "outputs": []
    },
    {
      "cell_type": "markdown",
      "metadata": {
        "id": "ICx87qB3kO7G"
      },
      "source": [
        "Note: The string is **immutable**, i.e., it can not be changed once defined. You need to create a copy of it if you want to modify it. This non-changeable behavior is called immutability."
      ]
    },
    {
      "cell_type": "code",
      "execution_count": null,
      "metadata": {
        "id": "ulzubJlKkO7H"
      },
      "outputs": [],
      "source": [
        "# lets try to change 4th charcter of \"name\" str\n",
        "name = \"Deepali\"\n",
        "name[4] = \"r\""
      ]
    },
    {
      "cell_type": "code",
      "source": [
        "name = \"Deepali\"\n",
        "name = \"hello\" # assignment"
      ],
      "metadata": {
        "id": "ixCiW1Nmd5XJ"
      },
      "execution_count": null,
      "outputs": []
    },
    {
      "cell_type": "code",
      "source": [
        "name = name + \" hi\" # it's an assignment !!!\n",
        "print(name)"
      ],
      "metadata": {
        "id": "-kP1rnCuSuvB"
      },
      "execution_count": null,
      "outputs": []
    },
    {
      "cell_type": "markdown",
      "metadata": {
        "id": "go7UJik4kO7I"
      },
      "source": [
        "### Int data type\n"
      ]
    },
    {
      "cell_type": "markdown",
      "metadata": {
        "id": "zRXeQlkqkO7I"
      },
      "source": [
        "Python uses the int data type to represent whole integer values. For example, we can use the int data type to store the roll number of a student. The Integer type in Python is represented using a int class.\n",
        "\n",
        "You can store positive and negative integer numbers of any length such as 235, -758, 235689741.\n",
        "\n",
        "#### We can create an integer variable using the two ways\n",
        "\n",
        "* Directly assigning an integer value to a variable\n",
        "* Using a int() class."
      ]
    },
    {
      "cell_type": "code",
      "execution_count": null,
      "metadata": {
        "id": "XsnG_jaZkO7J"
      },
      "outputs": [],
      "source": [
        "# store int value\n",
        "roll_no = 33\n",
        "# display roll no\n",
        "print(\"Roll number is:\", roll_no)\n",
        "# output 33\n",
        "print(type(roll_no))\n",
        "# output class 'int'\n",
        "\n",
        "# store integer using int() class\n",
        "id = int(25)\n",
        "print(id)  # 25\n",
        "print(type(id))  # class 'int'"
      ]
    },
    {
      "cell_type": "markdown",
      "metadata": {
        "id": "hIrqcIfUkO7K"
      },
      "source": [
        "### Float data type\n"
      ]
    },
    {
      "cell_type": "markdown",
      "metadata": {
        "id": "lNIT3R_jkO7K"
      },
      "source": [
        "To represent floating-point values or decimal values, we can use the float data type. For example, if we want to store the salary, we can use the float type.\n",
        "\n",
        "The float type in Python is represented using a float class.\n",
        "\n",
        "### We can create a float variable using the two ways\n",
        "\n",
        "* Directly assigning a float value to a variable\n",
        "* Using a float() class."
      ]
    },
    {
      "cell_type": "code",
      "execution_count": null,
      "metadata": {
        "id": "05nUnh-QkO7K"
      },
      "outputs": [],
      "source": [
        "# store a floating-point value\n",
        "emp_salary = 8000.456\n",
        "print(\"Salary is :\", emp_salary)  # 8000.456\n",
        "print(type(emp_salary))  # class 'float'\n",
        "\n",
        "# store a floating-point value using float() class\n",
        "num = float(54.75)\n",
        "print(num)  # 54.75\n",
        "print(type(num))  # class 'float'"
      ]
    },
    {
      "cell_type": "markdown",
      "metadata": {
        "id": "Dec7NonKkO7L"
      },
      "source": [
        "### Complex data type\n"
      ]
    },
    {
      "cell_type": "markdown",
      "metadata": {
        "id": "65k5CU8JkO7M"
      },
      "source": [
        "A complex number is a number with a real and an imaginary component represented as a+bj where a and b contain integers or floating-point values.\n",
        "\n",
        "The complex type is generally used in scientific applications and electrical engineering applications. If we want to declare a complex value, then we can use the a+bj form. See the following example."
      ]
    },
    {
      "cell_type": "code",
      "execution_count": null,
      "metadata": {
        "id": "kAdl7S8RkO7M"
      },
      "outputs": [],
      "source": [
        "x = 9 + 8j  # both value are int type\n",
        "y = 10 + 4.5j  # one int and one float\n",
        "z = 11.2 + 1.2j  # both value are float type\n",
        "print(type(x))  # class 'complex'>\n",
        "\n",
        "print(x)  # (9+8j)\n",
        "print(y)  # (10+4.5j)\n",
        "print(z)  # (11.2+1.2j)"
      ]
    },
    {
      "cell_type": "markdown",
      "metadata": {
        "id": "2y_6ibTKkO7N"
      },
      "source": [
        "The real part of the complex number is represented using an integer value. The integer value can be in the form of either decimal, float, binary, or hexadecimal. But the imaginary part should be represented using the decimal form only. If we are trying to represent an imaginary part as binary, hex, or octal, we will get an error."
      ]
    },
    {
      "cell_type": "markdown",
      "metadata": {
        "id": "g9DT1znMkO7N"
      },
      "source": [
        "## List data type\n"
      ]
    },
    {
      "cell_type": "markdown",
      "metadata": {
        "id": "BlAV6iY8kO7N"
      },
      "source": [
        "The Python List is an ordered collection (also known as a sequence ) of elements. List elements can be accessed, iterated, and removed according to the order they inserted at the creation time.\n",
        "\n",
        "\n",
        "We use the list data type to represent groups of the element as a single entity.  For example: If we want to store all student’s names, we can use list type.\n",
        "\n",
        "##### The list can contain data of all data types such as  int, float, string\n",
        "##### Duplicates elements are allowed in the list\n",
        "##### The list is **mutable** which means we can modify the value of list elements\n",
        "##### We can create a list using the two ways\n",
        "\n",
        "* By enclosing elements in the square brackets [].\n",
        "* Using a list() class.\n"
      ]
    },
    {
      "cell_type": "code",
      "execution_count": null,
      "metadata": {
        "id": "ti4n8ka0kO7O"
      },
      "outputs": [],
      "source": [
        "A = [ ] # This is a blank list variable\n",
        "B = [1, 23, 45, 67] # this list creates an initial list of 4 numbers.\n",
        "C = [2, 4, 'john',4.3,5.12] # lists can contain different variable types.\n",
        "D = [1,2,4,1,2,3,5]\n",
        "\n",
        "print(A)\n",
        "print(B)\n",
        "print(C)\n",
        "print(D)"
      ]
    },
    {
      "cell_type": "markdown",
      "metadata": {
        "id": "5MbEepawkO7O"
      },
      "source": [
        "All lists in Python are zero-based indexed. When referencing a member or the length of a list the number of list elements is always the number shown plus one."
      ]
    },
    {
      "cell_type": "code",
      "execution_count": null,
      "metadata": {
        "id": "BLjJzcagkO7P"
      },
      "outputs": [],
      "source": [
        "mylist =  [ \"john\", \"Deepali\", \" Raj \" , \"Neelam\"]\n",
        "\n",
        "b = len(mylist) ## This will return the length of the list which is 4. The index is 0, 1, 2, 3,4.\n",
        "\n",
        "print(\"total element in mylist are : \",b)"
      ]
    },
    {
      "cell_type": "code",
      "source": [
        "print(mylist[1])     ## This will return the value at index 1, which is \"Deepali\"\n",
        "print(mylist[0:2])  ## This will return the first 2 elements in the list."
      ],
      "metadata": {
        "id": "uLg2bk26e2DI"
      },
      "execution_count": null,
      "outputs": []
    },
    {
      "cell_type": "markdown",
      "metadata": {
        "id": "-Qpw3_wckO7Q"
      },
      "source": [
        "You can assign data to a specific element of the list using an index into the list. The list index starts at zero. Data can be assigned to the elements of an array as follows:"
      ]
    },
    {
      "cell_type": "code",
      "execution_count": null,
      "metadata": {
        "id": "H4_jcepDkO7Q"
      },
      "outputs": [],
      "source": [
        "mylist = [0,1,2,3,4]\n",
        "mylist[0] = 'John' # mylist[0] => 0 here is the index not the value in the list !!\n",
        "mylist[1] = 'Deepali'\n",
        "mylist[2] = 'Raj'\n",
        "mylist[3] = 'Neelam'\n",
        "print( mylist[1])"
      ]
    },
    {
      "cell_type": "code",
      "source": [
        "mylist = ['Deepali', 'Rani', 'Harsh']\n",
        "mylist.append('shemp')         ## append elem at end\n",
        "print (mylist)"
      ],
      "metadata": {
        "id": "V6OORQOvgHs0"
      },
      "execution_count": null,
      "outputs": []
    },
    {
      "cell_type": "code",
      "source": [
        "mylist.insert(0, 'xxx')        ## insert elem at index 0"
      ],
      "metadata": {
        "id": "8YLV-95-gJgZ"
      },
      "execution_count": null,
      "outputs": []
    },
    {
      "cell_type": "code",
      "source": [
        "mylist.extend(['yyy', 'zzz'])  ## add list of elems at end\n",
        "print (mylist)"
      ],
      "metadata": {
        "id": "8gB0mc6RgLGW"
      },
      "execution_count": null,
      "outputs": []
    },
    {
      "cell_type": "code",
      "source": [
        "print (mylist.index('Rani'))"
      ],
      "metadata": {
        "id": "YjTPUfYagXXj"
      },
      "execution_count": null,
      "outputs": []
    },
    {
      "cell_type": "code",
      "source": [
        "mylist.remove('Rani')         ## search and remove that element"
      ],
      "metadata": {
        "id": "iQgReNRmgZzR"
      },
      "execution_count": null,
      "outputs": []
    },
    {
      "cell_type": "code",
      "source": [
        "print(mylist)"
      ],
      "metadata": {
        "id": "yL9p4rgHgngh"
      },
      "execution_count": null,
      "outputs": []
    },
    {
      "cell_type": "code",
      "execution_count": null,
      "metadata": {
        "id": "tJ8VeZZykO7S"
      },
      "outputs": [],
      "source": [
        "mylist.pop(1)"
      ]
    },
    {
      "cell_type": "code",
      "source": [
        "print (mylist)"
      ],
      "metadata": {
        "id": "0pndPdOVgkbV"
      },
      "execution_count": null,
      "outputs": []
    },
    {
      "cell_type": "markdown",
      "metadata": {
        "id": "p7gQkf5pkO7T"
      },
      "source": [
        "### Common error: note that the above methods do not *return* the modified list, they just modify the original list."
      ]
    },
    {
      "cell_type": "code",
      "execution_count": null,
      "metadata": {
        "id": "r9SXLpu2kO7T"
      },
      "outputs": [],
      "source": [
        "mylist = [1, 2, 3]\n",
        "print(mylist.append(4))   ## NO, does not work, append() returns None"
      ]
    },
    {
      "cell_type": "code",
      "source": [
        "mylist"
      ],
      "metadata": {
        "id": "z692cejMg52H"
      },
      "execution_count": null,
      "outputs": []
    },
    {
      "cell_type": "code",
      "source": [
        "mylist.append(4)\n",
        "print(mylist)  ## [1, 2, 3, 4]"
      ],
      "metadata": {
        "id": "UkDjl_m_g0Lz"
      },
      "execution_count": null,
      "outputs": []
    },
    {
      "cell_type": "markdown",
      "metadata": {
        "id": "W_mwsjpXkO7U"
      },
      "source": [
        "## List Build Up"
      ]
    },
    {
      "cell_type": "markdown",
      "metadata": {
        "id": "Ic7Cec8mkO7V"
      },
      "source": [
        "One common pattern is to start a list a the empty list [], then use append() or extend() to add elements to it:\n",
        "\n"
      ]
    },
    {
      "cell_type": "code",
      "execution_count": null,
      "metadata": {
        "id": "PT_I_5NmkO7V"
      },
      "outputs": [],
      "source": [
        "mylist = []          ## Start as the empty list\n",
        "mylist.append('a')   ## Use append() to add elements\n",
        "mylist.append('b')"
      ]
    },
    {
      "cell_type": "code",
      "source": [
        "mylist"
      ],
      "metadata": {
        "id": "d5-2D4TXhH4U"
      },
      "execution_count": null,
      "outputs": []
    },
    {
      "cell_type": "markdown",
      "metadata": {
        "id": "IVIAD1iqkO7l"
      },
      "source": [
        "### List Slice"
      ]
    },
    {
      "cell_type": "markdown",
      "metadata": {
        "id": "PePsUFXBkO7l"
      },
      "source": [
        "Slices work on lists just as with strings, and can also be used to change sub-parts of the list.\n",
        "\n"
      ]
    },
    {
      "cell_type": "code",
      "execution_count": null,
      "metadata": {
        "id": "6BhMwFV4kO7m"
      },
      "outputs": [],
      "source": [
        "mylist = ['a', 'b', 'c', 'd']\n",
        "print(mylist[1:-1])   ## dernier entier de l'intervalle exclus !!"
      ]
    },
    {
      "cell_type": "code",
      "source": [
        "mylist[0]"
      ],
      "metadata": {
        "id": "MOhZHGJtW2os"
      },
      "execution_count": null,
      "outputs": []
    },
    {
      "cell_type": "code",
      "source": [
        "mylist[0:2] = 'z'    ## replace ['a', 'b'] with ['z']\n",
        "print (mylist)         ## ['z', 'c', 'd']"
      ],
      "metadata": {
        "id": "cEO4hgVgpcKP"
      },
      "execution_count": null,
      "outputs": []
    },
    {
      "cell_type": "markdown",
      "metadata": {
        "id": "81PvhcCekO7n"
      },
      "source": [
        "### Tuple data type\n"
      ]
    },
    {
      "cell_type": "markdown",
      "metadata": {
        "id": "bRlca7c9kO7o"
      },
      "source": [
        "Tuples are ordered collections of elements that are unchangeable. The tuple is the same as the list, except the tuple is immutable means we can’t modify the tuple once created.\n",
        "\n",
        "In other words, we can say a tuple is a read-only version of the list.\n",
        "\n",
        "For example: If you want to store the roll numbers of students that you don’t change, you can use the tuple data type.\n",
        "\n",
        "Note: Tuple maintains the insertion order and also, allows us to store duplicate elements.\n",
        "\n",
        "We can create a tuple using the two ways\n",
        "\n",
        "* 1. By enclosing elements in the parenthesis ()\n",
        "* 2. Using a tuple() class."
      ]
    },
    {
      "cell_type": "code",
      "source": [
        "# create a tuple\n",
        "my_tuple = (11, 24, 56, 88, 78)\n",
        "print(my_tuple)\n",
        "print(type(my_tuple))"
      ],
      "metadata": {
        "id": "Gy5T2lSQpfaf"
      },
      "execution_count": null,
      "outputs": []
    },
    {
      "cell_type": "code",
      "execution_count": null,
      "metadata": {
        "id": "E0iGpNWCkO7o"
      },
      "outputs": [],
      "source": [
        "# Accessing 3rd element of a tuple\n",
        "print(my_tuple[2])\n",
        "\n",
        "# slice a tuple\n",
        "print(my_tuple[2:7])"
      ]
    },
    {
      "cell_type": "code",
      "source": [
        "# create a tuple using a tuple() class\n",
        "my_tuple2 = tuple((10, 20, 30, 40))\n",
        "print(my_tuple2)"
      ],
      "metadata": {
        "id": "USmILVYRpiv9"
      },
      "execution_count": null,
      "outputs": []
    },
    {
      "cell_type": "markdown",
      "metadata": {
        "id": "sWSZeN1qkO7p"
      },
      "source": [
        "##### Tuple is **immutable**\n",
        "A tuple is immutable means once we create a tuple, we can’t modify it"
      ]
    },
    {
      "cell_type": "code",
      "execution_count": null,
      "metadata": {
        "id": "Clbd_z0OkO7p"
      },
      "outputs": [],
      "source": [
        "# create a tuple\n",
        "my_tuple = (11, 24, 56, 88, 78)\n",
        "\n",
        "# modify 2nd element of tuple\n",
        "my_tuple[1] = 35\n",
        "print(my_tuple)"
      ]
    },
    {
      "cell_type": "markdown",
      "metadata": {
        "id": "UapwgUt6kO7q"
      },
      "source": [
        "### Dict data type\n"
      ]
    },
    {
      "cell_type": "markdown",
      "metadata": {
        "id": "puTQFCyMkO7q"
      },
      "source": [
        "In Python, dictionaries are unordered collections of unique values stored in (Key-Value) pairs. Use a dictionary data type to store data as a key-value pair.\n",
        "\n",
        "The dictionary type is represented using a dict class. For example, If you want to store the name and roll number of all students, then you can use the dict type.\n",
        "\n",
        "In a dictionary, duplicate keys are not allowed, but the value can be duplicated. If we try to insert a value with a duplicate key, the old value will be replaced with the new value.\n",
        "\n",
        "Dictionary has some characteristics which are listed below:\n",
        "\n",
        "A heterogeneous (i.e., str, list, tuple) elements are allowed for both key and value in a dictionary.\n",
        "The dictionary is **mutable** which means we can modify its items\n",
        "Dictionary is unordered so we can’t perform indexing and slicing\n",
        "\n",
        "We can create a dictionary using the two ways\n",
        "\n",
        "* 1. By enclosing key and values in the curly brackets {}\n",
        "* 2. Using a dict() class."
      ]
    },
    {
      "cell_type": "code",
      "source": [
        "# create a dictionary\n",
        "my_dict = {1: \"Deepali\", 2: \"Neelam\", 3: \"Jaya\"}\n",
        "\n",
        "# display dictionary\n",
        "print(my_dict)\n",
        "print(type(my_dict))"
      ],
      "metadata": {
        "id": "jyJ1_tRVqIYI"
      },
      "execution_count": null,
      "outputs": []
    },
    {
      "cell_type": "code",
      "execution_count": null,
      "metadata": {
        "id": "NY3J6BQdkO7r"
      },
      "outputs": [],
      "source": [
        "# create a dictionary using a dit class\n",
        "my_dict = dict({1: \"Deepali\", 2: \"Neelam\", 3: \"Jaya\"})\n",
        "\n",
        "# display dictionary\n",
        "print(my_dict)\n",
        "print(type(my_dict))"
      ]
    },
    {
      "cell_type": "code",
      "source": [
        "# access value using a key name\n",
        "print(my_dict[1])"
      ],
      "metadata": {
        "id": "jOWJvZgAq080"
      },
      "execution_count": null,
      "outputs": []
    },
    {
      "cell_type": "code",
      "source": [
        "# change the value of a key\n",
        "my_dict[1] = \"Kelly\"\n",
        "print(my_dict[1])"
      ],
      "metadata": {
        "id": "5woQf424qLTQ"
      },
      "execution_count": null,
      "outputs": []
    },
    {
      "cell_type": "code",
      "source": [
        "# create a dictionary\n",
        "my_dict = {'a1': \"Deepali\", 'a2': \"Neelam\", 'a3': \"Jaya\"}\n",
        "\n",
        "# display dictionary\n",
        "print(my_dict)\n",
        "print(type(my_dict))"
      ],
      "metadata": {
        "id": "_YTbcChxgfQA"
      },
      "execution_count": null,
      "outputs": []
    },
    {
      "cell_type": "code",
      "source": [
        "person = {\"name\": \"Alice\", \"age\": 25, \"city\": \"Paris\"}\n",
        "keys = person.keys()\n",
        "print(keys)"
      ],
      "metadata": {
        "id": "wedLU_EXigq9"
      },
      "execution_count": null,
      "outputs": []
    },
    {
      "cell_type": "code",
      "source": [
        "values = person.values()\n",
        "print(values)"
      ],
      "metadata": {
        "id": "VHvSd24gilBR"
      },
      "execution_count": null,
      "outputs": []
    },
    {
      "cell_type": "code",
      "source": [
        "items = person.items()\n",
        "print(items)"
      ],
      "metadata": {
        "id": "xLRsMVnMiqk_"
      },
      "execution_count": null,
      "outputs": []
    },
    {
      "cell_type": "code",
      "source": [
        "person = {\"name\": \"Alice\", \"age\": 25}\n",
        "\n",
        "# Key exists\n",
        "print(person.get(\"name\"))\n",
        "\n",
        "# Key does not exist\n",
        "print(person.get(\"city\"))\n",
        "print(person.get(\"city\", \"Not Found\"))"
      ],
      "metadata": {
        "id": "SObI7Mfti23X"
      },
      "execution_count": null,
      "outputs": []
    },
    {
      "cell_type": "code",
      "source": [
        "person = {\"name\": \"Alice\", \"age\": 25}\n",
        "\n",
        "# Update with new key-value pairs\n",
        "person.update({\"city\": \"Paris\", \"age\": 26})\n",
        "\n",
        "print(person)"
      ],
      "metadata": {
        "id": "uLKRbqNUjH1_"
      },
      "execution_count": null,
      "outputs": []
    },
    {
      "cell_type": "code",
      "source": [
        "person = {\"name\": \"Alice\", \"age\": 25}\n",
        "\n",
        "# Remove the \"age\" key and get its value\n",
        "age = person.pop(\"age\")\n",
        "\n",
        "print(age)\n",
        "print(person)"
      ],
      "metadata": {
        "id": "hPx5zWfmjWpf"
      },
      "execution_count": null,
      "outputs": []
    },
    {
      "cell_type": "code",
      "source": [
        "person = {\"name\": \"Alice\", \"age\": 25, \"city\": \"Paris\"}\n",
        "\n",
        "last_item = person.popitem()\n",
        "\n",
        "print(last_item)\n",
        "print(person)"
      ],
      "metadata": {
        "id": "y2T3ItYHjZ7p"
      },
      "execution_count": null,
      "outputs": []
    },
    {
      "cell_type": "code",
      "source": [
        "person = {\"name\": \"Alice\", \"age\": 25}\n",
        "\n",
        "person.clear()\n",
        "\n",
        "print(person)"
      ],
      "metadata": {
        "id": "4jMcWjQtjfY5"
      },
      "execution_count": null,
      "outputs": []
    },
    {
      "cell_type": "code",
      "source": [
        "person = {\"name\": \"Alice\", \"age\": 25}\n",
        "\n",
        "copy_person = person.copy()\n",
        "\n",
        "print(copy_person)"
      ],
      "metadata": {
        "id": "zmfxkdt2jjHc"
      },
      "execution_count": null,
      "outputs": []
    },
    {
      "cell_type": "markdown",
      "metadata": {
        "id": "W3lMrvfukO7s"
      },
      "source": [
        "### Set data type\n"
      ]
    },
    {
      "cell_type": "markdown",
      "metadata": {
        "id": "JT7StC68kO7s"
      },
      "source": [
        "In Python, a set is an unordered collection of data items that are unique. In other words, Python Set is a collection of elements (Or objects) that contains no duplicate elements.\n",
        "\n",
        "In Python, the Set data type used to represent a group of unique elements as a single entity. For example, If we want to store student ID numbers, we can use the set data type.\n",
        "\n",
        "The Set data type in Python is represented using a set class.\n",
        "\n",
        "We can create a Set using the two ways\n",
        "\n",
        "* By enclosing values in the curly brackets {}\n",
        "* Using a set() class.\n",
        "The set data type has the following characteristics.\n",
        "\n",
        "* It is mutable which means we can change set items\n",
        "* Duplicate elements are not allowed\n",
        "* Heterogeneous (values of all data types) elements are allowed\n",
        "* Insertion order of elements is not preserved, so we can’t perform indexing on a Set"
      ]
    },
    {
      "cell_type": "code",
      "source": [
        "# create a set using curly brackets{,}\n",
        "my_set = {100, 25.75, \"Deepali\"}\n",
        "print(my_set)\n",
        "print(type(my_set))"
      ],
      "metadata": {
        "id": "s4dr7BhzqQeE"
      },
      "execution_count": null,
      "outputs": []
    },
    {
      "cell_type": "code",
      "source": [
        "my_set = {100, 25.75 ,2 , 1, 2, 1, 100}\n",
        "print(my_set)"
      ],
      "metadata": {
        "id": "IM-siksXq6sz"
      },
      "execution_count": null,
      "outputs": []
    },
    {
      "cell_type": "code",
      "execution_count": null,
      "metadata": {
        "id": "4mXLQirjkO7t"
      },
      "outputs": [],
      "source": [
        "# add element to set\n",
        "my_set.add(300)\n",
        "print(my_set)"
      ]
    },
    {
      "cell_type": "code",
      "source": [
        "# remove element from set\n",
        "my_set.remove(100)\n",
        "print(my_set)"
      ],
      "metadata": {
        "id": "eWBGxFRRqZ6P"
      },
      "execution_count": null,
      "outputs": []
    },
    {
      "cell_type": "code",
      "source": [
        "# remove element from set\n",
        "my_set.remove(20)\n",
        "print(my_set)"
      ],
      "metadata": {
        "id": "GcaGMPnukDBK"
      },
      "execution_count": null,
      "outputs": []
    },
    {
      "cell_type": "code",
      "source": [
        "my_set.discard(20)\n",
        "print(my_set)"
      ],
      "metadata": {
        "id": "PJtJpo0okBbt"
      },
      "execution_count": null,
      "outputs": []
    },
    {
      "cell_type": "code",
      "source": [
        "animals = {\"cat\", \"dog\", \"bird\"}\n",
        "animals.clear()\n",
        "\n",
        "print(animals)"
      ],
      "metadata": {
        "id": "72k0Db0CkRSa"
      },
      "execution_count": null,
      "outputs": []
    },
    {
      "cell_type": "code",
      "source": [
        "numbers = {1, 2}\n",
        "numbers.update([3, 4, 5])\n",
        "\n",
        "print(numbers)  # Output: {1, 2, 3, 4, 5}"
      ],
      "metadata": {
        "id": "xYKHsjLTkaze"
      },
      "execution_count": null,
      "outputs": []
    },
    {
      "cell_type": "code",
      "source": [
        "set1 = {1, 2, 3}\n",
        "set2 = {3, 4, 5}\n",
        "\n",
        "result = set1.union(set2)\n",
        "\n",
        "print(result)  # Output: {1, 2, 3, 4, 5}"
      ],
      "metadata": {
        "id": "zcQkEpACke0y"
      },
      "execution_count": null,
      "outputs": []
    },
    {
      "cell_type": "code",
      "source": [
        "set1 = {1, 2, 3}\n",
        "set2 = {2, 3, 4}\n",
        "\n",
        "result = set1.intersection(set2)\n",
        "\n",
        "print(result)  # Output: {2, 3}"
      ],
      "metadata": {
        "id": "ObEQSqHYkhrT"
      },
      "execution_count": null,
      "outputs": []
    },
    {
      "cell_type": "code",
      "source": [
        "set1 = {1, 2, 3}\n",
        "set2 = {2, 3, 4}\n",
        "\n",
        "result = set1.difference(set2)\n",
        "\n",
        "print(result)  # Output: {1}"
      ],
      "metadata": {
        "id": "2Y8N8IgPkkCJ"
      },
      "execution_count": null,
      "outputs": []
    },
    {
      "cell_type": "markdown",
      "source": [
        "#  built-in functions that work across different data types"
      ],
      "metadata": {
        "id": "sCpijzAOldWa"
      }
    },
    {
      "cell_type": "markdown",
      "source": [
        "## len"
      ],
      "metadata": {
        "id": "kbOVsHRylyxJ"
      }
    },
    {
      "cell_type": "code",
      "source": [
        "string_var = \"hello\"\n",
        "print(len(string_var))\n",
        "\n",
        "list_var = [1, 2, 3]\n",
        "print(len(list_var))\n",
        "\n",
        "tuple_var = (1, 2, 3)\n",
        "print(len(tuple_var))\n",
        "\n",
        "set_var = {1, 2, 3}\n",
        "print(len(set_var))\n",
        "\n",
        "dict_var = {\"a\": 1, \"b\": 2}\n",
        "print(len(dict_var))"
      ],
      "metadata": {
        "id": "ddPDAI47lfHv"
      },
      "execution_count": null,
      "outputs": []
    },
    {
      "cell_type": "markdown",
      "source": [
        "## Min"
      ],
      "metadata": {
        "id": "znAV7eDll2Zk"
      }
    },
    {
      "cell_type": "code",
      "source": [
        "string_var = \"hello\"\n",
        "print(min(string_var))\n",
        "\n",
        "list_var = [4, 2, 8]\n",
        "print(min(list_var))\n",
        "\n",
        "tuple_var = (4, 2, 8)\n",
        "print(min(tuple_var))\n",
        "\n",
        "set_var = {4, 2, 8}\n",
        "print(min(set_var))\n",
        "\n",
        "dict_var = {\"a\": 1, \"b\": 2, \"c\": 3}\n",
        "print(min(dict_var))"
      ],
      "metadata": {
        "id": "fXxBi9i4l5Zt"
      },
      "execution_count": null,
      "outputs": []
    },
    {
      "cell_type": "markdown",
      "source": [
        "## Max"
      ],
      "metadata": {
        "id": "01LkPIcWl6if"
      }
    },
    {
      "cell_type": "code",
      "source": [
        "string_var = \"hello\"\n",
        "print(max(string_var))\n",
        "\n",
        "list_var = [4, 2, 8]\n",
        "print(max(list_var))\n",
        "\n",
        "tuple_var = (4, 2, 8)\n",
        "print(max(tuple_var))\n",
        "\n",
        "set_var = {4, 2, 8}\n",
        "print(max(set_var))\n",
        "\n",
        "dict_var = {\"a\": 1, \"b\": 2, \"c\": 3}\n",
        "print(max(dict_var))"
      ],
      "metadata": {
        "id": "mJX81fnGl8N6"
      },
      "execution_count": null,
      "outputs": []
    },
    {
      "cell_type": "markdown",
      "source": [
        "## Sum"
      ],
      "metadata": {
        "id": "SMHi2ZrnmBob"
      }
    },
    {
      "cell_type": "code",
      "source": [
        "list_var = [1, 2, 3]\n",
        "print(sum(list_var))\n",
        "\n",
        "tuple_var = (1, 2, 3)\n",
        "print(sum(tuple_var))\n",
        "\n",
        "set_var = {1, 2, 3}\n",
        "print(sum(set_var))"
      ],
      "metadata": {
        "id": "f0gLBXHHmC0Y"
      },
      "execution_count": null,
      "outputs": []
    },
    {
      "cell_type": "markdown",
      "source": [
        "## Count"
      ],
      "metadata": {
        "id": "uFg0a76JmGrn"
      }
    },
    {
      "cell_type": "code",
      "source": [
        "string_var = \"banana\"\n",
        "print(string_var.count(\"a\"))\n",
        "\n",
        "list_var = [1, 2, 2, 3]\n",
        "print(list_var.count(2))\n",
        "\n",
        "tuple_var = (1, 2, 2, 3)\n",
        "print(tuple_var.count(2))"
      ],
      "metadata": {
        "id": "_KCito3XmILM"
      },
      "execution_count": null,
      "outputs": []
    },
    {
      "cell_type": "markdown",
      "source": [
        "# Exercises"
      ],
      "metadata": {
        "id": "QCMyaxm6jLib"
      }
    },
    {
      "cell_type": "markdown",
      "source": [
        "Ex 1 :\n",
        "Create a string text = \"Data Types in Python\". Perform the following:\n",
        "\n",
        "Convert it to uppercase.\n",
        "\n",
        "Check if it starts with \"Data\".\n",
        "\n",
        "Replace \"Python\" with \"Programming\"."
      ],
      "metadata": {
        "id": "Xk0c7wam5Bfm"
      }
    },
    {
      "cell_type": "code",
      "source": [],
      "metadata": {
        "id": "6mENwgu8qqvq"
      },
      "execution_count": null,
      "outputs": []
    },
    {
      "cell_type": "markdown",
      "source": [
        "Ex 2\n",
        "\n",
        "Create a list, tuple, set, and dictionary with three elements each.\n",
        "\n",
        "Add and remove elements (if applicable).\n",
        "\n",
        "Check if a specific element exists in the collection."
      ],
      "metadata": {
        "id": "atdXylgE5KzQ"
      }
    },
    {
      "cell_type": "code",
      "source": [],
      "metadata": {
        "id": "41AOZe6vqsEb"
      },
      "execution_count": null,
      "outputs": []
    },
    {
      "cell_type": "markdown",
      "source": [
        "Ex 3\n",
        "\n",
        "Create a dictionary info = {\"name\": \"Alice\", \"age\": 25, \"is_student\": True}. Perform the following:\n",
        "\n",
        "Access and print the values.\n",
        "\n",
        "Modify the value of age to 30."
      ],
      "metadata": {
        "id": "VTrFQUVy5ikM"
      }
    },
    {
      "cell_type": "code",
      "source": [],
      "metadata": {
        "id": "zu4PBOFjqs9o"
      },
      "execution_count": null,
      "outputs": []
    },
    {
      "cell_type": "markdown",
      "source": [
        "Ex 4\n",
        "\n",
        "Create a list of integers from 1 to 10. Extract the last 5 elements and reverse them. Combine the reversed part with the first 5 elements to create a new list."
      ],
      "metadata": {
        "id": "Shn9zw4HmqvK"
      }
    },
    {
      "cell_type": "code",
      "source": [],
      "metadata": {
        "id": "MpyMpn9vquHu"
      },
      "execution_count": null,
      "outputs": []
    },
    {
      "cell_type": "markdown",
      "source": [
        "Ex 5\n",
        "\n",
        "Given the string s = \"PythonIsFun\", extract the substring \"Fun\" and reverse it.\n",
        "\n"
      ],
      "metadata": {
        "id": "LJbRdvvom7AF"
      }
    },
    {
      "cell_type": "code",
      "source": [],
      "metadata": {
        "id": "bXdtEBQaq3eM"
      },
      "execution_count": null,
      "outputs": []
    },
    {
      "cell_type": "markdown",
      "source": [
        "Ex 6\n",
        "\n",
        "Given the dictionary person = {\"name\": \"Alice\", \"age\": 25, \"city\": \"Paris\"}, create a string that says \"Alice is 25 years old\" using person dictionary !"
      ],
      "metadata": {
        "id": "kPjAxvA0nMZU"
      }
    },
    {
      "cell_type": "code",
      "source": [],
      "metadata": {
        "id": "6FiTMIXcq4Ff"
      },
      "execution_count": null,
      "outputs": []
    },
    {
      "cell_type": "markdown",
      "source": [
        "Ex 7\n",
        "\n",
        "Given dict1 = {\"a\": 1, \"b\": 2} and dict2 = {\"c\": 3, \"d\": 4}, merge them into a single dictionary result."
      ],
      "metadata": {
        "id": "6F-o6Y-Gnr3I"
      }
    },
    {
      "cell_type": "code",
      "source": [],
      "metadata": {
        "id": "5WqHHjcPq45u"
      },
      "execution_count": null,
      "outputs": []
    },
    {
      "cell_type": "markdown",
      "source": [
        "Ex 8\n",
        "\n",
        "Given numbers = [4, 7, 2, 9, 5], rearrange the list so that the elements are in ascending order."
      ],
      "metadata": {
        "id": "NYbZYqo6oRbU"
      }
    },
    {
      "cell_type": "code",
      "source": [],
      "metadata": {
        "id": "vZsx__q3q5S-"
      },
      "execution_count": null,
      "outputs": []
    },
    {
      "cell_type": "markdown",
      "source": [
        "Ex 9\n",
        "\n",
        "Given fruits = [\"apple\", \"banana\", \"cherry\", \"date\"], extract the second and fourth elements."
      ],
      "metadata": {
        "id": "6JScJLCBomXT"
      }
    },
    {
      "cell_type": "code",
      "source": [],
      "metadata": {
        "id": "H4iq1Uz9q57E"
      },
      "execution_count": null,
      "outputs": []
    },
    {
      "cell_type": "markdown",
      "source": [
        "Ex 10\n",
        "\n",
        "1. Given sentence = \"I like cats\", replace the word \"cats\" with \"dogs\".\n",
        "\n",
        "2. Given the list words = [\"Python\", \"is\", \"fun\"], create a single string where the words are joined by spaces.\n",
        "\n",
        "3. Given text = \"HelloWorld\", extract the substring \"World\" from it.\n",
        "\n"
      ],
      "metadata": {
        "id": "koU1POe8ovFo"
      }
    },
    {
      "cell_type": "code",
      "source": [],
      "metadata": {
        "id": "vHKQcpGQq7OQ"
      },
      "execution_count": null,
      "outputs": []
    }
  ],
  "metadata": {
    "kernelspec": {
      "display_name": "Python 3",
      "language": "python",
      "name": "python3"
    },
    "language_info": {
      "codemirror_mode": {
        "name": "ipython",
        "version": 3
      },
      "file_extension": ".py",
      "mimetype": "text/x-python",
      "name": "python",
      "nbconvert_exporter": "python",
      "pygments_lexer": "ipython3",
      "version": "3.8.3"
    },
    "colab": {
      "provenance": []
    }
  },
  "nbformat": 4,
  "nbformat_minor": 0
}