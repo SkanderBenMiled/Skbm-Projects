{
  "cells": [
    {
      "cell_type": "markdown",
      "metadata": {
        "id": "XxmItSw6c8Vv"
      },
      "source": [
        "#  What is Function ?"
      ]
    },
    {
      "cell_type": "markdown",
      "metadata": {
        "id": "dmHEmj2vc8Vw"
      },
      "source": [
        "A function is a block of code that only runs when it is called. Python functions return a value using a return statement, if one is specified. A function can be called anywhere after the function has been declared.\n",
        "\n",
        "By itself, a function does nothing. But, when you need to use a function, you can call it, and the code within the function will be executed.\n",
        "\n",
        "As our program grows larger and larger, functions make it more organized and manageable.Furthermore, it avoids repetition and makes the code reusable.\n",
        "\n",
        "**So**,\n",
        "Python function is a sequence of statements that execute in a certain order, we associate a name with it. This lets us reuse code.\n",
        "\n",
        "We define a function using the ‘def’ keyword."
      ]
    },
    {
      "cell_type": "markdown",
      "metadata": {
        "id": "5XlLRMDEc8Vx"
      },
      "source": [
        "## How to Define a Python Function?"
      ]
    },
    {
      "cell_type": "markdown",
      "metadata": {
        "id": "yjBtk5sec8Vy"
      },
      "source": [
        "**Syntax of Function**"
      ]
    },
    {
      "cell_type": "code",
      "source": [
        "int=3"
      ],
      "metadata": {
        "id": "4W3ZqWLcA_Uo"
      },
      "execution_count": null,
      "outputs": []
    },
    {
      "cell_type": "code",
      "source": [
        "print(int)"
      ],
      "metadata": {
        "id": "tVKoeIgHBBjd"
      },
      "execution_count": null,
      "outputs": []
    },
    {
      "cell_type": "code",
      "execution_count": null,
      "metadata": {
        "id": "Tgv8sXA-c8Vy"
      },
      "outputs": [],
      "source": [
        "def function_name(parameters):\n",
        "    \"\"\"docstring\"\"\"\n",
        "    # statement(s)"
      ]
    },
    {
      "cell_type": "code",
      "source": [
        "# You can't assign data to python keywords !!\n",
        "\n",
        "True = 1"
      ],
      "metadata": {
        "id": "R6OaFFPJOeic"
      },
      "execution_count": null,
      "outputs": []
    },
    {
      "cell_type": "markdown",
      "metadata": {
        "id": "7oeBYW4rc8Vz"
      },
      "source": [
        "Above shown is a function definition that consists of the following components.\n",
        "\n",
        "1. Keyword `def` that marks the start of the function header.\n",
        "2. A function name to uniquely identify the function. Function naming follows the same rules of writing identifiers in Python.\n",
        "3. Parameters (arguments) through which we pass values to a function. They are optional.\n",
        "4. A colon `(:)` to mark the end of the function header.\n",
        "5. Optional documentation string (docstring) to describe what the function does.\n",
        "6. One or more valid python statements that make up the function body. Statements must have the same indentation level (usually 4 spaces).\n",
        "7. An optional `return` statement to return a value from the function."
      ]
    },
    {
      "cell_type": "code",
      "execution_count": null,
      "metadata": {
        "id": "_lSgiK86c8V0"
      },
      "outputs": [],
      "source": [
        "def print_monday():\n",
        "    print(\"It's Monday!\")  # nothing printed !!! why ??"
      ]
    },
    {
      "cell_type": "code",
      "execution_count": null,
      "metadata": {
        "id": "2ht-MVYFc8V1"
      },
      "outputs": [],
      "source": [
        "def print_monday():\n",
        "    print(\"It's Monday!\")\n",
        "\n",
        "print_monday() # we have to call the function by it's names and ()"
      ]
    },
    {
      "cell_type": "markdown",
      "metadata": {
        "id": "Har1uJ5Pc8V3"
      },
      "source": [
        "## Docstrings\n",
        "\n",
        "The first string after the function header is called the docstring and is short for documentation string. It is briefly used to explain what a function does.\n",
        "\n",
        "Although optional, documentation is a good programming practice. Unless you can remember what you had for dinner last week, always document your code.\n",
        "\n",
        "In the above image, we have a docstring immediately below the function header. We generally use triple quotes so that docstring can extend up to multiple lines. This string is available to us as the __doc__ attribute of the function."
      ]
    },
    {
      "cell_type": "code",
      "execution_count": null,
      "metadata": {
        "id": "hxx1fW9ec8V3"
      },
      "outputs": [],
      "source": [
        "def greet(name):\n",
        "    \"\"\"\n",
        "    This function greets to\n",
        "    the person passed in as\n",
        "    a parameter\n",
        "    \"\"\"\n",
        "    print(\"Hello, \" + name + \". Good morning!\")"
      ]
    },
    {
      "cell_type": "code",
      "source": [
        "print(greet('hanen'))"
      ],
      "metadata": {
        "id": "MehxiY0RDVk7"
      },
      "execution_count": null,
      "outputs": []
    },
    {
      "cell_type": "code",
      "execution_count": null,
      "metadata": {
        "id": "LPTouLPFc8V3"
      },
      "outputs": [],
      "source": [
        "print(greet.__doc__)"
      ]
    },
    {
      "cell_type": "code",
      "source": [
        "greet('Paul')"
      ],
      "metadata": {
        "id": "8J-8iX1jfZH4"
      },
      "execution_count": null,
      "outputs": []
    },
    {
      "cell_type": "code",
      "source": [
        "name = 'Ali'\n",
        "greet(name)"
      ],
      "metadata": {
        "id": "cb_SZbVDQHv_"
      },
      "execution_count": null,
      "outputs": []
    },
    {
      "cell_type": "code",
      "source": [
        "n = 'John'\n",
        "greet(n)"
      ],
      "metadata": {
        "id": "ZtP-VR0KfbKD"
      },
      "execution_count": null,
      "outputs": []
    },
    {
      "cell_type": "markdown",
      "metadata": {
        "id": "2ZCdzGsVc8V4"
      },
      "source": [
        "## The return statement\n",
        "In a function, we use the return statement at the end of the function and it helps us to return the result of the function. This statement terminates the function execution and transfers the result where the function is called.\n",
        "\n",
        "Note that we cannot use the return statement outside of the function."
      ]
    },
    {
      "cell_type": "markdown",
      "metadata": {
        "id": "_3Fz_R2Sc8V4"
      },
      "source": [
        "It can contain the expression which gets evaluated and the value is returned to the caller function. If the return statement has no expression or does not exist itself in the function then it returns the **None** object.\n",
        "\n",
        "Consider the following example:\n",
        "\n",
        "Example 1: Creating Function with Return Statement"
      ]
    },
    {
      "cell_type": "code",
      "execution_count": null,
      "metadata": {
        "id": "yljQcMOfc8V4"
      },
      "outputs": [],
      "source": [
        "# defining Function\n",
        "\n",
        "def sum():\n",
        "    a = 20\n",
        "    b = 40\n",
        "    c = a+b\n",
        "    # print(a)\n",
        "    return c\n",
        "    print(b)\n",
        "      # the function return int, you can store it into a variable or print it !"
      ]
    },
    {
      "cell_type": "code",
      "source": [
        "sum()"
      ],
      "metadata": {
        "id": "pPsIRGN8f8sh"
      },
      "execution_count": null,
      "outputs": []
    },
    {
      "cell_type": "code",
      "source": [
        "s=sum()\n",
        "print(s)"
      ],
      "metadata": {
        "id": "VuKC0VUEf0qC"
      },
      "execution_count": null,
      "outputs": []
    },
    {
      "cell_type": "code",
      "source": [
        "# calling sum() function in print statement\n",
        "print(\"The sum is given by:\",sum())"
      ],
      "metadata": {
        "id": "t5XJv8YLYuEi"
      },
      "execution_count": null,
      "outputs": []
    },
    {
      "cell_type": "markdown",
      "metadata": {
        "id": "1-EZ6Y29c8V5"
      },
      "source": [
        "In the above code, we have defined the function named sum, and it has a statement c = a+b, which computes the given values, and the result is returned by the return statement to the caller function."
      ]
    },
    {
      "cell_type": "markdown",
      "metadata": {
        "id": "5au2EvmZc8V5"
      },
      "source": [
        "Example 2: Creating function without return statement"
      ]
    },
    {
      "cell_type": "code",
      "execution_count": null,
      "metadata": {
        "id": "VdcrwTLpc8V5"
      },
      "outputs": [],
      "source": [
        "def sum():\n",
        "    a = 20\n",
        "    b = 40\n",
        "    c = a+b\n",
        "    print(a,b,c)"
      ]
    },
    {
      "cell_type": "code",
      "source": [
        "sum()"
      ],
      "metadata": {
        "id": "CmYigX06ZQQ_"
      },
      "execution_count": null,
      "outputs": []
    },
    {
      "cell_type": "code",
      "source": [
        "s=sum()"
      ],
      "metadata": {
        "id": "m3o0MbobRWyT"
      },
      "execution_count": null,
      "outputs": []
    },
    {
      "cell_type": "code",
      "source": [
        "print(s)"
      ],
      "metadata": {
        "id": "1TlywKciRbwy"
      },
      "execution_count": null,
      "outputs": []
    },
    {
      "cell_type": "code",
      "source": [
        "# calling sum() function in print statment\n",
        "print(sum())"
      ],
      "metadata": {
        "id": "rc0A6JYPZLeV"
      },
      "execution_count": null,
      "outputs": []
    },
    {
      "cell_type": "markdown",
      "metadata": {
        "id": "TJ87YigYc8V5"
      },
      "source": [
        "In the above code, we have defined the same function but this time we use it without the return statement and we have observed that the sum() function returned the None object to the caller function."
      ]
    },
    {
      "cell_type": "markdown",
      "metadata": {
        "id": "1Qk_L8G0c8V5"
      },
      "source": [
        "Example 3:"
      ]
    },
    {
      "cell_type": "code",
      "execution_count": null,
      "metadata": {
        "id": "M7hD26lsc8V5"
      },
      "outputs": [],
      "source": [
        "def absolute_value(num):\n",
        "    \"\"\"This function returns the absolute\n",
        "    value of the entered number\"\"\"\n",
        "    if num >= 0:\n",
        "        return num\n",
        "    else:\n",
        "        return -num\n",
        "\n",
        "\n",
        "print(absolute_value(2))\n",
        "print(absolute_value(-4))"
      ]
    },
    {
      "cell_type": "markdown",
      "source": [
        "### We all know the **len** pre-built function !!"
      ],
      "metadata": {
        "id": "F4QQcGzecn6a"
      }
    },
    {
      "cell_type": "code",
      "source": [
        "a = [1,2,3,4]\n",
        "len(a)"
      ],
      "metadata": {
        "id": "A3wOvuOAgcAa"
      },
      "execution_count": null,
      "outputs": []
    },
    {
      "cell_type": "code",
      "source": [
        "def length(liste):\n",
        "    s = 0\n",
        "    for i in liste:\n",
        "        s+=1\n",
        "    return(s)\n",
        "##################\n"
      ],
      "metadata": {
        "id": "PTokm-LMgTME"
      },
      "execution_count": null,
      "outputs": []
    },
    {
      "cell_type": "code",
      "source": [
        "length(a)"
      ],
      "metadata": {
        "id": "xchgkmXLGHm9"
      },
      "execution_count": null,
      "outputs": []
    },
    {
      "cell_type": "code",
      "source": [
        "print(length(a))"
      ],
      "metadata": {
        "id": "2QebqxxsGEk8"
      },
      "execution_count": null,
      "outputs": []
    },
    {
      "cell_type": "markdown",
      "metadata": {
        "id": "UZhY9w_qc8V6"
      },
      "source": [
        "## Types of Functions\n",
        "Basically, we can divide functions into the following two types:\n",
        "\n",
        "1. Built-in functions - Functions that are built into Python.\n",
        "2. User-defined functions - Functions defined by the users themselves."
      ]
    },
    {
      "cell_type": "markdown",
      "metadata": {
        "id": "-6qUNqxxc8V6"
      },
      "source": [
        "### 1. Built-in functions"
      ]
    },
    {
      "cell_type": "markdown",
      "metadata": {
        "id": "nDzq--Pvc8V6"
      },
      "source": [
        "Python has several functions that are readily available for use. These functions are called built-in functions."
      ]
    },
    {
      "cell_type": "code",
      "source": [
        "print(\"hello,\",1)"
      ],
      "metadata": {
        "id": "SMD1KsbkHBLs"
      },
      "execution_count": null,
      "outputs": []
    },
    {
      "cell_type": "code",
      "source": [
        "# help(int)"
      ],
      "metadata": {
        "id": "i62S23OyHTdR"
      },
      "execution_count": null,
      "outputs": []
    },
    {
      "cell_type": "code",
      "source": [
        "bool(None)"
      ],
      "metadata": {
        "id": "LwSlqSfwGRV8"
      },
      "execution_count": null,
      "outputs": []
    },
    {
      "cell_type": "markdown",
      "metadata": {
        "id": "dnuOV8mGc8V6"
      },
      "source": [
        "|Function | Description|\n",
        "|:---------|:----------|\n",
        "|abs()\t|Returns the absolute value of a number\n",
        "bool()\t|Returns the boolean value of the specified object\n",
        "complex()\t|Returns a complex number\n",
        "dict()\t|Returns a dictionary (Array)\n",
        "divmod()\t|Returns the quotient and the remainder when argument1 is divided by argument2\n",
        "enumerate()|\tTakes a collection (e.g. a tuple) and returns it as an enumerate object\n",
        "filter()|\tUse a filter function to exclude items in an iterable object\n",
        "float()\t|Returns a floating point number\n",
        "format()|\tFormats a specified value\n",
        "help()\t|Executes the built-in help system\n",
        "input()\t|Allowing user input\n",
        "int()\t|Returns an integer number\n",
        "len()\t|Returns the length of an object\n",
        "list()\t|Returns a list\n",
        "map()\t|Returns the specified iterator with the specified function applied to each item\n",
        "max()\t|Returns the largest item in an iterable\n",
        "min()\t|Returns the smallest item in an iterable\n",
        "open()\t|Opens a file and returns a file object\n",
        "pow()\t|Returns the value of x to the power of y\n",
        "print()\t|Prints to the standard output device\n",
        "range()\t|Returns a sequence of numbers, starting from 0 and increments by 1 (by default)\n",
        "repr()\t|Returns a readable version of an object\n",
        "reversed()|\tReturns a reversed iterator\n",
        "round()\t|Rounds a numbers\n",
        "set()\t|Returns a new set object\n",
        "slice()\t|Returns a slice object\n",
        "sorted()\t|Returns a sorted list\n",
        "str()\t|Returns a string object\n",
        "sum()\t|Sums the items of an iterator\n",
        "super()\t|Returns an object that represents the parent class\n",
        "tuple()\t|Returns a tuple\n",
        "type()|\tReturns the type of an object\n",
        "zip()\t|Returns an iterator, from two or more iterators"
      ]
    },
    {
      "cell_type": "markdown",
      "metadata": {
        "id": "qT4-OPALc8V7"
      },
      "source": [
        "### 2. User defined Functions"
      ]
    },
    {
      "cell_type": "markdown",
      "metadata": {
        "id": "uKCxhDFJc8V8"
      },
      "source": [
        "#### Example of a user-defined function\n"
      ]
    },
    {
      "cell_type": "code",
      "execution_count": null,
      "metadata": {
        "id": "P8K8a4Hjc8V8"
      },
      "outputs": [],
      "source": [
        "# Program to demonstrate the\n",
        "# use of user defined functions\n",
        "\n",
        "def sum(a,b):\n",
        "    total = a + b\n",
        "    return total\n",
        "\n",
        "x = 10\n",
        "y = 20\n",
        "\n",
        "print(\"The sum of\",x,\"and\",y,\"is:\",sum(x, y))"
      ]
    },
    {
      "cell_type": "code",
      "source": [
        "sum()"
      ],
      "metadata": {
        "id": "bUhNWqfLSRJk"
      },
      "execution_count": null,
      "outputs": []
    },
    {
      "cell_type": "code",
      "source": [
        "sum(1)"
      ],
      "metadata": {
        "id": "CSBTnY8_SWHT"
      },
      "execution_count": null,
      "outputs": []
    },
    {
      "cell_type": "markdown",
      "metadata": {
        "id": "pfLd-iF_c8WC"
      },
      "source": [
        "## Python Function Arguments\n"
      ]
    },
    {
      "cell_type": "markdown",
      "metadata": {
        "id": "fBa2fTeMc8WD"
      },
      "source": [
        "#### Types of Python Function Arguments"
      ]
    },
    {
      "cell_type": "markdown",
      "metadata": {
        "id": "_MCct7thc8WD"
      },
      "source": [
        "### 1. Default Argument in Python\n",
        "Python Program arguments can have default values. We assign a default value to an argument using the assignment operator in python(=).\n",
        "\n",
        "When we call a function without a value for an argument, its default value (as mentioned) is used."
      ]
    },
    {
      "cell_type": "code",
      "execution_count": null,
      "metadata": {
        "id": "uxO0gLTRc8WD"
      },
      "outputs": [],
      "source": [
        "def greeting(name='User'):\n",
        "    print(f\"Hello, {name}\")"
      ]
    },
    {
      "cell_type": "code",
      "source": [
        "greeting('John')"
      ],
      "metadata": {
        "id": "vLH4A3rkdqLk"
      },
      "execution_count": null,
      "outputs": []
    },
    {
      "cell_type": "code",
      "execution_count": null,
      "metadata": {
        "id": "h03p5LJhc8WD"
      },
      "outputs": [],
      "source": [
        "greeting()"
      ]
    },
    {
      "cell_type": "markdown",
      "metadata": {
        "id": "4xSr8gTQc8WD"
      },
      "source": [
        "Here, when we call greeting() without an argument, the name takes on its default value- ‘User’."
      ]
    },
    {
      "cell_type": "code",
      "execution_count": null,
      "metadata": {
        "id": "aUS7n5LYc8WD"
      },
      "outputs": [],
      "source": [
        "def sum(a=1,b):\n",
        "    return a+b"
      ]
    },
    {
      "cell_type": "code",
      "source": [
        "def sum(b,a=1):\n",
        "    return a+b"
      ],
      "metadata": {
        "id": "mXc4y0WOdyur"
      },
      "execution_count": null,
      "outputs": []
    },
    {
      "cell_type": "code",
      "source": [
        "sum(2,3)"
      ],
      "metadata": {
        "id": "OSRFBAYxd2-N"
      },
      "execution_count": null,
      "outputs": []
    },
    {
      "cell_type": "code",
      "source": [
        "sum(1)"
      ],
      "metadata": {
        "id": "_zBdhAQid5g8"
      },
      "execution_count": null,
      "outputs": []
    },
    {
      "cell_type": "markdown",
      "metadata": {
        "id": "509-V7syc8WE"
      },
      "source": [
        "### 2. Python Keyword Arguments\n",
        "With keyword arguments in python, we can change the order of passing the arguments without any consequences."
      ]
    },
    {
      "cell_type": "code",
      "execution_count": null,
      "metadata": {
        "id": "rzL4ZSjGc8WE"
      },
      "outputs": [],
      "source": [
        "def divide(a,b):\n",
        "    print(a)\n",
        "    print(b)\n",
        "    return a/b"
      ]
    },
    {
      "cell_type": "code",
      "source": [
        "divide(7,2)"
      ],
      "metadata": {
        "id": "e_ecIfZ_eXhq"
      },
      "execution_count": null,
      "outputs": []
    },
    {
      "cell_type": "markdown",
      "metadata": {
        "id": "srUR8pKRc8WE"
      },
      "source": [
        "We can call this function with arguments in any order, as long as we specify which value goes into what."
      ]
    },
    {
      "cell_type": "code",
      "execution_count": null,
      "metadata": {
        "id": "BucOiPPPc8WE"
      },
      "outputs": [],
      "source": [
        "divide(a=1,b=2)"
      ]
    },
    {
      "cell_type": "code",
      "execution_count": null,
      "metadata": {
        "id": "1m9VqxJoc8WE"
      },
      "outputs": [],
      "source": [
        "divide(b=2,a=1)"
      ]
    },
    {
      "cell_type": "markdown",
      "metadata": {
        "id": "h9NWa-ryc8WE"
      },
      "source": [
        "As you can see, both give us the same thing. These are keyword python function arguments.\n",
        "\n",
        "But if you try to put a positional argument after a keyword argument, it will throw Python exception of SyntaxError."
      ]
    },
    {
      "cell_type": "code",
      "source": [
        "divide(1,b=2)"
      ],
      "metadata": {
        "id": "xs_WA6eBezeK"
      },
      "execution_count": null,
      "outputs": []
    },
    {
      "cell_type": "code",
      "execution_count": null,
      "metadata": {
        "id": "1SgwRWzDc8WF"
      },
      "outputs": [],
      "source": [
        "divide(a=2,1)"
      ]
    },
    {
      "cell_type": "markdown",
      "metadata": {
        "id": "BvAXSNejc8WF"
      },
      "source": [
        "### 3. Python Arbitrary Arguments\n",
        "You may not always know how many arguments you’ll get. In that case, you use an asterisk(*) before an argument name."
      ]
    },
    {
      "cell_type": "code",
      "execution_count": null,
      "metadata": {
        "id": "5U4X3i5oc8WF"
      },
      "outputs": [],
      "source": [
        "def sayhello(*names):\n",
        "    names=list(names)\n",
        "    print(names)\n",
        "    print(names)\n",
        "    for name in list(names):\n",
        "        print(f\"Hello, {name}\")"
      ]
    },
    {
      "cell_type": "markdown",
      "metadata": {
        "id": "fK8HEN-oc8WF"
      },
      "source": [
        "And then when you call the function with a number of arguments, they get wrapped into a Python tuple.\n",
        "\n",
        "We iterate over them using the for loop in python."
      ]
    },
    {
      "cell_type": "code",
      "execution_count": null,
      "metadata": {
        "id": "1rl1BgFXc8WF",
        "colab": {
          "base_uri": "https://localhost:8080/"
        },
        "outputId": "9ac64aff-0ca2-4f73-b2ce-9ba212e85e72"
      },
      "outputs": [
        {
          "output_type": "stream",
          "name": "stdout",
          "text": [
            "['Deepali', 'Neelam', 'Harsh']\n",
            "['Deepali', 'Neelam', 'Harsh']\n",
            "Hello, Deepali\n",
            "Hello, Neelam\n",
            "Hello, Harsh\n"
          ]
        }
      ],
      "source": [
        "sayhello('Deepali','Neelam','Harsh')"
      ]
    },
    {
      "cell_type": "markdown",
      "metadata": {
        "id": "KZ3gNp19c8WG"
      },
      "source": [
        "#### A Note: Parameters vs. Arguments\n",
        "The terms parameter and argument refer to the same thing: passing information to a function. But, there is a subtle difference between the two.\n",
        "\n",
        "A parameter is the variable inside the parenthesis in a function. An argument is the value that is passed to a function when it is called. So, in our last example, “a” and “b” are parameters, and 7 and 2 are arguments."
      ]
    },
    {
      "cell_type": "markdown",
      "metadata": {
        "id": "Q7t0VbL-c8WG"
      },
      "source": [
        "##### Python Function to find the sum of two variables:\n",
        "\n"
      ]
    },
    {
      "cell_type": "code",
      "source": [
        "num1 = float(input(\"Enter value of num1 : \"))\n"
      ],
      "metadata": {
        "colab": {
          "base_uri": "https://localhost:8080/"
        },
        "id": "E7TeBV_pP8dZ",
        "outputId": "ea200744-eb48-408e-9e97-73adfb1b5dba"
      },
      "execution_count": null,
      "outputs": [
        {
          "name": "stdout",
          "output_type": "stream",
          "text": [
            "Enter value of num1 : 3\n"
          ]
        }
      ]
    },
    {
      "cell_type": "code",
      "source": [
        "del int"
      ],
      "metadata": {
        "id": "7heBOIlzQLhH"
      },
      "execution_count": null,
      "outputs": []
    },
    {
      "cell_type": "code",
      "execution_count": null,
      "metadata": {
        "id": "coDxNi76c8WG",
        "colab": {
          "base_uri": "https://localhost:8080/"
        },
        "outputId": "77d3beda-ce3f-4ce8-f85b-3cdfb0eabb56"
      },
      "outputs": [
        {
          "output_type": "stream",
          "name": "stdout",
          "text": [
            "Enter value of num1 : 2\n",
            "Enter value of num2 : 3\n",
            "Sum =  5\n"
          ]
        }
      ],
      "source": [
        "# defining a function with sum of two variables\n",
        "\n",
        "def sum(num1,num2):\n",
        "    return num1 + num2\n",
        "\n",
        "# taking value from a user as an input\n",
        "\n",
        "num1 = int(input(\"Enter value of num1 : \"))\n",
        "num2 = int(input(\"Enter value of num2 : \"))\n",
        "\n",
        "# calculating and printing sum of num1 and num2\n",
        "\n",
        "print(\"Sum = \",sum(num1,num2))"
      ]
    },
    {
      "cell_type": "markdown",
      "source": [
        "2### Pass"
      ],
      "metadata": {
        "id": "QmrajTHm51G9"
      }
    },
    {
      "cell_type": "markdown",
      "source": [
        "The `pass` statement in Python is a placeholder that does nothing. It's used when you need to define a function, class, or block of code that you intend to implement later but don't want to leave it empty (which would cause a syntax error).\n"
      ],
      "metadata": {
        "id": "qKvkrSeE55GP"
      }
    },
    {
      "cell_type": "code",
      "source": [
        "def my_function():\n",
        "    pass  # Placeholder, does nothing"
      ],
      "metadata": {
        "id": "Xt4r4HT06BDV"
      },
      "execution_count": null,
      "outputs": []
    },
    {
      "cell_type": "code",
      "source": [
        "def my_function():\n",
        "\n",
        "x= 1"
      ],
      "metadata": {
        "id": "gnmmamFl6FxF",
        "colab": {
          "base_uri": "https://localhost:8080/",
          "height": 109
        },
        "outputId": "cdabb836-73e3-4e68-ec46-31c2f2794900"
      },
      "execution_count": null,
      "outputs": [
        {
          "output_type": "error",
          "ename": "IndentationError",
          "evalue": "expected an indented block after function definition on line 1 (<ipython-input-90-2db11dfdfe0a>, line 3)",
          "traceback": [
            "\u001b[0;36m  File \u001b[0;32m\"<ipython-input-90-2db11dfdfe0a>\"\u001b[0;36m, line \u001b[0;32m3\u001b[0m\n\u001b[0;31m    x= 1\u001b[0m\n\u001b[0m    ^\u001b[0m\n\u001b[0;31mIndentationError\u001b[0m\u001b[0;31m:\u001b[0m expected an indented block after function definition on line 1\n"
          ]
        }
      ]
    },
    {
      "cell_type": "code",
      "source": [
        "def my_function():\n",
        "    pass  # Placeholder, does nothing"
      ],
      "metadata": {
        "id": "MKTnCKW66C0o"
      },
      "execution_count": null,
      "outputs": []
    },
    {
      "cell_type": "code",
      "source": [
        "# To create an empty class, loop, or conditional statement.\n",
        "if True:\n",
        "    pass  # Do nothing"
      ],
      "metadata": {
        "id": "EJioXmTZ50nw"
      },
      "execution_count": null,
      "outputs": []
    },
    {
      "cell_type": "code",
      "source": [
        "if True:\n"
      ],
      "metadata": {
        "id": "lgr0OZx46uob"
      },
      "execution_count": null,
      "outputs": []
    },
    {
      "cell_type": "markdown",
      "source": [
        "When Python encounters `pass`, it simply skips it and moves on to the next statement. It doesn’t produce any output or perform any operation."
      ],
      "metadata": {
        "id": "peVLXWEL6aP4"
      }
    },
    {
      "cell_type": "markdown",
      "metadata": {
        "id": "eWiibIJcc8WP"
      },
      "source": [
        "#  Global , Local variables"
      ]
    },
    {
      "cell_type": "markdown",
      "metadata": {
        "id": "Cn7yg-lqc8WP"
      },
      "source": [
        "In Python, a variable declared outside of the function or in global scope is known as a global variable. This means that a global variable can be accessed inside or outside of the function.\n",
        "\n",
        "Let's see an example of how a global variable is created in Python.\n",
        "\n",
        "### Example 1: Create a Global Variable\n"
      ]
    },
    {
      "cell_type": "code",
      "execution_count": null,
      "metadata": {
        "id": "gV7I_bobc8WP",
        "colab": {
          "base_uri": "https://localhost:8080/"
        },
        "outputId": "ba6cc9d5-eaf8-4421-f20c-c5f1e756ebd0"
      },
      "outputs": [
        {
          "output_type": "stream",
          "name": "stdout",
          "text": [
            "x inside: global\n",
            "x outside: global\n"
          ]
        }
      ],
      "source": [
        "x = \"global\"\n",
        "\n",
        "def foo():\n",
        "    print(\"x inside:\", x)\n",
        "\n",
        "\n",
        "\n",
        "foo()\n",
        "print(\"x outside:\", x)"
      ]
    },
    {
      "cell_type": "markdown",
      "metadata": {
        "id": "_MF30wJpc8WP"
      },
      "source": [
        "In the above code, we created x as a global variable and defined a foo() to print the global variable x. Finally, we call the foo() which will print the value of x.\n",
        "\n",
        "What if you want to change the value of x inside a function?"
      ]
    },
    {
      "cell_type": "code",
      "execution_count": null,
      "metadata": {
        "id": "e5Xh7Stnc8WP",
        "colab": {
          "base_uri": "https://localhost:8080/",
          "height": 306
        },
        "outputId": "6ce49aee-36cb-4e01-99de-ae6f699fbb23"
      },
      "outputs": [
        {
          "output_type": "error",
          "ename": "UnboundLocalError",
          "evalue": "local variable 'x' referenced before assignment",
          "traceback": [
            "\u001b[0;31m---------------------------------------------------------------------------\u001b[0m",
            "\u001b[0;31mUnboundLocalError\u001b[0m                         Traceback (most recent call last)",
            "\u001b[0;32m<ipython-input-94-5bb9d7e58dc3>\u001b[0m in \u001b[0;36m<cell line: 7>\u001b[0;34m()\u001b[0m\n\u001b[1;32m      5\u001b[0m     \u001b[0mprint\u001b[0m\u001b[0;34m(\u001b[0m\u001b[0mx\u001b[0m\u001b[0;34m)\u001b[0m\u001b[0;34m\u001b[0m\u001b[0;34m\u001b[0m\u001b[0m\n\u001b[1;32m      6\u001b[0m \u001b[0;34m\u001b[0m\u001b[0m\n\u001b[0;32m----> 7\u001b[0;31m \u001b[0mfoo\u001b[0m\u001b[0;34m(\u001b[0m\u001b[0;34m)\u001b[0m\u001b[0;34m\u001b[0m\u001b[0;34m\u001b[0m\u001b[0m\n\u001b[0m",
            "\u001b[0;32m<ipython-input-94-5bb9d7e58dc3>\u001b[0m in \u001b[0;36mfoo\u001b[0;34m()\u001b[0m\n\u001b[1;32m      2\u001b[0m \u001b[0;34m\u001b[0m\u001b[0m\n\u001b[1;32m      3\u001b[0m \u001b[0;32mdef\u001b[0m \u001b[0mfoo\u001b[0m\u001b[0;34m(\u001b[0m\u001b[0;34m)\u001b[0m\u001b[0;34m:\u001b[0m\u001b[0;34m\u001b[0m\u001b[0;34m\u001b[0m\u001b[0m\n\u001b[0;32m----> 4\u001b[0;31m     \u001b[0mx\u001b[0m \u001b[0;34m=\u001b[0m \u001b[0mx\u001b[0m \u001b[0;34m*\u001b[0m \u001b[0;36m2\u001b[0m\u001b[0;34m\u001b[0m\u001b[0;34m\u001b[0m\u001b[0m\n\u001b[0m\u001b[1;32m      5\u001b[0m     \u001b[0mprint\u001b[0m\u001b[0;34m(\u001b[0m\u001b[0mx\u001b[0m\u001b[0;34m)\u001b[0m\u001b[0;34m\u001b[0m\u001b[0;34m\u001b[0m\u001b[0m\n\u001b[1;32m      6\u001b[0m \u001b[0;34m\u001b[0m\u001b[0m\n",
            "\u001b[0;31mUnboundLocalError\u001b[0m: local variable 'x' referenced before assignment"
          ]
        }
      ],
      "source": [
        "x = \"global\"\n",
        "\n",
        "def foo():\n",
        "    x = x * 2\n",
        "    print(x)\n",
        "\n",
        "foo()"
      ]
    },
    {
      "cell_type": "code",
      "source": [
        "del y"
      ],
      "metadata": {
        "id": "AUzx28wERV7n"
      },
      "execution_count": null,
      "outputs": []
    },
    {
      "cell_type": "code",
      "source": [
        "x = \"global\"\n",
        "\n",
        "def foo():\n",
        "    y=x\n",
        "    y = y * 2\n",
        "    print(y)\n",
        "    print(x)\n",
        "\n",
        "foo()\n",
        "print(x)\n",
        "# print(y)"
      ],
      "metadata": {
        "id": "n2bZZ4gJjwyE",
        "colab": {
          "base_uri": "https://localhost:8080/"
        },
        "outputId": "a786ccf0-f223-4bd3-f6b9-f515913d970d"
      },
      "execution_count": null,
      "outputs": [
        {
          "output_type": "stream",
          "name": "stdout",
          "text": [
            "globalglobal\n",
            "global\n",
            "global\n"
          ]
        }
      ]
    },
    {
      "cell_type": "code",
      "source": [
        "x = \"global\"\n",
        "\n",
        "def foo():\n",
        "    global x\n",
        "    x = x * 2\n",
        "    print(x)\n",
        "\n",
        "foo()\n",
        "print(x)"
      ],
      "metadata": {
        "id": "z7M-1hoGV3RQ",
        "colab": {
          "base_uri": "https://localhost:8080/"
        },
        "outputId": "1b561283-e379-41a9-8f24-290a7bc81ffd"
      },
      "execution_count": null,
      "outputs": [
        {
          "output_type": "stream",
          "name": "stdout",
          "text": [
            "globalglobal\n",
            "globalglobal\n"
          ]
        }
      ]
    },
    {
      "cell_type": "markdown",
      "metadata": {
        "id": "3fwxv9rqc8WQ"
      },
      "source": [
        "The output shows an error because Python treats x as a local variable and x is also not defined inside foo().\n",
        "\n",
        "To make this work, we use the global keyword"
      ]
    },
    {
      "cell_type": "markdown",
      "metadata": {
        "id": "J1ILQ-2Tc8WQ"
      },
      "source": [
        "### What is the global keyword\n",
        "In Python, global keyword allows you to modify the variable outside of the current scope. It is used to create a global variable and make changes to the variable in a local context.\n",
        "\n",
        "**Rules of global Keyword**<br>\n",
        "The basic rules for global keyword in Python are:\n",
        "\n",
        "1. When we create a variable inside a function, it is local by default.\n",
        "2. When we define a variable outside of a function, it is `global` by default. You don't have to use `global keyword`.\n",
        "3. We use `global keyword` to read and write a `global variable` inside a function.\n",
        "4. Use of `global keyword` outside a function has no effect.\n",
        "\n",
        "#### Use of global Keyword"
      ]
    },
    {
      "cell_type": "markdown",
      "metadata": {
        "id": "-sl2hDCkc8WQ"
      },
      "source": [
        "##### Example 1: Accessing global Variable From Inside a Function\n"
      ]
    },
    {
      "cell_type": "code",
      "execution_count": null,
      "metadata": {
        "id": "n863qSi6c8WQ",
        "colab": {
          "base_uri": "https://localhost:8080/"
        },
        "outputId": "7b68d8c5-22bf-4d2f-d9f7-066569cdb35f"
      },
      "outputs": [
        {
          "output_type": "stream",
          "name": "stdout",
          "text": [
            "1\n"
          ]
        }
      ],
      "source": [
        "a = 1 # global variable\n",
        "\n",
        "def add():\n",
        "    print(a)\n",
        "\n",
        "add()"
      ]
    },
    {
      "cell_type": "markdown",
      "metadata": {
        "id": "ibewuBfPc8WQ"
      },
      "source": [
        "However, we may have some scenarios where we need to modify the global variable from inside a function.\n",
        "\n"
      ]
    },
    {
      "cell_type": "markdown",
      "metadata": {
        "id": "yxjqtI8Lc8WR"
      },
      "source": [
        "##### Example 2: Modifying Global Variable From Inside the Function\n"
      ]
    },
    {
      "cell_type": "code",
      "execution_count": null,
      "metadata": {
        "id": "_toZMFnWc8WR",
        "colab": {
          "base_uri": "https://localhost:8080/",
          "height": 306
        },
        "outputId": "082469ad-1f1a-4b8a-fc8e-79aba4444049"
      },
      "outputs": [
        {
          "output_type": "error",
          "ename": "UnboundLocalError",
          "evalue": "local variable 'a' referenced before assignment",
          "traceback": [
            "\u001b[0;31m---------------------------------------------------------------------------\u001b[0m",
            "\u001b[0;31mUnboundLocalError\u001b[0m                         Traceback (most recent call last)",
            "\u001b[0;32m<ipython-input-103-cafc5b44c9e4>\u001b[0m in \u001b[0;36m<cell line: 7>\u001b[0;34m()\u001b[0m\n\u001b[1;32m      5\u001b[0m     \u001b[0mprint\u001b[0m\u001b[0;34m(\u001b[0m\u001b[0ma\u001b[0m\u001b[0;34m)\u001b[0m\u001b[0;34m\u001b[0m\u001b[0;34m\u001b[0m\u001b[0m\n\u001b[1;32m      6\u001b[0m \u001b[0;34m\u001b[0m\u001b[0m\n\u001b[0;32m----> 7\u001b[0;31m \u001b[0madd\u001b[0m\u001b[0;34m(\u001b[0m\u001b[0;34m)\u001b[0m\u001b[0;34m\u001b[0m\u001b[0;34m\u001b[0m\u001b[0m\n\u001b[0m",
            "\u001b[0;32m<ipython-input-103-cafc5b44c9e4>\u001b[0m in \u001b[0;36madd\u001b[0;34m()\u001b[0m\n\u001b[1;32m      2\u001b[0m \u001b[0;34m\u001b[0m\u001b[0m\n\u001b[1;32m      3\u001b[0m \u001b[0;32mdef\u001b[0m \u001b[0madd\u001b[0m\u001b[0;34m(\u001b[0m\u001b[0;34m)\u001b[0m\u001b[0;34m:\u001b[0m\u001b[0;34m\u001b[0m\u001b[0;34m\u001b[0m\u001b[0m\n\u001b[0;32m----> 4\u001b[0;31m     \u001b[0ma\u001b[0m \u001b[0;34m=\u001b[0m \u001b[0ma\u001b[0m\u001b[0;34m+\u001b[0m\u001b[0;36m2\u001b[0m \u001b[0;31m# increment a by 2\u001b[0m\u001b[0;34m\u001b[0m\u001b[0;34m\u001b[0m\u001b[0m\n\u001b[0m\u001b[1;32m      5\u001b[0m     \u001b[0mprint\u001b[0m\u001b[0;34m(\u001b[0m\u001b[0ma\u001b[0m\u001b[0;34m)\u001b[0m\u001b[0;34m\u001b[0m\u001b[0;34m\u001b[0m\u001b[0m\n\u001b[1;32m      6\u001b[0m \u001b[0;34m\u001b[0m\u001b[0m\n",
            "\u001b[0;31mUnboundLocalError\u001b[0m: local variable 'a' referenced before assignment"
          ]
        }
      ],
      "source": [
        "a = 1\n",
        "\n",
        "def add():\n",
        "    a = a+2 # increment a by 2\n",
        "    print(a)\n",
        "\n",
        "add()"
      ]
    },
    {
      "cell_type": "markdown",
      "metadata": {
        "id": "Y0XuUyXhc8WR"
      },
      "source": [
        "This is because we can only access the global variable but cannot modify it from inside the function.\n",
        "\n",
        "The solution for this is to use the global keyword.\n",
        "\n",
        "##### Example 3: Changing Global Variable From Inside a Function using global\n"
      ]
    },
    {
      "cell_type": "code",
      "execution_count": null,
      "metadata": {
        "id": "dZvuEXmcc8WR",
        "colab": {
          "base_uri": "https://localhost:8080/"
        },
        "outputId": "096864c3-798f-4bfe-970c-65ca9dc3e0c5"
      },
      "outputs": [
        {
          "output_type": "stream",
          "name": "stdout",
          "text": [
            "Inside add(): 2\n",
            "In main: 2\n"
          ]
        }
      ],
      "source": [
        "c = 0 # global variable\n",
        "\n",
        "def add():\n",
        "    global c\n",
        "    c = c + 2 # increment by 2\n",
        "    print(\"Inside add():\", c)\n",
        "\n",
        "add()\n",
        "print(\"In main:\", c)"
      ]
    },
    {
      "cell_type": "markdown",
      "metadata": {
        "id": "tZP4zs_Uc8WR"
      },
      "source": [
        "In the above program, we define c as a global keyword inside the add() function.\n",
        "\n",
        "Then, we increment the variable c by 1, i.e c = c + 2. After that, we call the add() function. Finally, we print the global variable c.\n",
        "\n",
        "As we can see, change also occurred on the global variable outside the function, c = 2."
      ]
    },
    {
      "cell_type": "markdown",
      "metadata": {
        "id": "15d_8Capc8WS"
      },
      "source": [
        "###  Local Variables"
      ]
    },
    {
      "cell_type": "markdown",
      "metadata": {
        "id": "GnFY8Kjhc8WS"
      },
      "source": [
        "A variable declared inside the function's body or in the local scope is known as a local variable.\n",
        "\n",
        "Example : Accessing local variable outside the scope"
      ]
    },
    {
      "cell_type": "code",
      "source": [
        "del s"
      ],
      "metadata": {
        "id": "9pa9EgAzlGnG"
      },
      "execution_count": null,
      "outputs": []
    },
    {
      "cell_type": "code",
      "execution_count": null,
      "metadata": {
        "id": "oITKJodtc8WS",
        "colab": {
          "base_uri": "https://localhost:8080/",
          "height": 180
        },
        "outputId": "71ca6a5c-aa53-4d89-bff0-0e7747c3590e"
      },
      "outputs": [
        {
          "output_type": "error",
          "ename": "NameError",
          "evalue": "name 's' is not defined",
          "traceback": [
            "\u001b[0;31m---------------------------------------------------------------------------\u001b[0m",
            "\u001b[0;31mNameError\u001b[0m                                 Traceback (most recent call last)",
            "\u001b[0;32m<ipython-input-106-99b1c073345d>\u001b[0m in \u001b[0;36m<cell line: 5>\u001b[0;34m()\u001b[0m\n\u001b[1;32m      3\u001b[0m     \u001b[0ms\u001b[0m \u001b[0;34m=\u001b[0m \u001b[0;34m\"Local\"\u001b[0m\u001b[0;34m\u001b[0m\u001b[0;34m\u001b[0m\u001b[0m\n\u001b[1;32m      4\u001b[0m \u001b[0mfoo\u001b[0m\u001b[0;34m(\u001b[0m\u001b[0;34m)\u001b[0m\u001b[0;34m\u001b[0m\u001b[0;34m\u001b[0m\u001b[0m\n\u001b[0;32m----> 5\u001b[0;31m \u001b[0mprint\u001b[0m\u001b[0;34m(\u001b[0m\u001b[0ms\u001b[0m\u001b[0;34m)\u001b[0m \u001b[0;31m# s is a local variable, so you can't access it\u001b[0m\u001b[0;34m\u001b[0m\u001b[0;34m\u001b[0m\u001b[0m\n\u001b[0m",
            "\u001b[0;31mNameError\u001b[0m: name 's' is not defined"
          ]
        }
      ],
      "source": [
        "def foo():\n",
        "    # global s\n",
        "    s = \"Local\"\n",
        "foo()\n",
        "print(s) # s is a local variable, so you can't access it"
      ]
    },
    {
      "cell_type": "markdown",
      "metadata": {
        "id": "KW_57wGJc8WS"
      },
      "source": [
        "The output shows an error because we are trying to access a local variable y in a global scope whereas the local variable only works inside foo() or local scope.\n",
        "\n"
      ]
    },
    {
      "cell_type": "markdown",
      "metadata": {
        "id": "7BpltJpxc8WT"
      },
      "source": [
        "##### Example : Create a Local Variable\n",
        "Normally, we declare a variable inside the function to create a local variable.\n",
        "\n"
      ]
    },
    {
      "cell_type": "code",
      "execution_count": null,
      "metadata": {
        "id": "MC-k7B0mc8WT",
        "colab": {
          "base_uri": "https://localhost:8080/",
          "height": 198
        },
        "outputId": "a68c1973-0be0-4aec-f083-9f10cab12f27"
      },
      "outputs": [
        {
          "output_type": "stream",
          "name": "stdout",
          "text": [
            "Local\n"
          ]
        },
        {
          "output_type": "error",
          "ename": "NameError",
          "evalue": "name 's' is not defined",
          "traceback": [
            "\u001b[0;31m---------------------------------------------------------------------------\u001b[0m",
            "\u001b[0;31mNameError\u001b[0m                                 Traceback (most recent call last)",
            "\u001b[0;32m<ipython-input-108-ffc1591caa76>\u001b[0m in \u001b[0;36m<cell line: 5>\u001b[0;34m()\u001b[0m\n\u001b[1;32m      3\u001b[0m     \u001b[0mprint\u001b[0m\u001b[0;34m(\u001b[0m\u001b[0ms\u001b[0m\u001b[0;34m)\u001b[0m\u001b[0;34m\u001b[0m\u001b[0;34m\u001b[0m\u001b[0m\n\u001b[1;32m      4\u001b[0m \u001b[0mfoo\u001b[0m\u001b[0;34m(\u001b[0m\u001b[0;34m)\u001b[0m\u001b[0;34m\u001b[0m\u001b[0;34m\u001b[0m\u001b[0m\n\u001b[0;32m----> 5\u001b[0;31m \u001b[0mprint\u001b[0m\u001b[0;34m(\u001b[0m\u001b[0ms\u001b[0m\u001b[0;34m)\u001b[0m\u001b[0;34m\u001b[0m\u001b[0;34m\u001b[0m\u001b[0m\n\u001b[0m",
            "\u001b[0;31mNameError\u001b[0m: name 's' is not defined"
          ]
        }
      ],
      "source": [
        "def foo():\n",
        "    s = \"Local\"\n",
        "    print(s)\n",
        "foo()\n",
        "print(s)"
      ]
    },
    {
      "cell_type": "code",
      "source": [
        "def factorial(n):\n",
        "    if n == 0:\n",
        "        return 1\n",
        "    else:\n",
        "        return n * factorial(n-1)"
      ],
      "metadata": {
        "id": "eW_4Z4xsSXZc"
      },
      "execution_count": null,
      "outputs": []
    },
    {
      "cell_type": "markdown",
      "source": [
        "# Function Practice Exercises (Part 1)"
      ],
      "metadata": {
        "id": "SYsWgWvh6kOt"
      }
    },
    {
      "cell_type": "markdown",
      "metadata": {
        "id": "gGQH8lME6kOu"
      },
      "source": [
        "Ex 1 : Write a Python program to find the maximum from the given three numbers.\n",
        "\n"
      ]
    },
    {
      "cell_type": "code",
      "source": [],
      "metadata": {
        "id": "iy329YZe6yAN"
      },
      "execution_count": null,
      "outputs": []
    },
    {
      "cell_type": "markdown",
      "metadata": {
        "id": "bnVdWUcb6kOw"
      },
      "source": [
        "Ex 2 : Write a Python program to calculate the multiplication of all the numbers present in a list."
      ]
    },
    {
      "cell_type": "code",
      "source": [],
      "metadata": {
        "id": "ONjWC6yL683c"
      },
      "execution_count": null,
      "outputs": []
    },
    {
      "cell_type": "markdown",
      "metadata": {
        "id": "TWObRKg76kOx"
      },
      "source": [
        "Ex 3 : Write a Python program that takes a string as an input and calculates the number of upper case and lower case letters present in the string.\n",
        "\n"
      ]
    },
    {
      "cell_type": "code",
      "source": [],
      "metadata": {
        "id": "q-7ZueBJ7Cjr"
      },
      "execution_count": null,
      "outputs": []
    },
    {
      "cell_type": "markdown",
      "metadata": {
        "id": "XP6F_Djy4_YM"
      },
      "source": [
        "# Function Practice Exercises (Part 2)\n",
        "\n",
        "Problems are arranged in increasing difficulty:\n",
        "* Warmup - these can be solved using basic comparisons and methods\n",
        "* Level 1 - these may involve if/then conditional statements and simple methods\n",
        "* Level 2 - these may require iterating over sequences, usually with some kind of loop\n",
        "* Challenging - these will take some creativity to solve"
      ]
    },
    {
      "cell_type": "markdown",
      "metadata": {
        "id": "DOsRMG9x4_YM"
      },
      "source": [
        "## WARMUP SECTION:"
      ]
    },
    {
      "cell_type": "markdown",
      "metadata": {
        "id": "d9UQ-nBM4_YN"
      },
      "source": [
        "#### LESSER OF TWO EVENS: Write a function that returns the lesser of two given numbers *if* both numbers are even, but returns the greater if one or both numbers are odd\n",
        "    lesser_of_two_evens(2,4) --> 2\n",
        "    lesser_of_two_evens(2,5) --> 5"
      ]
    },
    {
      "cell_type": "code",
      "execution_count": null,
      "metadata": {
        "collapsed": true,
        "id": "75NnoT3t4_YN"
      },
      "outputs": [],
      "source": [
        "def lesser_of_two_evens(a,b):\n",
        "    pass"
      ]
    },
    {
      "cell_type": "code",
      "execution_count": null,
      "metadata": {
        "collapsed": true,
        "id": "beObPxcb4_YO"
      },
      "outputs": [],
      "source": [
        "# Check\n",
        "lesser_of_two_evens(2,4)"
      ]
    },
    {
      "cell_type": "code",
      "execution_count": null,
      "metadata": {
        "collapsed": true,
        "id": "RAgUOYrN4_YO"
      },
      "outputs": [],
      "source": [
        "# Check\n",
        "lesser_of_two_evens(2,5)"
      ]
    },
    {
      "cell_type": "markdown",
      "metadata": {
        "id": "lFS3D2gc4_YP"
      },
      "source": [
        "#### ANIMAL CRACKERS: Write a function takes a two-word string and returns True if both words begin with same letter\n",
        "    animal_crackers('Levelheaded Llama') --> True\n",
        "    animal_crackers('Crazy Kangaroo') --> False"
      ]
    },
    {
      "cell_type": "code",
      "execution_count": null,
      "metadata": {
        "collapsed": true,
        "id": "tz0wLWTr4_YP"
      },
      "outputs": [],
      "source": [
        "def animal_crackers(text):\n",
        "    pass"
      ]
    },
    {
      "cell_type": "code",
      "execution_count": null,
      "metadata": {
        "collapsed": true,
        "id": "RXODin_o4_YP"
      },
      "outputs": [],
      "source": [
        "# Check\n",
        "animal_crackers('Levelheaded Llama')"
      ]
    },
    {
      "cell_type": "code",
      "execution_count": null,
      "metadata": {
        "collapsed": true,
        "id": "6sEUbAza4_YQ"
      },
      "outputs": [],
      "source": [
        "# Check\n",
        "animal_crackers('Crazy Kangaroo')"
      ]
    },
    {
      "cell_type": "markdown",
      "metadata": {
        "id": "WDlEow184_YQ"
      },
      "source": [
        "#### MAKES TWENTY: Given two integers, return True if the sum of the integers is 20 *or* if one of the integers is 20. If not, return False\n",
        "\n",
        "    makes_twenty(20,10) --> True\n",
        "    makes_twenty(12,8) --> True\n",
        "    makes_twenty(2,3) --> False"
      ]
    },
    {
      "cell_type": "code",
      "execution_count": null,
      "metadata": {
        "collapsed": true,
        "id": "rOSPiYr-4_YQ"
      },
      "outputs": [],
      "source": [
        "def makes_twenty(n1,n2):\n",
        "    pass"
      ]
    },
    {
      "cell_type": "code",
      "execution_count": null,
      "metadata": {
        "collapsed": true,
        "id": "p-pg23sC4_YQ"
      },
      "outputs": [],
      "source": [
        "# Check\n",
        "makes_twenty(20,10)"
      ]
    },
    {
      "cell_type": "code",
      "execution_count": null,
      "metadata": {
        "collapsed": true,
        "id": "yvBd9AZn4_YQ"
      },
      "outputs": [],
      "source": [
        "# Check\n",
        "makes_twenty(2,3)"
      ]
    },
    {
      "cell_type": "markdown",
      "metadata": {
        "id": "QuL8udmA4_YR"
      },
      "source": [
        "## LEVEL 1 PROBLEMS"
      ]
    },
    {
      "cell_type": "markdown",
      "metadata": {
        "id": "GJ2DAsmx4_YR"
      },
      "source": [
        "#### OLD MACDONALD: Write a function that capitalizes the first and fourth letters of a name\n",
        "     \n",
        "    old_macdonald('macdonald') --> MacDonald\n",
        "    \n",
        "Note: `'macdonald'.capitalize()` returns `'Macdonald'`"
      ]
    },
    {
      "cell_type": "code",
      "execution_count": null,
      "metadata": {
        "collapsed": true,
        "id": "8xzVLLBi4_YR"
      },
      "outputs": [],
      "source": [
        "def old_macdonald(name):\n",
        "    pass"
      ]
    },
    {
      "cell_type": "code",
      "execution_count": null,
      "metadata": {
        "collapsed": true,
        "id": "Hc7txEy64_YR"
      },
      "outputs": [],
      "source": [
        "# Check\n",
        "old_macdonald('macdonald')"
      ]
    },
    {
      "cell_type": "markdown",
      "metadata": {
        "id": "rDUpJhnJ4_YR"
      },
      "source": [
        "#### MASTER YODA: Given a sentence, return a sentence with the words reversed\n",
        "\n",
        "    master_yoda('I am home') --> 'home am I'\n",
        "    master_yoda('We are ready') --> 'ready are We'\n",
        "    \n",
        "Note: The .join() method may be useful here. The .join() method allows you to join together strings in a list with some connector string. For example, some uses of the .join() method:\n",
        "\n",
        "    >>> \"--\".join(['a','b','c'])\n",
        "    >>> 'a--b--c'\n",
        "\n",
        "This means if you had a list of words you wanted to turn back into a sentence, you could just join them with a single space string:\n",
        "\n",
        "    >>> \" \".join(['Hello','world'])\n",
        "    >>> \"Hello world\""
      ]
    },
    {
      "cell_type": "code",
      "execution_count": null,
      "metadata": {
        "collapsed": true,
        "id": "NonQgDIv4_YR"
      },
      "outputs": [],
      "source": [
        "def master_yoda(text):\n",
        "    pass"
      ]
    },
    {
      "cell_type": "code",
      "execution_count": null,
      "metadata": {
        "collapsed": true,
        "id": "jml2r1mU4_YS"
      },
      "outputs": [],
      "source": [
        "# Check\n",
        "master_yoda('I am home')"
      ]
    },
    {
      "cell_type": "code",
      "execution_count": null,
      "metadata": {
        "collapsed": true,
        "id": "LIwHIO7N4_YS"
      },
      "outputs": [],
      "source": [
        "# Check\n",
        "master_yoda('We are ready')"
      ]
    },
    {
      "cell_type": "markdown",
      "metadata": {
        "id": "ZdPC4zae4_YS"
      },
      "source": [
        "#### ALMOST THERE: Given an integer n, return True if n is within 10 of either 100 or 200\n",
        "\n",
        "    almost_there(90) --> True\n",
        "    almost_there(104) --> True\n",
        "    almost_there(150) --> False\n",
        "    almost_there(209) --> True\n",
        "    \n",
        "NOTE: `abs(num)` returns the absolute value of a number"
      ]
    },
    {
      "cell_type": "code",
      "execution_count": null,
      "metadata": {
        "collapsed": true,
        "id": "Gy0YvGGP4_YS"
      },
      "outputs": [],
      "source": [
        "def almost_there(n):\n",
        "    pass"
      ]
    },
    {
      "cell_type": "code",
      "execution_count": null,
      "metadata": {
        "collapsed": true,
        "id": "9EgZlRdo4_YS"
      },
      "outputs": [],
      "source": [
        "# Check\n",
        "almost_there(104)"
      ]
    },
    {
      "cell_type": "code",
      "execution_count": null,
      "metadata": {
        "collapsed": true,
        "id": "FQKdTpqL4_YS"
      },
      "outputs": [],
      "source": [
        "# Check\n",
        "almost_there(150)"
      ]
    },
    {
      "cell_type": "code",
      "execution_count": null,
      "metadata": {
        "collapsed": true,
        "id": "0zUpHURn4_YS"
      },
      "outputs": [],
      "source": [
        "# Check\n",
        "almost_there(209)"
      ]
    },
    {
      "cell_type": "markdown",
      "metadata": {
        "id": "Nglc6C5U4_YS"
      },
      "source": [
        "## LEVEL 2 PROBLEMS"
      ]
    },
    {
      "cell_type": "markdown",
      "metadata": {
        "id": "20cSxMf64_YS"
      },
      "source": [
        "#### FIND 33:\n",
        "\n",
        "Given a list of ints, return True if the array contains a 3 next to a 3 somewhere.\n",
        "\n",
        "    has_33([1, 3, 3]) → True\n",
        "    has_33([1, 3, 1, 3]) → False\n",
        "    has_33([3, 1, 3]) → False"
      ]
    },
    {
      "cell_type": "code",
      "execution_count": null,
      "metadata": {
        "collapsed": true,
        "id": "rtAgAcul4_YT"
      },
      "outputs": [],
      "source": [
        "def has_33(nums):\n",
        "    pass"
      ]
    },
    {
      "cell_type": "code",
      "execution_count": null,
      "metadata": {
        "collapsed": true,
        "id": "zEmeH9My4_YT"
      },
      "outputs": [],
      "source": [
        "# Check\n",
        "has_33([1, 3, 3])"
      ]
    },
    {
      "cell_type": "code",
      "execution_count": null,
      "metadata": {
        "collapsed": true,
        "id": "cigKj8mf4_YT"
      },
      "outputs": [],
      "source": [
        "# Check\n",
        "has_33([1, 3, 1, 3])"
      ]
    },
    {
      "cell_type": "code",
      "execution_count": null,
      "metadata": {
        "collapsed": true,
        "id": "w75cwRhH4_YT"
      },
      "outputs": [],
      "source": [
        "# Check\n",
        "has_33([3, 1, 3])"
      ]
    },
    {
      "cell_type": "markdown",
      "metadata": {
        "id": "0AmJB-WQ4_YT"
      },
      "source": [
        "#### PAPER DOLL: Given a string, return a string where for every character in the original there are three characters\n",
        "    paper_doll('Hello') --> 'HHHeeellllllooo'\n",
        "    paper_doll('Mississippi') --> 'MMMiiissssssiiippppppiii'"
      ]
    },
    {
      "cell_type": "code",
      "execution_count": null,
      "metadata": {
        "collapsed": true,
        "id": "CyhvV3kj4_YT"
      },
      "outputs": [],
      "source": [
        "def paper_doll(text):\n",
        "    pass"
      ]
    },
    {
      "cell_type": "code",
      "execution_count": null,
      "metadata": {
        "collapsed": true,
        "id": "wDagE4mR4_YT"
      },
      "outputs": [],
      "source": [
        "# Check\n",
        "paper_doll('Hello')"
      ]
    },
    {
      "cell_type": "code",
      "execution_count": null,
      "metadata": {
        "collapsed": true,
        "id": "MsVBD5Tv4_YT"
      },
      "outputs": [],
      "source": [
        "# Check\n",
        "paper_doll('Mississippi')"
      ]
    },
    {
      "cell_type": "markdown",
      "metadata": {
        "id": "Dxk0PpXP4_YU"
      },
      "source": [
        "#### BLACKJACK: Given three integers between 1 and 11, if their sum is less than or equal to 21, return their sum. If their sum exceeds 21 *and* there's an eleven, reduce the total sum by 10. Finally, if the sum (even after adjustment) exceeds 21, return 'BUST'\n",
        "    blackjack(5,6,7) --> 18\n",
        "    blackjack(9,9,9) --> 'BUST'\n",
        "    blackjack(9,9,11) --> 19"
      ]
    },
    {
      "cell_type": "code",
      "execution_count": null,
      "metadata": {
        "collapsed": true,
        "id": "fazfY0gs4_YY"
      },
      "outputs": [],
      "source": [
        "def blackjack(a,b,c):\n",
        "    pass"
      ]
    },
    {
      "cell_type": "code",
      "execution_count": null,
      "metadata": {
        "collapsed": true,
        "id": "GPnptLND4_YY"
      },
      "outputs": [],
      "source": [
        "# Check\n",
        "blackjack(5,6,7)"
      ]
    },
    {
      "cell_type": "code",
      "execution_count": null,
      "metadata": {
        "collapsed": true,
        "id": "ZACWnyX24_YY"
      },
      "outputs": [],
      "source": [
        "# Check\n",
        "blackjack(9,9,9)"
      ]
    },
    {
      "cell_type": "code",
      "execution_count": null,
      "metadata": {
        "collapsed": true,
        "id": "ybNXF0ZA4_YY"
      },
      "outputs": [],
      "source": [
        "# Check\n",
        "blackjack(9,9,11)"
      ]
    },
    {
      "cell_type": "markdown",
      "metadata": {
        "id": "5FYiMFhT4_YY"
      },
      "source": [
        "#### SUMMER OF '69: Return the sum of the numbers in the array, except ignore sections of numbers starting with a 6 and extending to the next 9 (every 6 will be followed by at least one 9). Return 0 for no numbers.\n",
        "\n",
        "    summer_69([1, 3, 5]) --> 9\n",
        "    summer_69([4, 5, 6, 7, 8, 9]) --> 9\n",
        "    summer_69([2, 1, 6, 9, 11]) --> 14"
      ]
    },
    {
      "cell_type": "code",
      "execution_count": null,
      "metadata": {
        "collapsed": true,
        "id": "6Xp7VW-P4_YY"
      },
      "outputs": [],
      "source": [
        "def summer_69(arr):\n",
        "    pass"
      ]
    },
    {
      "cell_type": "code",
      "execution_count": null,
      "metadata": {
        "collapsed": true,
        "id": "p3ggPt6k4_YY"
      },
      "outputs": [],
      "source": [
        "# Check\n",
        "summer_69([1, 3, 5])"
      ]
    },
    {
      "cell_type": "code",
      "execution_count": null,
      "metadata": {
        "collapsed": true,
        "id": "NS38vsaF4_YZ"
      },
      "outputs": [],
      "source": [
        "# Check\n",
        "summer_69([4, 5, 6, 7, 8, 9])"
      ]
    },
    {
      "cell_type": "code",
      "execution_count": null,
      "metadata": {
        "collapsed": true,
        "id": "4LEw__wX4_YZ"
      },
      "outputs": [],
      "source": [
        "# Check\n",
        "summer_69([2, 1, 6, 9, 11])"
      ]
    },
    {
      "cell_type": "markdown",
      "metadata": {
        "id": "_Imxny8X4_YZ"
      },
      "source": [
        "## CHALLENGING PROBLEMS"
      ]
    },
    {
      "cell_type": "markdown",
      "metadata": {
        "id": "cOmeAuFf4_YZ"
      },
      "source": [
        "#### SPY GAME: Write a function that takes in a list of integers and returns True if it contains 007 in order\n",
        "\n",
        "     spy_game([1,2,4,0,0,7,5]) --> True\n",
        "     spy_game([1,0,2,4,0,5,7]) --> True\n",
        "     spy_game([1,7,2,0,4,5,0]) --> False\n"
      ]
    },
    {
      "cell_type": "code",
      "execution_count": null,
      "metadata": {
        "collapsed": true,
        "id": "d-E96cKR4_YZ"
      },
      "outputs": [],
      "source": [
        "def spy_game(nums):\n",
        "    pass"
      ]
    },
    {
      "cell_type": "code",
      "execution_count": null,
      "metadata": {
        "collapsed": true,
        "id": "IauuW3iW4_YZ"
      },
      "outputs": [],
      "source": [
        "# Check\n",
        "spy_game([1,2,4,0,0,7,5])"
      ]
    },
    {
      "cell_type": "code",
      "execution_count": null,
      "metadata": {
        "collapsed": true,
        "id": "KB0SKQMI4_YZ"
      },
      "outputs": [],
      "source": [
        "# Check\n",
        "spy_game([1,0,2,4,0,5,7])"
      ]
    },
    {
      "cell_type": "code",
      "execution_count": null,
      "metadata": {
        "collapsed": true,
        "id": "-jTf5jMj4_Ya"
      },
      "outputs": [],
      "source": [
        "# Check\n",
        "spy_game([1,7,2,0,4,5,0])"
      ]
    },
    {
      "cell_type": "markdown",
      "metadata": {
        "id": "R_ljaN_Z4_Ya"
      },
      "source": [
        "#### COUNT PRIMES: Write a function that returns the *number* of prime numbers that exist up to and including a given number\n",
        "    count_primes(100) --> 25\n",
        "\n",
        "By convention, 0 and 1 are not prime."
      ]
    },
    {
      "cell_type": "code",
      "execution_count": null,
      "metadata": {
        "collapsed": true,
        "id": "Sm2K9_Q94_Ya"
      },
      "outputs": [],
      "source": [
        "def count_primes(num):\n",
        "    pass\n"
      ]
    },
    {
      "cell_type": "code",
      "execution_count": null,
      "metadata": {
        "collapsed": true,
        "id": "ElwkDk1d4_Yb"
      },
      "outputs": [],
      "source": [
        "# Check\n",
        "count_primes(100)"
      ]
    },
    {
      "cell_type": "markdown",
      "metadata": {
        "id": "ucWN37_f4_Yb"
      },
      "source": [
        "### Just for fun:\n",
        "#### PRINT BIG: Write a function that takes in a single letter, and returns a 5x5 representation of that letter\n",
        "    print_big('a')\n",
        "    \n",
        "    out:   *  \n",
        "          * *\n",
        "         *****\n",
        "         *   *\n",
        "         *   *\n",
        "HINT: Consider making a dictionary of possible patterns, and mapping the alphabet to specific 5-line combinations of patterns. <br>For purposes of this exercise, it's ok if your dictionary stops at \"E\"."
      ]
    },
    {
      "cell_type": "code",
      "execution_count": null,
      "metadata": {
        "collapsed": true,
        "id": "jZMZIrCp4_Yb"
      },
      "outputs": [],
      "source": [
        "def print_big(letter):\n",
        "    pass"
      ]
    },
    {
      "cell_type": "code",
      "execution_count": null,
      "metadata": {
        "collapsed": true,
        "id": "NOnN__eB4_Yb"
      },
      "outputs": [],
      "source": [
        "print_big('a')"
      ]
    }
  ],
  "metadata": {
    "kernelspec": {
      "display_name": "Python 3",
      "language": "python",
      "name": "python3"
    },
    "language_info": {
      "codemirror_mode": {
        "name": "ipython",
        "version": 3
      },
      "file_extension": ".py",
      "mimetype": "text/x-python",
      "name": "python",
      "nbconvert_exporter": "python",
      "pygments_lexer": "ipython3",
      "version": "3.8.3"
    },
    "colab": {
      "provenance": [],
      "collapsed_sections": [
        "XxmItSw6c8Vv",
        "SYsWgWvh6kOt",
        "ErsxJe-Oi3yo",
        "F2e2yNLtc8WH",
        "Ekf_fGOrc8WI",
        "6rqaPNEhc8WJ",
        "VZf_wRZdc8WJ",
        "XP6F_Djy4_YM",
        "Lkrp1qgj7yMX",
        "oSUty9ls70LZ",
        "7HiEyK8270Lv",
        "IBDUMPKyNizp",
        "mBCXjgSc70Lz",
        "wMSlhsrTc8WO",
        "QBWOBK_nc8WP",
        "eWiibIJcc8WP"
      ]
    }
  },
  "nbformat": 4,
  "nbformat_minor": 0
}