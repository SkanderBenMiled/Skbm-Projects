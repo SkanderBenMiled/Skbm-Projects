{
  "cells": [
    {
      "cell_type": "markdown",
      "id": "71718262",
      "metadata": {
        "id": "71718262"
      },
      "source": [
        "### Python Numpy Arrays"
      ]
    },
    {
      "cell_type": "markdown",
      "id": "77409343",
      "metadata": {
        "id": "77409343"
      },
      "source": [
        "- open source Python library\n",
        "- provides ndarray, a homogeneous n-dimensional array object"
      ]
    },
    {
      "cell_type": "markdown",
      "metadata": {
        "id": "w179yr5ZzcFT"
      },
      "source": [
        "\n",
        "**NumPy** is the primary scientific computing library in Python that adds support for fast and efficient handling of large multi-dimensional arrays (matrices).\n",
        "\n",
        "The primary building block of NumPy is the `numpy.ndarray`, also known by and commonly referred to using the alias `numpy.array` or `np.array`. It is a homogeneous multi-dimensional (*n-dimensional*) array that is fixed in size. The numpy `np.array` differs from a regular Python `list` in three key ways:\n",
        "\n",
        "1. All elements in a `np.array` must be the same datatype. (For example, only integers or only floating-point numbers, but never both.)\n",
        "2. The datatype of an `np.array` or its elements cannot be changed in-place. To do so, a new array must be created and elements have to be copied over and re-cast into a different datatype.\n",
        "2. The size of a `np.array` is fixed - new elements cannot be added nor can elements be removed. However, elements can be overwritten as long as you keep the same datatype.\n",
        "\n",
        "*Note that Python also contains a type of array called `array.array` which supports only one dimension and hence is very different from the NumPy `np.array`.*"
      ],
      "id": "w179yr5ZzcFT"
    },
    {
      "cell_type": "code",
      "execution_count": null,
      "id": "952e19a0",
      "metadata": {
        "id": "952e19a0"
      },
      "outputs": [],
      "source": [
        "import numpy as np     #  np is alias\n",
        "# from numpy import *\n",
        "# import numpy"
      ]
    },
    {
      "cell_type": "code",
      "source": [
        "m = [\n",
        "    [1,2,3.2,'2'],\n",
        "    [4,5,6],\n",
        "    [7,8,9]\n",
        "  ]"
      ],
      "metadata": {
        "id": "1ZuGRTP5THIk"
      },
      "id": "1ZuGRTP5THIk",
      "execution_count": null,
      "outputs": []
    },
    {
      "cell_type": "code",
      "source": [
        "print(m)"
      ],
      "metadata": {
        "id": "l4TAFVD0TsIf"
      },
      "id": "l4TAFVD0TsIf",
      "execution_count": null,
      "outputs": []
    },
    {
      "cell_type": "code",
      "execution_count": null,
      "id": "442f3a07",
      "metadata": {
        "id": "442f3a07"
      },
      "outputs": [],
      "source": [
        "# Advantage of Numpy array over lists ?"
      ]
    },
    {
      "cell_type": "code",
      "execution_count": null,
      "id": "8de7eb19",
      "metadata": {
        "id": "8de7eb19"
      },
      "outputs": [],
      "source": [
        "# Python list\n",
        "print('1-D array')\n",
        "lst = [1,2,3,4]\n",
        "arr = np.array(lst)\n",
        "arr"
      ]
    },
    {
      "cell_type": "code",
      "source": [
        "arr[0]"
      ],
      "metadata": {
        "id": "ZSBdqdAOyPAW"
      },
      "id": "ZSBdqdAOyPAW",
      "execution_count": null,
      "outputs": []
    },
    {
      "cell_type": "code",
      "source": [
        "type(arr[0])"
      ],
      "metadata": {
        "id": "bbco0QTuyQzf"
      },
      "id": "bbco0QTuyQzf",
      "execution_count": null,
      "outputs": []
    },
    {
      "cell_type": "code",
      "execution_count": null,
      "id": "f27f1bce",
      "metadata": {
        "id": "f27f1bce"
      },
      "outputs": [],
      "source": [
        "type(arr)"
      ]
    },
    {
      "cell_type": "code",
      "source": [
        "# Python list\n",
        "print('1-D array')\n",
        "# lst = [1,2,3,4.2]\n",
        "arr = np.array([1,2,3,4.2])\n",
        "arr"
      ],
      "metadata": {
        "id": "kfxZT7R_yUQl"
      },
      "id": "kfxZT7R_yUQl",
      "execution_count": null,
      "outputs": []
    },
    {
      "cell_type": "code",
      "source": [
        "arr[0]"
      ],
      "metadata": {
        "id": "x1p3eXcAyZqS"
      },
      "execution_count": null,
      "outputs": [],
      "id": "x1p3eXcAyZqS"
    },
    {
      "cell_type": "code",
      "source": [
        "type(arr[0])"
      ],
      "metadata": {
        "id": "YZrorfAEyZqT"
      },
      "execution_count": null,
      "outputs": [],
      "id": "YZrorfAEyZqT"
    },
    {
      "cell_type": "code",
      "execution_count": null,
      "metadata": {
        "id": "gVPBM4-qyZqU"
      },
      "outputs": [],
      "source": [
        "type(arr)"
      ],
      "id": "gVPBM4-qyZqU"
    },
    {
      "cell_type": "code",
      "source": [
        "# Python list\n",
        "print('1-D array')\n",
        "lst = [1,2,3,'4.2']\n",
        "arr = np.array(lst)\n",
        "arr"
      ],
      "metadata": {
        "id": "I4mSXoDWVNBY"
      },
      "id": "I4mSXoDWVNBY",
      "execution_count": null,
      "outputs": []
    },
    {
      "cell_type": "code",
      "source": [
        "# Python list\n",
        "print('1-D array')\n",
        "lst = [1,2,3,('4',1)]\n",
        "arr = np.array(lst)\n",
        "arr"
      ],
      "metadata": {
        "id": "7IdR13haypF3"
      },
      "id": "7IdR13haypF3",
      "execution_count": null,
      "outputs": []
    },
    {
      "cell_type": "code",
      "source": [
        "# Python list\n",
        "print('1-D array')\n",
        "lst = [1,2,3,4]\n",
        "arr = np.array(lst)\n",
        "arr"
      ],
      "metadata": {
        "id": "sAbzZ8m_y9lr"
      },
      "id": "sAbzZ8m_y9lr",
      "execution_count": null,
      "outputs": []
    },
    {
      "cell_type": "code",
      "execution_count": null,
      "id": "b39a6ee5",
      "metadata": {
        "id": "b39a6ee5"
      },
      "outputs": [],
      "source": [
        "arr.shape"
      ]
    },
    {
      "cell_type": "code",
      "execution_count": null,
      "id": "2a80ee65",
      "metadata": {
        "id": "2a80ee65"
      },
      "outputs": [],
      "source": [
        "print('2-D Array')\n",
        "b = np.array([[1,2,3,4],[5,6,7,8]])\n",
        "print(b)"
      ]
    },
    {
      "cell_type": "code",
      "execution_count": null,
      "id": "75c92049",
      "metadata": {
        "id": "75c92049"
      },
      "outputs": [],
      "source": [
        "lst1 = [1,2,3,4,5]\n",
        "lst2 = [2,3,4,5,6]\n",
        "lst3 = [3,4,5,6,7]\n",
        "arr1=np.array([[lst1,lst2,lst3],[lst1,lst2,lst3]])\n",
        "arr1"
      ]
    },
    {
      "cell_type": "code",
      "source": [
        "arr1[0][0][0]"
      ],
      "metadata": {
        "id": "3ipxga0eV_7b"
      },
      "id": "3ipxga0eV_7b",
      "execution_count": null,
      "outputs": []
    },
    {
      "cell_type": "code",
      "execution_count": null,
      "id": "89a1852e",
      "metadata": {
        "id": "89a1852e"
      },
      "outputs": [],
      "source": [
        "arr1.shape"
      ]
    },
    {
      "cell_type": "code",
      "execution_count": null,
      "id": "8efed52e",
      "metadata": {
        "id": "8efed52e"
      },
      "outputs": [],
      "source": [
        "print('3-D array')\n",
        "c = np.array([[[1,2],[3,4],[5,6]],[[1,2],[3,4],[5,6]]])\n",
        "print(c)"
      ]
    },
    {
      "cell_type": "code",
      "source": [
        "c[0]"
      ],
      "metadata": {
        "id": "fDRId-o-YPqC"
      },
      "id": "fDRId-o-YPqC",
      "execution_count": null,
      "outputs": []
    },
    {
      "cell_type": "code",
      "source": [
        "b"
      ],
      "metadata": {
        "id": "W-_WBwlRYYv5"
      },
      "id": "W-_WBwlRYYv5",
      "execution_count": null,
      "outputs": []
    },
    {
      "cell_type": "code",
      "execution_count": null,
      "id": "deaebf2c",
      "metadata": {
        "id": "deaebf2c"
      },
      "outputs": [],
      "source": [
        "# size => tells about no. of elements in that array\n",
        "print(arr.size)\n",
        "print(b.size)\n",
        "print(c.size)"
      ]
    },
    {
      "cell_type": "code",
      "source": [
        "arr = np.array(lst)\n",
        "b = np.array([[1,2,3,4],[5,6,7,8]])\n",
        "c = np.array([[[1,2],[3,4],[5,6]]])"
      ],
      "metadata": {
        "id": "MQXjGNpye6GU"
      },
      "id": "MQXjGNpye6GU",
      "execution_count": null,
      "outputs": []
    },
    {
      "cell_type": "code",
      "source": [
        "print(c)"
      ],
      "metadata": {
        "id": "KlcxANj0fEIy"
      },
      "id": "KlcxANj0fEIy",
      "execution_count": null,
      "outputs": []
    },
    {
      "cell_type": "code",
      "source": [
        "arr"
      ],
      "metadata": {
        "id": "FBD_ecyCYgxg"
      },
      "id": "FBD_ecyCYgxg",
      "execution_count": null,
      "outputs": []
    },
    {
      "cell_type": "code",
      "source": [
        "b"
      ],
      "metadata": {
        "id": "WAHYDJW9Y2oo"
      },
      "id": "WAHYDJW9Y2oo",
      "execution_count": null,
      "outputs": []
    },
    {
      "cell_type": "code",
      "source": [
        "c"
      ],
      "metadata": {
        "id": "fzmP5G9gY3hq"
      },
      "id": "fzmP5G9gY3hq",
      "execution_count": null,
      "outputs": []
    },
    {
      "cell_type": "code",
      "execution_count": null,
      "id": "b6b7326f",
      "metadata": {
        "id": "b6b7326f"
      },
      "outputs": [],
      "source": [
        "# shape => (rows,columns)\n",
        "print(arr.shape)\n",
        "print(b.shape)\n",
        "print(c.shape)"
      ]
    },
    {
      "cell_type": "code",
      "source": [
        "c = np.array([[[1,2],[3,4],[5,6]]])  # try to add another element !"
      ],
      "metadata": {
        "id": "8_5KOV6mhIOX"
      },
      "id": "8_5KOV6mhIOX",
      "execution_count": null,
      "outputs": []
    },
    {
      "cell_type": "code",
      "source": [
        "print(c.shape)"
      ],
      "metadata": {
        "id": "dPf6f5Y6hMSX"
      },
      "id": "dPf6f5Y6hMSX",
      "execution_count": null,
      "outputs": []
    },
    {
      "cell_type": "code",
      "source": [
        "arr"
      ],
      "metadata": {
        "id": "Obmze7-7Zr8v"
      },
      "id": "Obmze7-7Zr8v",
      "execution_count": null,
      "outputs": []
    },
    {
      "cell_type": "code",
      "execution_count": null,
      "id": "f53d7b52",
      "metadata": {
        "id": "f53d7b52"
      },
      "outputs": [],
      "source": [
        "# dtype\n",
        "print(arr.dtype)\n",
        "print(b.dtype)\n",
        "print(c.dtype)"
      ]
    },
    {
      "cell_type": "code",
      "execution_count": null,
      "id": "15032039",
      "metadata": {
        "id": "15032039"
      },
      "outputs": [],
      "source": [
        "d = np.array([[1,2.2],\n",
        "              [6,8.2],\n",
        "               [10,11]])\n",
        "print(d.dtype)"
      ]
    },
    {
      "cell_type": "code",
      "source": [
        "print(d)"
      ],
      "metadata": {
        "id": "ArugDcBwgvvA"
      },
      "id": "ArugDcBwgvvA",
      "execution_count": null,
      "outputs": []
    },
    {
      "cell_type": "code",
      "source": [
        "d.shape"
      ],
      "metadata": {
        "id": "S9DRTdPkf41b"
      },
      "id": "S9DRTdPkf41b",
      "execution_count": null,
      "outputs": []
    },
    {
      "cell_type": "markdown",
      "metadata": {
        "id": "POKQcs6qzcFa"
      },
      "source": [
        "### Array Attributes\n",
        "\n",
        "NumPy arrays have multiple useful attributes that give us information about the array. Here are some of the most common and useful ones.\n",
        "\n",
        "- `.size` gives you the **number of elements** in the array\n",
        "- `.shape` gives you the **dimensions** (size in each dimension) of the array\n",
        "- `.ndim` gives you the **number of dimensions** (dimensionality) of the array\n",
        "- `.dtype` gives you the **datatype** of the array"
      ],
      "id": "POKQcs6qzcFa"
    },
    {
      "cell_type": "code",
      "execution_count": 235,
      "metadata": {
        "id": "6zwKHtzYzcFa",
        "colab": {
          "base_uri": "https://localhost:8080/"
        },
        "outputId": "e4b64524-e6e4-484a-ffee-50732ca64817"
      },
      "outputs": [
        {
          "output_type": "stream",
          "name": "stdout",
          "text": [
            "[[[ 1.   2.   3.   4.1]\n",
            "  [ 5.   6.   7.   8. ]\n",
            "  [ 9.  10.  11.  12. ]]\n",
            "\n",
            " [[13.  14.  15.  16. ]\n",
            "  [17.  18.  19.  20. ]\n",
            "  [21.  22.  23.  24. ]]]\n"
          ]
        }
      ],
      "source": [
        "a = np.array([[[1, 2, 3, 4.1], [5, 6, 7, 8], [9, 10, 11, 12]],\n",
        "              [[13, 14, 15, 16], [17, 18, 19, 20], [21, 22, 23, 24]]])\n",
        "print(a)"
      ],
      "id": "6zwKHtzYzcFa"
    },
    {
      "cell_type": "code",
      "execution_count": 231,
      "metadata": {
        "id": "nr_5EQDJzcFa",
        "colab": {
          "base_uri": "https://localhost:8080/"
        },
        "outputId": "22df1dca-e1ba-4260-81a6-f940b314c986"
      },
      "outputs": [
        {
          "output_type": "execute_result",
          "data": {
            "text/plain": [
              "24"
            ]
          },
          "metadata": {},
          "execution_count": 231
        }
      ],
      "source": [
        "# number of elements\n",
        "a.size"
      ],
      "id": "nr_5EQDJzcFa"
    },
    {
      "cell_type": "code",
      "execution_count": 232,
      "metadata": {
        "id": "teETa9skzcFa",
        "colab": {
          "base_uri": "https://localhost:8080/"
        },
        "outputId": "9eae1607-c579-482f-a8c4-aeb7889a19a0"
      },
      "outputs": [
        {
          "output_type": "execute_result",
          "data": {
            "text/plain": [
              "(2, 3, 4)"
            ]
          },
          "metadata": {},
          "execution_count": 232
        }
      ],
      "source": [
        "# dimensions\n",
        "a.shape"
      ],
      "id": "teETa9skzcFa"
    },
    {
      "cell_type": "code",
      "execution_count": 233,
      "metadata": {
        "id": "bn3CZg21zcFb",
        "colab": {
          "base_uri": "https://localhost:8080/"
        },
        "outputId": "deb4596e-3156-486d-f68b-59e9d2a76112"
      },
      "outputs": [
        {
          "output_type": "execute_result",
          "data": {
            "text/plain": [
              "3"
            ]
          },
          "metadata": {},
          "execution_count": 233
        }
      ],
      "source": [
        "# number of dimensions\n",
        "a.ndim"
      ],
      "id": "bn3CZg21zcFb"
    },
    {
      "cell_type": "code",
      "execution_count": 236,
      "metadata": {
        "id": "W29wK-jzzcFb",
        "colab": {
          "base_uri": "https://localhost:8080/"
        },
        "outputId": "4d1696d3-7001-4db5-d2e8-2721b4496207"
      },
      "outputs": [
        {
          "output_type": "execute_result",
          "data": {
            "text/plain": [
              "dtype('float64')"
            ]
          },
          "metadata": {},
          "execution_count": 236
        }
      ],
      "source": [
        "# datatype\n",
        "a.dtype"
      ],
      "id": "W29wK-jzzcFb"
    },
    {
      "cell_type": "code",
      "source": [
        "d = np.array([[1,2.2],\n",
        "              [6,8.2],\n",
        "               [10,11]])"
      ],
      "metadata": {
        "id": "awVl892taacp"
      },
      "id": "awVl892taacp",
      "execution_count": 237,
      "outputs": []
    },
    {
      "cell_type": "code",
      "source": [
        "print(d)"
      ],
      "metadata": {
        "colab": {
          "base_uri": "https://localhost:8080/"
        },
        "id": "dmLQYf7eafCp",
        "outputId": "3da2cb06-6870-438e-a930-5bc39104870c"
      },
      "id": "dmLQYf7eafCp",
      "execution_count": 238,
      "outputs": [
        {
          "output_type": "stream",
          "name": "stdout",
          "text": [
            "[[ 1.   2.2]\n",
            " [ 6.   8.2]\n",
            " [10.  11. ]]\n"
          ]
        }
      ]
    },
    {
      "cell_type": "code",
      "execution_count": 239,
      "id": "a7dc3781",
      "metadata": {
        "id": "a7dc3781"
      },
      "outputs": [],
      "source": [
        "# transpose\n",
        "trans_d = d.transpose()"
      ]
    },
    {
      "cell_type": "code",
      "source": [
        "print(trans_d)"
      ],
      "metadata": {
        "id": "OAlF56wCgtf9",
        "colab": {
          "base_uri": "https://localhost:8080/"
        },
        "outputId": "b47b39f8-83c1-498c-d9f1-ac133e97929c"
      },
      "id": "OAlF56wCgtf9",
      "execution_count": 240,
      "outputs": [
        {
          "output_type": "stream",
          "name": "stdout",
          "text": [
            "[[ 1.   6.  10. ]\n",
            " [ 2.2  8.2 11. ]]\n"
          ]
        }
      ]
    },
    {
      "cell_type": "code",
      "execution_count": 242,
      "id": "a8726ff4",
      "metadata": {
        "id": "a8726ff4",
        "colab": {
          "base_uri": "https://localhost:8080/"
        },
        "outputId": "7d08e01e-58af-4be1-dfde-83861abced3f"
      },
      "outputs": [
        {
          "output_type": "execute_result",
          "data": {
            "text/plain": [
              "array([[98217929708153,              0,   489626271856,   481036337263],\n",
              "       [  450971566194,   498216206433,   137438953573,   476741369961],\n",
              "       [  498216206435,   137438953580,   476741369958,   137438953586],\n",
              "       [  433791696996,   450971566198,   433791696995,              0]])"
            ]
          },
          "metadata": {},
          "execution_count": 242
        }
      ],
      "source": [
        "# np.empty((rows,cols),dtype)\n",
        "a = np.empty((4,4), dtype=int)"
      ]
    },
    {
      "cell_type": "code",
      "execution_count": 244,
      "id": "7ece37a5",
      "metadata": {
        "id": "7ece37a5",
        "colab": {
          "base_uri": "https://localhost:8080/"
        },
        "outputId": "b0ee443b-31c4-46f9-8d08-15d017a06f81"
      },
      "outputs": [
        {
          "output_type": "execute_result",
          "data": {
            "text/plain": [
              "array([1, 1, 1, 1, 1, 1])"
            ]
          },
          "metadata": {},
          "execution_count": 244
        }
      ],
      "source": [
        "# np.ones((rows,cols),dtype)\n",
        "x = np.ones(6,dtype=int)\n",
        "x"
      ]
    },
    {
      "cell_type": "code",
      "execution_count": 245,
      "id": "4cd5ce6c",
      "metadata": {
        "id": "4cd5ce6c",
        "colab": {
          "base_uri": "https://localhost:8080/"
        },
        "outputId": "7fa58c07-243d-4604-aded-4797e28e6743"
      },
      "outputs": [
        {
          "output_type": "execute_result",
          "data": {
            "text/plain": [
              "array([[1., 1., 1., 1., 1.],\n",
              "       [1., 1., 1., 1., 1.],\n",
              "       [1., 1., 1., 1., 1.]])"
            ]
          },
          "metadata": {},
          "execution_count": 245
        }
      ],
      "source": [
        "y = np.ones((3,5))\n",
        "y"
      ]
    },
    {
      "cell_type": "code",
      "execution_count": 246,
      "id": "6b80e4e7",
      "metadata": {
        "id": "6b80e4e7",
        "colab": {
          "base_uri": "https://localhost:8080/"
        },
        "outputId": "2ea94168-02b1-4712-aa77-02f35ecef077"
      },
      "outputs": [
        {
          "output_type": "execute_result",
          "data": {
            "text/plain": [
              "array([[1, 1, 1, 1, 1],\n",
              "       [1, 1, 1, 1, 1],\n",
              "       [1, 1, 1, 1, 1]])"
            ]
          },
          "metadata": {},
          "execution_count": 246
        }
      ],
      "source": [
        "z = np.ones((3,5), dtype = int)\n",
        "z"
      ]
    },
    {
      "cell_type": "code",
      "execution_count": 247,
      "id": "27f70a0b",
      "metadata": {
        "id": "27f70a0b",
        "outputId": "8ae3bcd1-938f-4d54-a4dd-27758b3912ca",
        "colab": {
          "base_uri": "https://localhost:8080/"
        }
      },
      "outputs": [
        {
          "output_type": "execute_result",
          "data": {
            "text/plain": [
              "array([0., 0., 0., 0.])"
            ]
          },
          "metadata": {},
          "execution_count": 247
        }
      ],
      "source": [
        "# np.zeros((rows,cols), dtype)\n",
        "x = np.zeros(4)\n",
        "x"
      ]
    },
    {
      "cell_type": "code",
      "execution_count": 248,
      "id": "aca59f7f",
      "metadata": {
        "id": "aca59f7f",
        "colab": {
          "base_uri": "https://localhost:8080/"
        },
        "outputId": "7bd37235-1419-4673-e935-2767cc5bfd77"
      },
      "outputs": [
        {
          "output_type": "execute_result",
          "data": {
            "text/plain": [
              "array([[0., 0.],\n",
              "       [0., 0.],\n",
              "       [0., 0.]])"
            ]
          },
          "metadata": {},
          "execution_count": 248
        }
      ],
      "source": [
        "y = np.zeros((3,2))\n",
        "y"
      ]
    },
    {
      "cell_type": "code",
      "execution_count": 249,
      "id": "c1866b4f",
      "metadata": {
        "id": "c1866b4f",
        "colab": {
          "base_uri": "https://localhost:8080/"
        },
        "outputId": "b1692787-c4e7-46cc-deb0-ce8f19f3f2b5"
      },
      "outputs": [
        {
          "output_type": "execute_result",
          "data": {
            "text/plain": [
              "array([[0, 0, 0, 0],\n",
              "       [0, 0, 0, 0],\n",
              "       [0, 0, 0, 0]])"
            ]
          },
          "metadata": {},
          "execution_count": 249
        }
      ],
      "source": [
        "i = np.zeros((3,4), dtype=int)\n",
        "i"
      ]
    },
    {
      "cell_type": "code",
      "execution_count": 250,
      "id": "7ec14078",
      "metadata": {
        "id": "7ec14078",
        "colab": {
          "base_uri": "https://localhost:8080/"
        },
        "outputId": "f864f301-7160-43f9-f5fc-9b46be6c4dd2"
      },
      "outputs": [
        {
          "output_type": "execute_result",
          "data": {
            "text/plain": [
              "array([[ True,  True,  True,  True,  True,  True,  True,  True],\n",
              "       [ True,  True,  True,  True,  True,  True,  True,  True],\n",
              "       [ True,  True,  True,  True,  True,  True,  True,  True],\n",
              "       [ True,  True,  True,  True,  True,  True,  True,  True]])"
            ]
          },
          "metadata": {},
          "execution_count": 250
        }
      ],
      "source": [
        "z = np.ones ((4,8),dtype = bool)\n",
        "z"
      ]
    },
    {
      "cell_type": "code",
      "execution_count": 251,
      "id": "2d6a7e54",
      "metadata": {
        "id": "2d6a7e54",
        "colab": {
          "base_uri": "https://localhost:8080/"
        },
        "outputId": "58045318-3a0d-4ae5-d259-0774ccdfffa0"
      },
      "outputs": [
        {
          "output_type": "execute_result",
          "data": {
            "text/plain": [
              "array([[False, False, False, False, False, False, False, False],\n",
              "       [False, False, False, False, False, False, False, False],\n",
              "       [False, False, False, False, False, False, False, False],\n",
              "       [False, False, False, False, False, False, False, False]])"
            ]
          },
          "metadata": {},
          "execution_count": 251
        }
      ],
      "source": [
        "z = np.zeros ((4,8),dtype = bool)\n",
        "z"
      ]
    },
    {
      "cell_type": "code",
      "execution_count": null,
      "id": "2d6333eb",
      "metadata": {
        "id": "2d6333eb"
      },
      "outputs": [],
      "source": [
        "z = np.ones ((4,8),dtype = str)\n",
        "z"
      ]
    },
    {
      "cell_type": "code",
      "execution_count": null,
      "id": "75207723",
      "metadata": {
        "id": "75207723"
      },
      "outputs": [],
      "source": [
        "z = np.zeros ((4,8),dtype = str)\n",
        "z"
      ]
    },
    {
      "cell_type": "markdown",
      "metadata": {
        "id": "6nid9tRnzcFc"
      },
      "source": [
        "\n",
        "- `np.full()` creates an array and sets all elements to a specified value"
      ],
      "id": "6nid9tRnzcFc"
    },
    {
      "cell_type": "code",
      "execution_count": null,
      "metadata": {
        "id": "cSjCSlugzcFc"
      },
      "outputs": [],
      "source": [
        "np.zeros(3)"
      ],
      "id": "cSjCSlugzcFc"
    },
    {
      "cell_type": "code",
      "execution_count": null,
      "metadata": {
        "id": "OEojxMHCzcFc"
      },
      "outputs": [],
      "source": [
        "np.ones(4)"
      ],
      "id": "OEojxMHCzcFc"
    },
    {
      "cell_type": "code",
      "execution_count": null,
      "metadata": {
        "id": "_9BIULUCzcFc"
      },
      "outputs": [],
      "source": [
        "np.full(5, fill_value=7)"
      ],
      "id": "_9BIULUCzcFc"
    },
    {
      "cell_type": "markdown",
      "source": [
        "In NumPy, the \"arange\" function is used to create an array with evenly spaced values within a given range. The function is similar to the built-in Python range function, but it returns a NumPy array instead of a list. The basic syntax for using the \"arange\" function is as follows:"
      ],
      "metadata": {
        "id": "iHPFFWDm3j10"
      },
      "id": "iHPFFWDm3j10"
    },
    {
      "cell_type": "code",
      "execution_count": null,
      "id": "7ac04acc",
      "metadata": {
        "id": "7ac04acc"
      },
      "outputs": [],
      "source": [
        "# np.arange(start , end , step)"
      ]
    },
    {
      "cell_type": "code",
      "execution_count": null,
      "id": "a7341569",
      "metadata": {
        "id": "a7341569"
      },
      "outputs": [],
      "source": [
        "a = np.arange(1,20) #by default step is 1\n",
        "print(a)"
      ]
    },
    {
      "cell_type": "code",
      "execution_count": null,
      "id": "5aedcfee",
      "metadata": {
        "id": "5aedcfee"
      },
      "outputs": [],
      "source": [
        "a = np.arange(1,20,2)\n",
        "print(a)"
      ]
    },
    {
      "cell_type": "code",
      "execution_count": null,
      "id": "2f522dd7",
      "metadata": {
        "id": "2f522dd7"
      },
      "outputs": [],
      "source": [
        "# to print even nos.\n",
        "e = np.arange(2,20,2)\n",
        "print(e)"
      ]
    },
    {
      "cell_type": "code",
      "execution_count": null,
      "id": "18c29cc7",
      "metadata": {
        "id": "18c29cc7"
      },
      "outputs": [],
      "source": [
        "# odd nos.\n",
        "o = np.arange(1,20,2)\n",
        "print(o)"
      ]
    },
    {
      "cell_type": "code",
      "execution_count": null,
      "id": "742b5699",
      "metadata": {
        "id": "742b5699"
      },
      "outputs": [],
      "source": [
        "# array.reshape((rows,cols))"
      ]
    },
    {
      "cell_type": "code",
      "execution_count": null,
      "id": "675ec770",
      "metadata": {
        "id": "675ec770"
      },
      "outputs": [],
      "source": [
        "e"
      ]
    },
    {
      "cell_type": "code",
      "source": [
        "e.reshape((3,3))"
      ],
      "metadata": {
        "id": "RLJhcqLZmSQh"
      },
      "id": "RLJhcqLZmSQh",
      "execution_count": null,
      "outputs": []
    },
    {
      "cell_type": "code",
      "source": [
        "e"
      ],
      "metadata": {
        "id": "99kkH58SmTYY"
      },
      "id": "99kkH58SmTYY",
      "execution_count": null,
      "outputs": []
    },
    {
      "cell_type": "code",
      "execution_count": null,
      "id": "55700ceb",
      "metadata": {
        "id": "55700ceb"
      },
      "outputs": [],
      "source": [
        "e = e.reshape((3,3))"
      ]
    },
    {
      "cell_type": "code",
      "source": [
        "e"
      ],
      "metadata": {
        "id": "DryL45TmmEMy"
      },
      "id": "DryL45TmmEMy",
      "execution_count": null,
      "outputs": []
    },
    {
      "cell_type": "code",
      "execution_count": null,
      "id": "164d8b67",
      "metadata": {
        "id": "164d8b67"
      },
      "outputs": [],
      "source": [
        "e.flatten()"
      ]
    },
    {
      "cell_type": "code",
      "source": [
        "e"
      ],
      "metadata": {
        "id": "ZHTj4K1EmXHT"
      },
      "id": "ZHTj4K1EmXHT",
      "execution_count": null,
      "outputs": []
    },
    {
      "cell_type": "code",
      "source": [
        "e = e.flatten()"
      ],
      "metadata": {
        "id": "z9b2bUlgmbUL"
      },
      "id": "z9b2bUlgmbUL",
      "execution_count": null,
      "outputs": []
    },
    {
      "cell_type": "code",
      "source": [
        "e"
      ],
      "metadata": {
        "id": "YY0HVLDomdH3"
      },
      "id": "YY0HVLDomdH3",
      "execution_count": null,
      "outputs": []
    },
    {
      "cell_type": "code",
      "source": [
        "# to print even nos.\n",
        "e = np.arange(2,20,2)\n",
        "e = e.reshape((3,3))\n",
        "print(e)"
      ],
      "metadata": {
        "id": "9P1MmpShl5WC"
      },
      "id": "9P1MmpShl5WC",
      "execution_count": null,
      "outputs": []
    },
    {
      "cell_type": "markdown",
      "id": "111679df",
      "metadata": {
        "id": "111679df"
      },
      "source": [
        "#### flatten() :\n",
        "-  Return copy of original array\n",
        "- If you modify any value of this array, value of original array is not affected.\n",
        "- Flatten is a method of an ndarray object."
      ]
    },
    {
      "cell_type": "markdown",
      "metadata": {
        "id": "WQGi170IzcFl"
      },
      "source": [
        "While possible, it is not recommended to use `np.arange()` with **floating-point** numbers as is it difficult to predict the final number of elements. (This is due to the *somewhat imprecise* way floating-point numbers are stored in computer memory.) Hence, it is recommended you use `np.linspace()` when working with floating-point numbers. (Note that `np.linspace()` can also be used with integers.)"
      ],
      "id": "WQGi170IzcFl"
    },
    {
      "cell_type": "code",
      "execution_count": null,
      "metadata": {
        "id": "J3ypG9DDzcFl"
      },
      "outputs": [],
      "source": [
        "np.linspace(0, np.pi, 20) # creates a NumPy array containing 20 evenly spaced values between the range 0 and π (inclusive)"
      ],
      "id": "J3ypG9DDzcFl"
    },
    {
      "cell_type": "code",
      "source": [
        "np.linspace(0, 40, 21)"
      ],
      "metadata": {
        "id": "hbw-yZFJ2Wmd"
      },
      "id": "hbw-yZFJ2Wmd",
      "execution_count": null,
      "outputs": []
    },
    {
      "cell_type": "code",
      "source": [
        "np.linspace(0, 40, 20)"
      ],
      "metadata": {
        "id": "W5pEOd1I2g8U"
      },
      "id": "W5pEOd1I2g8U",
      "execution_count": null,
      "outputs": []
    },
    {
      "cell_type": "markdown",
      "metadata": {
        "id": "McPeawzZzcFl"
      },
      "source": [
        "There are other more niche constructors in NumPy. For example, you can use `np.eye()` to create a unit matrix."
      ],
      "id": "McPeawzZzcFl"
    },
    {
      "cell_type": "code",
      "execution_count": null,
      "metadata": {
        "id": "HGm96mVCzcFl"
      },
      "outputs": [],
      "source": [
        "np.eye(5)"
      ],
      "id": "HGm96mVCzcFl"
    },
    {
      "cell_type": "markdown",
      "id": "4d9dea03",
      "metadata": {
        "id": "4d9dea03"
      },
      "source": [
        "### Numpy array slicing operations"
      ]
    },
    {
      "cell_type": "code",
      "execution_count": null,
      "id": "d63c0d6d",
      "metadata": {
        "id": "d63c0d6d"
      },
      "outputs": [],
      "source": [
        "a = np.arange(1,51)\n",
        "a"
      ]
    },
    {
      "cell_type": "code",
      "source": [
        "a = a.reshape(10,5)\n",
        "a"
      ],
      "metadata": {
        "id": "7axOZ0q5qD-I"
      },
      "id": "7axOZ0q5qD-I",
      "execution_count": null,
      "outputs": []
    },
    {
      "cell_type": "code",
      "execution_count": null,
      "id": "52997f18",
      "metadata": {
        "id": "52997f18"
      },
      "outputs": [],
      "source": [
        "a[1]"
      ]
    },
    {
      "cell_type": "code",
      "execution_count": null,
      "id": "b1d4c16c",
      "metadata": {
        "id": "b1d4c16c"
      },
      "outputs": [],
      "source": [
        "a[1,2]"
      ]
    },
    {
      "cell_type": "code",
      "execution_count": null,
      "id": "6a9320c9",
      "metadata": {
        "id": "6a9320c9"
      },
      "outputs": [],
      "source": [
        "a[2:5]"
      ]
    },
    {
      "cell_type": "code",
      "source": [
        "a"
      ],
      "metadata": {
        "id": "_44uMBP9qV4m"
      },
      "id": "_44uMBP9qV4m",
      "execution_count": null,
      "outputs": []
    },
    {
      "cell_type": "code",
      "execution_count": null,
      "id": "c22e7a5a",
      "metadata": {
        "id": "c22e7a5a"
      },
      "outputs": [],
      "source": [
        "a[0:9] # 9 exclu"
      ]
    },
    {
      "cell_type": "code",
      "source": [
        "a[0:10]"
      ],
      "metadata": {
        "id": "OrCZ-qHuqnCy"
      },
      "id": "OrCZ-qHuqnCy",
      "execution_count": null,
      "outputs": []
    },
    {
      "cell_type": "code",
      "source": [
        "a[0:11]"
      ],
      "metadata": {
        "id": "QrdTSaAJqq0T"
      },
      "id": "QrdTSaAJqq0T",
      "execution_count": null,
      "outputs": []
    },
    {
      "cell_type": "code",
      "source": [
        "a[50]"
      ],
      "metadata": {
        "id": "eHXiOrZHqksl"
      },
      "id": "eHXiOrZHqksl",
      "execution_count": null,
      "outputs": []
    },
    {
      "cell_type": "code",
      "source": [
        "a"
      ],
      "metadata": {
        "id": "z3TSp477qvSi"
      },
      "id": "z3TSp477qvSi",
      "execution_count": null,
      "outputs": []
    },
    {
      "cell_type": "code",
      "execution_count": null,
      "id": "aa5ec991",
      "metadata": {
        "id": "aa5ec991"
      },
      "outputs": [],
      "source": [
        "a[:,2]"
      ]
    },
    {
      "cell_type": "code",
      "execution_count": null,
      "id": "374071bd",
      "metadata": {
        "id": "374071bd"
      },
      "outputs": [],
      "source": [
        "a[2:5,4]"
      ]
    },
    {
      "cell_type": "code",
      "execution_count": null,
      "id": "3805d054",
      "metadata": {
        "id": "3805d054"
      },
      "outputs": [],
      "source": [
        "a[:,:]"
      ]
    },
    {
      "cell_type": "code",
      "execution_count": null,
      "id": "c3cb8ce5",
      "metadata": {
        "id": "c3cb8ce5"
      },
      "outputs": [],
      "source": [
        "a[:,2:5]"
      ]
    },
    {
      "cell_type": "code",
      "execution_count": null,
      "id": "667dbfa4",
      "metadata": {
        "id": "667dbfa4"
      },
      "outputs": [],
      "source": [
        "a[:,:].dtype"
      ]
    },
    {
      "cell_type": "code",
      "execution_count": null,
      "id": "a28496cd",
      "metadata": {
        "id": "a28496cd"
      },
      "outputs": [],
      "source": [
        "a = np.arange(0,18).reshape((6,3))\n",
        "b = np.arange(20,38).reshape((6,3))\n",
        "print('a : \\n',a)\n",
        "print('b : \\n',b)"
      ]
    },
    {
      "cell_type": "code",
      "execution_count": null,
      "id": "966b868d",
      "metadata": {
        "id": "966b868d"
      },
      "outputs": [],
      "source": [
        "np.add(a,b)"
      ]
    },
    {
      "cell_type": "code",
      "execution_count": null,
      "id": "6d0e945c",
      "metadata": {
        "id": "6d0e945c"
      },
      "outputs": [],
      "source": [
        "a+b"
      ]
    },
    {
      "cell_type": "code",
      "source": [
        "result = a + b"
      ],
      "metadata": {
        "id": "CaxJB7J-sK_D"
      },
      "id": "CaxJB7J-sK_D",
      "execution_count": null,
      "outputs": []
    },
    {
      "cell_type": "code",
      "source": [
        "result"
      ],
      "metadata": {
        "id": "ZBFaPh7PsNLh"
      },
      "id": "ZBFaPh7PsNLh",
      "execution_count": null,
      "outputs": []
    },
    {
      "cell_type": "code",
      "execution_count": null,
      "id": "56e23c45",
      "metadata": {
        "id": "56e23c45"
      },
      "outputs": [],
      "source": [
        "np.subtract(a,b)"
      ]
    },
    {
      "cell_type": "code",
      "execution_count": null,
      "id": "2b162393",
      "metadata": {
        "id": "2b162393"
      },
      "outputs": [],
      "source": [
        "np.multiply(a,b)"
      ]
    },
    {
      "cell_type": "code",
      "execution_count": null,
      "id": "7d687744",
      "metadata": {
        "id": "7d687744"
      },
      "outputs": [],
      "source": [
        "a*b"
      ]
    },
    {
      "cell_type": "code",
      "execution_count": null,
      "id": "510caecf",
      "metadata": {
        "id": "510caecf"
      },
      "outputs": [],
      "source": [
        "a/b"
      ]
    },
    {
      "cell_type": "code",
      "execution_count": null,
      "id": "2249bcb0",
      "metadata": {
        "id": "2249bcb0"
      },
      "outputs": [],
      "source": [
        "np.divide(a,b)"
      ]
    },
    {
      "cell_type": "code",
      "source": [
        "a"
      ],
      "metadata": {
        "id": "dAzv9YCasevs"
      },
      "id": "dAzv9YCasevs",
      "execution_count": null,
      "outputs": []
    },
    {
      "cell_type": "code",
      "source": [
        "np.divide(b,a)"
      ],
      "metadata": {
        "id": "eUwwI4Ttsclk"
      },
      "id": "eUwwI4Ttsclk",
      "execution_count": null,
      "outputs": []
    },
    {
      "cell_type": "code",
      "source": [
        "a"
      ],
      "metadata": {
        "id": "IVafaNjIsnSZ"
      },
      "id": "IVafaNjIsnSZ",
      "execution_count": null,
      "outputs": []
    },
    {
      "cell_type": "code",
      "source": [
        "b"
      ],
      "metadata": {
        "id": "YBiCSyKlsod3"
      },
      "id": "YBiCSyKlsod3",
      "execution_count": null,
      "outputs": []
    },
    {
      "cell_type": "code",
      "execution_count": null,
      "id": "c865744e",
      "metadata": {
        "id": "c865744e"
      },
      "outputs": [],
      "source": [
        "# matrix multiplication\n",
        "a@b"
      ]
    },
    {
      "cell_type": "code",
      "execution_count": null,
      "id": "2f1dddb0",
      "metadata": {
        "id": "2f1dddb0"
      },
      "outputs": [],
      "source": [
        "# got an error because the shape for multiplication of matrices are not in the required form\n",
        "print(a.shape)\n",
        "print(b.shape)"
      ]
    },
    {
      "cell_type": "code",
      "execution_count": null,
      "id": "1ae5c20f",
      "metadata": {
        "id": "1ae5c20f"
      },
      "outputs": [],
      "source": [
        "b = b.reshape((3,6))"
      ]
    },
    {
      "cell_type": "code",
      "execution_count": null,
      "id": "96716d72",
      "metadata": {
        "id": "96716d72"
      },
      "outputs": [],
      "source": [
        "print(a.shape)\n",
        "print(b.shape)"
      ]
    },
    {
      "cell_type": "code",
      "execution_count": null,
      "id": "b0b89c1a",
      "metadata": {
        "id": "b0b89c1a"
      },
      "outputs": [],
      "source": [
        "a@b"
      ]
    },
    {
      "cell_type": "code",
      "execution_count": null,
      "id": "04df8262",
      "metadata": {
        "id": "04df8262"
      },
      "outputs": [],
      "source": [
        "# a.dot(b) gives the same output as a@b\n",
        "a.dot(b)"
      ]
    },
    {
      "cell_type": "code",
      "source": [
        "b"
      ],
      "metadata": {
        "id": "tggzBOBhtZG5"
      },
      "id": "tggzBOBhtZG5",
      "execution_count": null,
      "outputs": []
    },
    {
      "cell_type": "code",
      "execution_count": null,
      "id": "782f5ab0",
      "metadata": {
        "id": "782f5ab0"
      },
      "outputs": [],
      "source": [
        "b.max()"
      ]
    },
    {
      "cell_type": "code",
      "execution_count": null,
      "id": "b6ccbcad",
      "metadata": {
        "id": "b6ccbcad"
      },
      "outputs": [],
      "source": [
        "b.min()"
      ]
    },
    {
      "cell_type": "code",
      "execution_count": null,
      "id": "a2a213b3",
      "metadata": {
        "id": "a2a213b3"
      },
      "outputs": [],
      "source": [
        "# b.max and b.min gives the max and min value of b whereas b.argmax gives the index of that max value\n",
        "b.argmax()"
      ]
    },
    {
      "cell_type": "code",
      "execution_count": null,
      "id": "c858e14a",
      "metadata": {
        "id": "c858e14a"
      },
      "outputs": [],
      "source": [
        "np.sum(b)"
      ]
    },
    {
      "cell_type": "code",
      "source": [
        "b"
      ],
      "metadata": {
        "id": "6bhU4y_ptp1q"
      },
      "id": "6bhU4y_ptp1q",
      "execution_count": null,
      "outputs": []
    },
    {
      "cell_type": "code",
      "execution_count": null,
      "id": "fc260d75",
      "metadata": {
        "id": "fc260d75"
      },
      "outputs": [],
      "source": [
        "# axis=1 means row (lignes) and 0 means cols\n",
        "# np.sum(b, axis=1) gives sum of every row\n",
        "np.sum(b, axis=1)"
      ]
    },
    {
      "cell_type": "code",
      "execution_count": null,
      "id": "4428a695",
      "metadata": {
        "id": "4428a695"
      },
      "outputs": [],
      "source": [
        "np.sum(b, axis=0)"
      ]
    },
    {
      "cell_type": "code",
      "execution_count": null,
      "id": "07fbe3bd",
      "metadata": {
        "id": "07fbe3bd"
      },
      "outputs": [],
      "source": [
        "# square root of every element of b\n",
        "np.sqrt(b)"
      ]
    },
    {
      "cell_type": "code",
      "execution_count": null,
      "id": "aabe6a3f",
      "metadata": {
        "id": "aabe6a3f"
      },
      "outputs": [],
      "source": [
        "# np.std(b) gives the S.D. of b\n",
        "np.std(b)"
      ]
    },
    {
      "cell_type": "code",
      "execution_count": null,
      "id": "fc54a5e0",
      "metadata": {
        "id": "fc54a5e0"
      },
      "outputs": [],
      "source": [
        "# np.log(b) takes log of every element\n",
        "np.log(b)"
      ]
    },
    {
      "cell_type": "markdown",
      "id": "a0befa10",
      "metadata": {
        "id": "a0befa10"
      },
      "source": [
        "#### Trigonometric Operations"
      ]
    },
    {
      "cell_type": "code",
      "execution_count": null,
      "id": "e128c33e",
      "metadata": {
        "id": "e128c33e"
      },
      "outputs": [],
      "source": [
        "np.pi"
      ]
    },
    {
      "cell_type": "code",
      "execution_count": null,
      "id": "285ea825",
      "metadata": {
        "id": "285ea825"
      },
      "outputs": [],
      "source": [
        "np.sin(np.pi/2)"
      ]
    },
    {
      "cell_type": "code",
      "execution_count": null,
      "id": "81acfa39",
      "metadata": {
        "id": "81acfa39"
      },
      "outputs": [],
      "source": [
        "np.sin(np.pi/4)"
      ]
    },
    {
      "cell_type": "code",
      "execution_count": null,
      "id": "83a656b9",
      "metadata": {
        "id": "83a656b9"
      },
      "outputs": [],
      "source": [
        "np.cos(np.pi/6)"
      ]
    },
    {
      "cell_type": "code",
      "execution_count": null,
      "id": "d719c8e2",
      "metadata": {
        "id": "d719c8e2"
      },
      "outputs": [],
      "source": [
        "np.cos(0)"
      ]
    },
    {
      "cell_type": "code",
      "execution_count": null,
      "id": "a5e10bf8",
      "metadata": {
        "id": "a5e10bf8"
      },
      "outputs": [],
      "source": [
        "np.tan(np.pi/2)"
      ]
    },
    {
      "cell_type": "markdown",
      "metadata": {
        "id": "96311064"
      },
      "source": [
        "### Random"
      ],
      "id": "96311064"
    },
    {
      "cell_type": "code",
      "execution_count": null,
      "metadata": {
        "id": "31f0288a"
      },
      "outputs": [],
      "source": [
        "np.random.random(1)"
      ],
      "id": "31f0288a"
    },
    {
      "cell_type": "code",
      "execution_count": null,
      "metadata": {
        "id": "291dc3da"
      },
      "outputs": [],
      "source": [
        "np.random.random(2)"
      ],
      "id": "291dc3da"
    },
    {
      "cell_type": "code",
      "execution_count": null,
      "metadata": {
        "id": "48089b02"
      },
      "outputs": [],
      "source": [
        "np.random.random((2,2))"
      ],
      "id": "48089b02"
    },
    {
      "cell_type": "code",
      "execution_count": null,
      "metadata": {
        "id": "66300556"
      },
      "outputs": [],
      "source": [
        "np.random.randint(1,10,(2,2))"
      ],
      "id": "66300556"
    },
    {
      "cell_type": "code",
      "execution_count": null,
      "metadata": {
        "id": "a7ee7bf9"
      },
      "outputs": [],
      "source": [
        "np.random.randint(1,10,(3,4,5))"
      ],
      "id": "a7ee7bf9"
    },
    {
      "cell_type": "code",
      "execution_count": null,
      "metadata": {
        "id": "814fdd8c"
      },
      "outputs": [],
      "source": [
        "np.random.rand(2,2)"
      ],
      "id": "814fdd8c"
    },
    {
      "cell_type": "code",
      "execution_count": null,
      "metadata": {
        "id": "ad222a47"
      },
      "outputs": [],
      "source": [
        "# randn contains both positive and negative\n",
        "np.random.randn(2,2)"
      ],
      "id": "ad222a47"
    },
    {
      "cell_type": "code",
      "execution_count": null,
      "metadata": {
        "id": "5dffa486"
      },
      "outputs": [],
      "source": [
        "a = np.arange(1,10)\n",
        "print(a)"
      ],
      "id": "5dffa486"
    },
    {
      "cell_type": "code",
      "execution_count": null,
      "metadata": {
        "id": "332804ec"
      },
      "outputs": [],
      "source": [
        "np.random.choice(a)"
      ],
      "id": "332804ec"
    },
    {
      "cell_type": "markdown",
      "source": [
        "# Exercices"
      ],
      "metadata": {
        "id": "Nw1z28-B5xvs"
      },
      "id": "Nw1z28-B5xvs"
    },
    {
      "cell_type": "markdown",
      "source": [
        "Create a 3x3 NumPy array filled with values from 1 to 9. Then, use slicing to extract the second row and the last column."
      ],
      "metadata": {
        "id": "Fzh8PBaO6G35"
      },
      "id": "Fzh8PBaO6G35"
    },
    {
      "cell_type": "code",
      "source": [],
      "metadata": {
        "id": "XurC5uy453cO"
      },
      "id": "XurC5uy453cO",
      "execution_count": null,
      "outputs": []
    },
    {
      "cell_type": "markdown",
      "source": [
        "Create two 2D NumPy arrays of shape (2, 3) filled with random integers. Perform element-wise addition, multiplication, and subtraction between them."
      ],
      "metadata": {
        "id": "N448Kcfm6Q40"
      },
      "id": "N448Kcfm6Q40"
    },
    {
      "cell_type": "code",
      "source": [],
      "metadata": {
        "id": "Txy1iYD76Rfb"
      },
      "id": "Txy1iYD76Rfb",
      "execution_count": null,
      "outputs": []
    },
    {
      "cell_type": "markdown",
      "source": [
        "Create a 2D NumPy array with 12 elements (e.g., a 3x4 array). Reshape it to a 4x3 matrix and then transpose the reshaped matrix"
      ],
      "metadata": {
        "id": "vXVUtKRC6XIM"
      },
      "id": "vXVUtKRC6XIM"
    },
    {
      "cell_type": "code",
      "source": [],
      "metadata": {
        "id": "KZq3kGKb6X20"
      },
      "id": "KZq3kGKb6X20",
      "execution_count": null,
      "outputs": []
    },
    {
      "cell_type": "markdown",
      "source": [
        "Create two arrays: one with shape (3, 1) and another with shape (1, 4). Perform element-wise addition using broadcasting."
      ],
      "metadata": {
        "id": "62AfQp3p6aEt"
      },
      "id": "62AfQp3p6aEt"
    },
    {
      "cell_type": "code",
      "source": [],
      "metadata": {
        "id": "m2KpFzuO6etG"
      },
      "id": "m2KpFzuO6etG",
      "execution_count": null,
      "outputs": []
    },
    {
      "cell_type": "markdown",
      "source": [
        "Create a 5x5 NumPy array filled with random values between 0 and 1. Calculate the mean, standard deviation, and the sum of each row and each column."
      ],
      "metadata": {
        "id": "cy2jgawt6iH7"
      },
      "id": "cy2jgawt6iH7"
    },
    {
      "cell_type": "code",
      "source": [],
      "metadata": {
        "id": "_-BjEqcD6ijD"
      },
      "id": "_-BjEqcD6ijD",
      "execution_count": null,
      "outputs": []
    },
    {
      "cell_type": "markdown",
      "source": [
        "Create a 3x3 NumPy array with random integers between 1 and 100. Find the maximum, minimum, and their respective indices along each axis."
      ],
      "metadata": {
        "id": "k_-MpLP06mmM"
      },
      "id": "k_-MpLP06mmM"
    },
    {
      "cell_type": "code",
      "source": [],
      "metadata": {
        "id": "LDIw5KBO6oWS"
      },
      "id": "LDIw5KBO6oWS",
      "execution_count": null,
      "outputs": []
    }
  ],
  "metadata": {
    "kernelspec": {
      "display_name": "Python 3 (ipykernel)",
      "language": "python",
      "name": "python3"
    },
    "language_info": {
      "codemirror_mode": {
        "name": "ipython",
        "version": 3
      },
      "file_extension": ".py",
      "mimetype": "text/x-python",
      "name": "python",
      "nbconvert_exporter": "python",
      "pygments_lexer": "ipython3",
      "version": "3.10.9"
    },
    "colab": {
      "provenance": []
    }
  },
  "nbformat": 4,
  "nbformat_minor": 5
}