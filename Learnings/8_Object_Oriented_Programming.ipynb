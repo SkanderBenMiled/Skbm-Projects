{
  "cells": [
    {
      "cell_type": "markdown",
      "metadata": {
        "collapsed": true,
        "id": "N0L9f8GeCa4v"
      },
      "source": [
        "# Object Oriented Programming\n",
        "\n",
        "For this lesson we will construct our knowledge of OOP in Python by building on the following topics:\n",
        "\n",
        "* Objects\n",
        "* Using the *class* keyword\n",
        "* Creating class attributes\n",
        "* Creating methods in a class\n",
        "* Learning about Special Methods for classes\n",
        "\n",
        "Lets start the lesson by remembering about the Basic Python Objects. For example:"
      ]
    },
    {
      "cell_type": "code",
      "execution_count": null,
      "metadata": {
        "collapsed": true,
        "id": "TV9mFMV9Ca4w"
      },
      "outputs": [],
      "source": [
        "lst = [1,2,3,2]"
      ]
    },
    {
      "cell_type": "markdown",
      "metadata": {
        "id": "3qnwtAoaCa4x"
      },
      "source": [
        "Remember how we could call methods on a list?"
      ]
    },
    {
      "cell_type": "code",
      "execution_count": null,
      "metadata": {
        "id": "_f48p5jUCa4x"
      },
      "outputs": [],
      "source": [
        "lst.count(2)"
      ]
    },
    {
      "cell_type": "code",
      "source": [
        "# help(list)"
      ],
      "metadata": {
        "id": "lqrQyNwDDdBs"
      },
      "execution_count": null,
      "outputs": []
    },
    {
      "cell_type": "markdown",
      "metadata": {
        "id": "dWJgg8fHCa4y"
      },
      "source": [
        "What we will basically be doing in this lecture is exploring how we could create an Object type like a list. We've already learned about how to create functions. So let's explore Objects in general:\n",
        "\n",
        "## Objects\n",
        "In Python, *everything is an object*. Remember from previous lectures we can use type() to check the type of object something is:"
      ]
    },
    {
      "cell_type": "code",
      "execution_count": null,
      "metadata": {
        "id": "Fey6-vhUCa4z"
      },
      "outputs": [],
      "source": [
        "print(type(1))\n",
        "print(type([]))\n",
        "print(type(()))\n",
        "print(type({}))"
      ]
    },
    {
      "cell_type": "code",
      "source": [
        "# help(int)"
      ],
      "metadata": {
        "id": "yftu73I6Egfk"
      },
      "execution_count": null,
      "outputs": []
    },
    {
      "cell_type": "markdown",
      "metadata": {
        "id": "aiG4XZnhCa4z"
      },
      "source": [
        "So we know all these things are objects, so how can we create our own Object types? That is where the <code>class</code> keyword comes in.\n",
        "## class\n",
        "User defined objects are created using the <code>class</code> keyword. The class is a blueprint that defines the nature of a future object. From classes we can construct instances. An instance is a specific object created from a particular class. For example, above we created the object <code>lst</code> which was an instance of a list object.\n",
        "\n",
        "Let see how we can use <code>class</code>:"
      ]
    },
    {
      "cell_type": "code",
      "execution_count": null,
      "metadata": {
        "id": "_yX5LcqbCa40"
      },
      "outputs": [],
      "source": [
        "# Create a new object type called Sample\n",
        "class Sample: # you can change the class name !!\n",
        "    pass\n",
        "\n",
        "# Instance of Sample\n",
        "x = Sample() # if you changed the name you have to change it here also !!"
      ]
    },
    {
      "cell_type": "code",
      "source": [
        "print(type(x))"
      ],
      "metadata": {
        "id": "aR8zAofBfAm0"
      },
      "execution_count": null,
      "outputs": []
    },
    {
      "cell_type": "code",
      "source": [
        "# l=[]\n",
        "l=list()"
      ],
      "metadata": {
        "id": "tVMQ-wH5dcPF"
      },
      "execution_count": null,
      "outputs": []
    },
    {
      "cell_type": "code",
      "source": [
        "print(l)"
      ],
      "metadata": {
        "id": "cT2bOfCBdfdX"
      },
      "execution_count": null,
      "outputs": []
    },
    {
      "cell_type": "code",
      "source": [
        "del int"
      ],
      "metadata": {
        "id": "ii5OIkGQdh0J"
      },
      "execution_count": null,
      "outputs": []
    },
    {
      "cell_type": "code",
      "source": [
        "y=int()"
      ],
      "metadata": {
        "id": "7_-eu_m9yJs0"
      },
      "execution_count": null,
      "outputs": []
    },
    {
      "cell_type": "code",
      "source": [
        "print(y)\n",
        "print(l)"
      ],
      "metadata": {
        "id": "0W6mDCtlyOy8"
      },
      "execution_count": null,
      "outputs": []
    },
    {
      "cell_type": "markdown",
      "metadata": {
        "id": "wdtpUHXDCa40"
      },
      "source": [
        "By convention we give classes a name that starts with a capital letter. Note how <code>x</code> is now the reference to our new instance of a Sample class. In other words, we **instantiate** the Sample class.\n",
        "\n",
        "Inside of the class we currently just have pass. But we can define class attributes and methods.\n",
        "\n",
        "An **attribute** is a characteristic of an object.\n",
        "A **method** is an operation we can perform with the object.\n",
        "\n",
        "For example, we can create a class called Circle.\n",
        "\n",
        "Let's get a better understanding of attributes through an example.\n",
        "\n",
        "## Attributes\n",
        "\n",
        "The syntax for creating an attribute is:\n",
        "    \n",
        "    self.attribute = something\n",
        "    \n",
        "There is a special method called:\n",
        "\n",
        "    __init__()\n",
        "\n",
        "This method is used to initialize the attributes of an object. For example:"
      ]
    },
    {
      "cell_type": "code",
      "source": [
        "import math\n",
        "class Circle:\n",
        "    # pass\n",
        "    def __init__(self, radius=1 ,center = (0,0)):\n",
        "        # i=5\n",
        "        self.center = center\n",
        "        self.radius = radius # Attribute that represents input data\n",
        "        self.area = radius * radius * math.pi\n",
        "# An attribute whose value is calculated based on other attributes (radius in this case) during initialization."
      ],
      "metadata": {
        "id": "xkieFNxY80KP"
      },
      "execution_count": null,
      "outputs": []
    },
    {
      "cell_type": "code",
      "source": [
        "print(c1.center)\n",
        "print(c1.radius)"
      ],
      "metadata": {
        "id": "LRNVVSStgc3Q"
      },
      "execution_count": null,
      "outputs": []
    },
    {
      "cell_type": "code",
      "source": [
        "c1 = Circle()"
      ],
      "metadata": {
        "id": "240EOIqnF756"
      },
      "execution_count": null,
      "outputs": []
    },
    {
      "cell_type": "code",
      "source": [
        "c2 = Circle(5)"
      ],
      "metadata": {
        "id": "0_6HiE7dF-A_"
      },
      "execution_count": null,
      "outputs": []
    },
    {
      "cell_type": "code",
      "source": [
        "c3 = Circle(radius=4)"
      ],
      "metadata": {
        "id": "dBLNDnp6EoCh"
      },
      "execution_count": null,
      "outputs": []
    },
    {
      "cell_type": "code",
      "source": [
        "c4 = Circle(5,(1,1))"
      ],
      "metadata": {
        "id": "2Km8jhP4j5fp"
      },
      "execution_count": null,
      "outputs": []
    },
    {
      "cell_type": "code",
      "source": [
        "del c3"
      ],
      "metadata": {
        "id": "qNGJgzr7lSGL"
      },
      "execution_count": null,
      "outputs": []
    },
    {
      "cell_type": "code",
      "source": [
        "print(c1.center)\n",
        "print(c2.center)\n",
        "print(c3.center)\n",
        "print(c4.center)"
      ],
      "metadata": {
        "id": "79BKVWcz-0Xo"
      },
      "execution_count": null,
      "outputs": []
    },
    {
      "cell_type": "code",
      "source": [
        "class Circle:\n",
        "    def __init__(self, radius=1,center = (0,0)):\n",
        "        self.center = center\n",
        "        self.radius = radius\n",
        "        self.area = radius * radius * math.pi"
      ],
      "metadata": {
        "id": "V4v1giZsErqC"
      },
      "execution_count": null,
      "outputs": []
    },
    {
      "cell_type": "code",
      "source": [
        "class Circle:\n",
        "    def __init__(self, r=1,c = (0,0)):\n",
        "        self.center = (1,1)\n",
        "        self.radius = 1\n",
        "        self.area = r * r * math.pi\n",
        "    def setRadius(self, new_radius):\n",
        "        self.radius = new_radius\n",
        "        self.area = new_radius * new_radius * math.pi"
      ],
      "metadata": {
        "id": "CaPL8eRGEasP"
      },
      "execution_count": null,
      "outputs": []
    },
    {
      "cell_type": "code",
      "source": [
        "c1.setRadius(2)"
      ],
      "metadata": {
        "id": "ZoGb_AWTtp7r"
      },
      "execution_count": null,
      "outputs": []
    },
    {
      "cell_type": "code",
      "source": [
        "print(c1.radius)"
      ],
      "metadata": {
        "id": "tS1BJ7gpuFI1"
      },
      "execution_count": null,
      "outputs": []
    },
    {
      "cell_type": "code",
      "source": [
        "c1 = Circle()\n",
        "c2 = Circle(2,(3,2))"
      ],
      "metadata": {
        "id": "PgkM4dSO0ok6"
      },
      "execution_count": null,
      "outputs": []
    },
    {
      "cell_type": "code",
      "source": [
        "print(c1.center)\n",
        "print(c2.center)\n",
        "# print(c3.area)\n",
        "# print(c4.area)"
      ],
      "metadata": {
        "id": "7xykUvyv-uqP"
      },
      "execution_count": null,
      "outputs": []
    },
    {
      "cell_type": "markdown",
      "metadata": {
        "id": "Bj5cifDzCa41"
      },
      "source": [
        "Lets break down what we have above.The special method\n",
        "\n",
        "    __init__()\n",
        "is called automatically right after the object has been created:\n",
        "\n",
        "    def __init__(self, radius=1):\n",
        "Each attribute in a class definition begins with a reference to the instance object. It is by convention named self. radius is the argument. The value is passed during the class instantiation.\n"
      ]
    },
    {
      "cell_type": "markdown",
      "metadata": {
        "id": "UuaB5jjeCa44"
      },
      "source": [
        "## Methods\n",
        "\n",
        "Methods are functions defined inside the body of a class. They are used to perform operations with the attributes of our objects. Methods are a key concept of the OOP paradigm. They are essential to dividing responsibilities in programming, especially in large applications.\n",
        "\n",
        "You can basically think of methods as functions acting on an Object that take the Object itself into account through its *self* argument.\n",
        "\n",
        "Let's go through an example of creating a Circle class:"
      ]
    },
    {
      "cell_type": "code",
      "source": [
        "import math\n",
        "class Circle:\n",
        "    def __init__(self, radius=1,center = (0,0)): # it's the same syntax of functions !!\n",
        "        self.center = center\n",
        "        self.radius = radius\n",
        "        self.area = radius * radius * math.pi\n",
        "\n",
        "    # Method for resetting Radius\n",
        "    def setRadius(self, new_radius):\n",
        "        self.radius = new_radius\n",
        "        self.area = new_radius * new_radius * math.pi\n",
        "\n",
        "    # Method for getting Circumference\n",
        "    def getCircumference(self): # périmètre\n",
        "        return self.radius * math.pi * 2\n",
        "\n",
        "    def getArea(self):\n",
        "        return self.area\n",
        "\n",
        "    def getCenter(self):\n",
        "        return self.center\n",
        "\n",
        "    def setCenter(self,center):\n",
        "        self.center = center\n",
        "\n",
        "    def setRadius(self,radius):\n",
        "        self.radius = radius\n",
        "    def getRadius(self):\n",
        "        return self.radius\n",
        "\n",
        "    def getDiameter(self):\n",
        "        return self.radius*2"
      ],
      "metadata": {
        "id": "kYUrxVBH3h7V"
      },
      "execution_count": null,
      "outputs": []
    },
    {
      "cell_type": "code",
      "source": [
        "c1 = Circle(2,(3,3))"
      ],
      "metadata": {
        "id": "ilaHcNsMulxh"
      },
      "execution_count": null,
      "outputs": []
    },
    {
      "cell_type": "code",
      "source": [
        "c1.getRadius()"
      ],
      "metadata": {
        "id": "l1UPCLpRwf-2"
      },
      "execution_count": null,
      "outputs": []
    },
    {
      "cell_type": "code",
      "source": [
        "c1.setRadius(3)"
      ],
      "metadata": {
        "id": "E-p5C9YxuwNO"
      },
      "execution_count": null,
      "outputs": []
    },
    {
      "cell_type": "code",
      "source": [
        "c1.radius"
      ],
      "metadata": {
        "id": "txpe7N5du0xT"
      },
      "execution_count": null,
      "outputs": []
    },
    {
      "cell_type": "code",
      "source": [
        "c1.setCenter((3,4))"
      ],
      "metadata": {
        "id": "7d1RbTGFv2lP"
      },
      "execution_count": null,
      "outputs": []
    },
    {
      "cell_type": "code",
      "source": [
        "c1.getCenter()"
      ],
      "metadata": {
        "id": "cKjAcU2Sv_VD"
      },
      "execution_count": null,
      "outputs": []
    },
    {
      "cell_type": "code",
      "source": [
        "c1.getCircumference()"
      ],
      "metadata": {
        "id": "wPtuxN64u6ul"
      },
      "execution_count": null,
      "outputs": []
    },
    {
      "cell_type": "code",
      "source": [
        "c1.getRadius()"
      ],
      "metadata": {
        "id": "XJ0LYMGLvJdY"
      },
      "execution_count": null,
      "outputs": []
    },
    {
      "cell_type": "code",
      "source": [
        "x=1"
      ],
      "metadata": {
        "id": "WorKrKbUs1Ie"
      },
      "execution_count": null,
      "outputs": []
    },
    {
      "cell_type": "code",
      "source": [
        "x=2"
      ],
      "metadata": {
        "id": "bvBl7yAts8U1"
      },
      "execution_count": null,
      "outputs": []
    },
    {
      "cell_type": "code",
      "source": [
        "c = Circle(radius=2)\n",
        "\n"
      ],
      "metadata": {
        "id": "_uSeOqxMstAL"
      },
      "execution_count": null,
      "outputs": []
    },
    {
      "cell_type": "code",
      "source": [
        "c = Circle() # will get the defaut attributes in __init__\n",
        "\n",
        "print('Radius is: ',c.radius) # here their is no self.radius !!! to get the radius we need to do c.raduis\n",
        "print('Area is: ',c.area)\n",
        "print('Circumference is: ',c.getCircumference())\n",
        "print('Diameter is: ',c.getDiameter())\n",
        "print('Center is: ',c.getCenter())\n",
        "print('Radius is: ',c.getRadius())\n",
        "print('Area is: ',c.getArea())\n",
        "print('Circumference is: ',c.getCircumference())"
      ],
      "metadata": {
        "id": "xJbWI9LV3tM5"
      },
      "execution_count": null,
      "outputs": []
    },
    {
      "cell_type": "code",
      "source": [
        "c = Circle(3,(4,7))\n",
        "\n",
        "print('Radius is: ',c.radius)\n",
        "print('Area is: ',c.area)\n",
        "print('Circumference is: ',c.getCircumference())\n",
        "print('Diameter is: ',c.getDiameter())\n",
        "print('Center is: ',c.getCenter())\n",
        "print('Radius is: ',c.getRadius())\n",
        "print('Area is: ',c.getArea())\n",
        "print('Circumference is: ',c.getCircumference())"
      ],
      "metadata": {
        "id": "krma4jTq3vTw"
      },
      "execution_count": null,
      "outputs": []
    },
    {
      "cell_type": "code",
      "source": [
        "print('Center is: ',c.getCenter())\n",
        "print('set Center is: ',c.setCenter((1,2)))\n",
        "print('Center is: ',c.getCenter())"
      ],
      "metadata": {
        "id": "dJhLve7b3WAx"
      },
      "execution_count": null,
      "outputs": []
    },
    {
      "cell_type": "markdown",
      "metadata": {
        "id": "7tXSJFVTCa44"
      },
      "source": [
        "In the \\__init__ method above, in order to calculate the area attribute, we had to call Circle.pi. This is because the object does not yet have its own .pi attribute, so we call the Class Object Attribute pi instead.<br>\n",
        "In the setRadius method, however, we'll be working with an existing Circle object that does have its own pi attribute. Here we can use either Circle.pi or self.pi.<br><br>\n",
        "Now let's change the radius and see how that affects our Circle object:"
      ]
    },
    {
      "cell_type": "code",
      "execution_count": null,
      "metadata": {
        "id": "QfCjK5ukCa44"
      },
      "outputs": [],
      "source": [
        "c.setRadius(2)\n",
        "\n",
        "print('Radius is: ',c.radius)\n",
        "print('Area is: ',c.area)\n",
        "print('Circumference is: ',c.getCircumference())"
      ]
    },
    {
      "cell_type": "markdown",
      "metadata": {
        "id": "HzKMGbweCa5B"
      },
      "source": [
        "## Special Methods\n",
        "let's go over special methods. Classes in Python can implement certain operations with special method names. These methods are not actually called directly but by Python specific language syntax. For example let's create a Book class:"
      ]
    },
    {
      "cell_type": "code",
      "execution_count": null,
      "metadata": {
        "collapsed": true,
        "id": "J_Al4SdnCa5B"
      },
      "outputs": [],
      "source": [
        "class Book:\n",
        "  # pass\n",
        "    def __init__(self, title, author, pages):\n",
        "        # print(\"A book is created\")\n",
        "        self.title = title\n",
        "        self.author = author\n",
        "        self.pages = pages\n",
        "\n",
        "    def __str__(self): # if we print book what will be printed ?\n",
        "        return \"Title: %s, author: %s, pages: %s\" %(self.title, self.author, self.pages)\n",
        "\n",
        "    def __len__(self):\n",
        "        return self.pages\n",
        "\n",
        "    def __del__(self):\n",
        "        print(\"A book is destroyed\")"
      ]
    },
    {
      "cell_type": "code",
      "source": [
        "book = Book(\"Python Rocks!\", \"Jose Portilla\", 159)\n",
        "# book.intialisation(\"Python Rocks!\", \"Jose Portilla\", 159)"
      ],
      "metadata": {
        "id": "VhD6WU4t6Vt6"
      },
      "execution_count": null,
      "outputs": []
    },
    {
      "cell_type": "code",
      "source": [
        "print(book)\n",
        "# book.print_title()"
      ],
      "metadata": {
        "id": "wniTjfN1yk0A"
      },
      "execution_count": null,
      "outputs": []
    },
    {
      "cell_type": "code",
      "source": [
        "len(book)"
      ],
      "metadata": {
        "id": "LES0-oe1zhNP"
      },
      "execution_count": null,
      "outputs": []
    },
    {
      "cell_type": "code",
      "source": [
        "del(book)"
      ],
      "metadata": {
        "id": "atsPVI1fz4aL"
      },
      "execution_count": null,
      "outputs": []
    },
    {
      "cell_type": "code",
      "source": [
        "book"
      ],
      "metadata": {
        "id": "wCs5aLyCz6IV"
      },
      "execution_count": null,
      "outputs": []
    },
    {
      "cell_type": "code",
      "execution_count": null,
      "metadata": {
        "id": "4kwqgx98Ca5C"
      },
      "outputs": [],
      "source": [
        "#Special Methods\n",
        "print(book)\n",
        "print(len(book))\n",
        "del book"
      ]
    },
    {
      "cell_type": "markdown",
      "metadata": {
        "id": "J2dRY0ffCa5C"
      },
      "source": [
        "    The __init__(), __str__(), __len__() and __del__() methods\n",
        "These special methods are defined by their use of underscores. They allow us to use Python specific functions on objects created through our class.\n"
      ]
    },
    {
      "cell_type": "markdown",
      "source": [
        "# Example"
      ],
      "metadata": {
        "id": "AWiI1L0CNFq1"
      }
    },
    {
      "cell_type": "markdown",
      "metadata": {
        "id": "cd0ad734"
      },
      "source": [
        "### Classes\n",
        "- real world entity or object\n",
        "- template or blueprint\n",
        "- defines the structure and behavior of an object"
      ]
    },
    {
      "cell_type": "code",
      "execution_count": null,
      "metadata": {
        "id": "45cf9526"
      },
      "outputs": [],
      "source": [
        "#creation of class\n",
        "class MyClass:\n",
        "    x = 10"
      ]
    },
    {
      "cell_type": "code",
      "execution_count": null,
      "metadata": {
        "id": "cac28794"
      },
      "outputs": [],
      "source": [
        "o1 = MyClass()\n",
        "print(o1.x)"
      ]
    },
    {
      "cell_type": "markdown",
      "metadata": {
        "id": "9de97355"
      },
      "source": [
        "#### Constructor\n",
        "- __init__() Function\n",
        "- built-in function\n",
        "- All classes have a function called __init__(), which is always executed when the class is being initiated.\n",
        "- assign values to object properties, or other operations that are necessary to do when the object is being created"
      ]
    },
    {
      "cell_type": "code",
      "execution_count": null,
      "metadata": {
        "id": "f4e9b2b3"
      },
      "outputs": [],
      "source": [
        "class Person:\n",
        "    work = 'Data scientist'\n",
        "    def __init__(self, name, age):\n",
        "        self.name = name\n",
        "        self.age = age\n",
        "\n",
        "    def __str__(self):\n",
        "        return f\"{self.name}({self.age}) is a {self.work}\"\n",
        "    # getters and setters\n",
        "    def setAge(self,age):\n",
        "        self.age = age\n",
        "    def getAge(self):\n",
        "        return self.age\n",
        "    def setwork(self,work):\n",
        "        self.work = work\n",
        "    def getwork(self):\n",
        "        return self.work\n",
        "    def setName(self,name):\n",
        "        self.name = name\n",
        "    def getName(self):\n",
        "        return self.name\n",
        "\n",
        "p1 = Person(\"John\", 36)\n",
        "p2 = Person(\"David\", 30)"
      ]
    },
    {
      "cell_type": "code",
      "source": [
        "print(p1)\n",
        "print(p2)\n",
        "p1.setAge(20)\n",
        "print(p1)\n",
        "p1.setwork('Data analyst')\n",
        "print(p1)"
      ],
      "metadata": {
        "id": "q09nt7UP7XxX"
      },
      "execution_count": null,
      "outputs": []
    },
    {
      "cell_type": "code",
      "execution_count": null,
      "metadata": {
        "id": "add3fac2"
      },
      "outputs": [],
      "source": [
        "class MyClass:\n",
        "    def __init__(self, x, y):\n",
        "        self.x = x\n",
        "        self.y = y\n",
        "    def myfunc(self):\n",
        "        print(self.x)\n",
        "        print(self.y)"
      ]
    },
    {
      "cell_type": "code",
      "source": [
        "myobj = MyClass(5,6)\n",
        "myobj.myfunc()"
      ],
      "metadata": {
        "id": "kGT_JiQeCU8i"
      },
      "execution_count": null,
      "outputs": []
    },
    {
      "cell_type": "code",
      "source": [
        "print(myobj)"
      ],
      "metadata": {
        "id": "yKhlFJZDCXEB"
      },
      "execution_count": null,
      "outputs": []
    },
    {
      "cell_type": "code",
      "source": [
        "del myobj"
      ],
      "metadata": {
        "id": "N4tJO6VjCjA_"
      },
      "execution_count": null,
      "outputs": []
    },
    {
      "cell_type": "code",
      "execution_count": null,
      "metadata": {
        "id": "787eee6f"
      },
      "outputs": [],
      "source": [
        "class Employee:\n",
        "    def __init__(self, name, age):\n",
        "        self.name = name\n",
        "        self.age = age\n",
        "        print(\"New employee\")\n",
        "    # def __str__(self):\n",
        "    #     return f\"{self.name}({self.age})\"\n",
        "    # def __del__(self): # Destructor\n",
        "    #     print(\"Employee left\")\n",
        "e1 = Employee(\"ABC\", 20)\n",
        "e2 = Employee(\"XYZ\", 25)"
      ]
    },
    {
      "cell_type": "code",
      "source": [
        "e1"
      ],
      "metadata": {
        "id": "TbC_1M4ICb5a"
      },
      "execution_count": null,
      "outputs": []
    },
    {
      "cell_type": "code",
      "source": [
        "print(e1)\n",
        "print(e2)"
      ],
      "metadata": {
        "id": "mqCpKvi-CJ3K"
      },
      "execution_count": null,
      "outputs": []
    },
    {
      "cell_type": "code",
      "source": [
        "del e1"
      ],
      "metadata": {
        "id": "ZwKuv_5F7xkQ"
      },
      "execution_count": null,
      "outputs": []
    },
    {
      "cell_type": "code",
      "source": [
        "print(e1)"
      ],
      "metadata": {
        "id": "ds13wb3u7zGb"
      },
      "execution_count": null,
      "outputs": []
    },
    {
      "cell_type": "markdown",
      "metadata": {
        "id": "DyY352g1M-dX"
      },
      "source": [
        "# Object Oriented Programming Problems\n",
        "\n",
        "\n"
      ]
    },
    {
      "cell_type": "markdown",
      "source": [
        "#### Problem 1\n",
        "Fill in the Line class methods to accept coordinates as a pair of tuples and return the slope and distance of the line."
      ],
      "metadata": {
        "id": "dNkgWgBXNbfH"
      }
    },
    {
      "cell_type": "code",
      "execution_count": null,
      "metadata": {
        "collapsed": true,
        "id": "B07kpl9hM-db"
      },
      "outputs": [],
      "source": [
        "class Line:\n",
        "\n",
        "    def __init__(self,coor1,coor2):\n",
        "        pass\n",
        "\n",
        "    def distance(self):\n",
        "        pass\n",
        "\n",
        "    def slope(self):\n",
        "        pass"
      ]
    },
    {
      "cell_type": "code",
      "execution_count": null,
      "metadata": {
        "collapsed": true,
        "id": "dFwFrjIGM-de"
      },
      "outputs": [],
      "source": [
        "# EXAMPLE OUTPUT\n",
        "\n",
        "coordinate1 = (3,2)\n",
        "coordinate2 = (8,10)\n",
        "\n",
        "li = Line(coordinate1,coordinate2)"
      ]
    },
    {
      "cell_type": "code",
      "execution_count": null,
      "metadata": {
        "id": "FsFfHu8wM-dg"
      },
      "outputs": [],
      "source": [
        "li.distance()"
      ]
    },
    {
      "cell_type": "code",
      "execution_count": null,
      "metadata": {
        "id": "KuoVQtpqM-dj"
      },
      "outputs": [],
      "source": [
        "li.slope()"
      ]
    },
    {
      "cell_type": "markdown",
      "metadata": {
        "id": "hO0sbnWEM-dl"
      },
      "source": [
        "________\n",
        "#### Problem 2"
      ]
    },
    {
      "cell_type": "markdown",
      "metadata": {
        "id": "dV11sA_FM-dn"
      },
      "source": [
        "Fill in the class"
      ]
    },
    {
      "cell_type": "code",
      "execution_count": null,
      "metadata": {
        "collapsed": true,
        "id": "22SSHjuxM-do"
      },
      "outputs": [],
      "source": [
        "class Cylinder:\n",
        "\n",
        "    def __init__(self,height=1,radius=1):\n",
        "        pass\n",
        "\n",
        "    def volume(self):\n",
        "        pass\n",
        "\n",
        "    def surface_area(self):\n",
        "        pass"
      ]
    },
    {
      "cell_type": "code",
      "execution_count": null,
      "metadata": {
        "collapsed": true,
        "id": "k6OCTInKM-dq"
      },
      "outputs": [],
      "source": [
        "# EXAMPLE OUTPUT\n",
        "c = Cylinder(2,3)"
      ]
    },
    {
      "cell_type": "code",
      "execution_count": null,
      "metadata": {
        "id": "UBq3ZxBJM-ds"
      },
      "outputs": [],
      "source": [
        "c.volume()"
      ]
    },
    {
      "cell_type": "code",
      "execution_count": null,
      "metadata": {
        "id": "ZNLwecNkM-dt"
      },
      "outputs": [],
      "source": [
        "c.surface_area()"
      ]
    },
    {
      "cell_type": "markdown",
      "metadata": {
        "id": "RyXpWQbWP4y4"
      },
      "source": [
        "# Object Oriented Programming Challenge\n",
        "\n"
      ]
    },
    {
      "cell_type": "markdown",
      "source": [
        "For this challenge, create a bank account class that has two attributes:\n",
        "\n",
        "* owner\n",
        "* balance\n",
        "\n",
        "and two methods:\n",
        "\n",
        "* deposit\n",
        "* withdraw\n",
        "\n",
        "As an added requirement, withdrawals may not exceed the available balance.\n",
        "\n",
        "Instantiate your class, make several deposits and withdrawals, and test to make sure the account can't be overdrawn."
      ],
      "metadata": {
        "id": "DeV1HTIRP9E6"
      }
    },
    {
      "cell_type": "code",
      "execution_count": null,
      "metadata": {
        "collapsed": true,
        "id": "Bp5_Og_jP4y5"
      },
      "outputs": [],
      "source": [
        "class Account:\n",
        "    pass"
      ]
    },
    {
      "cell_type": "code",
      "execution_count": null,
      "metadata": {
        "collapsed": true,
        "id": "GQKPS4B-P4y6"
      },
      "outputs": [],
      "source": [
        "# 1. Instantiate the class\n",
        "acct1 = Account('Jose',100)"
      ]
    },
    {
      "cell_type": "code",
      "execution_count": null,
      "metadata": {
        "id": "dTtQ90dTP4y7"
      },
      "outputs": [],
      "source": [
        "# 2. Print the object\n",
        "print(acct1)"
      ]
    },
    {
      "cell_type": "code",
      "execution_count": null,
      "metadata": {
        "id": "Ho_aYlPSP4y7"
      },
      "outputs": [],
      "source": [
        "# 3. Show the account owner attribute\n",
        "acct1.owner"
      ]
    },
    {
      "cell_type": "code",
      "execution_count": null,
      "metadata": {
        "id": "yAsXpg0bP4y8"
      },
      "outputs": [],
      "source": [
        "# 4. Show the account balance attribute\n",
        "acct1.balance"
      ]
    },
    {
      "cell_type": "code",
      "execution_count": null,
      "metadata": {
        "id": "b-GshLS8P4y8"
      },
      "outputs": [],
      "source": [
        "# 5. Make a series of deposits and withdrawals\n",
        "acct1.deposit(50)"
      ]
    },
    {
      "cell_type": "code",
      "execution_count": null,
      "metadata": {
        "id": "NUAlCB6gP4y9"
      },
      "outputs": [],
      "source": [
        "acct1.withdraw(75)"
      ]
    },
    {
      "cell_type": "code",
      "execution_count": null,
      "metadata": {
        "id": "8JdQWn7MP4y9"
      },
      "outputs": [],
      "source": [
        "# 6. Make a withdrawal that exceeds the available balance\n",
        "acct1.withdraw(500)"
      ]
    }
  ],
  "metadata": {
    "kernelspec": {
      "display_name": "Python 3",
      "language": "python",
      "name": "python3"
    },
    "language_info": {
      "codemirror_mode": {
        "name": "ipython",
        "version": 3
      },
      "file_extension": ".py",
      "mimetype": "text/x-python",
      "name": "python",
      "nbconvert_exporter": "python",
      "pygments_lexer": "ipython3",
      "version": "3.6.6"
    },
    "colab": {
      "provenance": [],
      "collapsed_sections": [
        "DyY352g1M-dX",
        "RyXpWQbWP4y4"
      ]
    }
  },
  "nbformat": 4,
  "nbformat_minor": 0
}