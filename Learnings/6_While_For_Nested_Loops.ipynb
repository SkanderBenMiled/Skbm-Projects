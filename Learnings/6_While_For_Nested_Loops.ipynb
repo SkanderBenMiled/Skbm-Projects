{
  "cells": [
    {
      "cell_type": "markdown",
      "metadata": {
        "id": "rPZ2HT6CT6wR"
      },
      "source": [
        "Iteration statements or loop statements allow us to execute a block of statements as long as the condition is true.\n",
        "\n",
        "Loops statements are used when we need to run same code again and again, each time with a different value."
      ]
    },
    {
      "cell_type": "markdown",
      "metadata": {
        "id": "rPLgIXanT6wT"
      },
      "source": [
        "In Python Iteration (Loops) statements are of three type :-\n",
        "\n",
        "1. While Loop\n",
        "\n",
        "2. For Loop\n",
        "\n",
        "3. Nested For Loops"
      ]
    },
    {
      "cell_type": "markdown",
      "metadata": {
        "id": "fmgojELmT6wU"
      },
      "source": [
        "#### 1. While Loop In Python"
      ]
    },
    {
      "cell_type": "markdown",
      "metadata": {
        "id": "F8KwY4YiT6wU"
      },
      "source": [
        "While Loop In Python is used to execute a block of statement as long as a given condition is true. And when the condition is false, the control will come out of the loop.\n",
        "\n",
        "The condition is checked every time at the beginning of the loop."
      ]
    },
    {
      "cell_type": "code",
      "source": [
        "##### While Loop Syntax\n",
        "\n",
        "# while (condition):\n",
        "#     statements"
      ],
      "metadata": {
        "id": "1qxHbXkgUgzH"
      },
      "execution_count": null,
      "outputs": []
    },
    {
      "cell_type": "code",
      "execution_count": null,
      "metadata": {
        "id": "08CdfahsT6wV"
      },
      "outputs": [],
      "source": [
        "x = 0\n",
        "while(x<5):\n",
        "    print(x)\n",
        "    x=x+1\n",
        "print('done')\n",
        "print(x)"
      ]
    },
    {
      "cell_type": "markdown",
      "metadata": {
        "id": "r9ROskLyT6wX"
      },
      "source": [
        "#### While Loop With Else In Python\n",
        "The else part is executed if the condition in the while loop becomes False."
      ]
    },
    {
      "cell_type": "code",
      "execution_count": null,
      "metadata": {
        "id": "F8kKzNqzT6wX"
      },
      "outputs": [],
      "source": [
        "x = 1\n",
        "while (x < 5):\n",
        "   print('inside while loop value of x is ',x)\n",
        "   x = x + 1\n",
        "else:\n",
        "   print('inside else value of x is ', x)"
      ]
    },
    {
      "cell_type": "markdown",
      "source": [
        "The break statement is used to exit a loop prematurely. When break is encountered, the loop stops immediately, and control moves to the next line of code after the loop."
      ],
      "metadata": {
        "id": "sw7mtxJCL9mt"
      }
    },
    {
      "cell_type": "code",
      "source": [
        "x=0\n",
        "while True: # boucle infinie\n",
        "    print(x)\n",
        "    x=x+1\n",
        "    if x==5:\n",
        "        break"
      ],
      "metadata": {
        "id": "_BC3SomwL3wE"
      },
      "execution_count": null,
      "outputs": []
    },
    {
      "cell_type": "code",
      "source": [
        "while True :\n",
        "  a=int(input(\"give me your age \"))\n",
        "  if a>0 and a<120:\n",
        "    break"
      ],
      "metadata": {
        "id": "2zOAC6oXDY8C"
      },
      "execution_count": null,
      "outputs": []
    },
    {
      "cell_type": "code",
      "source": [
        "a"
      ],
      "metadata": {
        "id": "W7J5nryvFDDU"
      },
      "execution_count": null,
      "outputs": []
    },
    {
      "cell_type": "code",
      "source": [
        "# delete a variable\n",
        "del a"
      ],
      "metadata": {
        "id": "9ZocDEXPFEY1"
      },
      "execution_count": null,
      "outputs": []
    },
    {
      "cell_type": "code",
      "source": [
        "a"
      ],
      "metadata": {
        "id": "mo8emiRRFIe2"
      },
      "execution_count": null,
      "outputs": []
    },
    {
      "cell_type": "markdown",
      "metadata": {
        "id": "AlsDvwwaT6wX"
      },
      "source": [
        "#### 2. For Loop In Python"
      ]
    },
    {
      "cell_type": "code",
      "source": [
        "# syntax\n",
        "# for val in sequence:\n",
        "#     statements"
      ],
      "metadata": {
        "id": "OxWLoJ7JUzOR"
      },
      "execution_count": null,
      "outputs": []
    },
    {
      "cell_type": "code",
      "execution_count": null,
      "metadata": {
        "id": "I5-44WTlT6wY"
      },
      "outputs": [],
      "source": [
        "for i in range(1,5): # 1,2,3,4\n",
        "    print(i)"
      ]
    },
    {
      "cell_type": "markdown",
      "metadata": {
        "id": "XfHSC5mRT6wY"
      },
      "source": [
        "##### The range() Function In Python\n",
        "The range() function is a built-in that is used to iterate over a sequence of numbers.\n",
        "\n",
        "* Syntax Of range() Function:\n",
        "> range(start, stop[, step])\n",
        "\n",
        "##### The range() Function Parameters\n",
        "* start: Starting number of the sequence.\n",
        "* stop: Generate numbers up to, but not including this number.\n",
        "* step(Optional): Determines the increment between each numbers in the sequence."
      ]
    },
    {
      "cell_type": "code",
      "execution_count": null,
      "metadata": {
        "id": "n04xPg12T6wY"
      },
      "outputs": [],
      "source": [
        "# Example 1 of range() function\n",
        "for i in range(10): #\n",
        "    print(i)"
      ]
    },
    {
      "cell_type": "code",
      "execution_count": null,
      "metadata": {
        "id": "x_YTeVYAT6wY"
      },
      "outputs": [],
      "source": [
        "# Example 2 of range() function\n",
        "for i in range(2,9):\n",
        "    print(i)"
      ]
    },
    {
      "cell_type": "code",
      "execution_count": null,
      "metadata": {
        "id": "jLwOFZJFT6wZ"
      },
      "outputs": [],
      "source": [
        "# Example 3 of range() function using step parameter\n",
        "for i in range(2,9,2):\n",
        "    print(i)"
      ]
    },
    {
      "cell_type": "code",
      "execution_count": null,
      "metadata": {
        "id": "uagvPAtUT6wZ"
      },
      "outputs": [],
      "source": [
        "# Example 4 of range() function\n",
        "for i in range(0,-10,-2):\n",
        "    print(i)"
      ]
    },
    {
      "cell_type": "code",
      "execution_count": null,
      "metadata": {
        "id": "c_cnUT5wT6wZ"
      },
      "outputs": [],
      "source": [
        "# Example to iterate a list using for loop\n",
        "my_list = [42, 61, 47, 46, 91, 18]\n",
        "for i in my_list: # i is not the index here !!!!!!!!!!!!!!!!!!!\n",
        "    print(i)"
      ]
    },
    {
      "cell_type": "code",
      "source": [
        "# Example to iterate a set using for loop\n",
        "my_set = {42, 61, 47, 46, 91, 18}  # Remember : their is no order in a set !!!\n",
        "for i in my_set:\n",
        "    print(i)"
      ],
      "metadata": {
        "id": "J6XUp2gtJ8Ng"
      },
      "execution_count": null,
      "outputs": []
    },
    {
      "cell_type": "markdown",
      "metadata": {
        "id": "lhc74WzST6wa"
      },
      "source": [
        "### 3. Nested For loops"
      ]
    },
    {
      "cell_type": "markdown",
      "metadata": {
        "id": "5SOVYvCbT6wa"
      },
      "source": [
        "Nested for is nothing but a for loop inside another for a loop.\n",
        "\n"
      ]
    },
    {
      "cell_type": "code",
      "execution_count": null,
      "metadata": {
        "id": "_9-w8RXMT6wa"
      },
      "outputs": [],
      "source": [
        "rows = 5\n",
        "for i in range(1, rows + 1):\n",
        "    for j in range(1, i + 1):\n",
        "        print(\"*\", end=\" \") # print(\"*\")#, end=\" \")\n",
        "    print('')        # After each iteration of the second loop, this prints a newline to move to the next row."
      ]
    },
    {
      "cell_type": "code",
      "source": [
        "print('Hello')\n",
        "print('')\n",
        "print('Hi')"
      ],
      "metadata": {
        "id": "gHfQqKlyPQZF"
      },
      "execution_count": null,
      "outputs": []
    },
    {
      "cell_type": "code",
      "execution_count": null,
      "metadata": {
        "id": "B5Sfg2wuT6wa"
      },
      "outputs": [],
      "source": [
        "data = [ ' Verma' ,  ' raj ' ,  ' Gupta ' ,  ' SaNdeeP ' ]\n",
        "capitalized = [ a.capitalize()  for a in data ]\n",
        "print (capitalized)"
      ]
    },
    {
      "cell_type": "code",
      "execution_count": null,
      "metadata": {
        "id": "dQQsjtoET6wb"
      },
      "outputs": [],
      "source": [
        "data = ['VARMA', 'raj', 'Gupta', 'SaNdeeP']\n",
        "\n",
        "capitalized = [a.capitalize() for a in data]\n",
        "\n",
        "print(capitalized)"
      ]
    },
    {
      "cell_type": "code",
      "source": [
        "data = [ ' Verma' ,  ' raj ' ,  ' Gupta ' ,  ' SaNdeeP ' ]\n",
        "lower = [ a.lower()  for a in data ]\n",
        "print (lower)"
      ],
      "metadata": {
        "id": "ZBKogq06UOeU"
      },
      "execution_count": null,
      "outputs": []
    },
    {
      "cell_type": "markdown",
      "source": [
        "The break statement => to exit a loop prematurely\n"
      ],
      "metadata": {
        "id": "YvHXTbPoMKEy"
      }
    },
    {
      "cell_type": "code",
      "source": [
        "for number in range(1, 6):\n",
        "    if number == 3:\n",
        "        print(\"Breaking the loop.\")\n",
        "        break\n",
        "    print(f\"Number: {number}\")\n",
        "print(\"Loop ended.\")\n"
      ],
      "metadata": {
        "id": "abQRbOcxL1j9"
      },
      "execution_count": null,
      "outputs": []
    },
    {
      "cell_type": "markdown",
      "source": [
        "The continue statement is used to skip the current iteration of the loop and move to the next iteration, without stopping the loop entirely.\n",
        "\n"
      ],
      "metadata": {
        "id": "-PrRupCRMfa2"
      }
    },
    {
      "cell_type": "code",
      "source": [
        "for number in range(1, 6):\n",
        "    if number == 3:\n",
        "        # print(\"Skipping number 3.\")\n",
        "        continue\n",
        "    print(f\"Number: {number}\")\n",
        "print(\"Loop ended.\")"
      ],
      "metadata": {
        "id": "A_x7nECJMW8w"
      },
      "execution_count": null,
      "outputs": []
    },
    {
      "cell_type": "code",
      "source": [
        "# list inside list\n",
        "matrix = [\n",
        "    [1, 2, 3],\n",
        "    [4, 5, 6],\n",
        "    [7, 8, 9]\n",
        "]\n",
        "print(matrix)"
      ],
      "metadata": {
        "id": "fXqAhRmYY-j2"
      },
      "execution_count": null,
      "outputs": []
    },
    {
      "cell_type": "code",
      "source": [
        "print(matrix[0])"
      ],
      "metadata": {
        "id": "aVn9O1haZKNp"
      },
      "execution_count": null,
      "outputs": []
    },
    {
      "cell_type": "code",
      "source": [
        "matrix[0][0]"
      ],
      "metadata": {
        "id": "mF-kCJ3_ZU0S"
      },
      "execution_count": null,
      "outputs": []
    },
    {
      "cell_type": "code",
      "source": [
        "matrix[-1][-1]"
      ],
      "metadata": {
        "id": "TIC9cQEWZeIk"
      },
      "execution_count": null,
      "outputs": []
    },
    {
      "cell_type": "code",
      "source": [
        "len(matrix)"
      ],
      "metadata": {
        "id": "_ppYJHSHZnot"
      },
      "execution_count": null,
      "outputs": []
    },
    {
      "cell_type": "code",
      "source": [
        "print(matrix)"
      ],
      "metadata": {
        "id": "WfRnYdEXZsHZ"
      },
      "execution_count": null,
      "outputs": []
    },
    {
      "cell_type": "code",
      "source": [
        "for i in range(len(matrix)):\n",
        "    for j in range(len(matrix[i])):\n",
        "        print(matrix[i][j])"
      ],
      "metadata": {
        "id": "V1efgrTgZilB"
      },
      "execution_count": null,
      "outputs": []
    },
    {
      "cell_type": "markdown",
      "source": [
        "# Exercises"
      ],
      "metadata": {
        "id": "TgEFfu0MY6jw"
      }
    },
    {
      "cell_type": "markdown",
      "source": [
        "Ex 1 :\n",
        "write a Python program to print all even numbers between 1 and 10 using a `for` loop?"
      ],
      "metadata": {
        "id": "g1oazGiTLQzy"
      }
    },
    {
      "cell_type": "code",
      "source": [],
      "metadata": {
        "id": "JBFWGAKdbUID"
      },
      "execution_count": null,
      "outputs": []
    },
    {
      "cell_type": "markdown",
      "source": [
        "Ex 2 :  \n",
        "write a Python program to check if numbers in a given range are prime (nombre premier) or not, using a `for` loop and user input for the start and end numbers?\n",
        "\n",
        "A prime number is a whole number greater than 1 that has exactly two distinct factors: 1 and itself. In other words, a prime number can only be divided evenly by 1 and the number itself."
      ],
      "metadata": {
        "id": "5daceQzlLUa9"
      }
    },
    {
      "cell_type": "code",
      "source": [],
      "metadata": {
        "id": "yUCj86E1bVrr"
      },
      "execution_count": null,
      "outputs": []
    },
    {
      "cell_type": "markdown",
      "source": [
        "Ex3 : Write a Python program that prints a right-aligned pyramid pattern of numbers, where the number of rows is determined by n = 5, and each row contains the row number repeated with spaces for alignment. As shown in the following image :\n",
        "\n",
        "![image.png](data:image/png;base64,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)"
      ],
      "metadata": {
        "id": "DKB8KaRdTV9A"
      }
    },
    {
      "cell_type": "code",
      "source": [],
      "metadata": {
        "id": "WBm6iEy5bXEX"
      },
      "execution_count": null,
      "outputs": []
    },
    {
      "cell_type": "markdown",
      "source": [
        "Ex 4 : Write a Python program to generate a list of all negative even numbers between -100 and -1 (inclusive) and print the list."
      ],
      "metadata": {
        "id": "Pw2mmcEoWAAW"
      }
    },
    {
      "cell_type": "code",
      "source": [],
      "metadata": {
        "id": "UXUc7OGWbYHL"
      },
      "execution_count": null,
      "outputs": []
    },
    {
      "cell_type": "markdown",
      "source": [
        "Ex 5 :  Given the string text = \"Data science is amazing!\", count how many vowels (a, e, i, o, u) it contains."
      ],
      "metadata": {
        "id": "x_7gcjVqWswv"
      }
    },
    {
      "cell_type": "code",
      "source": [],
      "metadata": {
        "id": "0w9CLAVEbZWK"
      },
      "execution_count": null,
      "outputs": []
    },
    {
      "cell_type": "markdown",
      "source": [
        "Ex 6 : Continuously ask the user to enter a number. For each number, print if it is even or odd. The loop should stop when the user enters 0"
      ],
      "metadata": {
        "id": "zHZl0vhxW2wF"
      }
    },
    {
      "cell_type": "code",
      "source": [],
      "metadata": {
        "id": "xSME1N81baZZ"
      },
      "execution_count": null,
      "outputs": []
    },
    {
      "cell_type": "markdown",
      "source": [
        "Ex 7 : Given the following sentence, find and print the longest word along with its length.\n",
        "\n",
        "sentence = \"Artificial intelligence is transforming the future of technology\"\n"
      ],
      "metadata": {
        "id": "vZN1GMQfXd6M"
      }
    },
    {
      "cell_type": "code",
      "source": [],
      "metadata": {
        "id": "aSLU4-iDbbi5"
      },
      "execution_count": null,
      "outputs": []
    },
    {
      "cell_type": "markdown",
      "source": [
        "Ex 8 : Given the following string, count the frequency of each character and print the result in a readable format. (use for loop)\n",
        "\n",
        "string = \"banana\""
      ],
      "metadata": {
        "id": "9IWkAK8GXyBA"
      }
    },
    {
      "cell_type": "code",
      "source": [],
      "metadata": {
        "id": "Xd9xXzY2bcqb"
      },
      "execution_count": null,
      "outputs": []
    },
    {
      "cell_type": "markdown",
      "source": [
        "Ex 9 : Given the following 3x3 matrix, transpose it (swap rows with columns) and print the transposed matrix."
      ],
      "metadata": {
        "id": "h_w8MU-NYPva"
      }
    },
    {
      "cell_type": "code",
      "source": [
        "matrix = [\n",
        "    [1, 2, 3],\n",
        "    [4, 5, 6],\n",
        "    [7, 8, 9]\n",
        "]"
      ],
      "metadata": {
        "id": "LxTlvK9yYVKL"
      },
      "execution_count": null,
      "outputs": []
    },
    {
      "cell_type": "code",
      "source": [],
      "metadata": {
        "id": "RRqh_2NBbhIz"
      },
      "execution_count": null,
      "outputs": []
    },
    {
      "cell_type": "markdown",
      "source": [
        "Ex 10 :   \n",
        "\n",
        "For a given positive integer n = 6, generate and print the Collatz sequence.\n",
        "\n",
        "The sequence follows these rules:\n",
        "- If n is even, divide it by 2.\n",
        "- If n is odd, multiply it by 3 and add 1.\n",
        "- Repeat until n becomes 1."
      ],
      "metadata": {
        "id": "BZRFAhqjaTLF"
      }
    },
    {
      "cell_type": "code",
      "source": [],
      "metadata": {
        "id": "tvdxIwYsbi3u"
      },
      "execution_count": null,
      "outputs": []
    },
    {
      "cell_type": "markdown",
      "source": [
        "Ex 11 : Print the numbers in a 4x4 matrix in a clockwise spiral order of the following matrix :\n",
        "\n"
      ],
      "metadata": {
        "id": "kf2cUukwawuV"
      }
    },
    {
      "cell_type": "code",
      "source": [
        "matrix = [\n",
        "    [1, 2, 3, 4],\n",
        "    [5, 6, 7, 8],\n",
        "    [9, 10, 11, 12],\n",
        "    [13, 14, 15, 16]\n",
        "]"
      ],
      "metadata": {
        "id": "3-JWcphSa1F0"
      },
      "execution_count": null,
      "outputs": []
    },
    {
      "cell_type": "code",
      "source": [],
      "metadata": {
        "id": "qYOD08xxbkBi"
      },
      "execution_count": null,
      "outputs": []
    }
  ],
  "metadata": {
    "kernelspec": {
      "display_name": "Python 3",
      "language": "python",
      "name": "python3"
    },
    "language_info": {
      "codemirror_mode": {
        "name": "ipython",
        "version": 3
      },
      "file_extension": ".py",
      "mimetype": "text/x-python",
      "name": "python",
      "nbconvert_exporter": "python",
      "pygments_lexer": "ipython3",
      "version": "3.8.3"
    },
    "colab": {
      "provenance": []
    }
  },
  "nbformat": 4,
  "nbformat_minor": 0
}