{
  "cells": [
    {
      "cell_type": "markdown",
      "source": [
        "# selenium\n"
      ],
      "metadata": {
        "id": "50v0TGWFntmH"
      }
    },
    {
      "cell_type": "code",
      "source": [
        "# Install necessary packages\n",
        "!apt install -y chromium-chromedriver # Install chromium and chromedriver for automated browsing.\n",
        "!pip install selenium # Install the selenium Python package for controlling the browser programmatically."
      ],
      "metadata": {
        "id": "6wEdfIVbpebP"
      },
      "execution_count": null,
      "outputs": []
    },
    {
      "cell_type": "code",
      "source": [
        "# Import required modules\n",
        "from selenium import webdriver # Controls the Chrome browser\n",
        "from selenium.webdriver.common.by import By\n",
        "# The By class is a tool that helps you find elements on a webpage.\n",
        "# It’s like giving Selenium instructions on where to look for something on the page.\n",
        "from selenium.webdriver.common.keys import Keys\n",
        "# The Keys class lets you simulate keyboard actions in the browser.\n",
        "# You can use it to press keys like Enter, Tab, or even navigate with the arrow keys.\n",
        "import time # Adds delays to ensure images are loaded during dynamic scrolling\n",
        "import requests # Downloads the images from the URLs\n",
        "import os # Handles folder creation and file saving"
      ],
      "metadata": {
        "id": "-ZJy8sZ3qbNJ"
      },
      "execution_count": null,
      "outputs": []
    },
    {
      "cell_type": "markdown",
      "source": [
        "When you use Selenium to automate a browser, Selenium acts as a \"remote control\" for the browser. However, the browser doesn’t understand Selenium directly—it needs a translator to communicate."
      ],
      "metadata": {
        "id": "vMPKROWFdMeZ"
      }
    },
    {
      "cell_type": "markdown",
      "source": [
        "The WebDriver is like this translator. It’s a small program specifically designed to \"speak the language\" of a particular browser (like Chrome, Firefox, or Edge)."
      ],
      "metadata": {
        "id": "hSAYOHSKdIif"
      }
    },
    {
      "cell_type": "code",
      "source": [
        "# Configure Chrome options for Colab\n",
        "# --no-sandbox and --disable-dev-shm-usage address Colab’s resource limitations\n",
        "def configure_driver():\n",
        "    options = webdriver.ChromeOptions()\n",
        "    options.add_argument('--headless')  # Run Chrome in headless mode, Colab doesn’t have a graphical interface. The --headless option ensures Chrome runs invisibly.\n",
        "    options.add_argument('--no-sandbox')  # Bypass OS security model\n",
        "    # This disables a security feature (sandboxing) that isolates Chrome from the rest of the system. It’s needed in some environments like Colab where strict isolation might prevent Chrome from running.\n",
        "    options.add_argument('--disable-dev-shm-usage')  # Overcome limited resource problems\n",
        "    # This prevents Chrome from using a shared memory location (dev/shm). In environments like Colab, the shared memory might be too small, causing crashes. This line ensures Chrome uses normal memory instead.\n",
        "    return webdriver.Chrome(options=options)"
      ],
      "metadata": {
        "id": "ySdLGhOjqeKk"
      },
      "execution_count": null,
      "outputs": []
    },
    {
      "cell_type": "code",
      "source": [
        "time.sleep(1)"
      ],
      "metadata": {
        "id": "oEupGOWggH9H"
      },
      "execution_count": null,
      "outputs": []
    },
    {
      "cell_type": "code",
      "source": [
        "time.sleep(10)"
      ],
      "metadata": {
        "id": "wAP-AUJsf8WY"
      },
      "execution_count": null,
      "outputs": []
    },
    {
      "cell_type": "code",
      "source": [
        "fruits = [\"apple\", \"banana\", \"cherry\"]\n",
        "for index, fruit in enumerate(fruits):\n",
        "    print(f\"Index: {index}, Fruit: {fruit}\")"
      ],
      "metadata": {
        "id": "yw0E84b2jvYh"
      },
      "execution_count": null,
      "outputs": []
    },
    {
      "cell_type": "code",
      "source": [
        "# Function to download and save images\n",
        "def download_and_save_images(search_query, num_images, output_folder):\n",
        "    # Create output folder if it doesn't exist\n",
        "    if not os.path.exists(output_folder):\n",
        "        os.makedirs(output_folder)\n",
        "\n",
        "    driver = configure_driver()\n",
        "\n",
        "    # Construct the Google Image Search URL\n",
        "    url = f\"https://www.google.com/search?q={search_query}&source=lnms&tbm=isch\"\n",
        "    driver.get(url)\n",
        "\n",
        "    # Scroll and load images dynamically\n",
        "    image_urls = set()\n",
        "    scroll_pause_time = 2  # Time to wait for images to load\n",
        "    while len(image_urls) < num_images:\n",
        "        # Scroll down to load more images\n",
        "        driver.find_element(By.TAG_NAME, \"body\").send_keys(Keys.END)\n",
        "        # driver.find_element(By.TAG_NAME, \"body\")\n",
        "        # This tells Selenium to find the entire body of the webpage.\n",
        "        # The body is the main part of the webpage where all the visible content is located.\n",
        "        # .send_keys(Keys.END)\n",
        "        # Once the body is found, this simulates pressing the End key on the keyboard.\n",
        "        # Pressing the End key scrolls the webpage all the way to the bottom.\n",
        "        time.sleep(scroll_pause_time)\n",
        "\n",
        "        # Find image elements and extract URLs\n",
        "        images = driver.find_elements(By.CSS_SELECTOR, \"img\")\n",
        "        # Find all the <img> elements on a webpage,\n",
        "        # It uses a CSS selector, which is \"img\" in this case. This CSS selector matches all image tags on the page.\n",
        "        for img in images:\n",
        "            src = img.get_attribute(\"src\")\n",
        "            # This retrieves the value of the src attribute from an image element (<img>).\n",
        "            if src and \"http\" in src:  # Ensure valid URLs\n",
        "                image_urls.add(src)\n",
        "\n",
        "        # Break the loop if no new images are found\n",
        "        if len(image_urls) >= num_images:\n",
        "            break\n",
        "\n",
        "    # Download and save images to the folder\n",
        "    for idx, url in enumerate(list(image_urls)[:num_images]):\n",
        "        try:\n",
        "            response = requests.get(url, stream=True)\n",
        "            if response.status_code == 200:\n",
        "                file_path = os.path.join(output_folder, f\"image_{idx + 1}.jpg\")\n",
        "                # The following block of code is used for downloading a file and saving it locally.\n",
        "                with open(file_path, \"wb\") as f: # \"wb\" means that the file will be written in binary mode (which is important for non-text files like images)\n",
        "                    for chunk in response.iter_content(1024):\n",
        "                      # response.iter_content(1024): This gets the content of the file in chunks of 1024 bytes (1 KB) at a time.\n",
        "                      # It's useful when downloading large files, as it doesn’t load the entire file into memory all at once,\n",
        "                      # preventing memory overload.\n",
        "                        f.write(chunk)\n",
        "        except Exception as e:\n",
        "            print(f\"Failed to download {url}: {e}\")\n",
        "\n",
        "    driver.quit()\n",
        "    print(f\"Saved {len(image_urls)} images to the folder: {output_folder}\")"
      ],
      "metadata": {
        "id": "9E4HdeuRpach"
      },
      "execution_count": null,
      "outputs": []
    },
    {
      "cell_type": "code",
      "source": [
        "download_and_save_images(search_query=\"cars\", num_images=50, output_folder=\"cars\")"
      ],
      "metadata": {
        "id": "ZCts6KvofWVo"
      },
      "execution_count": null,
      "outputs": []
    },
    {
      "cell_type": "code",
      "source": [],
      "metadata": {
        "id": "EeVxXICDnd0F"
      },
      "execution_count": null,
      "outputs": []
    }
  ],
  "metadata": {
    "kernelspec": {
      "display_name": "Python 3",
      "language": "python",
      "name": "python3"
    },
    "language_info": {
      "codemirror_mode": {
        "name": "ipython",
        "version": 3
      },
      "file_extension": ".py",
      "mimetype": "text/x-python",
      "name": "python",
      "nbconvert_exporter": "python",
      "pygments_lexer": "ipython3",
      "version": "3.6.6"
    },
    "colab": {
      "provenance": [],
      "collapsed_sections": [
        "Yrbr_EO5LGlq"
      ]
    }
  },
  "nbformat": 4,
  "nbformat_minor": 0
}