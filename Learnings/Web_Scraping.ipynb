{
  "cells": [
    {
      "cell_type": "markdown",
      "metadata": {
        "id": "JLzHfMQGEVAZ"
      },
      "source": [
        "## Basic components of a WebSite\n",
        "\n",
        "### HTML\n",
        "HTML stands for  Hypertext Markup Language and every website on the internet uses it to display information. Even the jupyter notebook system uses it to display this information in your browser. If you right click on a website and select \"View Page Source\" you can see the raw HTML of a web page. This is the information that Python will be looking at to grab information from. Let's take a look at a simple webpage's HTML:\n",
        "\n",
        "    <!DOCTYPE html>  \n",
        "    <html>  \n",
        "        <head>\n",
        "            <title>Title on Browser Tab</title>\n",
        "        </head>\n",
        "        <body>\n",
        "            <h1> Website Header </h1>\n",
        "            <p> Some Paragraph </p>\n",
        "        <body>\n",
        "    </html>"
      ]
    },
    {
      "cell_type": "markdown",
      "source": [
        "https://www.example.com/\n",
        "\n",
        "https://www.w3schools.com/html/default.asp"
      ],
      "metadata": {
        "id": "T4D-TGz-eiDi"
      }
    },
    {
      "cell_type": "markdown",
      "metadata": {
        "id": "cl1hWFEbEVAa"
      },
      "source": [
        "### CSS\n",
        "\n",
        "CSS stands for Cascading Style Sheets, this is what gives \"style\" to a website, including colors and fonts, and even some animations! CSS uses tags such as **id** or **class** to connect an HTML element to a CSS feature, such as a particular color. **id** is a unique id for an HTML tag and must be unique within the HTML document, basically a single use connection. **class** defines a general style that can then be linked to multiple HTML tags. Basically if you only want a single html tag to be red, you would use an id tag, if you wanted several HTML tags/blocks to be red, you would create a class in your CSS doc and then link it to the rest of these blocks."
      ]
    },
    {
      "cell_type": "markdown",
      "metadata": {
        "id": "VvyT2SUPEVAb"
      },
      "source": [
        "## Web Scraping with Python\n",
        "\n",
        "\n",
        "    \n"
      ]
    },
    {
      "cell_type": "markdown",
      "metadata": {
        "id": "VyhgJR8NEVAb"
      },
      "source": [
        "### Grabbing the title of a page\n",
        "\n",
        "Let's start very simple, we will grab the title of a page. Remember that this is the HTML block with the **title** tag. For this task we will use **www.example.com** which is a website specifically made to serve as an example domain. Let's go through the main steps:"
      ]
    },
    {
      "cell_type": "code",
      "execution_count": null,
      "metadata": {
        "collapsed": true,
        "id": "BNGlCygAEVAc"
      },
      "outputs": [],
      "source": [
        "import requests"
      ]
    },
    {
      "cell_type": "code",
      "execution_count": null,
      "metadata": {
        "collapsed": true,
        "id": "6QguoPfBEVAd"
      },
      "outputs": [],
      "source": [
        "# Step 1: Use the requests library to grab the page\n",
        "# Note, this may fail if you have a firewall blocking Python/Jupyter\n",
        "# Note sometimes you need to run this twice if it fails the first time\n",
        "res = requests.get(\"http://www.example.com\")"
      ]
    },
    {
      "cell_type": "markdown",
      "source": [
        "The **requests library** in Python is a powerful and easy-to-use HTTP library for making web requests. It allows you to send HTTP/1.1 requests (GET, POST, PUT, DELETE, etc.) and handle responses from web servers."
      ],
      "metadata": {
        "id": "xDRZ8zwhbil3"
      }
    },
    {
      "cell_type": "markdown",
      "metadata": {
        "id": "JvEFoOE_EVAd"
      },
      "source": [
        "This object is a requests.models.Response object and it actually contains the information from the website, for example:"
      ]
    },
    {
      "cell_type": "code",
      "execution_count": null,
      "metadata": {
        "id": "9hLReILPEVAd"
      },
      "outputs": [],
      "source": [
        "type(res)"
      ]
    },
    {
      "cell_type": "code",
      "execution_count": null,
      "metadata": {
        "id": "ntTMh6OnEVAe"
      },
      "outputs": [],
      "source": [
        "res.text"
      ]
    },
    {
      "cell_type": "markdown",
      "metadata": {
        "id": "OArG3FVuEVAf"
      },
      "source": [
        "____\n",
        "Now we use BeautifulSoup to analyze the extracted page. Technically we could use our own custom script to loook for items in the string of **res.text** but the BeautifulSoup library already has lots of built-in tools and methods to grab information from a string of this nature (basically an HTML file). Using BeautifulSoup we can create a \"soup\" object that contains all the \"ingredients\" of the webpage. Don't ask me about the weird library names, I didn't choose them! :)"
      ]
    },
    {
      "cell_type": "code",
      "execution_count": null,
      "metadata": {
        "collapsed": true,
        "id": "tsUm5KsxEVAf"
      },
      "outputs": [],
      "source": [
        "import bs4"
      ]
    },
    {
      "cell_type": "code",
      "execution_count": null,
      "metadata": {
        "collapsed": true,
        "id": "ntUJCSRqEVAf"
      },
      "outputs": [],
      "source": [
        "soup = bs4.BeautifulSoup(res.text,\"lxml\")"
      ]
    },
    {
      "cell_type": "code",
      "execution_count": null,
      "metadata": {
        "id": "WLbClER2EVAf"
      },
      "outputs": [],
      "source": [
        "soup"
      ]
    },
    {
      "cell_type": "markdown",
      "metadata": {
        "id": "ML0GSCDsEVAf"
      },
      "source": [
        "Now let's use the **.select()** method to grab elements. We are looking for the 'title' tag, so we will pass in 'title'\n"
      ]
    },
    {
      "cell_type": "code",
      "execution_count": null,
      "metadata": {
        "id": "piMZNDnjEVAg"
      },
      "outputs": [],
      "source": [
        "soup.select('title')"
      ]
    },
    {
      "cell_type": "markdown",
      "metadata": {
        "id": "DbCuwQ6nEVAg"
      },
      "source": [
        "Notice what is returned here, its actually a list containing all the title elements (along with their tags). You can use indexing or even looping to grab the elements from the list. Since this object it still a specialized tag, we cna use method calls to grab just the text."
      ]
    },
    {
      "cell_type": "code",
      "execution_count": null,
      "metadata": {
        "collapsed": true,
        "id": "2GrW5Pp8EVAg"
      },
      "outputs": [],
      "source": [
        "title_tag = soup.select('title')"
      ]
    },
    {
      "cell_type": "code",
      "execution_count": null,
      "metadata": {
        "id": "PHFl0zEYEVAg"
      },
      "outputs": [],
      "source": [
        "title_tag[0]"
      ]
    },
    {
      "cell_type": "code",
      "execution_count": null,
      "metadata": {
        "id": "LdPq96X-EVAg"
      },
      "outputs": [],
      "source": [
        "type(title_tag[0])"
      ]
    },
    {
      "cell_type": "code",
      "execution_count": null,
      "metadata": {
        "id": "tnsdJvT_EVAg"
      },
      "outputs": [],
      "source": [
        "title_tag[0].getText()"
      ]
    },
    {
      "cell_type": "markdown",
      "metadata": {
        "id": "gGxxjiXCEVAh"
      },
      "source": [
        "### Grabbing all elements of a class\n",
        "\n",
        "Let's try to grab all the section headings of the Wikipedia Article on Grace Hopper from this URL: https://en.wikipedia.org/wiki/Grace_Hopper"
      ]
    },
    {
      "cell_type": "code",
      "execution_count": null,
      "metadata": {
        "collapsed": true,
        "id": "Wvfs2tObEVAh"
      },
      "outputs": [],
      "source": [
        "# First get the request\n",
        "res = requests.get('https://en.wikipedia.org/wiki/Grace_Hopper')"
      ]
    },
    {
      "cell_type": "code",
      "source": [
        "res.text"
      ],
      "metadata": {
        "id": "HVmMCagEX70O"
      },
      "execution_count": null,
      "outputs": []
    },
    {
      "cell_type": "code",
      "execution_count": null,
      "metadata": {
        "collapsed": true,
        "id": "LNQIZgMiEVAh"
      },
      "outputs": [],
      "source": [
        "# Create a soup from request\n",
        "soup = bs4.BeautifulSoup(res.text,\"lxml\")"
      ]
    },
    {
      "cell_type": "markdown",
      "metadata": {
        "id": "F0G653HLEVAh"
      },
      "source": [
        "Now its time to figure out what we are actually looking for. Inspect the element on the page to see that the section headers have the class \"mw-headline\". Because this is a class and not a straight tag, we need to adhere to some syntax for CSS. In this case"
      ]
    },
    {
      "cell_type": "markdown",
      "metadata": {
        "id": "dJIzLTFREVAh"
      },
      "source": [
        "<table>\n",
        "\n",
        "<thead >\n",
        "<tr>\n",
        "<th>\n",
        "<p>Syntax to pass to the .select() method</p>\n",
        "</th>\n",
        "<th>\n",
        "<p>Match Results</p>\n",
        "</th>\n",
        "</tr>\n",
        "</thead>\n",
        "<tbody>\n",
        "<tr>\n",
        "<td>\n",
        "<p><code>soup.select('div')</code></p>\n",
        "</td>\n",
        "<td>\n",
        "<p>All elements with the <code>&lt;div&gt;</code> tag</p>\n",
        "</td>\n",
        "</tr>\n",
        "<tr>\n",
        "<td>\n",
        "<p><code>soup.select('#some_id')</code></p>\n",
        "</td>\n",
        "<td>\n",
        "<p>The HTML element containing the <code>id</code> attribute of <code>some_id</code></p>\n",
        "</td>\n",
        "</tr>\n",
        "<tr>\n",
        "<td>\n",
        "<p><code>soup.select('.notice')</code></p>\n",
        "</td>\n",
        "<td>\n",
        "<p>All the HTML elements with the CSS <code>class</code> named <code>notice</code></p>\n",
        "</td>\n",
        "</tr>\n",
        "<tr>\n",
        "<td>\n",
        "<p><code>soup.select('div span')</code></p>\n",
        "</td>\n",
        "<td>\n",
        "<p>Any elements named <code>&lt;span&gt;</code> that are within an element named <code>&lt;div&gt;</code></p>\n",
        "</td>\n",
        "</tr>\n",
        "<tr>\n",
        "<td>\n",
        "<p><code>soup.select('div &gt; span')</code></p>\n",
        "</td>\n",
        "<td>\n",
        "<p>Any elements named <code class=\"literal2\">&lt;span&gt;</code> that are <span><em >directly</em></span> within an element named <code class=\"literal2\">&lt;div&gt;</code>, with no other element in between</p>\n",
        "</td>\n",
        "</tr>\n",
        "<tr>\n",
        "\n",
        "</tr>\n",
        "</tbody>\n",
        "</table>"
      ]
    },
    {
      "cell_type": "code",
      "source": [
        "soup.select(\"p\")"
      ],
      "metadata": {
        "id": "Mds_IE5sYMBY"
      },
      "execution_count": null,
      "outputs": []
    },
    {
      "cell_type": "code",
      "execution_count": null,
      "metadata": {
        "id": "4fUkWOKMEVAh"
      },
      "outputs": [],
      "source": [
        "# note depending on your IP Address,\n",
        "# this class may be called something different\n",
        "soup.select(\".reference\")\n",
        "# soup.select(\".cite-bracket\")"
      ]
    },
    {
      "cell_type": "code",
      "execution_count": null,
      "metadata": {
        "id": "xmXHKoGIEVAh"
      },
      "outputs": [],
      "source": [
        "for item in soup.select(\".reference\"):\n",
        "    print(item.text)"
      ]
    },
    {
      "cell_type": "markdown",
      "metadata": {
        "id": "r4vbbm3vEVAi"
      },
      "source": [
        "### Getting an Image from a Website\n"
      ]
    },
    {
      "cell_type": "markdown",
      "metadata": {
        "id": "Bzx49OHYEVAj"
      },
      "source": [
        "You can make dictionary like calls for parts of the Tag, in this case, we are interested in the **src** , or \"source\" of the image, which should be its own .jpg or .png link:"
      ]
    },
    {
      "cell_type": "markdown",
      "metadata": {
        "id": "onMMKkxgEVAn"
      },
      "source": [
        "We can actually display it with a markdown cell with the following:\n",
        "\n",
        "    <img src='https://upload.wikimedia.org/wikipedia/commons/thumb/b/be/Deep_Blue.jpg/220px-Deep_Blue.jpg'>"
      ]
    },
    {
      "cell_type": "markdown",
      "metadata": {
        "id": "tInX3KVWEVAn"
      },
      "source": [
        "<img src='https://upload.wikimedia.org/wikipedia/commons/thumb/b/be/Deep_Blue.jpg/220px-Deep_Blue.jpg'>"
      ]
    },
    {
      "cell_type": "markdown",
      "metadata": {
        "id": "ZPg-nmZOEVAo"
      },
      "source": [
        "Now that you have the actual src link, you can grab the image with requests and get along with the .content attribute. Note how we had to add https:// before the link, if you don't do this, requests will complain (but it gives you a pretty descriptive error code)."
      ]
    },
    {
      "cell_type": "markdown",
      "source": [
        "https://upload.wikimedia.org/wikipedia/commons/thumb/b/be/Deep_Blue.jpg/220px-Deep_Blue.jpg"
      ],
      "metadata": {
        "id": "1Gm6-8QUgWpe"
      }
    },
    {
      "cell_type": "code",
      "execution_count": null,
      "metadata": {
        "collapsed": true,
        "id": "hmUlf_sKEVAo"
      },
      "outputs": [],
      "source": [
        "image_link = requests.get('https://upload.wikimedia.org/wikipedia/commons/thumb/b/be/Deep_Blue.jpg/220px-Deep_Blue.jpg')"
      ]
    },
    {
      "cell_type": "code",
      "execution_count": null,
      "metadata": {
        "id": "B9O3H4IFEVAo"
      },
      "outputs": [],
      "source": [
        "# The raw content (its a binary file, meaning we will need to use binary read/write methods for saving it)\n",
        "image_link.content\n",
        "# it's a long stream of characters that represent the image in byte format (such as b'\\x89PNG\\r\\n\\x1a\\n\\x00\\x00\\x00\\rIHDR...), which is not easily readable as plain text."
      ]
    },
    {
      "cell_type": "markdown",
      "metadata": {
        "id": "T1rqcTjTEVAo"
      },
      "source": [
        "**Let's write this to a file:=, not the 'wb' call to denote a binary writing of the file.**"
      ]
    },
    {
      "cell_type": "code",
      "execution_count": null,
      "metadata": {
        "collapsed": true,
        "id": "L1u-G1fAEVAo"
      },
      "outputs": [],
      "source": [
        "f = open('my_new_file_name.jpg','wb')"
      ]
    },
    {
      "cell_type": "code",
      "execution_count": null,
      "metadata": {
        "id": "bRRd5wknEVAo"
      },
      "outputs": [],
      "source": [
        "f.write(image_link.content)"
      ]
    },
    {
      "cell_type": "code",
      "execution_count": null,
      "metadata": {
        "collapsed": true,
        "id": "UTtkY42FEVAo"
      },
      "outputs": [],
      "source": [
        "f.close()"
      ]
    },
    {
      "cell_type": "markdown",
      "metadata": {
        "id": "Klx_50uiEVAo"
      },
      "source": [
        "Now we can display this file right here in the notebook as markdown using:\n",
        "\n",
        "    <img src=\"'my_new_file_name.jpg'>\n",
        "    \n",
        "Just write the above line in a new markdown cell and it will display the image we just downloaded!"
      ]
    },
    {
      "cell_type": "markdown",
      "source": [
        "## scraping images"
      ],
      "metadata": {
        "id": "Vab1IuEHZd_L"
      }
    },
    {
      "cell_type": "markdown",
      "source": [
        "https://www.google.com/search?q=flowers&sxsrf=ALeKk00uvzQYZFJo03cukIcMS-pcmmbuRQ:1589501547816&source=lnms&tbm=isch&sa=X&ved=2ahUKEwjEm4LZyrTpAhWjhHIEHewPD1MQ_AUoAXoECBAQAw&biw=1440&bih=740"
      ],
      "metadata": {
        "id": "6wjXdtdVgr0H"
      }
    },
    {
      "cell_type": "code",
      "source": [
        "# import re # regular expressions, provides tools for matching, searching, and manipulating strings based on patterns\n",
        "import requests\n",
        "import os\n",
        "from bs4 import BeautifulSoup\n"
      ],
      "metadata": {
        "id": "CqOQaDn7vJgH"
      },
      "execution_count": null,
      "outputs": []
    },
    {
      "cell_type": "code",
      "source": [
        "f = open(\"images_flowers.txt\", \"w\")\n",
        "res=[]\n",
        "def download_google(url):\n",
        "    #url = 'https://www.google.com/search?q=flowers&sxsrf=ALeKk00uvzQYZFJo03cukIcMS-pcmmbuRQ:1589501547816&source=lnms&tbm=isch&sa=X&ved=2ahUKEwjEm4LZyrTpAhWjhHIEHewPD1MQ_AUoAXoECBAQAw&biw=1440&bih=740'\n",
        "    page = requests.get(url).text\n",
        "    soup = BeautifulSoup(page, 'html.parser')\n",
        "\n",
        "    for raw_img in soup.find_all('img'):\n",
        "        link = raw_img.get('src')\n",
        "        res.append(link)\n",
        "        if link:\n",
        "            f.write(link +\"\\n\")\n",
        "\n",
        "\n",
        "download_google('https://www.google.com/search?q=flowers&sxsrf=ALeKk00uvzQYZFJo03cukIcMS-pcmmbuRQ:1589501547816&source=lnms&tbm=isch&sa=X&ved=2ahUKEwjEm4LZyrTpAhWjhHIEHewPD1MQ_AUoAXoECBAQAw&biw=1440&bih=740')\n",
        "\n",
        "f.close()\n"
      ],
      "metadata": {
        "id": "rsrPEI46WO2M"
      },
      "execution_count": null,
      "outputs": []
    },
    {
      "cell_type": "markdown",
      "source": [
        "### Save the urls to images in a folder"
      ],
      "metadata": {
        "id": "MCNLyC8-wBOV"
      }
    },
    {
      "cell_type": "code",
      "source": [
        "# change the output_folder if you want to !!\n",
        "output_folder = \"/content/flowers\"\n",
        "if not os.path.exists(output_folder):\n",
        "    os.makedirs(output_folder)\n",
        "\n",
        "# Open a file to store image links\n",
        "f = open(\"images_flowers.txt\", \"w\")\n",
        "res = []\n",
        "\n",
        "def download_google(url):\n",
        "    # Fetch the webpage content\n",
        "    page = requests.get(url).text\n",
        "    soup = BeautifulSoup(page, 'html.parser')\n",
        "\n",
        "    # Loop through all image elements\n",
        "    for index, raw_img in enumerate(soup.find_all('img')):\n",
        "        link = raw_img.get('src')\n",
        "        if link:\n",
        "            res.append(link)\n",
        "            f.write(link + \"\\n\")\n",
        "            try:\n",
        "                # Fetch image content\n",
        "                img_data = requests.get(link).content\n",
        "                # Save image as .jpg in the specified folder\n",
        "                file_path = os.path.join(output_folder, f\"image_{index + 1}.jpg\")\n",
        "                with open(file_path, 'wb') as img_file:\n",
        "                    img_file.write(img_data)\n",
        "                print(f\"Saved: {file_path}\")\n",
        "            except Exception as e:\n",
        "                print(f\"Failed to download image {index + 1}: {e}\")\n",
        "\n",
        "# Call the function with the Google search URL\n",
        "download_google('https://www.google.com/search?q=flowers&sxsrf=ALeKk00uvzQYZFJo03cukIcMS-pcmmbuRQ:1589501547816&source=lnms&tbm=isch&sa=X&ved=2ahUKEwjEm4LZyrTpAhWjhHIEHewPD1MQ_AUoAXoECBAQAw&biw=1440&bih=740')\n",
        "\n",
        "# Close the file\n",
        "f.close()\n"
      ],
      "metadata": {
        "id": "l5bQI1jnhE4A"
      },
      "execution_count": null,
      "outputs": []
    },
    {
      "cell_type": "markdown",
      "metadata": {
        "id": "2729eea1"
      },
      "source": [
        "# Scraping Data from a Real Website + Pandas"
      ]
    },
    {
      "cell_type": "markdown",
      "source": [
        "The **requests library** in Python is a powerful and easy-to-use HTTP library for making web requests. It allows you to send HTTP/1.1 requests (GET, POST, PUT, DELETE, etc.) and handle responses from web servers."
      ],
      "metadata": {
        "id": "mT97f6r_iYsw"
      }
    },
    {
      "cell_type": "markdown",
      "source": [
        "https://en.wikipedia.org/wiki/List_of_largest_companies_in_the_United_States_by_revenue"
      ],
      "metadata": {
        "id": "4nys092GbRqi"
      }
    },
    {
      "cell_type": "code",
      "execution_count": null,
      "metadata": {
        "id": "b40dce12"
      },
      "outputs": [],
      "source": [
        "url = 'https://en.wikipedia.org/wiki/List_of_largest_companies_in_the_United_States_by_revenue'"
      ]
    },
    {
      "cell_type": "code",
      "source": [
        "page = requests.get(url)"
      ],
      "metadata": {
        "id": "5VNHmZ6qb2XS"
      },
      "execution_count": null,
      "outputs": []
    },
    {
      "cell_type": "code",
      "source": [
        "page.text"
      ],
      "metadata": {
        "id": "Vn8RE09RcM84"
      },
      "execution_count": null,
      "outputs": []
    },
    {
      "cell_type": "code",
      "source": [
        "type(page.text)"
      ],
      "metadata": {
        "id": "_Hwbl2zYcPrN"
      },
      "execution_count": null,
      "outputs": []
    },
    {
      "cell_type": "markdown",
      "source": [
        "BeautifulSoup is a Python library used for web scraping and parsing HTML or XML documents. It creates a parse tree that makes it easy to extract and manipulate data from web pages. It works with parsers like html.parser, lxml, or html5lib"
      ],
      "metadata": {
        "id": "J2jG8je6cJf0"
      }
    },
    {
      "cell_type": "code",
      "source": [
        "soup = BeautifulSoup(page.text, 'html')"
      ],
      "metadata": {
        "id": "cSX-tqykbz0p"
      },
      "execution_count": null,
      "outputs": []
    },
    {
      "cell_type": "code",
      "execution_count": null,
      "metadata": {
        "id": "2f34ad4e"
      },
      "outputs": [],
      "source": [
        "print(soup)"
      ]
    },
    {
      "cell_type": "code",
      "execution_count": null,
      "metadata": {
        "id": "c37dc505"
      },
      "outputs": [],
      "source": [
        "soup.find('table')\n",
        "# The code soup.find('table') searches for the first <table> element in the HTML content parsed by BeautifulSoup."
      ]
    },
    {
      "cell_type": "code",
      "source": [
        "len(soup.find_all('table'))"
      ],
      "metadata": {
        "id": "J4zIdKIfcyrV"
      },
      "execution_count": null,
      "outputs": []
    },
    {
      "cell_type": "code",
      "source": [
        "type(soup.find_all('table'))"
      ],
      "metadata": {
        "id": "heInu4k0c-69"
      },
      "execution_count": null,
      "outputs": []
    },
    {
      "cell_type": "code",
      "execution_count": null,
      "metadata": {
        "id": "bf140ffa"
      },
      "outputs": [],
      "source": [
        "soup.find_all('table')[1]"
      ]
    },
    {
      "cell_type": "code",
      "execution_count": null,
      "metadata": {
        "id": "9b32c90a"
      },
      "outputs": [],
      "source": [
        "soup.find('table', class_ = 'wikitable sortable')"
      ]
    },
    {
      "cell_type": "code",
      "execution_count": null,
      "metadata": {
        "id": "24a2cf59"
      },
      "outputs": [],
      "source": [
        "table = soup.find_all('table')[1]"
      ]
    },
    {
      "cell_type": "code",
      "execution_count": null,
      "metadata": {
        "id": "99862b6e"
      },
      "outputs": [],
      "source": [
        "print(table)"
      ]
    },
    {
      "cell_type": "code",
      "execution_count": null,
      "metadata": {
        "id": "6328f94e"
      },
      "outputs": [],
      "source": [
        "world_titles = table.find_all('th')"
      ]
    },
    {
      "cell_type": "code",
      "execution_count": null,
      "metadata": {
        "id": "fbb28d94"
      },
      "outputs": [],
      "source": [
        "world_titles"
      ]
    },
    {
      "cell_type": "code",
      "execution_count": null,
      "metadata": {
        "id": "b948397a"
      },
      "outputs": [],
      "source": [
        "world_table_titles = [title.text.strip() for title in world_titles]\n",
        "\n",
        "print(world_table_titles)"
      ]
    },
    {
      "cell_type": "code",
      "execution_count": null,
      "metadata": {
        "id": "7a2a61b3"
      },
      "outputs": [],
      "source": [
        "import pandas as pd"
      ]
    },
    {
      "cell_type": "code",
      "execution_count": null,
      "metadata": {
        "id": "20171246"
      },
      "outputs": [],
      "source": [
        "df = pd.DataFrame(columns = world_table_titles)\n",
        "\n",
        "df"
      ]
    },
    {
      "cell_type": "code",
      "execution_count": null,
      "metadata": {
        "id": "fdaccd2e"
      },
      "outputs": [],
      "source": [
        "column_data = table.find_all('tr')"
      ]
    },
    {
      "cell_type": "code",
      "execution_count": null,
      "metadata": {
        "id": "150fae0c"
      },
      "outputs": [],
      "source": [
        "for row in column_data[1:]:\n",
        "    row_data = row.find_all('td')\n",
        "    individual_row_data = [data.text.strip() for data in row_data]\n",
        "\n",
        "    length = len(df)\n",
        "    df.loc[length] = individual_row_data"
      ]
    },
    {
      "cell_type": "code",
      "execution_count": null,
      "metadata": {
        "id": "13567f2e",
        "colab": {
          "base_uri": "https://localhost:8080/",
          "height": 432
        },
        "outputId": "4f30a739-2040-4922-910b-299904800d69"
      },
      "outputs": [
        {
          "output_type": "execute_result",
          "data": {
            "text/plain": [
              "  Rank                                Name                       Industry  \\\n",
              "0    1                             Cargill                  Food industry   \n",
              "1    2                     Koch Industries                   Conglomerate   \n",
              "2    3                Publix Super Markets                         Retail   \n",
              "3    4                  Mars, Incorporated                  Food industry   \n",
              "4    5                               H-E-B                         Retail   \n",
              "5    6                      Reyes Holdings                    Wholesaling   \n",
              "6    7                 Enterprise Holdings                     Car rental   \n",
              "7    8               C&S Wholesale Grocers                    Wholesaling   \n",
              "8    9                              Love's  Petroleum industry and Retail   \n",
              "9   10  Southern Glazer's Wine and Spirits                  Food industry   \n",
              "\n",
              "  Revenue (USD billions) Employees             Headquarters  \n",
              "0                    177   160,000    Minnetonka, Minnesota  \n",
              "1                    125   120,000          Wichita, Kansas  \n",
              "2                   54.5   250,000        Lakeland, Florida  \n",
              "3                     47   140,000         McLean, Virginia  \n",
              "4                   43.6   145,000       San Antonio, Texas  \n",
              "5                     40    36,000       Rosemont, Illinois  \n",
              "6                     35    90,000        Clayton, Missouri  \n",
              "7                   34.7    15,000     Keene, New Hampshire  \n",
              "8                   26.5    40,000  Oklahoma City, Oklahoma  \n",
              "9                   26.0    24,000         Miramar, Florida  "
            ],
            "text/html": [
              "\n",
              "  <div id=\"df-daffbf42-ff06-4391-8fa8-1cac93349dcf\" class=\"colab-df-container\">\n",
              "    <div>\n",
              "<style scoped>\n",
              "    .dataframe tbody tr th:only-of-type {\n",
              "        vertical-align: middle;\n",
              "    }\n",
              "\n",
              "    .dataframe tbody tr th {\n",
              "        vertical-align: top;\n",
              "    }\n",
              "\n",
              "    .dataframe thead th {\n",
              "        text-align: right;\n",
              "    }\n",
              "</style>\n",
              "<table border=\"1\" class=\"dataframe\">\n",
              "  <thead>\n",
              "    <tr style=\"text-align: right;\">\n",
              "      <th></th>\n",
              "      <th>Rank</th>\n",
              "      <th>Name</th>\n",
              "      <th>Industry</th>\n",
              "      <th>Revenue (USD billions)</th>\n",
              "      <th>Employees</th>\n",
              "      <th>Headquarters</th>\n",
              "    </tr>\n",
              "  </thead>\n",
              "  <tbody>\n",
              "    <tr>\n",
              "      <th>0</th>\n",
              "      <td>1</td>\n",
              "      <td>Cargill</td>\n",
              "      <td>Food industry</td>\n",
              "      <td>177</td>\n",
              "      <td>160,000</td>\n",
              "      <td>Minnetonka, Minnesota</td>\n",
              "    </tr>\n",
              "    <tr>\n",
              "      <th>1</th>\n",
              "      <td>2</td>\n",
              "      <td>Koch Industries</td>\n",
              "      <td>Conglomerate</td>\n",
              "      <td>125</td>\n",
              "      <td>120,000</td>\n",
              "      <td>Wichita, Kansas</td>\n",
              "    </tr>\n",
              "    <tr>\n",
              "      <th>2</th>\n",
              "      <td>3</td>\n",
              "      <td>Publix Super Markets</td>\n",
              "      <td>Retail</td>\n",
              "      <td>54.5</td>\n",
              "      <td>250,000</td>\n",
              "      <td>Lakeland, Florida</td>\n",
              "    </tr>\n",
              "    <tr>\n",
              "      <th>3</th>\n",
              "      <td>4</td>\n",
              "      <td>Mars, Incorporated</td>\n",
              "      <td>Food industry</td>\n",
              "      <td>47</td>\n",
              "      <td>140,000</td>\n",
              "      <td>McLean, Virginia</td>\n",
              "    </tr>\n",
              "    <tr>\n",
              "      <th>4</th>\n",
              "      <td>5</td>\n",
              "      <td>H-E-B</td>\n",
              "      <td>Retail</td>\n",
              "      <td>43.6</td>\n",
              "      <td>145,000</td>\n",
              "      <td>San Antonio, Texas</td>\n",
              "    </tr>\n",
              "    <tr>\n",
              "      <th>5</th>\n",
              "      <td>6</td>\n",
              "      <td>Reyes Holdings</td>\n",
              "      <td>Wholesaling</td>\n",
              "      <td>40</td>\n",
              "      <td>36,000</td>\n",
              "      <td>Rosemont, Illinois</td>\n",
              "    </tr>\n",
              "    <tr>\n",
              "      <th>6</th>\n",
              "      <td>7</td>\n",
              "      <td>Enterprise Holdings</td>\n",
              "      <td>Car rental</td>\n",
              "      <td>35</td>\n",
              "      <td>90,000</td>\n",
              "      <td>Clayton, Missouri</td>\n",
              "    </tr>\n",
              "    <tr>\n",
              "      <th>7</th>\n",
              "      <td>8</td>\n",
              "      <td>C&amp;S Wholesale Grocers</td>\n",
              "      <td>Wholesaling</td>\n",
              "      <td>34.7</td>\n",
              "      <td>15,000</td>\n",
              "      <td>Keene, New Hampshire</td>\n",
              "    </tr>\n",
              "    <tr>\n",
              "      <th>8</th>\n",
              "      <td>9</td>\n",
              "      <td>Love's</td>\n",
              "      <td>Petroleum industry and Retail</td>\n",
              "      <td>26.5</td>\n",
              "      <td>40,000</td>\n",
              "      <td>Oklahoma City, Oklahoma</td>\n",
              "    </tr>\n",
              "    <tr>\n",
              "      <th>9</th>\n",
              "      <td>10</td>\n",
              "      <td>Southern Glazer's Wine and Spirits</td>\n",
              "      <td>Food industry</td>\n",
              "      <td>26.0</td>\n",
              "      <td>24,000</td>\n",
              "      <td>Miramar, Florida</td>\n",
              "    </tr>\n",
              "  </tbody>\n",
              "</table>\n",
              "</div>\n",
              "    <div class=\"colab-df-buttons\">\n",
              "\n",
              "  <div class=\"colab-df-container\">\n",
              "    <button class=\"colab-df-convert\" onclick=\"convertToInteractive('df-daffbf42-ff06-4391-8fa8-1cac93349dcf')\"\n",
              "            title=\"Convert this dataframe to an interactive table.\"\n",
              "            style=\"display:none;\">\n",
              "\n",
              "  <svg xmlns=\"http://www.w3.org/2000/svg\" height=\"24px\" viewBox=\"0 -960 960 960\">\n",
              "    <path d=\"M120-120v-720h720v720H120Zm60-500h600v-160H180v160Zm220 220h160v-160H400v160Zm0 220h160v-160H400v160ZM180-400h160v-160H180v160Zm440 0h160v-160H620v160ZM180-180h160v-160H180v160Zm440 0h160v-160H620v160Z\"/>\n",
              "  </svg>\n",
              "    </button>\n",
              "\n",
              "  <style>\n",
              "    .colab-df-container {\n",
              "      display:flex;\n",
              "      gap: 12px;\n",
              "    }\n",
              "\n",
              "    .colab-df-convert {\n",
              "      background-color: #E8F0FE;\n",
              "      border: none;\n",
              "      border-radius: 50%;\n",
              "      cursor: pointer;\n",
              "      display: none;\n",
              "      fill: #1967D2;\n",
              "      height: 32px;\n",
              "      padding: 0 0 0 0;\n",
              "      width: 32px;\n",
              "    }\n",
              "\n",
              "    .colab-df-convert:hover {\n",
              "      background-color: #E2EBFA;\n",
              "      box-shadow: 0px 1px 2px rgba(60, 64, 67, 0.3), 0px 1px 3px 1px rgba(60, 64, 67, 0.15);\n",
              "      fill: #174EA6;\n",
              "    }\n",
              "\n",
              "    .colab-df-buttons div {\n",
              "      margin-bottom: 4px;\n",
              "    }\n",
              "\n",
              "    [theme=dark] .colab-df-convert {\n",
              "      background-color: #3B4455;\n",
              "      fill: #D2E3FC;\n",
              "    }\n",
              "\n",
              "    [theme=dark] .colab-df-convert:hover {\n",
              "      background-color: #434B5C;\n",
              "      box-shadow: 0px 1px 3px 1px rgba(0, 0, 0, 0.15);\n",
              "      filter: drop-shadow(0px 1px 2px rgba(0, 0, 0, 0.3));\n",
              "      fill: #FFFFFF;\n",
              "    }\n",
              "  </style>\n",
              "\n",
              "    <script>\n",
              "      const buttonEl =\n",
              "        document.querySelector('#df-daffbf42-ff06-4391-8fa8-1cac93349dcf button.colab-df-convert');\n",
              "      buttonEl.style.display =\n",
              "        google.colab.kernel.accessAllowed ? 'block' : 'none';\n",
              "\n",
              "      async function convertToInteractive(key) {\n",
              "        const element = document.querySelector('#df-daffbf42-ff06-4391-8fa8-1cac93349dcf');\n",
              "        const dataTable =\n",
              "          await google.colab.kernel.invokeFunction('convertToInteractive',\n",
              "                                                    [key], {});\n",
              "        if (!dataTable) return;\n",
              "\n",
              "        const docLinkHtml = 'Like what you see? Visit the ' +\n",
              "          '<a target=\"_blank\" href=https://colab.research.google.com/notebooks/data_table.ipynb>data table notebook</a>'\n",
              "          + ' to learn more about interactive tables.';\n",
              "        element.innerHTML = '';\n",
              "        dataTable['output_type'] = 'display_data';\n",
              "        await google.colab.output.renderOutput(dataTable, element);\n",
              "        const docLink = document.createElement('div');\n",
              "        docLink.innerHTML = docLinkHtml;\n",
              "        element.appendChild(docLink);\n",
              "      }\n",
              "    </script>\n",
              "  </div>\n",
              "\n",
              "\n",
              "<div id=\"df-d2ab400c-dbe4-4a4f-bd77-2ee30d75f9c2\">\n",
              "  <button class=\"colab-df-quickchart\" onclick=\"quickchart('df-d2ab400c-dbe4-4a4f-bd77-2ee30d75f9c2')\"\n",
              "            title=\"Suggest charts\"\n",
              "            style=\"display:none;\">\n",
              "\n",
              "<svg xmlns=\"http://www.w3.org/2000/svg\" height=\"24px\"viewBox=\"0 0 24 24\"\n",
              "     width=\"24px\">\n",
              "    <g>\n",
              "        <path d=\"M19 3H5c-1.1 0-2 .9-2 2v14c0 1.1.9 2 2 2h14c1.1 0 2-.9 2-2V5c0-1.1-.9-2-2-2zM9 17H7v-7h2v7zm4 0h-2V7h2v10zm4 0h-2v-4h2v4z\"/>\n",
              "    </g>\n",
              "</svg>\n",
              "  </button>\n",
              "\n",
              "<style>\n",
              "  .colab-df-quickchart {\n",
              "      --bg-color: #E8F0FE;\n",
              "      --fill-color: #1967D2;\n",
              "      --hover-bg-color: #E2EBFA;\n",
              "      --hover-fill-color: #174EA6;\n",
              "      --disabled-fill-color: #AAA;\n",
              "      --disabled-bg-color: #DDD;\n",
              "  }\n",
              "\n",
              "  [theme=dark] .colab-df-quickchart {\n",
              "      --bg-color: #3B4455;\n",
              "      --fill-color: #D2E3FC;\n",
              "      --hover-bg-color: #434B5C;\n",
              "      --hover-fill-color: #FFFFFF;\n",
              "      --disabled-bg-color: #3B4455;\n",
              "      --disabled-fill-color: #666;\n",
              "  }\n",
              "\n",
              "  .colab-df-quickchart {\n",
              "    background-color: var(--bg-color);\n",
              "    border: none;\n",
              "    border-radius: 50%;\n",
              "    cursor: pointer;\n",
              "    display: none;\n",
              "    fill: var(--fill-color);\n",
              "    height: 32px;\n",
              "    padding: 0;\n",
              "    width: 32px;\n",
              "  }\n",
              "\n",
              "  .colab-df-quickchart:hover {\n",
              "    background-color: var(--hover-bg-color);\n",
              "    box-shadow: 0 1px 2px rgba(60, 64, 67, 0.3), 0 1px 3px 1px rgba(60, 64, 67, 0.15);\n",
              "    fill: var(--button-hover-fill-color);\n",
              "  }\n",
              "\n",
              "  .colab-df-quickchart-complete:disabled,\n",
              "  .colab-df-quickchart-complete:disabled:hover {\n",
              "    background-color: var(--disabled-bg-color);\n",
              "    fill: var(--disabled-fill-color);\n",
              "    box-shadow: none;\n",
              "  }\n",
              "\n",
              "  .colab-df-spinner {\n",
              "    border: 2px solid var(--fill-color);\n",
              "    border-color: transparent;\n",
              "    border-bottom-color: var(--fill-color);\n",
              "    animation:\n",
              "      spin 1s steps(1) infinite;\n",
              "  }\n",
              "\n",
              "  @keyframes spin {\n",
              "    0% {\n",
              "      border-color: transparent;\n",
              "      border-bottom-color: var(--fill-color);\n",
              "      border-left-color: var(--fill-color);\n",
              "    }\n",
              "    20% {\n",
              "      border-color: transparent;\n",
              "      border-left-color: var(--fill-color);\n",
              "      border-top-color: var(--fill-color);\n",
              "    }\n",
              "    30% {\n",
              "      border-color: transparent;\n",
              "      border-left-color: var(--fill-color);\n",
              "      border-top-color: var(--fill-color);\n",
              "      border-right-color: var(--fill-color);\n",
              "    }\n",
              "    40% {\n",
              "      border-color: transparent;\n",
              "      border-right-color: var(--fill-color);\n",
              "      border-top-color: var(--fill-color);\n",
              "    }\n",
              "    60% {\n",
              "      border-color: transparent;\n",
              "      border-right-color: var(--fill-color);\n",
              "    }\n",
              "    80% {\n",
              "      border-color: transparent;\n",
              "      border-right-color: var(--fill-color);\n",
              "      border-bottom-color: var(--fill-color);\n",
              "    }\n",
              "    90% {\n",
              "      border-color: transparent;\n",
              "      border-bottom-color: var(--fill-color);\n",
              "    }\n",
              "  }\n",
              "</style>\n",
              "\n",
              "  <script>\n",
              "    async function quickchart(key) {\n",
              "      const quickchartButtonEl =\n",
              "        document.querySelector('#' + key + ' button');\n",
              "      quickchartButtonEl.disabled = true;  // To prevent multiple clicks.\n",
              "      quickchartButtonEl.classList.add('colab-df-spinner');\n",
              "      try {\n",
              "        const charts = await google.colab.kernel.invokeFunction(\n",
              "            'suggestCharts', [key], {});\n",
              "      } catch (error) {\n",
              "        console.error('Error during call to suggestCharts:', error);\n",
              "      }\n",
              "      quickchartButtonEl.classList.remove('colab-df-spinner');\n",
              "      quickchartButtonEl.classList.add('colab-df-quickchart-complete');\n",
              "    }\n",
              "    (() => {\n",
              "      let quickchartButtonEl =\n",
              "        document.querySelector('#df-d2ab400c-dbe4-4a4f-bd77-2ee30d75f9c2 button');\n",
              "      quickchartButtonEl.style.display =\n",
              "        google.colab.kernel.accessAllowed ? 'block' : 'none';\n",
              "    })();\n",
              "  </script>\n",
              "</div>\n",
              "\n",
              "  <div id=\"id_8c35e3ab-65a5-4ce3-9c2f-c4333aaa176d\">\n",
              "    <style>\n",
              "      .colab-df-generate {\n",
              "        background-color: #E8F0FE;\n",
              "        border: none;\n",
              "        border-radius: 50%;\n",
              "        cursor: pointer;\n",
              "        display: none;\n",
              "        fill: #1967D2;\n",
              "        height: 32px;\n",
              "        padding: 0 0 0 0;\n",
              "        width: 32px;\n",
              "      }\n",
              "\n",
              "      .colab-df-generate:hover {\n",
              "        background-color: #E2EBFA;\n",
              "        box-shadow: 0px 1px 2px rgba(60, 64, 67, 0.3), 0px 1px 3px 1px rgba(60, 64, 67, 0.15);\n",
              "        fill: #174EA6;\n",
              "      }\n",
              "\n",
              "      [theme=dark] .colab-df-generate {\n",
              "        background-color: #3B4455;\n",
              "        fill: #D2E3FC;\n",
              "      }\n",
              "\n",
              "      [theme=dark] .colab-df-generate:hover {\n",
              "        background-color: #434B5C;\n",
              "        box-shadow: 0px 1px 3px 1px rgba(0, 0, 0, 0.15);\n",
              "        filter: drop-shadow(0px 1px 2px rgba(0, 0, 0, 0.3));\n",
              "        fill: #FFFFFF;\n",
              "      }\n",
              "    </style>\n",
              "    <button class=\"colab-df-generate\" onclick=\"generateWithVariable('df')\"\n",
              "            title=\"Generate code using this dataframe.\"\n",
              "            style=\"display:none;\">\n",
              "\n",
              "  <svg xmlns=\"http://www.w3.org/2000/svg\" height=\"24px\"viewBox=\"0 0 24 24\"\n",
              "       width=\"24px\">\n",
              "    <path d=\"M7,19H8.4L18.45,9,17,7.55,7,17.6ZM5,21V16.75L18.45,3.32a2,2,0,0,1,2.83,0l1.4,1.43a1.91,1.91,0,0,1,.58,1.4,1.91,1.91,0,0,1-.58,1.4L9.25,21ZM18.45,9,17,7.55Zm-12,3A5.31,5.31,0,0,0,4.9,8.1,5.31,5.31,0,0,0,1,6.5,5.31,5.31,0,0,0,4.9,4.9,5.31,5.31,0,0,0,6.5,1,5.31,5.31,0,0,0,8.1,4.9,5.31,5.31,0,0,0,12,6.5,5.46,5.46,0,0,0,6.5,12Z\"/>\n",
              "  </svg>\n",
              "    </button>\n",
              "    <script>\n",
              "      (() => {\n",
              "      const buttonEl =\n",
              "        document.querySelector('#id_8c35e3ab-65a5-4ce3-9c2f-c4333aaa176d button.colab-df-generate');\n",
              "      buttonEl.style.display =\n",
              "        google.colab.kernel.accessAllowed ? 'block' : 'none';\n",
              "\n",
              "      buttonEl.onclick = () => {\n",
              "        google.colab.notebook.generateWithVariable('df');\n",
              "      }\n",
              "      })();\n",
              "    </script>\n",
              "  </div>\n",
              "\n",
              "    </div>\n",
              "  </div>\n"
            ],
            "application/vnd.google.colaboratory.intrinsic+json": {
              "type": "dataframe",
              "variable_name": "df",
              "summary": "{\n  \"name\": \"df\",\n  \"rows\": 10,\n  \"fields\": [\n    {\n      \"column\": \"Rank\",\n      \"properties\": {\n        \"dtype\": \"string\",\n        \"num_unique_values\": 10,\n        \"samples\": [\n          \"9\",\n          \"2\",\n          \"6\"\n        ],\n        \"semantic_type\": \"\",\n        \"description\": \"\"\n      }\n    },\n    {\n      \"column\": \"Name\",\n      \"properties\": {\n        \"dtype\": \"string\",\n        \"num_unique_values\": 10,\n        \"samples\": [\n          \"Love's\",\n          \"Koch Industries\",\n          \"Reyes Holdings\"\n        ],\n        \"semantic_type\": \"\",\n        \"description\": \"\"\n      }\n    },\n    {\n      \"column\": \"Industry\",\n      \"properties\": {\n        \"dtype\": \"string\",\n        \"num_unique_values\": 6,\n        \"samples\": [\n          \"Food industry\",\n          \"Conglomerate\",\n          \"Petroleum industry and Retail\"\n        ],\n        \"semantic_type\": \"\",\n        \"description\": \"\"\n      }\n    },\n    {\n      \"column\": \"Revenue (USD billions)\",\n      \"properties\": {\n        \"dtype\": \"string\",\n        \"num_unique_values\": 10,\n        \"samples\": [\n          \"26.5\",\n          \"125\",\n          \"40\"\n        ],\n        \"semantic_type\": \"\",\n        \"description\": \"\"\n      }\n    },\n    {\n      \"column\": \"Employees\",\n      \"properties\": {\n        \"dtype\": \"string\",\n        \"num_unique_values\": 10,\n        \"samples\": [\n          \"40,000\",\n          \"120,000\",\n          \"36,000\"\n        ],\n        \"semantic_type\": \"\",\n        \"description\": \"\"\n      }\n    },\n    {\n      \"column\": \"Headquarters\",\n      \"properties\": {\n        \"dtype\": \"string\",\n        \"num_unique_values\": 10,\n        \"samples\": [\n          \"Oklahoma City, Oklahoma\",\n          \"Wichita, Kansas\",\n          \"Rosemont, Illinois\"\n        ],\n        \"semantic_type\": \"\",\n        \"description\": \"\"\n      }\n    }\n  ]\n}"
            }
          },
          "metadata": {},
          "execution_count": 61
        }
      ],
      "source": [
        "df"
      ]
    },
    {
      "cell_type": "code",
      "execution_count": null,
      "metadata": {
        "id": "16a23da9"
      },
      "outputs": [],
      "source": [
        "df.to_csv('Companies.csv', index = False)"
      ]
    },
    {
      "cell_type": "code",
      "source": [],
      "metadata": {
        "id": "yP3cSxTeeGEz"
      },
      "execution_count": null,
      "outputs": []
    }
  ],
  "metadata": {
    "anaconda-cloud": {},
    "kernelspec": {
      "display_name": "Python 3",
      "language": "python",
      "name": "python3"
    },
    "language_info": {
      "codemirror_mode": {
        "name": "ipython",
        "version": 3
      },
      "file_extension": ".py",
      "mimetype": "text/x-python",
      "name": "python",
      "nbconvert_exporter": "python",
      "pygments_lexer": "ipython3",
      "version": "3.6.6"
    },
    "colab": {
      "provenance": []
    }
  },
  "nbformat": 4,
  "nbformat_minor": 0
}