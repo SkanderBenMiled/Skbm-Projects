{
  "nbformat": 4,
  "nbformat_minor": 0,
  "metadata": {
    "colab": {
      "provenance": []
    },
    "kernelspec": {
      "name": "python3",
      "display_name": "Python 3"
    },
    "language_info": {
      "name": "python"
    }
  },
  "cells": [
    {
      "cell_type": "code",
      "execution_count": null,
      "metadata": {
        "id": "EEfWQFUxlybg"
      },
      "outputs": [],
      "source": []
    },
    {
      "cell_type": "markdown",
      "metadata": {
        "id": "Yrbr_EO5LGlq"
      },
      "source": [
        "# Web Scraping Exercises - Solutions\n",
        "\n",
        "## Complete the Tasks Below"
      ]
    },
    {
      "cell_type": "markdown",
      "metadata": {
        "id": "dAFcjss-LGlt"
      },
      "source": [
        "**TASK: Import any libraries you think you'll need to scrape a website.**"
      ]
    },
    {
      "cell_type": "code",
      "execution_count": null,
      "metadata": {
        "collapsed": true,
        "id": "IMG4jhJXLGlw"
      },
      "outputs": [],
      "source": [
        "# CODE HERE"
      ]
    },
    {
      "cell_type": "code",
      "execution_count": null,
      "metadata": {
        "collapsed": true,
        "id": "9IqsZMekLGlz"
      },
      "outputs": [],
      "source": [
        "import requests\n",
        "import bs4"
      ]
    },
    {
      "cell_type": "markdown",
      "metadata": {
        "id": "E9PsAkNvLGl1"
      },
      "source": [
        "**TASK: Use requests library and BeautifulSoup to connect to http://quotes.toscrape.com/ and get the HMTL text from the homepage.**"
      ]
    },
    {
      "cell_type": "code",
      "execution_count": null,
      "metadata": {
        "collapsed": true,
        "id": "dqonensFLGl2"
      },
      "outputs": [],
      "source": [
        "# CODE HERE"
      ]
    },
    {
      "cell_type": "code",
      "execution_count": null,
      "metadata": {
        "collapsed": true,
        "id": "X2Ti5soRLGl4"
      },
      "outputs": [],
      "source": [
        "res = requests.get(\"http://quotes.toscrape.com/\")"
      ]
    },
    {
      "cell_type": "code",
      "execution_count": null,
      "metadata": {
        "id": "ZKCg5kVDLGl6"
      },
      "outputs": [],
      "source": [
        "res.text"
      ]
    },
    {
      "cell_type": "markdown",
      "metadata": {
        "id": "44bXIj5GLGl-"
      },
      "source": [
        "**TASK: Get the names of all the authors on the first page.**"
      ]
    },
    {
      "cell_type": "code",
      "execution_count": null,
      "metadata": {
        "collapsed": true,
        "id": "vGtbm91JLGl_"
      },
      "outputs": [],
      "source": [
        "# CODE HERE"
      ]
    },
    {
      "cell_type": "code",
      "execution_count": null,
      "metadata": {
        "collapsed": true,
        "id": "dqWRhIWHLGmA"
      },
      "outputs": [],
      "source": [
        "soup = bs4.BeautifulSoup(res.text,'lxml')"
      ]
    },
    {
      "cell_type": "code",
      "source": [
        "soup"
      ],
      "metadata": {
        "id": "msVU2lQvwso5"
      },
      "execution_count": null,
      "outputs": []
    },
    {
      "cell_type": "code",
      "execution_count": null,
      "metadata": {
        "id": "5-h-CaMYLGmB"
      },
      "outputs": [],
      "source": [
        "soup.select(\".author\")"
      ]
    },
    {
      "cell_type": "code",
      "execution_count": null,
      "metadata": {
        "collapsed": true,
        "id": "DZpIBj94LGmC"
      },
      "outputs": [],
      "source": [
        "# I used a set to not worry about repeat authors.\n",
        "authors = set()\n",
        "for name in soup.select(\".author\"):\n",
        "    authors.add(name.text)"
      ]
    },
    {
      "cell_type": "code",
      "execution_count": null,
      "metadata": {
        "id": "xxZc_q1qLGmC"
      },
      "outputs": [],
      "source": [
        "authors"
      ]
    },
    {
      "cell_type": "code",
      "source": [
        "l = soup.select(\".author\")\n",
        "authors = set()\n",
        "for name in l:\n",
        "    authors.add(name.text)"
      ],
      "metadata": {
        "id": "EvUckG_5xy6z"
      },
      "execution_count": null,
      "outputs": []
    },
    {
      "cell_type": "code",
      "source": [
        "authors"
      ],
      "metadata": {
        "id": "TSlhAG2Lx9vc"
      },
      "execution_count": null,
      "outputs": []
    },
    {
      "cell_type": "markdown",
      "metadata": {
        "id": "3dwvQFkWLGmD"
      },
      "source": [
        "**TASK: Create a list of all the quotes on the first page.**"
      ]
    },
    {
      "cell_type": "code",
      "execution_count": null,
      "metadata": {
        "collapsed": true,
        "id": "IpD5EA63LGmE"
      },
      "outputs": [],
      "source": [
        "#CODE HERE"
      ]
    },
    {
      "cell_type": "code",
      "execution_count": null,
      "metadata": {
        "collapsed": true,
        "id": "KIMnQYmeLGmE"
      },
      "outputs": [],
      "source": [
        "quotes = []\n",
        "for quote in soup.select(\".text\"):\n",
        "    quotes.append(quote.text)"
      ]
    },
    {
      "cell_type": "code",
      "execution_count": null,
      "metadata": {
        "id": "3zCHZ0KmLGmF"
      },
      "outputs": [],
      "source": [
        "quotes"
      ]
    },
    {
      "cell_type": "markdown",
      "metadata": {
        "id": "yGPC6yT4LGmF"
      },
      "source": [
        "**TASK: Inspect the site and use Beautiful Soup to extract the top ten tags from the requests text shown on the top right from the home page (e.g Love,Inspirational,Life, etc...). HINT: Keep in mind there are also tags underneath each quote, try to find a class only present in the top right tags, perhaps check the span.**"
      ]
    },
    {
      "cell_type": "code",
      "execution_count": null,
      "metadata": {
        "collapsed": true,
        "id": "BqEy2II-LGmG"
      },
      "outputs": [],
      "source": [
        "# CODE HERE"
      ]
    },
    {
      "cell_type": "code",
      "execution_count": null,
      "metadata": {
        "collapsed": true,
        "id": "ZvJIU9ydLGmG"
      },
      "outputs": [],
      "source": [
        "soup = bs4.BeautifulSoup(res.text,'lxml')"
      ]
    },
    {
      "cell_type": "code",
      "execution_count": null,
      "metadata": {
        "id": "M5ZvspcYLGmH"
      },
      "outputs": [],
      "source": [
        "soup.select('.tag-item')"
      ]
    },
    {
      "cell_type": "code",
      "execution_count": null,
      "metadata": {
        "id": "tpj2ej_ELGmH"
      },
      "outputs": [],
      "source": [
        "for item in soup.select(\".tag-item\"):\n",
        "    print(item.text)"
      ]
    },
    {
      "cell_type": "code",
      "source": [
        "item_list = []\n",
        "for item in soup.select(\".tag-item\"):\n",
        "    item_list.append(item.text)\n",
        "item_list"
      ],
      "metadata": {
        "id": "tJfoxl1NzSwd"
      },
      "execution_count": null,
      "outputs": []
    },
    {
      "cell_type": "code",
      "source": [
        "item_list = []\n",
        "for item in soup.select(\".tag-item\"):\n",
        "    item_list.append(item.text.strip())\n",
        "item_list"
      ],
      "metadata": {
        "id": "wLFTWc9gzhZt"
      },
      "execution_count": null,
      "outputs": []
    },
    {
      "cell_type": "markdown",
      "metadata": {
        "id": "h_S_epGiLGmI"
      },
      "source": [
        "**TASK: Notice how there is more than one page, and subsequent pages look like this http://quotes.toscrape.com/page/2/. Use what you know about for loops and string concatenation to loop through all the pages and get all the unique authors on the website. Keep in mind there are many ways to achieve this, also note that you will need to somehow figure out how to check that your loop is on the last page with quotes. For debugging purposes, I will let you know that there are only 10 pages, so the last page is http://quotes.toscrape.com/page/10/, but try to create a loop that is robust enough that it wouldn't matter to know the amount of pages beforehand, perhaps use try/except for this, its up to you!**"
      ]
    },
    {
      "cell_type": "code",
      "execution_count": null,
      "metadata": {
        "collapsed": true,
        "id": "IR_vJ22RLGmI"
      },
      "outputs": [],
      "source": [
        "# CODE HERE"
      ]
    },
    {
      "cell_type": "markdown",
      "metadata": {
        "id": "lNUSi2I9LGmI"
      },
      "source": [
        "### Possible Solution #1 ( Assuming You Know Number of Pages)"
      ]
    },
    {
      "cell_type": "code",
      "execution_count": null,
      "metadata": {
        "collapsed": true,
        "id": "dJOkyXVWLGmI"
      },
      "outputs": [],
      "source": [
        "url = 'http://quotes.toscrape.com/page/'"
      ]
    },
    {
      "cell_type": "code",
      "execution_count": null,
      "metadata": {
        "collapsed": true,
        "id": "GyU20Ma9LGmJ"
      },
      "outputs": [],
      "source": [
        "authors = set()\n",
        "\n",
        "for page in range(1,11):\n",
        "\n",
        "    # Concatenate to get new page URL\n",
        "    page_url = url+str(page)\n",
        "    # Obtain Request\n",
        "    res = requests.get(page_url)\n",
        "    # Turn into Soup\n",
        "    soup = bs4.BeautifulSoup(res.text,'lxml')\n",
        "    # Add Authors to our set\n",
        "    for name in soup.select(\".author\"):\n",
        "        authors.add(name.text)\n"
      ]
    },
    {
      "cell_type": "code",
      "source": [
        "for page in range(1,11):\n",
        "    page_url = url+str(page)\n",
        "    print(page_url)"
      ],
      "metadata": {
        "id": "L0qMY-rp0uxr"
      },
      "execution_count": null,
      "outputs": []
    },
    {
      "cell_type": "markdown",
      "metadata": {
        "id": "hM6ljOTWLGmK"
      },
      "source": [
        "### Possible Solution #2 ( Unknown Number of Pages, but knowledge of last page)"
      ]
    },
    {
      "cell_type": "markdown",
      "metadata": {
        "id": "bq3lt5PHLGmK"
      },
      "source": [
        "Let's check what the last invalid page looks like:"
      ]
    },
    {
      "cell_type": "code",
      "execution_count": null,
      "metadata": {
        "collapsed": true,
        "id": "s5p1caH7LGmK"
      },
      "outputs": [],
      "source": [
        "# Choose some huge page number we know doesn't exist\n",
        "page_url = url+str(9999999)\n",
        "\n",
        "# Obtain Request\n",
        "res = requests.get(page_url)\n",
        "\n",
        "# Turn into Soup\n",
        "soup = bs4.BeautifulSoup(res.text,'lxml')"
      ]
    },
    {
      "cell_type": "code",
      "execution_count": null,
      "metadata": {
        "id": "dYDG44EuLGmL"
      },
      "outputs": [],
      "source": [
        "soup"
      ]
    },
    {
      "cell_type": "code",
      "execution_count": null,
      "metadata": {
        "id": "ki7mxTLLLGmL"
      },
      "outputs": [],
      "source": [
        "# This solution requires that the string \"No quotes found!\" only occurs on the last page.\n",
        "# If for some reason this string was on the other pages, we would need to be more detailed.\n",
        "\"No quotes found!\" in res.text"
      ]
    },
    {
      "cell_type": "code",
      "execution_count": null,
      "metadata": {
        "collapsed": true,
        "id": "EofhKqqLLGmM"
      },
      "outputs": [],
      "source": [
        "page_still_valid = True\n",
        "authors = set()\n",
        "page = 1\n",
        "\n",
        "while page_still_valid:\n",
        "\n",
        "    # Concatenate to get new page URL\n",
        "    page_url = url+str(page)\n",
        "\n",
        "    # Obtain Request\n",
        "    res = requests.get(page_url)\n",
        "\n",
        "    # Check to see if we're on the last page\n",
        "    if \"No quotes found!\" in res.text:\n",
        "        break\n",
        "\n",
        "    # Turn into Soup\n",
        "    soup = bs4.BeautifulSoup(res.text,'lxml')\n",
        "\n",
        "    # Add Authors to our set\n",
        "    for name in soup.select(\".author\"):\n",
        "        authors.add(name.text)\n",
        "\n",
        "    # Go to Next Page\n",
        "    page += 1"
      ]
    },
    {
      "cell_type": "code",
      "execution_count": null,
      "metadata": {
        "id": "PuSGqk0rLGmN"
      },
      "outputs": [],
      "source": [
        "authors"
      ]
    },
    {
      "cell_type": "markdown",
      "source": [
        "#  Project - Working with Multiple Pages and Items\n"
      ],
      "metadata": {
        "id": "CLkPqlMdZJnm"
      }
    },
    {
      "cell_type": "markdown",
      "metadata": {
        "id": "lE-gJkJbEVAp"
      },
      "source": [
        "\n",
        "Let's show a more realistic example of scraping a full site. The website: http://books.toscrape.com/index.html is specifically designed for people to scrape it. Let's try to get the title of every book that has a 2 star rating and at the end just have a Python list with all their titles.\n",
        "\n",
        "We will do the following:\n",
        "\n",
        "1. Figure out the URL structure to go through every page\n",
        "2. Scrap every page in the catalogue\n",
        "3. Figure out what tag/class represents the Star rating\n",
        "4. Filter by that star rating using an if statement\n",
        "5. Store the results to a list"
      ]
    },
    {
      "cell_type": "markdown",
      "metadata": {
        "collapsed": true,
        "id": "gqfWqSGQEVAp"
      },
      "source": [
        "We can see that the URL structure is the following:\n",
        "\n",
        "    http://books.toscrape.com/catalogue/page-1.html"
      ]
    },
    {
      "cell_type": "code",
      "source": [
        "s = 'sarra{}hanen'\n",
        "s.format('&')"
      ],
      "metadata": {
        "id": "Oe8aS6zNM8e4"
      },
      "execution_count": null,
      "outputs": []
    },
    {
      "cell_type": "code",
      "execution_count": null,
      "metadata": {
        "collapsed": true,
        "id": "T_WQw7sIEVAp"
      },
      "outputs": [],
      "source": [
        "base_url = 'http://books.toscrape.com/catalogue/page-{}.html'"
      ]
    },
    {
      "cell_type": "markdown",
      "metadata": {
        "id": "_mOKDIaPEVAp"
      },
      "source": [
        "We can then fill in the page number with .format()"
      ]
    },
    {
      "cell_type": "code",
      "execution_count": null,
      "metadata": {
        "collapsed": true,
        "id": "QtoTH6VEEVAp"
      },
      "outputs": [],
      "source": [
        "res = requests.get(base_url.format('1'))"
      ]
    },
    {
      "cell_type": "markdown",
      "metadata": {
        "id": "oWaPIYrHEVAp"
      },
      "source": [
        "Now let's grab the products (books) from the get request result:"
      ]
    },
    {
      "cell_type": "code",
      "execution_count": null,
      "metadata": {
        "collapsed": true,
        "id": "gxc9_TF6EVAp"
      },
      "outputs": [],
      "source": [
        "soup = bs4.BeautifulSoup(res.text,\"lxml\")"
      ]
    },
    {
      "cell_type": "code",
      "execution_count": null,
      "metadata": {
        "id": "OYmsTBDvEVAq"
      },
      "outputs": [],
      "source": [
        "soup.select(\".product_pod\")"
      ]
    },
    {
      "cell_type": "markdown",
      "metadata": {
        "id": "y89Qi8LZEVAq"
      },
      "source": [
        "Now we can see that each book has the product_pod class. We can select any tag with this class, and then further reduce it by its rating."
      ]
    },
    {
      "cell_type": "code",
      "execution_count": null,
      "metadata": {
        "collapsed": true,
        "id": "w2zK67MaEVAq"
      },
      "outputs": [],
      "source": [
        "products = soup.select(\".product_pod\")"
      ]
    },
    {
      "cell_type": "code",
      "execution_count": null,
      "metadata": {
        "collapsed": true,
        "id": "J2IlpH5IEVAq"
      },
      "outputs": [],
      "source": [
        "example = products[0]"
      ]
    },
    {
      "cell_type": "code",
      "execution_count": null,
      "metadata": {
        "id": "hm4zJBvgEVAq"
      },
      "outputs": [],
      "source": [
        "type(example)"
      ]
    },
    {
      "cell_type": "code",
      "source": [
        "example"
      ],
      "metadata": {
        "id": "SAx6zyZzFyN2"
      },
      "execution_count": null,
      "outputs": []
    },
    {
      "cell_type": "code",
      "source": [
        "example.text"
      ],
      "metadata": {
        "id": "2YDKjqEgF0YF"
      },
      "execution_count": null,
      "outputs": []
    },
    {
      "cell_type": "code",
      "execution_count": null,
      "metadata": {
        "id": "WrgUJoxBEVAq"
      },
      "outputs": [],
      "source": [
        "example.attrs"
      ]
    },
    {
      "cell_type": "markdown",
      "metadata": {
        "id": "Mup38i7DEVAq"
      },
      "source": [
        "Now by inspecting the site we can see that the class we want is class='star-rating Two' , if you click on this in your browser, you'll notice it displays the space as a . , so that means we want to search for \".star-rating.Two\""
      ]
    },
    {
      "cell_type": "code",
      "source": [
        "example"
      ],
      "metadata": {
        "id": "dMb6gW5aJAyi"
      },
      "execution_count": null,
      "outputs": []
    },
    {
      "cell_type": "code",
      "execution_count": null,
      "metadata": {
        "id": "zbN6HpRhEVAr"
      },
      "outputs": [],
      "source": [
        "products = soup.select(\".product_pod\")\n",
        "example = products[0]\n",
        "list(example.children)"
      ]
    },
    {
      "cell_type": "code",
      "execution_count": null,
      "metadata": {
        "id": "vho52nyZEVAr"
      },
      "outputs": [],
      "source": [
        "example.select('.star-rating.Three')"
      ]
    },
    {
      "cell_type": "markdown",
      "metadata": {
        "id": "ISSysiemEVAr"
      },
      "source": [
        "But we are looking for 2 stars, so it looks like we can just check to see if something was returned"
      ]
    },
    {
      "cell_type": "code",
      "execution_count": null,
      "metadata": {
        "id": "ubraeVzWEVAr"
      },
      "outputs": [],
      "source": [
        "example.select('.star-rating.Two')"
      ]
    },
    {
      "cell_type": "markdown",
      "metadata": {
        "id": "iKSBb_E-EVAr"
      },
      "source": [
        "Alternatively, we can just quickly check the text string to see if \"star-rating Two\" is in it. Either approach is fine (there are also many other alternative approaches!)\n",
        "\n",
        "Now let's see how we can get the title if we have a 2-star match:"
      ]
    },
    {
      "cell_type": "code",
      "source": [
        "example"
      ],
      "metadata": {
        "id": "45A0GYu0WpJe"
      },
      "execution_count": null,
      "outputs": []
    },
    {
      "cell_type": "code",
      "execution_count": null,
      "metadata": {
        "id": "3LEvKnieEVAr"
      },
      "outputs": [],
      "source": [
        "example.select('a')"
      ]
    },
    {
      "cell_type": "code",
      "execution_count": null,
      "metadata": {
        "id": "H4SSsJ97EVAr"
      },
      "outputs": [],
      "source": [
        "example.select('a')[1]"
      ]
    },
    {
      "cell_type": "code",
      "execution_count": null,
      "metadata": {
        "id": "MYlKBuX_EVAs"
      },
      "outputs": [],
      "source": [
        "example.select('a')[1]['title']"
      ]
    },
    {
      "cell_type": "markdown",
      "metadata": {
        "id": "fW4GMA3_EVAs"
      },
      "source": [
        "Okay, let's give it a shot by combining all the ideas we've talked about! (this should take about 20-60 seconds to complete running. Be aware a firwall may prevent this script from running. Also if you are getting a no response error, maybe try adding a sleep step with time.sleep(1)."
      ]
    },
    {
      "cell_type": "code",
      "source": [
        "import time\n"
      ],
      "metadata": {
        "id": "DmicANILQH6x"
      },
      "execution_count": null,
      "outputs": []
    },
    {
      "cell_type": "code",
      "source": [
        "time.sleep(10)"
      ],
      "metadata": {
        "id": "FJG6ae0WQK-o"
      },
      "execution_count": null,
      "outputs": []
    },
    {
      "cell_type": "code",
      "execution_count": null,
      "metadata": {
        "collapsed": true,
        "id": "vYnl0GJGEVAs"
      },
      "outputs": [],
      "source": [
        "base_url = 'http://books.toscrape.com/catalogue/page-{}.html'\n",
        "two_star_titles = []\n",
        "\n",
        "for n in range(1,51):\n",
        "\n",
        "    scrape_url = base_url.format(n)\n",
        "    res = requests.get(scrape_url)\n",
        "\n",
        "    soup = bs4.BeautifulSoup(res.text,\"lxml\")\n",
        "    books = soup.select(\".product_pod\")\n",
        "\n",
        "    for book in books:\n",
        "        if len(book.select('.star-rating.Two')) != 0:\n",
        "            two_star_titles.append(book.select('a')[1]['title'])"
      ]
    },
    {
      "cell_type": "code",
      "execution_count": null,
      "metadata": {
        "id": "j5iMetq9EVAs"
      },
      "outputs": [],
      "source": [
        "two_star_titles"
      ]
    }
  ]
}